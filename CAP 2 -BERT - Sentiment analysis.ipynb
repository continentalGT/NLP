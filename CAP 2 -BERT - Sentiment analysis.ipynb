{
 "cells": [
  {
   "cell_type": "markdown",
   "id": "7fb388fb",
   "metadata": {},
   "source": [
    "# INTRODUCTION "
   ]
  },
  {
   "cell_type": "markdown",
   "id": "f3336f89",
   "metadata": {},
   "source": [
    "This a bert-base-multilingual-uncased model finetuned for sentiment analysis on product reviews in six languages: English, Dutch, German, French, Spanish and Italian. It predicts the sentiment of the review as a number of stars (between 1 and 5) or basically 0,1,2,3,4.\n",
    "\n",
    "This model is intended for direct use as a sentiment analysis model for product reviews in any of the six languages above, or for further finetuning on related sentiment analysis tasks."
   ]
  },
  {
   "cell_type": "markdown",
   "id": "7ee299b9",
   "metadata": {},
   "source": [
    "# 1. Install and Import dependencies"
   ]
  },
  {
   "cell_type": "code",
   "execution_count": 2,
   "id": "c9a0e708",
   "metadata": {},
   "outputs": [],
   "source": [
    "from transformers import AutoTokenizer,AutoModelForSequenceClassification\n",
    "import torch"
   ]
  },
  {
   "cell_type": "markdown",
   "id": "161d7034",
   "metadata": {},
   "source": [
    "# 2.Instantiate model "
   ]
  },
  {
   "cell_type": "code",
   "execution_count": 3,
   "id": "3f43c4ea",
   "metadata": {},
   "outputs": [],
   "source": [
    "Model ='nlptown/bert-base-multilingual-uncased-sentiment'\n",
    "token = AutoTokenizer.from_pretrained(Model)\n",
    "model = AutoModelForSequenceClassification.from_pretrained(Model)\n"
   ]
  },
  {
   "cell_type": "markdown",
   "id": "4f17ec6f",
   "metadata": {},
   "source": [
    "# 3. Encode & Calculate sentiment"
   ]
  },
  {
   "cell_type": "markdown",
   "id": "331eed74",
   "metadata": {},
   "source": [
    "Negative comment "
   ]
  },
  {
   "cell_type": "code",
   "execution_count": 8,
   "id": "6c47a568",
   "metadata": {},
   "outputs": [
    {
     "data": {
      "text/plain": [
       "SequenceClassifierOutput(loss=None, logits=tensor([[ 1.8480,  1.0716, -0.1187, -1.0971, -1.3592]],\n",
       "       grad_fn=<AddmmBackward0>), hidden_states=None, attentions=None)"
      ]
     },
     "execution_count": 8,
     "metadata": {},
     "output_type": "execute_result"
    }
   ],
   "source": [
    "text = 'My query has been neglected by the support team and I Hate this kind of behaviour'\n",
    "encoded_input = token.encode(text,return_tensors='pt')#pytorch ,in tf no encode\n",
    "output = model(encoded_input)\n",
    "output"
   ]
  },
  {
   "cell_type": "code",
   "execution_count": 9,
   "id": "d155ea07",
   "metadata": {},
   "outputs": [
    {
     "data": {
      "text/plain": [
       "1"
      ]
     },
     "execution_count": 9,
     "metadata": {},
     "output_type": "execute_result"
    }
   ],
   "source": [
    "score = torch.argmax(output.logits)+1\n",
    "#score = torch.item\n",
    "score = score.item()\n",
    "score"
   ]
  },
  {
   "cell_type": "markdown",
   "id": "3f25e8c4",
   "metadata": {},
   "source": [
    "Neutral comment"
   ]
  },
  {
   "cell_type": "code",
   "execution_count": 10,
   "id": "8468f8f2",
   "metadata": {},
   "outputs": [
    {
     "data": {
      "text/plain": [
       "3"
      ]
     },
     "execution_count": 10,
     "metadata": {},
     "output_type": "execute_result"
    }
   ],
   "source": [
    "text = 'Your performance is of average level'\n",
    "encoded_input = token.encode(text,return_tensors='pt')\n",
    "output = model(encoded_input)\n",
    "output\n",
    "score = torch.argmax(output.logits)+1\n",
    "score = score.item()\n",
    "score"
   ]
  },
  {
   "cell_type": "markdown",
   "id": "cc384b32",
   "metadata": {},
   "source": [
    "Positive "
   ]
  },
  {
   "cell_type": "code",
   "execution_count": 11,
   "id": "637413a9",
   "metadata": {},
   "outputs": [
    {
     "data": {
      "text/plain": [
       "5"
      ]
     },
     "execution_count": 11,
     "metadata": {},
     "output_type": "execute_result"
    }
   ],
   "source": [
    "text = 'You are the best in the class'\n",
    "encoded_input = token.encode(text,return_tensors='pt')\n",
    "output = model(encoded_input)\n",
    "output\n",
    "score =torch.argmax(output.logits)+1\n",
    "score = score.item()\n",
    "score"
   ]
  },
  {
   "cell_type": "markdown",
   "id": "a78f7dfb",
   "metadata": {},
   "source": [
    "# 4.Load Data frame"
   ]
  },
  {
   "cell_type": "code",
   "execution_count": 12,
   "id": "ad7bab83",
   "metadata": {},
   "outputs": [],
   "source": [
    "import pandas as pd \n",
    "import numpy as np"
   ]
  },
  {
   "cell_type": "code",
   "execution_count": 13,
   "id": "ca354d26",
   "metadata": {},
   "outputs": [
    {
     "data": {
      "text/html": [
       "<div>\n",
       "<style scoped>\n",
       "    .dataframe tbody tr th:only-of-type {\n",
       "        vertical-align: middle;\n",
       "    }\n",
       "\n",
       "    .dataframe tbody tr th {\n",
       "        vertical-align: top;\n",
       "    }\n",
       "\n",
       "    .dataframe thead th {\n",
       "        text-align: right;\n",
       "    }\n",
       "</style>\n",
       "<table border=\"1\" class=\"dataframe\">\n",
       "  <thead>\n",
       "    <tr style=\"text-align: right;\">\n",
       "      <th></th>\n",
       "      <th>Score</th>\n",
       "      <th>Text</th>\n",
       "    </tr>\n",
       "  </thead>\n",
       "  <tbody>\n",
       "    <tr>\n",
       "      <th>0</th>\n",
       "      <td>5</td>\n",
       "      <td>I have bought several of the Vitality canned d...</td>\n",
       "    </tr>\n",
       "    <tr>\n",
       "      <th>1</th>\n",
       "      <td>1</td>\n",
       "      <td>Product arrived labeled as Jumbo Salted Peanut...</td>\n",
       "    </tr>\n",
       "    <tr>\n",
       "      <th>2</th>\n",
       "      <td>4</td>\n",
       "      <td>This is a confection that has been around a fe...</td>\n",
       "    </tr>\n",
       "    <tr>\n",
       "      <th>3</th>\n",
       "      <td>2</td>\n",
       "      <td>If you are looking for the secret ingredient i...</td>\n",
       "    </tr>\n",
       "    <tr>\n",
       "      <th>4</th>\n",
       "      <td>5</td>\n",
       "      <td>Great taffy at a great price.  There was a wid...</td>\n",
       "    </tr>\n",
       "  </tbody>\n",
       "</table>\n",
       "</div>"
      ],
      "text/plain": [
       "   Score                                               Text\n",
       "0      5  I have bought several of the Vitality canned d...\n",
       "1      1  Product arrived labeled as Jumbo Salted Peanut...\n",
       "2      4  This is a confection that has been around a fe...\n",
       "3      2  If you are looking for the secret ingredient i...\n",
       "4      5  Great taffy at a great price.  There was a wid..."
      ]
     },
     "execution_count": 13,
     "metadata": {},
     "output_type": "execute_result"
    }
   ],
   "source": [
    "data=pd.read_csv(r'Reviews (1).csv',nrows=500,usecols =['Text','Score'])\n",
    "data.head()"
   ]
  },
  {
   "cell_type": "code",
   "execution_count": 14,
   "id": "ef7c9557",
   "metadata": {},
   "outputs": [
    {
     "data": {
      "text/plain": [
       "(500, 2)"
      ]
     },
     "execution_count": 14,
     "metadata": {},
     "output_type": "execute_result"
    }
   ],
   "source": [
    "data.shape"
   ]
  },
  {
   "cell_type": "code",
   "execution_count": 15,
   "id": "d2511c07",
   "metadata": {},
   "outputs": [
    {
     "data": {
      "text/plain": [
       "5    339\n",
       "4     70\n",
       "3     37\n",
       "1     36\n",
       "2     18\n",
       "Name: Score, dtype: int64"
      ]
     },
     "execution_count": 15,
     "metadata": {},
     "output_type": "execute_result"
    }
   ],
   "source": [
    "data['Score'].value_counts()"
   ]
  },
  {
   "cell_type": "code",
   "execution_count": 17,
   "id": "da7d6342",
   "metadata": {},
   "outputs": [],
   "source": [
    "#sentiment analysis fucntiion\n",
    "\n",
    "def sentiment(review):\n",
    "    token = AutoTokenizer.from_pretrained('nlptown/bert-base-multilingual-uncased-sentiment')\n",
    "    model = AutoModelForSequenceClassification.from_pretrained('nlptown/bert-base-multilingual-uncased-sentiment')\n",
    "    encoded_input = token.encode(review,\n",
    "                                 return_tensors='pt',\n",
    "                                 padding=True,\n",
    "                                 truncation=True,\n",
    "                                 max_length=512)#only 512 token can be sent\n",
    "    output = model(encoded_input)\n",
    "    score = torch.argmax(output.logits)+1\n",
    "    return score.item()"
   ]
  },
  {
   "cell_type": "markdown",
   "id": "2bba91a5",
   "metadata": {},
   "source": [
    "Check"
   ]
  },
  {
   "cell_type": "code",
   "execution_count": 28,
   "id": "ede87902",
   "metadata": {},
   "outputs": [
    {
     "name": "stdout",
     "output_type": "stream",
     "text": [
      "this is the sentence that we are going to check--->>This offer is a great price and a great taste, thanks Amazon for selling this product.<br /><br />Staral----- and here its actual score,---->5\n"
     ]
    }
   ],
   "source": [
    "print(f'''this is the sentence that we are going to check--->>{data['Text'].iloc[31]}----- and here its actual score,---->{data['Score'].iloc[31]}''')"
   ]
  },
  {
   "cell_type": "code",
   "execution_count": 29,
   "id": "fe9a405a",
   "metadata": {},
   "outputs": [
    {
     "data": {
      "text/plain": [
       "5"
      ]
     },
     "execution_count": 29,
     "metadata": {},
     "output_type": "execute_result"
    }
   ],
   "source": [
    "sentiment(data['Text'].iloc[31])"
   ]
  },
  {
   "cell_type": "code",
   "execution_count": 30,
   "id": "7c9a9532",
   "metadata": {},
   "outputs": [],
   "source": [
    "data['sentiment_score'] = data['Text'].apply(sentiment)"
   ]
  },
  {
   "cell_type": "code",
   "execution_count": 31,
   "id": "8bd210aa",
   "metadata": {},
   "outputs": [],
   "source": [
    "#data.head(13)"
   ]
  },
  {
   "cell_type": "code",
   "execution_count": 32,
   "id": "f5f877d2",
   "metadata": {},
   "outputs": [
    {
     "data": {
      "text/html": [
       "<div>\n",
       "<style scoped>\n",
       "    .dataframe tbody tr th:only-of-type {\n",
       "        vertical-align: middle;\n",
       "    }\n",
       "\n",
       "    .dataframe tbody tr th {\n",
       "        vertical-align: top;\n",
       "    }\n",
       "\n",
       "    .dataframe thead th {\n",
       "        text-align: right;\n",
       "    }\n",
       "</style>\n",
       "<table border=\"1\" class=\"dataframe\">\n",
       "  <thead>\n",
       "    <tr style=\"text-align: right;\">\n",
       "      <th></th>\n",
       "      <th>Score</th>\n",
       "      <th>Text</th>\n",
       "      <th>sentiment_score</th>\n",
       "    </tr>\n",
       "  </thead>\n",
       "  <tbody>\n",
       "    <tr>\n",
       "      <th>0</th>\n",
       "      <td>5</td>\n",
       "      <td>I have bought several of the Vitality canned d...</td>\n",
       "      <td>5</td>\n",
       "    </tr>\n",
       "    <tr>\n",
       "      <th>1</th>\n",
       "      <td>1</td>\n",
       "      <td>Product arrived labeled as Jumbo Salted Peanut...</td>\n",
       "      <td>1</td>\n",
       "    </tr>\n",
       "    <tr>\n",
       "      <th>2</th>\n",
       "      <td>4</td>\n",
       "      <td>This is a confection that has been around a fe...</td>\n",
       "      <td>5</td>\n",
       "    </tr>\n",
       "    <tr>\n",
       "      <th>3</th>\n",
       "      <td>2</td>\n",
       "      <td>If you are looking for the secret ingredient i...</td>\n",
       "      <td>5</td>\n",
       "    </tr>\n",
       "    <tr>\n",
       "      <th>4</th>\n",
       "      <td>5</td>\n",
       "      <td>Great taffy at a great price.  There was a wid...</td>\n",
       "      <td>5</td>\n",
       "    </tr>\n",
       "    <tr>\n",
       "      <th>...</th>\n",
       "      <td>...</td>\n",
       "      <td>...</td>\n",
       "      <td>...</td>\n",
       "    </tr>\n",
       "    <tr>\n",
       "      <th>495</th>\n",
       "      <td>5</td>\n",
       "      <td>i rarely eat chips but i saw these and tried t...</td>\n",
       "      <td>5</td>\n",
       "    </tr>\n",
       "    <tr>\n",
       "      <th>496</th>\n",
       "      <td>5</td>\n",
       "      <td>This is easily the best potato chip that I hav...</td>\n",
       "      <td>5</td>\n",
       "    </tr>\n",
       "    <tr>\n",
       "      <th>497</th>\n",
       "      <td>4</td>\n",
       "      <td>Kettle Chips Spicy Thai potato chips have the ...</td>\n",
       "      <td>5</td>\n",
       "    </tr>\n",
       "    <tr>\n",
       "      <th>498</th>\n",
       "      <td>4</td>\n",
       "      <td>Okay, I should not eat potato chips, nor shoul...</td>\n",
       "      <td>3</td>\n",
       "    </tr>\n",
       "    <tr>\n",
       "      <th>499</th>\n",
       "      <td>5</td>\n",
       "      <td>I don't write very many reviews but I have to ...</td>\n",
       "      <td>5</td>\n",
       "    </tr>\n",
       "  </tbody>\n",
       "</table>\n",
       "<p>500 rows × 3 columns</p>\n",
       "</div>"
      ],
      "text/plain": [
       "     Score                                               Text  sentiment_score\n",
       "0        5  I have bought several of the Vitality canned d...                5\n",
       "1        1  Product arrived labeled as Jumbo Salted Peanut...                1\n",
       "2        4  This is a confection that has been around a fe...                5\n",
       "3        2  If you are looking for the secret ingredient i...                5\n",
       "4        5  Great taffy at a great price.  There was a wid...                5\n",
       "..     ...                                                ...              ...\n",
       "495      5  i rarely eat chips but i saw these and tried t...                5\n",
       "496      5  This is easily the best potato chip that I hav...                5\n",
       "497      4  Kettle Chips Spicy Thai potato chips have the ...                5\n",
       "498      4  Okay, I should not eat potato chips, nor shoul...                3\n",
       "499      5  I don't write very many reviews but I have to ...                5\n",
       "\n",
       "[500 rows x 3 columns]"
      ]
     },
     "execution_count": 32,
     "metadata": {},
     "output_type": "execute_result"
    }
   ],
   "source": [
    "data"
   ]
  },
  {
   "cell_type": "code",
   "execution_count": 33,
   "id": "7ae5bd76",
   "metadata": {},
   "outputs": [
    {
     "data": {
      "text/plain": [
       "0.628"
      ]
     },
     "execution_count": 33,
     "metadata": {},
     "output_type": "execute_result"
    }
   ],
   "source": [
    "from sklearn.metrics import *\n",
    "accuracy_score(data['sentiment_score'],data['Score'])"
   ]
  },
  {
   "cell_type": "code",
   "execution_count": 41,
   "id": "af7ff53f",
   "metadata": {},
   "outputs": [
    {
     "data": {
      "text/plain": [
       "5"
      ]
     },
     "execution_count": 41,
     "metadata": {},
     "output_type": "execute_result"
    }
   ],
   "source": [
    "text = 'Popaye used to be a popular show.Adoed by all public'\n",
    "sentiment(text)"
   ]
  },
  {
   "cell_type": "code",
   "execution_count": 42,
   "id": "f64ad4e8",
   "metadata": {},
   "outputs": [
    {
     "data": {
      "text/plain": [
       "2"
      ]
     },
     "execution_count": 42,
     "metadata": {},
     "output_type": "execute_result"
    }
   ],
   "source": [
    "sentiment('My system does not work well on large data')"
   ]
  },
  {
   "cell_type": "markdown",
   "id": "256656ee",
   "metadata": {},
   "source": [
    "# NOTE "
   ]
  },
  {
   "cell_type": "markdown",
   "id": "89e343ec",
   "metadata": {},
   "source": [
    "* This is a pretrained model that can be used for sentiment analysis after fine-tuned on a particular dataset. \n",
    "* maximum length of token can only be 512\n",
    "* Regarding accuracy this BERT Models provided around 67% on ENGLISH language but considering +-1 it can be reached to 95 % accuracy.(Its provided on documentation)"
   ]
  },
  {
   "cell_type": "code",
   "execution_count": null,
   "id": "148a5b6f",
   "metadata": {},
   "outputs": [],
   "source": []
  },
  {
   "cell_type": "code",
   "execution_count": null,
   "id": "8cbdd586",
   "metadata": {},
   "outputs": [],
   "source": []
  },
  {
   "cell_type": "code",
   "execution_count": null,
   "id": "bcefa245",
   "metadata": {},
   "outputs": [],
   "source": []
  }
 ],
 "metadata": {
  "kernelspec": {
   "display_name": "Python 3 (ipykernel)",
   "language": "python",
   "name": "python3"
  },
  "language_info": {
   "codemirror_mode": {
    "name": "ipython",
    "version": 3
   },
   "file_extension": ".py",
   "mimetype": "text/x-python",
   "name": "python",
   "nbconvert_exporter": "python",
   "pygments_lexer": "ipython3",
   "version": "3.10.10"
  }
 },
 "nbformat": 4,
 "nbformat_minor": 5
}
