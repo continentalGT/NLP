{
 "cells": [
  {
   "cell_type": "markdown",
   "id": "4726abb2",
   "metadata": {},
   "source": [
    "# Problem statement - Sentiment Analysis"
   ]
  },
  {
   "cell_type": "code",
   "execution_count": 1,
   "id": "edc4d5e9",
   "metadata": {},
   "outputs": [
    {
     "name": "stderr",
     "output_type": "stream",
     "text": [
      "[nltk_data] Error loading stopwords: <urlopen error [WinError 10060] A\n",
      "[nltk_data]     connection attempt failed because the connected party\n",
      "[nltk_data]     did not properly respond after a period of time, or\n",
      "[nltk_data]     established connection failed because connected host\n",
      "[nltk_data]     has failed to respond>\n"
     ]
    }
   ],
   "source": [
    "import pandas as pd\n",
    "import numpy as np\n",
    "import matplotlib.pyplot as plt\n",
    "import seaborn as sns\n",
    "\n",
    "import warnings \n",
    "warnings.filterwarnings('ignore')\n",
    "\n",
    "import nltk\n",
    "nltk.download('stopwords')\n",
    "from nltk.corpus import stopwords"
   ]
  },
  {
   "cell_type": "code",
   "execution_count": 2,
   "id": "2400d79a",
   "metadata": {},
   "outputs": [],
   "source": [
    "from nltk.tokenize import word_tokenize,sent_tokenize"
   ]
  },
  {
   "cell_type": "code",
   "execution_count": null,
   "id": "9a6f6536",
   "metadata": {},
   "outputs": [],
   "source": []
  },
  {
   "cell_type": "code",
   "execution_count": 3,
   "id": "56afe746",
   "metadata": {},
   "outputs": [
    {
     "data": {
      "text/html": [
       "<div>\n",
       "<style scoped>\n",
       "    .dataframe tbody tr th:only-of-type {\n",
       "        vertical-align: middle;\n",
       "    }\n",
       "\n",
       "    .dataframe tbody tr th {\n",
       "        vertical-align: top;\n",
       "    }\n",
       "\n",
       "    .dataframe thead th {\n",
       "        text-align: right;\n",
       "    }\n",
       "</style>\n",
       "<table border=\"1\" class=\"dataframe\">\n",
       "  <thead>\n",
       "    <tr style=\"text-align: right;\">\n",
       "      <th></th>\n",
       "      <th>Id</th>\n",
       "      <th>ProductId</th>\n",
       "      <th>UserId</th>\n",
       "      <th>ProfileName</th>\n",
       "      <th>HelpfulnessNumerator</th>\n",
       "      <th>HelpfulnessDenominator</th>\n",
       "      <th>Score</th>\n",
       "      <th>Time</th>\n",
       "      <th>Summary</th>\n",
       "      <th>Text</th>\n",
       "    </tr>\n",
       "  </thead>\n",
       "  <tbody>\n",
       "    <tr>\n",
       "      <th>0</th>\n",
       "      <td>1</td>\n",
       "      <td>B001E4KFG0</td>\n",
       "      <td>A3SGXH7AUHU8GW</td>\n",
       "      <td>delmartian</td>\n",
       "      <td>1</td>\n",
       "      <td>1</td>\n",
       "      <td>5</td>\n",
       "      <td>1303862400</td>\n",
       "      <td>Good Quality Dog Food</td>\n",
       "      <td>I have bought several of the Vitality canned d...</td>\n",
       "    </tr>\n",
       "    <tr>\n",
       "      <th>1</th>\n",
       "      <td>2</td>\n",
       "      <td>B00813GRG4</td>\n",
       "      <td>A1D87F6ZCVE5NK</td>\n",
       "      <td>dll pa</td>\n",
       "      <td>0</td>\n",
       "      <td>0</td>\n",
       "      <td>1</td>\n",
       "      <td>1346976000</td>\n",
       "      <td>Not as Advertised</td>\n",
       "      <td>Product arrived labeled as Jumbo Salted Peanut...</td>\n",
       "    </tr>\n",
       "    <tr>\n",
       "      <th>2</th>\n",
       "      <td>3</td>\n",
       "      <td>B000LQOCH0</td>\n",
       "      <td>ABXLMWJIXXAIN</td>\n",
       "      <td>Natalia Corres \"Natalia Corres\"</td>\n",
       "      <td>1</td>\n",
       "      <td>1</td>\n",
       "      <td>4</td>\n",
       "      <td>1219017600</td>\n",
       "      <td>\"Delight\" says it all</td>\n",
       "      <td>This is a confection that has been around a fe...</td>\n",
       "    </tr>\n",
       "    <tr>\n",
       "      <th>3</th>\n",
       "      <td>4</td>\n",
       "      <td>B000UA0QIQ</td>\n",
       "      <td>A395BORC6FGVXV</td>\n",
       "      <td>Karl</td>\n",
       "      <td>3</td>\n",
       "      <td>3</td>\n",
       "      <td>2</td>\n",
       "      <td>1307923200</td>\n",
       "      <td>Cough Medicine</td>\n",
       "      <td>If you are looking for the secret ingredient i...</td>\n",
       "    </tr>\n",
       "    <tr>\n",
       "      <th>4</th>\n",
       "      <td>5</td>\n",
       "      <td>B006K2ZZ7K</td>\n",
       "      <td>A1UQRSCLF8GW1T</td>\n",
       "      <td>Michael D. Bigham \"M. Wassir\"</td>\n",
       "      <td>0</td>\n",
       "      <td>0</td>\n",
       "      <td>5</td>\n",
       "      <td>1350777600</td>\n",
       "      <td>Great taffy</td>\n",
       "      <td>Great taffy at a great price.  There was a wid...</td>\n",
       "    </tr>\n",
       "  </tbody>\n",
       "</table>\n",
       "</div>"
      ],
      "text/plain": [
       "   Id   ProductId          UserId                      ProfileName   \n",
       "0   1  B001E4KFG0  A3SGXH7AUHU8GW                       delmartian  \\\n",
       "1   2  B00813GRG4  A1D87F6ZCVE5NK                           dll pa   \n",
       "2   3  B000LQOCH0   ABXLMWJIXXAIN  Natalia Corres \"Natalia Corres\"   \n",
       "3   4  B000UA0QIQ  A395BORC6FGVXV                             Karl   \n",
       "4   5  B006K2ZZ7K  A1UQRSCLF8GW1T    Michael D. Bigham \"M. Wassir\"   \n",
       "\n",
       "   HelpfulnessNumerator  HelpfulnessDenominator  Score        Time   \n",
       "0                     1                       1      5  1303862400  \\\n",
       "1                     0                       0      1  1346976000   \n",
       "2                     1                       1      4  1219017600   \n",
       "3                     3                       3      2  1307923200   \n",
       "4                     0                       0      5  1350777600   \n",
       "\n",
       "                 Summary                                               Text  \n",
       "0  Good Quality Dog Food  I have bought several of the Vitality canned d...  \n",
       "1      Not as Advertised  Product arrived labeled as Jumbo Salted Peanut...  \n",
       "2  \"Delight\" says it all  This is a confection that has been around a fe...  \n",
       "3         Cough Medicine  If you are looking for the secret ingredient i...  \n",
       "4            Great taffy  Great taffy at a great price.  There was a wid...  "
      ]
     },
     "execution_count": 3,
     "metadata": {},
     "output_type": "execute_result"
    }
   ],
   "source": [
    "data=pd.read_csv(r'Reviews (1).csv')\n",
    "data.head()"
   ]
  },
  {
   "cell_type": "code",
   "execution_count": 4,
   "id": "3a0f5b8b",
   "metadata": {},
   "outputs": [
    {
     "data": {
      "text/plain": [
       "74258"
      ]
     },
     "execution_count": 4,
     "metadata": {},
     "output_type": "execute_result"
    }
   ],
   "source": [
    "len(data.ProductId.unique())"
   ]
  },
  {
   "cell_type": "code",
   "execution_count": 5,
   "id": "b477e500",
   "metadata": {},
   "outputs": [
    {
     "data": {
      "text/plain": [
       "Score\n",
       "5    363122\n",
       "4     80655\n",
       "1     52268\n",
       "3     42640\n",
       "2     29769\n",
       "Name: count, dtype: int64"
      ]
     },
     "execution_count": 5,
     "metadata": {},
     "output_type": "execute_result"
    }
   ],
   "source": [
    "data.Score.value_counts()"
   ]
  },
  {
   "cell_type": "code",
   "execution_count": 6,
   "id": "61c89ed0",
   "metadata": {},
   "outputs": [
    {
     "data": {
      "text/plain": [
       "(568454, 10)"
      ]
     },
     "execution_count": 6,
     "metadata": {},
     "output_type": "execute_result"
    }
   ],
   "source": [
    "data.shape"
   ]
  },
  {
   "cell_type": "code",
   "execution_count": 7,
   "id": "6265e145",
   "metadata": {},
   "outputs": [
    {
     "data": {
      "text/plain": [
       "'Palatable and healthy'"
      ]
     },
     "execution_count": 7,
     "metadata": {},
     "output_type": "execute_result"
    }
   ],
   "source": [
    "data['Summary'][123]"
   ]
  },
  {
   "cell_type": "code",
   "execution_count": 8,
   "id": "b70871db",
   "metadata": {},
   "outputs": [
    {
     "data": {
      "text/plain": [
       "\"Before I was educated about feline nutrition, I allowed my cats to become addicted to dry cat food. I always offered both canned and dry, but wish I would have fed them premium quality canned food and limited dry food. I have two 15 year old cats and two 5 year old cats. The only good quality dry foods they will eat are Wellness and Innova. Innova's manufacturer was recently purchased by Procter&Gamble. I began looking for a replacement. After once again offering several samples (from my local holistic pet store) Holistic Select was the only one (other than the usual Wellness and Innova) they would eat. For finicky cats, I recommend trying Holistic Select. It is a good quality food that is very palatable for finicky eaters.\""
      ]
     },
     "execution_count": 8,
     "metadata": {},
     "output_type": "execute_result"
    }
   ],
   "source": [
    "data['Text'][123]"
   ]
  },
  {
   "cell_type": "code",
   "execution_count": 9,
   "id": "d34f6917",
   "metadata": {},
   "outputs": [],
   "source": [
    "#Resizing data\n",
    "df=data.sample(5000)\n"
   ]
  },
  {
   "cell_type": "code",
   "execution_count": 10,
   "id": "1914ae76",
   "metadata": {},
   "outputs": [],
   "source": [
    "df.reset_index(inplace=True)"
   ]
  },
  {
   "cell_type": "code",
   "execution_count": 11,
   "id": "d9038f22",
   "metadata": {},
   "outputs": [],
   "source": [
    "df=df.drop(columns=['index','Id', 'ProductId', 'UserId', 'ProfileName', 'HelpfulnessNumerator', 'HelpfulnessDenominator','Time','Summary'])"
   ]
  },
  {
   "cell_type": "code",
   "execution_count": 12,
   "id": "2840619f",
   "metadata": {},
   "outputs": [
    {
     "data": {
      "text/plain": [
       "Index(['Score', 'Text'], dtype='object')"
      ]
     },
     "execution_count": 12,
     "metadata": {},
     "output_type": "execute_result"
    }
   ],
   "source": [
    "df.columns"
   ]
  },
  {
   "cell_type": "code",
   "execution_count": 13,
   "id": "7b80c301",
   "metadata": {},
   "outputs": [
    {
     "data": {
      "text/html": [
       "<div>\n",
       "<style scoped>\n",
       "    .dataframe tbody tr th:only-of-type {\n",
       "        vertical-align: middle;\n",
       "    }\n",
       "\n",
       "    .dataframe tbody tr th {\n",
       "        vertical-align: top;\n",
       "    }\n",
       "\n",
       "    .dataframe thead th {\n",
       "        text-align: right;\n",
       "    }\n",
       "</style>\n",
       "<table border=\"1\" class=\"dataframe\">\n",
       "  <thead>\n",
       "    <tr style=\"text-align: right;\">\n",
       "      <th></th>\n",
       "      <th>Score</th>\n",
       "      <th>Text</th>\n",
       "    </tr>\n",
       "  </thead>\n",
       "  <tbody>\n",
       "    <tr>\n",
       "      <th>0</th>\n",
       "      <td>2</td>\n",
       "      <td>The chocolates seemed to have been frozen at s...</td>\n",
       "    </tr>\n",
       "    <tr>\n",
       "      <th>1</th>\n",
       "      <td>5</td>\n",
       "      <td>Has a higher fat content then I like but power...</td>\n",
       "    </tr>\n",
       "    <tr>\n",
       "      <th>2</th>\n",
       "      <td>5</td>\n",
       "      <td>Received as promised. This coffee is an unusua...</td>\n",
       "    </tr>\n",
       "    <tr>\n",
       "      <th>3</th>\n",
       "      <td>5</td>\n",
       "      <td>These are excellent treats that I would recomm...</td>\n",
       "    </tr>\n",
       "    <tr>\n",
       "      <th>4</th>\n",
       "      <td>1</td>\n",
       "      <td>I got hit by the same problem many others have...</td>\n",
       "    </tr>\n",
       "    <tr>\n",
       "      <th>...</th>\n",
       "      <td>...</td>\n",
       "      <td>...</td>\n",
       "    </tr>\n",
       "    <tr>\n",
       "      <th>4995</th>\n",
       "      <td>5</td>\n",
       "      <td>This is it, the only Kcup that is strong enoug...</td>\n",
       "    </tr>\n",
       "    <tr>\n",
       "      <th>4996</th>\n",
       "      <td>5</td>\n",
       "      <td>ORGAIN VANILLA 12/CS ORGANIC 11OZ&lt;br /&gt;Healthy...</td>\n",
       "    </tr>\n",
       "    <tr>\n",
       "      <th>4997</th>\n",
       "      <td>1</td>\n",
       "      <td>This will not work with the B155 as the needle...</td>\n",
       "    </tr>\n",
       "    <tr>\n",
       "      <th>4998</th>\n",
       "      <td>5</td>\n",
       "      <td>The product is one we have used for many years...</td>\n",
       "    </tr>\n",
       "    <tr>\n",
       "      <th>4999</th>\n",
       "      <td>5</td>\n",
       "      <td>I love this stuff.  I haven't tried on beef bu...</td>\n",
       "    </tr>\n",
       "  </tbody>\n",
       "</table>\n",
       "<p>5000 rows × 2 columns</p>\n",
       "</div>"
      ],
      "text/plain": [
       "      Score                                               Text\n",
       "0         2  The chocolates seemed to have been frozen at s...\n",
       "1         5  Has a higher fat content then I like but power...\n",
       "2         5  Received as promised. This coffee is an unusua...\n",
       "3         5  These are excellent treats that I would recomm...\n",
       "4         1  I got hit by the same problem many others have...\n",
       "...     ...                                                ...\n",
       "4995      5  This is it, the only Kcup that is strong enoug...\n",
       "4996      5  ORGAIN VANILLA 12/CS ORGANIC 11OZ<br />Healthy...\n",
       "4997      1  This will not work with the B155 as the needle...\n",
       "4998      5  The product is one we have used for many years...\n",
       "4999      5  I love this stuff.  I haven't tried on beef bu...\n",
       "\n",
       "[5000 rows x 2 columns]"
      ]
     },
     "execution_count": 13,
     "metadata": {},
     "output_type": "execute_result"
    }
   ],
   "source": [
    "df"
   ]
  },
  {
   "cell_type": "code",
   "execution_count": 14,
   "id": "3185a7f0",
   "metadata": {},
   "outputs": [],
   "source": [
    "#df['Text'].iloc[0]"
   ]
  },
  {
   "cell_type": "code",
   "execution_count": 15,
   "id": "7395e90f",
   "metadata": {},
   "outputs": [
    {
     "data": {
      "text/plain": [
       "Score\n",
       "5    3225\n",
       "4     719\n",
       "1     471\n",
       "3     352\n",
       "2     233\n",
       "Name: count, dtype: int64"
      ]
     },
     "execution_count": 15,
     "metadata": {},
     "output_type": "execute_result"
    }
   ],
   "source": [
    "df.Score.value_counts()"
   ]
  },
  {
   "cell_type": "code",
   "execution_count": 16,
   "id": "6c0b310f",
   "metadata": {},
   "outputs": [
    {
     "data": {
      "text/html": [
       "<div>\n",
       "<style scoped>\n",
       "    .dataframe tbody tr th:only-of-type {\n",
       "        vertical-align: middle;\n",
       "    }\n",
       "\n",
       "    .dataframe tbody tr th {\n",
       "        vertical-align: top;\n",
       "    }\n",
       "\n",
       "    .dataframe thead th {\n",
       "        text-align: right;\n",
       "    }\n",
       "</style>\n",
       "<table border=\"1\" class=\"dataframe\">\n",
       "  <thead>\n",
       "    <tr style=\"text-align: right;\">\n",
       "      <th></th>\n",
       "      <th>Score</th>\n",
       "      <th>Text</th>\n",
       "    </tr>\n",
       "  </thead>\n",
       "  <tbody>\n",
       "    <tr>\n",
       "      <th>0</th>\n",
       "      <td>2</td>\n",
       "      <td>The chocolates seemed to have been frozen at s...</td>\n",
       "    </tr>\n",
       "    <tr>\n",
       "      <th>1</th>\n",
       "      <td>5</td>\n",
       "      <td>Has a higher fat content then I like but power...</td>\n",
       "    </tr>\n",
       "    <tr>\n",
       "      <th>2</th>\n",
       "      <td>5</td>\n",
       "      <td>Received as promised. This coffee is an unusua...</td>\n",
       "    </tr>\n",
       "    <tr>\n",
       "      <th>3</th>\n",
       "      <td>5</td>\n",
       "      <td>These are excellent treats that I would recomm...</td>\n",
       "    </tr>\n",
       "    <tr>\n",
       "      <th>4</th>\n",
       "      <td>1</td>\n",
       "      <td>I got hit by the same problem many others have...</td>\n",
       "    </tr>\n",
       "    <tr>\n",
       "      <th>...</th>\n",
       "      <td>...</td>\n",
       "      <td>...</td>\n",
       "    </tr>\n",
       "    <tr>\n",
       "      <th>4995</th>\n",
       "      <td>5</td>\n",
       "      <td>This is it, the only Kcup that is strong enoug...</td>\n",
       "    </tr>\n",
       "    <tr>\n",
       "      <th>4996</th>\n",
       "      <td>5</td>\n",
       "      <td>ORGAIN VANILLA 12/CS ORGANIC 11OZ&lt;br /&gt;Healthy...</td>\n",
       "    </tr>\n",
       "    <tr>\n",
       "      <th>4997</th>\n",
       "      <td>1</td>\n",
       "      <td>This will not work with the B155 as the needle...</td>\n",
       "    </tr>\n",
       "    <tr>\n",
       "      <th>4998</th>\n",
       "      <td>5</td>\n",
       "      <td>The product is one we have used for many years...</td>\n",
       "    </tr>\n",
       "    <tr>\n",
       "      <th>4999</th>\n",
       "      <td>5</td>\n",
       "      <td>I love this stuff.  I haven't tried on beef bu...</td>\n",
       "    </tr>\n",
       "  </tbody>\n",
       "</table>\n",
       "<p>5000 rows × 2 columns</p>\n",
       "</div>"
      ],
      "text/plain": [
       "      Score                                               Text\n",
       "0         2  The chocolates seemed to have been frozen at s...\n",
       "1         5  Has a higher fat content then I like but power...\n",
       "2         5  Received as promised. This coffee is an unusua...\n",
       "3         5  These are excellent treats that I would recomm...\n",
       "4         1  I got hit by the same problem many others have...\n",
       "...     ...                                                ...\n",
       "4995      5  This is it, the only Kcup that is strong enoug...\n",
       "4996      5  ORGAIN VANILLA 12/CS ORGANIC 11OZ<br />Healthy...\n",
       "4997      1  This will not work with the B155 as the needle...\n",
       "4998      5  The product is one we have used for many years...\n",
       "4999      5  I love this stuff.  I haven't tried on beef bu...\n",
       "\n",
       "[5000 rows x 2 columns]"
      ]
     },
     "execution_count": 16,
     "metadata": {},
     "output_type": "execute_result"
    }
   ],
   "source": [
    "df"
   ]
  },
  {
   "cell_type": "code",
   "execution_count": 17,
   "id": "926df4a3",
   "metadata": {},
   "outputs": [
    {
     "data": {
      "image/png": "[encoded data removed]",
      "text/plain": [
       "<Figure size 640x480 with 1 Axes>"
      ]
     },
     "metadata": {},
     "output_type": "display_data"
    }
   ],
   "source": [
    "df.Score.value_counts().plot(kind='bar');"
   ]
  },
  {
   "cell_type": "code",
   "execution_count": null,
   "id": "7bfbbb36",
   "metadata": {},
   "outputs": [],
   "source": []
  },
  {
   "cell_type": "code",
   "execution_count": null,
   "id": "f12d2795",
   "metadata": {},
   "outputs": [],
   "source": []
  },
  {
   "cell_type": "code",
   "execution_count": null,
   "id": "608aadd4",
   "metadata": {},
   "outputs": [],
   "source": []
  },
  {
   "cell_type": "markdown",
   "id": "c2035f96",
   "metadata": {},
   "source": [
    "# 2.TEXT PREPROCESS"
   ]
  },
  {
   "cell_type": "code",
   "execution_count": 18,
   "id": "a6e079de",
   "metadata": {},
   "outputs": [
    {
     "data": {
      "text/html": [
       "<div>\n",
       "<style scoped>\n",
       "    .dataframe tbody tr th:only-of-type {\n",
       "        vertical-align: middle;\n",
       "    }\n",
       "\n",
       "    .dataframe tbody tr th {\n",
       "        vertical-align: top;\n",
       "    }\n",
       "\n",
       "    .dataframe thead th {\n",
       "        text-align: right;\n",
       "    }\n",
       "</style>\n",
       "<table border=\"1\" class=\"dataframe\">\n",
       "  <thead>\n",
       "    <tr style=\"text-align: right;\">\n",
       "      <th></th>\n",
       "      <th>Score</th>\n",
       "      <th>Text</th>\n",
       "    </tr>\n",
       "  </thead>\n",
       "  <tbody>\n",
       "    <tr>\n",
       "      <th>0</th>\n",
       "      <td>2</td>\n",
       "      <td>The chocolates seemed to have been frozen at s...</td>\n",
       "    </tr>\n",
       "    <tr>\n",
       "      <th>1</th>\n",
       "      <td>5</td>\n",
       "      <td>Has a higher fat content then I like but power...</td>\n",
       "    </tr>\n",
       "    <tr>\n",
       "      <th>2</th>\n",
       "      <td>5</td>\n",
       "      <td>Received as promised. This coffee is an unusua...</td>\n",
       "    </tr>\n",
       "    <tr>\n",
       "      <th>3</th>\n",
       "      <td>5</td>\n",
       "      <td>These are excellent treats that I would recomm...</td>\n",
       "    </tr>\n",
       "    <tr>\n",
       "      <th>4</th>\n",
       "      <td>1</td>\n",
       "      <td>I got hit by the same problem many others have...</td>\n",
       "    </tr>\n",
       "  </tbody>\n",
       "</table>\n",
       "</div>"
      ],
      "text/plain": [
       "   Score                                               Text\n",
       "0      2  The chocolates seemed to have been frozen at s...\n",
       "1      5  Has a higher fat content then I like but power...\n",
       "2      5  Received as promised. This coffee is an unusua...\n",
       "3      5  These are excellent treats that I would recomm...\n",
       "4      1  I got hit by the same problem many others have..."
      ]
     },
     "execution_count": 18,
     "metadata": {},
     "output_type": "execute_result"
    }
   ],
   "source": [
    "df.head()"
   ]
  },
  {
   "cell_type": "code",
   "execution_count": null,
   "id": "c85158e9",
   "metadata": {},
   "outputs": [],
   "source": []
  },
  {
   "cell_type": "markdown",
   "id": "c6c9c0d9",
   "metadata": {},
   "source": [
    "# 2.1 Lowercase"
   ]
  },
  {
   "cell_type": "code",
   "execution_count": 19,
   "id": "a2f80069",
   "metadata": {},
   "outputs": [],
   "source": [
    "#lowercase\n",
    "df['Text']=df['Text'].str.lower()"
   ]
  },
  {
   "cell_type": "code",
   "execution_count": 20,
   "id": "af60dcf2",
   "metadata": {},
   "outputs": [
    {
     "data": {
      "text/html": [
       "<div>\n",
       "<style scoped>\n",
       "    .dataframe tbody tr th:only-of-type {\n",
       "        vertical-align: middle;\n",
       "    }\n",
       "\n",
       "    .dataframe tbody tr th {\n",
       "        vertical-align: top;\n",
       "    }\n",
       "\n",
       "    .dataframe thead th {\n",
       "        text-align: right;\n",
       "    }\n",
       "</style>\n",
       "<table border=\"1\" class=\"dataframe\">\n",
       "  <thead>\n",
       "    <tr style=\"text-align: right;\">\n",
       "      <th></th>\n",
       "      <th>Score</th>\n",
       "      <th>Text</th>\n",
       "    </tr>\n",
       "  </thead>\n",
       "  <tbody>\n",
       "    <tr>\n",
       "      <th>0</th>\n",
       "      <td>2</td>\n",
       "      <td>the chocolates seemed to have been frozen at s...</td>\n",
       "    </tr>\n",
       "    <tr>\n",
       "      <th>1</th>\n",
       "      <td>5</td>\n",
       "      <td>has a higher fat content then i like but power...</td>\n",
       "    </tr>\n",
       "    <tr>\n",
       "      <th>2</th>\n",
       "      <td>5</td>\n",
       "      <td>received as promised. this coffee is an unusua...</td>\n",
       "    </tr>\n",
       "    <tr>\n",
       "      <th>3</th>\n",
       "      <td>5</td>\n",
       "      <td>these are excellent treats that i would recomm...</td>\n",
       "    </tr>\n",
       "    <tr>\n",
       "      <th>4</th>\n",
       "      <td>1</td>\n",
       "      <td>i got hit by the same problem many others have...</td>\n",
       "    </tr>\n",
       "  </tbody>\n",
       "</table>\n",
       "</div>"
      ],
      "text/plain": [
       "   Score                                               Text\n",
       "0      2  the chocolates seemed to have been frozen at s...\n",
       "1      5  has a higher fat content then i like but power...\n",
       "2      5  received as promised. this coffee is an unusua...\n",
       "3      5  these are excellent treats that i would recomm...\n",
       "4      1  i got hit by the same problem many others have..."
      ]
     },
     "execution_count": 20,
     "metadata": {},
     "output_type": "execute_result"
    }
   ],
   "source": [
    "df.head()"
   ]
  },
  {
   "cell_type": "markdown",
   "id": "81295c81",
   "metadata": {},
   "source": [
    "# 2.2 Punctuation Removal"
   ]
  },
  {
   "cell_type": "code",
   "execution_count": 21,
   "id": "7143bc11",
   "metadata": {},
   "outputs": [],
   "source": [
    "#punctuation removal\n",
    "import string\n",
    "char=string.punctuation"
   ]
  },
  {
   "cell_type": "code",
   "execution_count": 22,
   "id": "92ae8dec",
   "metadata": {},
   "outputs": [
    {
     "data": {
      "text/plain": [
       "'!\"#$%&\\'()*+,-./:;<=>?@[\\\\]^_`{|}~'"
      ]
     },
     "execution_count": 22,
     "metadata": {},
     "output_type": "execute_result"
    }
   ],
   "source": [
    "char"
   ]
  },
  {
   "cell_type": "code",
   "execution_count": 23,
   "id": "433022de",
   "metadata": {},
   "outputs": [],
   "source": [
    "def pun_rem(text):\n",
    "    for i in char:\n",
    "        text=text.replace(i,'')\n",
    "    return text"
   ]
  },
  {
   "cell_type": "code",
   "execution_count": 24,
   "id": "b1f4bbdb",
   "metadata": {},
   "outputs": [],
   "source": [
    "df['Text']=df['Text'].apply(pun_rem)"
   ]
  },
  {
   "cell_type": "code",
   "execution_count": 25,
   "id": "c4c86bdf",
   "metadata": {},
   "outputs": [
    {
     "data": {
      "text/plain": [
       "'this product is of high quality and tasty too i used in on stuffed sole and the dinner guests said it was a favorite'"
      ]
     },
     "execution_count": 25,
     "metadata": {},
     "output_type": "execute_result"
    }
   ],
   "source": [
    "df['Text'][123]"
   ]
  },
  {
   "cell_type": "markdown",
   "id": "3f083351",
   "metadata": {},
   "source": [
    "## 2.3 HTML TAGS"
   ]
  },
  {
   "cell_type": "code",
   "execution_count": 26,
   "id": "8d4637bd",
   "metadata": {},
   "outputs": [],
   "source": [
    "#remove htmltags\n",
    "import re\n",
    "def rem_html(text):\n",
    "    pattern=re.compile('<.*?')\n",
    "    text=text.replace(pattern,'')\n",
    "    return text"
   ]
  },
  {
   "cell_type": "code",
   "execution_count": 27,
   "id": "2a0f01ae",
   "metadata": {},
   "outputs": [],
   "source": [
    "df=df.apply(rem_html)"
   ]
  },
  {
   "cell_type": "code",
   "execution_count": 28,
   "id": "ae946c18",
   "metadata": {},
   "outputs": [
    {
     "data": {
      "text/html": [
       "<div>\n",
       "<style scoped>\n",
       "    .dataframe tbody tr th:only-of-type {\n",
       "        vertical-align: middle;\n",
       "    }\n",
       "\n",
       "    .dataframe tbody tr th {\n",
       "        vertical-align: top;\n",
       "    }\n",
       "\n",
       "    .dataframe thead th {\n",
       "        text-align: right;\n",
       "    }\n",
       "</style>\n",
       "<table border=\"1\" class=\"dataframe\">\n",
       "  <thead>\n",
       "    <tr style=\"text-align: right;\">\n",
       "      <th></th>\n",
       "      <th>Score</th>\n",
       "      <th>Text</th>\n",
       "    </tr>\n",
       "  </thead>\n",
       "  <tbody>\n",
       "    <tr>\n",
       "      <th>0</th>\n",
       "      <td>2</td>\n",
       "      <td>the chocolates seemed to have been frozen at s...</td>\n",
       "    </tr>\n",
       "    <tr>\n",
       "      <th>1</th>\n",
       "      <td>5</td>\n",
       "      <td>has a higher fat content then i like but power...</td>\n",
       "    </tr>\n",
       "    <tr>\n",
       "      <th>2</th>\n",
       "      <td>5</td>\n",
       "      <td>received as promised this coffee is an unusual...</td>\n",
       "    </tr>\n",
       "    <tr>\n",
       "      <th>3</th>\n",
       "      <td>5</td>\n",
       "      <td>these are excellent treats that i would recomm...</td>\n",
       "    </tr>\n",
       "    <tr>\n",
       "      <th>4</th>\n",
       "      <td>1</td>\n",
       "      <td>i got hit by the same problem many others have...</td>\n",
       "    </tr>\n",
       "    <tr>\n",
       "      <th>...</th>\n",
       "      <td>...</td>\n",
       "      <td>...</td>\n",
       "    </tr>\n",
       "    <tr>\n",
       "      <th>4995</th>\n",
       "      <td>5</td>\n",
       "      <td>this is it the only kcup that is strong enough...</td>\n",
       "    </tr>\n",
       "    <tr>\n",
       "      <th>4996</th>\n",
       "      <td>5</td>\n",
       "      <td>orgain vanilla 12cs organic 11ozbr healthy  ta...</td>\n",
       "    </tr>\n",
       "    <tr>\n",
       "      <th>4997</th>\n",
       "      <td>1</td>\n",
       "      <td>this will not work with the b155 as the needle...</td>\n",
       "    </tr>\n",
       "    <tr>\n",
       "      <th>4998</th>\n",
       "      <td>5</td>\n",
       "      <td>the product is one we have used for many years...</td>\n",
       "    </tr>\n",
       "    <tr>\n",
       "      <th>4999</th>\n",
       "      <td>5</td>\n",
       "      <td>i love this stuff  i havent tried on beef but ...</td>\n",
       "    </tr>\n",
       "  </tbody>\n",
       "</table>\n",
       "<p>5000 rows × 2 columns</p>\n",
       "</div>"
      ],
      "text/plain": [
       "      Score                                               Text\n",
       "0         2  the chocolates seemed to have been frozen at s...\n",
       "1         5  has a higher fat content then i like but power...\n",
       "2         5  received as promised this coffee is an unusual...\n",
       "3         5  these are excellent treats that i would recomm...\n",
       "4         1  i got hit by the same problem many others have...\n",
       "...     ...                                                ...\n",
       "4995      5  this is it the only kcup that is strong enough...\n",
       "4996      5  orgain vanilla 12cs organic 11ozbr healthy  ta...\n",
       "4997      1  this will not work with the b155 as the needle...\n",
       "4998      5  the product is one we have used for many years...\n",
       "4999      5  i love this stuff  i havent tried on beef but ...\n",
       "\n",
       "[5000 rows x 2 columns]"
      ]
     },
     "execution_count": 28,
     "metadata": {},
     "output_type": "execute_result"
    }
   ],
   "source": [
    "df"
   ]
  },
  {
   "cell_type": "markdown",
   "id": "d295fca2",
   "metadata": {},
   "source": [
    "# 2.4 REMOVE url AND WWW"
   ]
  },
  {
   "cell_type": "code",
   "execution_count": 29,
   "id": "9cae4728",
   "metadata": {},
   "outputs": [],
   "source": [
    "# remove URL\n",
    "def rem_url(text):\n",
    "    pattern=re.compile('https?://\\S+|www.\\S+')\n",
    "    text=text.replace(pattern,'')\n",
    "    return text"
   ]
  },
  {
   "cell_type": "code",
   "execution_count": 30,
   "id": "1a9a26e5",
   "metadata": {},
   "outputs": [],
   "source": [
    "df=df.apply(rem_url)"
   ]
  },
  {
   "cell_type": "code",
   "execution_count": 31,
   "id": "1eabc209",
   "metadata": {},
   "outputs": [
    {
     "data": {
      "text/plain": [
       "'french country spread at its  best the creamiest  texture with a little sweetness spread over toast or sweet breakfast bread or better yet french baguette its the closest thing to my mothers homemade chestnut recipe made me feel just a little homesick if you love chestnut at the holidays this is one to not forget '"
      ]
     },
     "execution_count": 31,
     "metadata": {},
     "output_type": "execute_result"
    }
   ],
   "source": [
    "#stopwordsremoval\n",
    "df['Text'][54]"
   ]
  },
  {
   "cell_type": "markdown",
   "id": "5aea3e17",
   "metadata": {},
   "source": [
    "# 2.5 Stop word removal"
   ]
  },
  {
   "cell_type": "code",
   "execution_count": 32,
   "id": "33ef0816",
   "metadata": {},
   "outputs": [],
   "source": [
    "def stp_rem(text):\n",
    "    token=text.split()\n",
    "    tokens=[x for x in token if x not in stopwords.words('english')]\n",
    "    feat=' '.join(tokens)\n",
    "    return feat"
   ]
  },
  {
   "cell_type": "code",
   "execution_count": 33,
   "id": "0c2a024b",
   "metadata": {},
   "outputs": [],
   "source": [
    "df['Text']=df['Text'].apply(stp_rem)"
   ]
  },
  {
   "cell_type": "code",
   "execution_count": 34,
   "id": "0b1e2a62",
   "metadata": {},
   "outputs": [
    {
     "data": {
      "text/plain": [
       "'bought cat bad breath thought would help wont eat smells walks away anyone want free bag chews'"
      ]
     },
     "execution_count": 34,
     "metadata": {},
     "output_type": "execute_result"
    }
   ],
   "source": [
    "df['Text'][14]"
   ]
  },
  {
   "cell_type": "markdown",
   "id": "b2c75d63",
   "metadata": {},
   "source": [
    "# 2.6 LEMMITIZATION"
   ]
  },
  {
   "cell_type": "code",
   "execution_count": 35,
   "id": "16be86f4",
   "metadata": {},
   "outputs": [
    {
     "name": "stderr",
     "output_type": "stream",
     "text": [
      "[nltk_data] Error loading wordnet: <urlopen error [WinError 10060] A\n",
      "[nltk_data]     connection attempt failed because the connected party\n",
      "[nltk_data]     did not properly respond after a period of time, or\n",
      "[nltk_data]     established connection failed because connected host\n",
      "[nltk_data]     has failed to respond>\n"
     ]
    },
    {
     "data": {
      "text/plain": [
       "False"
      ]
     },
     "execution_count": 35,
     "metadata": {},
     "output_type": "execute_result"
    }
   ],
   "source": [
    "from nltk.stem import WordNetLemmatizer\n",
    "import nltk\n",
    "nltk.download('wordnet')"
   ]
  },
  {
   "cell_type": "code",
   "execution_count": 36,
   "id": "03c49ea6",
   "metadata": {},
   "outputs": [],
   "source": [
    "wl=WordNetLemmatizer()"
   ]
  },
  {
   "cell_type": "code",
   "execution_count": 37,
   "id": "ee201f07",
   "metadata": {},
   "outputs": [],
   "source": [
    "def lem(text):\n",
    "    words=word_tokenize(text)\n",
    "    lemm=[wl.lemmatize(i) for i in words]#since lemmitizer work on each word hence we need to have list of it\n",
    "    return ' '.join(lemm)"
   ]
  },
  {
   "cell_type": "code",
   "execution_count": 38,
   "id": "56f4f35e",
   "metadata": {},
   "outputs": [],
   "source": [
    "df['Text'] = df['Text'].apply(lem)"
   ]
  },
  {
   "cell_type": "code",
   "execution_count": 39,
   "id": "1872c328",
   "metadata": {},
   "outputs": [
    {
     "data": {
      "text/plain": [
       "0       chocolate seemed frozen time looked bit wrappe...\n",
       "1       higher fat content like power bar eaten early ...\n",
       "2       received promised coffee unusual departure keu...\n",
       "3       excellent treat would recommend almost dog own...\n",
       "4       got hit problem many others havedented can 12 ...\n",
       "                              ...                        \n",
       "4995    kcup strong enough taste largest setting say w...\n",
       "4996    orgain vanilla 12cs organic 11ozbr healthy tas...\n",
       "4997            work b155 needle hit bottom cup universal\n",
       "4998    product one used many year little dog clearly ...\n",
       "4999    love stuff havent tried beef cant make baked c...\n",
       "Name: Text, Length: 5000, dtype: object"
      ]
     },
     "execution_count": 39,
     "metadata": {},
     "output_type": "execute_result"
    }
   ],
   "source": [
    "df['Text']"
   ]
  },
  {
   "cell_type": "markdown",
   "id": "f44dd6eb",
   "metadata": {},
   "source": [
    "# 4. Text Vectorisation"
   ]
  },
  {
   "cell_type": "code",
   "execution_count": 40,
   "id": "7287a69c",
   "metadata": {},
   "outputs": [],
   "source": [
    "x=df['Text']\n",
    "y=df['Score']\n"
   ]
  },
  {
   "cell_type": "code",
   "execution_count": 41,
   "id": "65531648",
   "metadata": {},
   "outputs": [
    {
     "data": {
      "text/plain": [
       "0       chocolate seemed frozen time looked bit wrappe...\n",
       "1       higher fat content like power bar eaten early ...\n",
       "2       received promised coffee unusual departure keu...\n",
       "3       excellent treat would recommend almost dog own...\n",
       "4       got hit problem many others havedented can 12 ...\n",
       "                              ...                        \n",
       "4995    kcup strong enough taste largest setting say w...\n",
       "4996    orgain vanilla 12cs organic 11ozbr healthy tas...\n",
       "4997            work b155 needle hit bottom cup universal\n",
       "4998    product one used many year little dog clearly ...\n",
       "4999    love stuff havent tried beef cant make baked c...\n",
       "Name: Text, Length: 5000, dtype: object"
      ]
     },
     "execution_count": 41,
     "metadata": {},
     "output_type": "execute_result"
    }
   ],
   "source": [
    "x"
   ]
  },
  {
   "cell_type": "code",
   "execution_count": 42,
   "id": "f15e3cdf",
   "metadata": {},
   "outputs": [
    {
     "data": {
      "text/plain": [
       "0       2\n",
       "1       5\n",
       "2       5\n",
       "3       5\n",
       "4       1\n",
       "       ..\n",
       "4995    5\n",
       "4996    5\n",
       "4997    1\n",
       "4998    5\n",
       "4999    5\n",
       "Name: Score, Length: 5000, dtype: int64"
      ]
     },
     "execution_count": 42,
     "metadata": {},
     "output_type": "execute_result"
    }
   ],
   "source": [
    "y"
   ]
  },
  {
   "cell_type": "code",
   "execution_count": 43,
   "id": "6ab07d32",
   "metadata": {},
   "outputs": [
    {
     "data": {
      "text/plain": [
       "((4000,), (1000,))"
      ]
     },
     "execution_count": 43,
     "metadata": {},
     "output_type": "execute_result"
    }
   ],
   "source": [
    "from sklearn.model_selection import train_test_split\n",
    "x_train,x_test,y_train,y_test=train_test_split(x,y,test_size=0.2,random_state=42)\n",
    "x_train.shape,y_test.shape"
   ]
  },
  {
   "cell_type": "markdown",
   "id": "f4ac3700",
   "metadata": {},
   "source": [
    "# 4.1 BOW"
   ]
  },
  {
   "cell_type": "code",
   "execution_count": null,
   "id": "3a8b424d",
   "metadata": {},
   "outputs": [],
   "source": []
  },
  {
   "cell_type": "code",
   "execution_count": null,
   "id": "c9859631",
   "metadata": {},
   "outputs": [],
   "source": []
  },
  {
   "cell_type": "code",
   "execution_count": 44,
   "id": "5aeb641b",
   "metadata": {},
   "outputs": [],
   "source": [
    "from sklearn.feature_extraction.text import CountVectorizer\n",
    "cv=CountVectorizer(ngram_range=(1,1))"
   ]
  },
  {
   "cell_type": "code",
   "execution_count": 45,
   "id": "c0dd8c43",
   "metadata": {},
   "outputs": [
    {
     "data": {
      "text/plain": [
       "<4000x14741 sparse matrix of type '<class 'numpy.int64'>'\n",
       "\twith 134407 stored elements in Compressed Sparse Row format>"
      ]
     },
     "execution_count": 45,
     "metadata": {},
     "output_type": "execute_result"
    }
   ],
   "source": [
    "x_train_bow=cv.fit_transform(x_train)\n",
    "x_test_bow=cv.transform(x_test)\n",
    "x_train_bow"
   ]
  },
  {
   "cell_type": "code",
   "execution_count": 46,
   "id": "57a813e5",
   "metadata": {},
   "outputs": [
    {
     "data": {
      "text/plain": [
       "(4000, 14741)"
      ]
     },
     "execution_count": 46,
     "metadata": {},
     "output_type": "execute_result"
    }
   ],
   "source": [
    "x_train_bow.shape"
   ]
  },
  {
   "cell_type": "markdown",
   "id": "e461a535",
   "metadata": {},
   "source": [
    "trying to find the documents and its vector"
   ]
  },
  {
   "cell_type": "code",
   "execution_count": 47,
   "id": "3d2b1b6e",
   "metadata": {},
   "outputs": [
    {
     "data": {
      "text/plain": [
       "'chocolate seemed frozen time looked bit wrapped christmas gift notice expiration date 123109 considering bought november happy careful future purchase'"
      ]
     },
     "execution_count": 47,
     "metadata": {},
     "output_type": "execute_result"
    }
   ],
   "source": [
    "x_train[0]"
   ]
  },
  {
   "cell_type": "code",
   "execution_count": 48,
   "id": "17d1a6b4",
   "metadata": {},
   "outputs": [
    {
     "data": {
      "text/plain": [
       "array([0, 0, 0, ..., 0, 0, 0], dtype=int64)"
      ]
     },
     "execution_count": 48,
     "metadata": {},
     "output_type": "execute_result"
    }
   ],
   "source": [
    "h=x_train_bow.toarray()[0]\n",
    "h"
   ]
  },
  {
   "cell_type": "code",
   "execution_count": 49,
   "id": "d426389d",
   "metadata": {},
   "outputs": [
    {
     "data": {
      "text/plain": [
       "14741"
      ]
     },
     "execution_count": 49,
     "metadata": {},
     "output_type": "execute_result"
    }
   ],
   "source": [
    "len(x_train_bow.toarray()[10])"
   ]
  },
  {
   "cell_type": "code",
   "execution_count": 50,
   "id": "2f7b4fa2",
   "metadata": {},
   "outputs": [
    {
     "name": "stdout",
     "output_type": "stream",
     "text": [
      "4400 1\n",
      "4791 1\n",
      "5108 1\n",
      "5950 1\n",
      "8273 1\n",
      "13090 1\n",
      "14619 1\n"
     ]
    }
   ],
   "source": [
    "for i in range(0,len(h)):\n",
    "    if h[i]!=0:\n",
    "        print(i,h[i])"
   ]
  },
  {
   "cell_type": "code",
   "execution_count": 51,
   "id": "02516d08",
   "metadata": {},
   "outputs": [
    {
     "name": "stdout",
     "output_type": "stream",
     "text": [
      "('kind', 7391)\n"
     ]
    }
   ],
   "source": [
    "lis=list(cv.vocabulary_.items())\n",
    "lis\n",
    "for i in lis:\n",
    "    if i[1]==7391:\n",
    "        print(i)\n",
    "        break"
   ]
  },
  {
   "cell_type": "code",
   "execution_count": 52,
   "id": "72f4804d",
   "metadata": {},
   "outputs": [
    {
     "data": {
      "text/plain": [
       "{'father': 5108,\n",
       " 'drinking': 4400,\n",
       " 'tea': 13090,\n",
       " 'year': 14619,\n",
       " 'good': 5950,\n",
       " 'especially': 4791,\n",
       " 'men': 8273,\n",
       " 'great': 6068,\n",
       " 'black': 1862,\n",
       " 'must': 8675,\n",
       " 'kitchen': 7404,\n",
       " 'like': 7711,\n",
       " 'box': 2029,\n",
       " 'least': 7612,\n",
       " '40': 428,\n",
       " 'per': 9715,\n",
       " 'dont': 4316,\n",
       " 'buy': 2270,\n",
       " 'overpriced': 9411,\n",
       " 'specialty': 12280,\n",
       " 'cost': 3378,\n",
       " 'buck': 2183,\n",
       " '16': 152,\n",
       " '20': 222,\n",
       " 'bag': 1504,\n",
       " 'said': 11299,\n",
       " 'essential': 4802,\n",
       " 'tetley': 13185,\n",
       " 'classic': 2880,\n",
       " 'british': 2140,\n",
       " 'blend': 1884,\n",
       " 'pg': 9789,\n",
       " 'tip': 13398,\n",
       " 'barrys': 1589,\n",
       " 'gold': 5938,\n",
       " 'may': 8169,\n",
       " 'similar': 11853,\n",
       " 'definitely': 3840,\n",
       " 'strongest': 12638,\n",
       " 'irish': 7099,\n",
       " 'green': 6084,\n",
       " 'even': 4845,\n",
       " 'stronger': 12637,\n",
       " 'generous': 5777,\n",
       " '80': 609,\n",
       " 'count': 3401,\n",
       " 'love': 7892,\n",
       " 'freekeh': 5551,\n",
       " 'expensive': 4951,\n",
       " 'wonder': 14500,\n",
       " 'paid': 9490,\n",
       " 'much': 8631,\n",
       " 'little': 7804,\n",
       " 'however': 6665,\n",
       " 'need': 8776,\n",
       " 'feel': 5154,\n",
       " 'full': 5657,\n",
       " 'thought': 13312,\n",
       " 'easy': 4518,\n",
       " 'cook': 3311,\n",
       " 'direction': 4125,\n",
       " 'could': 3397,\n",
       " 'used': 13949,\n",
       " 'many': 8074,\n",
       " 'different': 4066,\n",
       " 'way': 14278,\n",
       " 'cooked': 3314,\n",
       " 'mine': 8401,\n",
       " 'spicy': 12309,\n",
       " 'shrimp': 11804,\n",
       " 'saute': 11400,\n",
       " 'loved': 7895,\n",
       " 'house': 6656,\n",
       " 'smelled': 12010,\n",
       " 'cooking': 3324,\n",
       " 'texture': 13189,\n",
       " 'sushi': 12873,\n",
       " 'rice': 11101,\n",
       " 'barley': 1582,\n",
       " 'natural': 8739,\n",
       " 'sweet': 12903,\n",
       " 'taste': 13045,\n",
       " 'worth': 14549,\n",
       " 'try': 13670,\n",
       " 'looking': 7863,\n",
       " 'healthier': 6373,\n",
       " 'alternative': 1013,\n",
       " 'person': 9754,\n",
       " 'swiss': 12943,\n",
       " 'miss': 8447,\n",
       " 'hot': 6639,\n",
       " 'cocoa': 2971,\n",
       " 'packet': 9475,\n",
       " 'gas': 5738,\n",
       " 'station': 12486,\n",
       " 'get': 5801,\n",
       " 'product': 10304,\n",
       " 'chocolate': 2779,\n",
       " 'flavor': 5322,\n",
       " 'whatsoever': 14363,\n",
       " 'heated': 6405,\n",
       " 'sugar': 12737,\n",
       " 'water': 14261,\n",
       " 'nasty': 8732,\n",
       " 'strong': 12634,\n",
       " 'fake': 5052,\n",
       " 'perfectly': 9727,\n",
       " 'ok': 9171,\n",
       " 'diet': 4053,\n",
       " 'soda': 12115,\n",
       " 'something': 12166,\n",
       " 'put': 10497,\n",
       " 'finger': 5254,\n",
       " 'made': 7984,\n",
       " 'stomach': 12559,\n",
       " 'curl': 3634,\n",
       " 'waited': 14187,\n",
       " 'cool': 3330,\n",
       " 'got': 5978,\n",
       " 'worse': 14544,\n",
       " 'disapointed': 4136,\n",
       " 'expecting': 4945,\n",
       " 'disappointed': 4144,\n",
       " 'tried': 13628,\n",
       " 'new': 8817,\n",
       " 'keurig': 7365,\n",
       " 'coffee': 2985,\n",
       " 'weak': 14282,\n",
       " 'tasted': 13049,\n",
       " 'bad': 1497,\n",
       " 'diner': 4105,\n",
       " 'starbucks': 12453,\n",
       " 'french': 5566,\n",
       " 'roast': 11161,\n",
       " 'kcup': 7329,\n",
       " 'saved': 11408,\n",
       " 'flavorful': 5327,\n",
       " 'without': 14483,\n",
       " 'bitterness': 1849,\n",
       " 'brew': 2106,\n",
       " '7oz': 606,\n",
       " 'sizebr': 11911,\n",
       " 'br': 2047,\n",
       " 'reference': 10782,\n",
       " 'purpose': 10485,\n",
       " 'store': 12575,\n",
       " 'drink': 4394,\n",
       " 'americanobr': 1063,\n",
       " 'favorite': 5124,\n",
       " 'kcups': 7332,\n",
       " 'arebr': 1263,\n",
       " 'roastbr': 11162,\n",
       " 'caffe': 2302,\n",
       " 'veronabr': 14078,\n",
       " 'pike': 9846,\n",
       " 'place': 9884,\n",
       " 'mountain': 8602,\n",
       " 'xtra': 14603,\n",
       " 'bold': 1948,\n",
       " 'sumatran': 12769,\n",
       " 'reservebr': 10997,\n",
       " 'double': 4334,\n",
       " 'diamondbr': 4037,\n",
       " 'revvbr': 11091,\n",
       " 'dark': 3713,\n",
       " 'magicbr': 7992,\n",
       " 'ive': 7166,\n",
       " 'people': 9695,\n",
       " 'jet': 7234,\n",
       " 'fuel': 5648,\n",
       " 'magic': 7989,\n",
       " 'decaf': 3777,\n",
       " 'emeril': 4649,\n",
       " 'jazzed': 7211,\n",
       " 'verona': 14077,\n",
       " 'tiger': 13365,\n",
       " 'breakfast': 2085,\n",
       " 'sumatra': 12768,\n",
       " 'wolfgang': 14498,\n",
       " 'puck': 10419,\n",
       " 'lake': 7507,\n",
       " 'lodge': 7834,\n",
       " 'caribou': 2457,\n",
       " 'mahogony': 7998,\n",
       " 'kopi': 7447,\n",
       " 'raya': 10646,\n",
       " 'big': 1782,\n",
       " 'came': 2351,\n",
       " 'timely': 13381,\n",
       " 'fashion': 5090,\n",
       " 'price': 10232,\n",
       " 'quantity': 10528,\n",
       " 'received': 10703,\n",
       " 'occasional': 9103,\n",
       " 'constipation': 3244,\n",
       " 'help': 6434,\n",
       " 'body': 1941,\n",
       " 'along': 997,\n",
       " 'irregular': 7103,\n",
       " 'stash': 12477,\n",
       " 'fan': 5071,\n",
       " 'amazon': 1044,\n",
       " 'grocery': 6122,\n",
       " 'terrific': 13175,\n",
       " 'yes': 14642,\n",
       " 'chai': 2598,\n",
       " 'every': 4859,\n",
       " 'day': 3741,\n",
       " 'throughout': 13336,\n",
       " 'winter': 14465,\n",
       " 'regular': 10842,\n",
       " 'tablespoon': 12974,\n",
       " 'two': 13743,\n",
       " 'real': 10668,\n",
       " 'creamits': 3501,\n",
       " 'perfect': 9721,\n",
       " 'chilly': 2748,\n",
       " 'common': 3077,\n",
       " 'graham': 6005,\n",
       " 'cracker': 3450,\n",
       " 'brand': 2058,\n",
       " 'nabisco': 8701,\n",
       " 'thus': 13351,\n",
       " 'first': 5274,\n",
       " 'concern': 3161,\n",
       " 'ingredient': 6960,\n",
       " 'im': 6780,\n",
       " 'putting': 10500,\n",
       " 'bodybr': 1942,\n",
       " 'following': 5426,\n",
       " 'ingredientsbr': 6962,\n",
       " 'enriched': 4736,\n",
       " 'flour': 5377,\n",
       " 'wheat': 14365,\n",
       " 'niacin': 8833,\n",
       " 'reduced': 10769,\n",
       " 'iron': 7100,\n",
       " 'thiamine': 13259,\n",
       " 'mononitrate': 8548,\n",
       " 'vitamin': 14142,\n",
       " 'b1': 1464,\n",
       " 'riboflavin': 11099,\n",
       " 'b2': 1467,\n",
       " 'folic': 5420,\n",
       " 'acid': 741,\n",
       " 'whole': 14409,\n",
       " 'grain': 6007,\n",
       " 'soybean': 12239,\n",
       " 'oil': 9161,\n",
       " 'high': 6496,\n",
       " 'fructose': 5622,\n",
       " 'corn': 3355,\n",
       " 'syrup': 12961,\n",
       " 'partially': 9578,\n",
       " 'hydrogenated': 6723,\n",
       " 'cottonseed': 3391,\n",
       " 'molasses': 8521,\n",
       " 'honey': 6593,\n",
       " 'calcium': 2323,\n",
       " 'carbonate': 2431,\n",
       " 'source': 12221,\n",
       " 'leavening': 7616,\n",
       " 'baking': 1530,\n",
       " 'phosphate': 9802,\n",
       " 'salt': 11326,\n",
       " 'cinnamon': 2858,\n",
       " 'dextrose': 4022,\n",
       " 'flavorbr': 5323,\n",
       " 'one': 9207,\n",
       " 'rolled': 11188,\n",
       " 'oat': 9073,\n",
       " 'evaporated': 4843,\n",
       " 'cane': 2386,\n",
       " 'juice': 7288,\n",
       " 'safflower': 11295,\n",
       " 'raisin': 10589,\n",
       " 'paste': 9604,\n",
       " 'brown': 2158,\n",
       " 'monocalcium': 8546,\n",
       " 'sea': 11510,\n",
       " 'protect': 10376,\n",
       " 'right': 11122,\n",
       " 'bat': 1613,\n",
       " 'lot': 7880,\n",
       " 'le': 7587,\n",
       " 'obviously': 9101,\n",
       " 'option': 9264,\n",
       " 'healthy': 6379,\n",
       " 'manufactured': 8068,\n",
       " 'sweetened': 12908,\n",
       " 'really': 10678,\n",
       " 'bebr': 1661,\n",
       " 'since': 11867,\n",
       " 'necessary': 8770,\n",
       " 'requirement': 10973,\n",
       " 'smores': 12042,\n",
       " 'better': 1762,\n",
       " 'choice': 2798,\n",
       " 'productbr': 10305,\n",
       " 'next': 8830,\n",
       " 'hrefhttp': 6671,\n",
       " 'maid': 7999,\n",
       " 'original': 9315,\n",
       " '144ounce': 125,\n",
       " 'pack': 9461,\n",
       " '4a': 471,\n",
       " '040': 10,\n",
       " 'oz': 9451,\n",
       " '035': 8,\n",
       " 'lower': 7911,\n",
       " 'huge': 6676,\n",
       " 'book': 1971,\n",
       " 'today': 13424,\n",
       " 'economic': 4541,\n",
       " 'time': 13377,\n",
       " 'careful': 2451,\n",
       " 'necessity': 8772,\n",
       " 'wantsbr': 14220,\n",
       " 'third': 13289,\n",
       " 'area': 1260,\n",
       " 'actual': 763,\n",
       " 'tastebr': 13046,\n",
       " 'drier': 4392,\n",
       " 'nabiscos': 8702,\n",
       " 'likebr': 7716,\n",
       " 'dissolve': 4238,\n",
       " 'fast': 5092,\n",
       " 'milk': 8375,\n",
       " 'soy': 12238,\n",
       " 'milkbr': 8379,\n",
       " 'thinner': 13286,\n",
       " 'condensed': 3176,\n",
       " 'making': 8025,\n",
       " 'wall': 14202,\n",
       " 'ginger': 5840,\n",
       " 'bread': 2074,\n",
       " 'isnt': 7120,\n",
       " 'availablebr': 1425,\n",
       " 'true': 13658,\n",
       " 'cookie': 3316,\n",
       " 'brandsbr': 2062,\n",
       " 'overallbr': 9372,\n",
       " 'general': 5771,\n",
       " 'take': 12996,\n",
       " 'getting': 5805,\n",
       " 'use': 13946,\n",
       " 'others': 9333,\n",
       " 'dense': 3907,\n",
       " 'id': 6753,\n",
       " 'best': 1754,\n",
       " 'instant': 7014,\n",
       " 'period': 9741,\n",
       " 'cant': 2400,\n",
       " 'via': 14092,\n",
       " 'according': 725,\n",
       " 'instruction': 7024,\n",
       " 'talking': 13004,\n",
       " 'seriously': 11637,\n",
       " 'local': 7823,\n",
       " 'let': 7658,\n",
       " 'explain': 4970,\n",
       " 'make': 8017,\n",
       " 'brewed': 2108,\n",
       " 'freshly': 5583,\n",
       " 'grind': 6108,\n",
       " 'bean': 1643,\n",
       " 'fine': 5249,\n",
       " 'using': 13964,\n",
       " 'three': 13322,\n",
       " 'ground': 6131,\n",
       " 'ounce': 9341,\n",
       " 'cup': 3615,\n",
       " 'large': 7534,\n",
       " 'mug': 8643,\n",
       " 'undrinkablly': 13814,\n",
       " 'half': 6230,\n",
       " 'problem': 10280,\n",
       " 'couple': 3420,\n",
       " 'hour': 6654,\n",
       " 'later': 7552,\n",
       " 'leftover': 7625,\n",
       " 'becomes': 1669,\n",
       " 'unusable': 13903,\n",
       " 'blob': 1904,\n",
       " 'wont': 14509,\n",
       " 'come': 3057,\n",
       " 'loss': 7878,\n",
       " 'toss': 13504,\n",
       " 'well': 14324,\n",
       " 'acutally': 766,\n",
       " 'thats': 13211,\n",
       " 'clean': 2885,\n",
       " 'plate': 9915,\n",
       " 'starving': 12476,\n",
       " 'kid': 7379,\n",
       " 'biafra': 1778,\n",
       " 'generation': 5775,\n",
       " 'would': 14554,\n",
       " 'prefer': 10156,\n",
       " 'smaller': 11993,\n",
       " 'star': 12450,\n",
       " 'someone': 12165,\n",
       " 'taught': 13075,\n",
       " 'waste': 14251,\n",
       " 'want': 14215,\n",
       " 'old': 9178,\n",
       " 'change': 2617,\n",
       " 'quality': 10523,\n",
       " 'werent': 14341,\n",
       " 'thin': 13270,\n",
       " 'nearly': 8763,\n",
       " 'consistency': 3232,\n",
       " 'soup': 12213,\n",
       " 'mess': 8300,\n",
       " 'matter': 8157,\n",
       " 'eating': 4528,\n",
       " 'junk': 7306,\n",
       " 'foodbr': 5434,\n",
       " 'recommend': 10728,\n",
       " 'giving': 5852,\n",
       " 'work': 14522,\n",
       " 'trial': 13619,\n",
       " 'mix': 8466,\n",
       " 'macaroni': 7973,\n",
       " 'fantastic': 5078,\n",
       " 'smoother': 12033,\n",
       " 'tastier': 13065,\n",
       " 'creamier': 3497,\n",
       " 'boxed': 2033,\n",
       " 'cheese': 2674,\n",
       " 'also': 1007,\n",
       " 'topped': 13485,\n",
       " 'popcorn': 10014,\n",
       " 'homemade': 6579,\n",
       " 'nextbr': 8831,\n",
       " 'highly': 6508,\n",
       " 'recommendedbr': 10732,\n",
       " 'edit': 4558,\n",
       " 'finally': 5242,\n",
       " 'replaced': 10943,\n",
       " 'bit': 1837,\n",
       " 'called': 2336,\n",
       " 'recipe': 10710,\n",
       " 'powder': 10110,\n",
       " 'sorry': 12201,\n",
       " 'rarely': 10622,\n",
       " 'measure': 8204,\n",
       " 'thingsjust': 13277,\n",
       " 'added': 771,\n",
       " 'satisfied': 11378,\n",
       " 'color': 3039,\n",
       " 'smell': 12009,\n",
       " 'dough': 4341,\n",
       " 'turned': 13712,\n",
       " 'storebought': 12576,\n",
       " 'hint': 6535,\n",
       " 'cayennedeliciousbr': 2538,\n",
       " 'oh': 9154,\n",
       " 'spray': 12369,\n",
       " 'stick': 12527,\n",
       " 'reasonably': 10686,\n",
       " 'worst': 14548,\n",
       " 'loose': 7867,\n",
       " 'ever': 4854,\n",
       " 'teabags': 13092,\n",
       " 'english': 4710,\n",
       " 'bitter': 1846,\n",
       " 'smoothsave': 12040,\n",
       " 'money': 8537,\n",
       " 'seasoning': 11527,\n",
       " 'soooooooooooo': 12191,\n",
       " 'flavorfullbr': 5330,\n",
       " 'food': 5433,\n",
       " 'everyday': 4863,\n",
       " 'everything': 4868,\n",
       " 'grit': 6114,\n",
       " 'hashbrowns': 6324,\n",
       " 'lunch': 7942,\n",
       " 'supper': 12818,\n",
       " 'sprinkle': 12376,\n",
       " 'veggie': 14047,\n",
       " 'pet': 9768,\n",
       " 'industry': 6915,\n",
       " 'infuriating': 6948,\n",
       " 'start': 12466,\n",
       " 'research': 10984,\n",
       " 'discovering': 4182,\n",
       " 'trash': 13587,\n",
       " 'manufacturer': 8070,\n",
       " 'vet': 14087,\n",
       " 'push': 10493,\n",
       " 'onto': 9229,\n",
       " 'unsuspecting': 13898,\n",
       " 'public': 10415,\n",
       " 'ask': 1326,\n",
       " 'internet': 7058,\n",
       " 'site': 11900,\n",
       " 'example': 4892,\n",
       " 'youll': 14674,\n",
       " 'find': 5244,\n",
       " 'supposed': 12833,\n",
       " 'highend': 6498,\n",
       " 'line': 7746,\n",
       " 'basically': 1599,\n",
       " 'major': 8014,\n",
       " 'supermarket': 12805,\n",
       " 'label': 7475,\n",
       " 'horrible': 6624,\n",
       " 'fuzzy': 5699,\n",
       " 'friend': 5593,\n",
       " 'trust': 13664,\n",
       " 'marketing': 8099,\n",
       " 'overpay': 9403,\n",
       " 'feed': 5148,\n",
       " 'cat': 2512,\n",
       " 'carcinogen': 2440,\n",
       " 'cheap': 2648,\n",
       " 'inappropriate': 6837,\n",
       " 'digestive': 4087,\n",
       " 'system': 12964,\n",
       " 'byproduct': 2283,\n",
       " 'provide': 10399,\n",
       " 'nothing': 8963,\n",
       " 'value': 14000,\n",
       " 'profit': 10328,\n",
       " 'literal': 7797,\n",
       " 'garbage': 5726,\n",
       " 'tragedy': 13559,\n",
       " 'end': 4676,\n",
       " 'shorter': 11781,\n",
       " 'lifespan': 7696,\n",
       " 'kidney': 7382,\n",
       " 'utis': 13982,\n",
       " 'cancer': 2373,\n",
       " 'host': 6636,\n",
       " 'issue': 7124,\n",
       " 'avoided': 1435,\n",
       " 'agrade': 890,\n",
       " 'protein': 10381,\n",
       " 'content': 3268,\n",
       " 'meat': 8208,\n",
       " 'meal': 8189,\n",
       " 'carbs': 2437,\n",
       " 'omnivore': 9202,\n",
       " 'carnivore': 2472,\n",
       " 'simply': 11866,\n",
       " '50': 490,\n",
       " 'percent': 9716,\n",
       " 'among': 1070,\n",
       " 'highest': 6500,\n",
       " 'see': 11547,\n",
       " 'meatsbr': 8217,\n",
       " 'kind': 7391,\n",
       " 'thing': 13271,\n",
       " 'purina': 10480,\n",
       " 'science': 11466,\n",
       " 'aka': 922,\n",
       " 'beak': 1642,\n",
       " 'feather': 5138,\n",
       " 'bird': 1817,\n",
       " 'foot': 5455,\n",
       " 'brewer': 2109,\n",
       " 'beer': 1685,\n",
       " 'leading': 7592,\n",
       " 'cause': 2524,\n",
       " 'allergy': 972,\n",
       " 'gluten': 5892,\n",
       " 'space': 12247,\n",
       " 'liver': 7809,\n",
       " 'pay': 9632,\n",
       " 'didnt': 4046,\n",
       " 'pull': 10434,\n",
       " 'air': 909,\n",
       " 'reading': 10664,\n",
       " 'list': 7782,\n",
       " 'patheticbr': 9618,\n",
       " 'theyll': 13255,\n",
       " 'lead': 7590,\n",
       " 'longer': 7850,\n",
       " 'life': 7692,\n",
       " 'result': 11043,\n",
       " 'convenient': 3297,\n",
       " 'dog': 4287,\n",
       " 'peanut': 9650,\n",
       " 'butter': 2263,\n",
       " 'trick': 13623,\n",
       " 'kong': 7440,\n",
       " 'freezing': 5562,\n",
       " 'last': 7545,\n",
       " 'longerbr': 7851,\n",
       " 'julie': 7296,\n",
       " 'online': 9223,\n",
       " 'trainer': 13564,\n",
       " 'sauce': 11390,\n",
       " 'lover': 7900,\n",
       " 'average': 1429,\n",
       " 'gift': 5825,\n",
       " 'probably': 10272,\n",
       " 'somebody': 12159,\n",
       " 'hate': 6332,\n",
       " 'hoping': 6616,\n",
       " 'caffeine': 2304,\n",
       " 'decaffeinated': 3780,\n",
       " 'still': 12534,\n",
       " 'jittery': 7242,\n",
       " 'effect': 4566,\n",
       " 'immediately': 6795,\n",
       " 'eat': 4522,\n",
       " 'long': 7847,\n",
       " 'run': 11252,\n",
       " 'found': 5516,\n",
       " 'larabars': 7532,\n",
       " 'bar': 1561,\n",
       " 'fruity': 5635,\n",
       " 'crash': 3472,\n",
       " 'surprisingly': 12860,\n",
       " 'delicious': 3874,\n",
       " 'roll': 11187,\n",
       " 'cashew': 2502,\n",
       " 'apple': 1215,\n",
       " 'pie': 9834,\n",
       " 'gingersnap': 5843,\n",
       " 'far': 5080,\n",
       " 'cherry': 2694,\n",
       " 'snack': 12048,\n",
       " 'sister': 11896,\n",
       " 'flat': 5313,\n",
       " 'belly': 1721,\n",
       " 'prevention': 10224,\n",
       " 'magazine': 7986,\n",
       " 'loosely': 7868,\n",
       " 'based': 1596,\n",
       " 'upon': 13925,\n",
       " 'mediteranean': 8239,\n",
       " 'sp': 12245,\n",
       " 'dietbr': 4056,\n",
       " 'lost': 7879,\n",
       " '1125': 70,\n",
       " 'pound': 10098,\n",
       " 'tlc': 13413,\n",
       " 'helped': 6436,\n",
       " 'mufa': 8640,\n",
       " 'mono': 8544,\n",
       " 'unsaturated': 13887,\n",
       " 'fatty': 5115,\n",
       " 'mufas': 8641,\n",
       " 'calorie': 2344,\n",
       " 'salted': 11329,\n",
       " 'nut': 9023,\n",
       " '12': 83,\n",
       " 'avocado': 1432,\n",
       " 'ghiradelli': 5818,\n",
       " '60': 542,\n",
       " 'cacao': 2295,\n",
       " 'ghiradeli': 5817,\n",
       " 'upset': 13928,\n",
       " 'stomachbr': 12561,\n",
       " 'give': 5848,\n",
       " 'fruit': 5623,\n",
       " 'fill': 5224,\n",
       " '130': 113,\n",
       " 'easier': 4509,\n",
       " 'fit': 5284,\n",
       " 'containing': 3262,\n",
       " 'foodsbr': 5444,\n",
       " 'either': 4598,\n",
       " 'easiest': 4510,\n",
       " 'virtually': 14121,\n",
       " 'pain': 9493,\n",
       " 'freebr': 5548,\n",
       " 'sure': 12842,\n",
       " 'seen': 11565,\n",
       " 'infomercial': 6940,\n",
       " 'say': 11417,\n",
       " 'potato': 10075,\n",
       " 'chip': 2756,\n",
       " 'ice': 6742,\n",
       " 'cream': 3490,\n",
       " 'cocacola': 2963,\n",
       " 'lasagna': 7541,\n",
       " 'etc': 4819,\n",
       " 'within': 14482,\n",
       " 'reason': 10684,\n",
       " 'keep': 7340,\n",
       " 'caloric': 2343,\n",
       " 'intake': 7035,\n",
       " '1600': 154,\n",
       " 'lose': 7874,\n",
       " 'weight': 14313,\n",
       " 'crazy': 3487,\n",
       " 'sounding': 12212,\n",
       " 'fat': 5100,\n",
       " 'mealsbr': 8191,\n",
       " '299': 318,\n",
       " 'kindle': 7393,\n",
       " 'version': 14083,\n",
       " 'pocket': 9963,\n",
       " 'guide': 6163,\n",
       " 'shed': 11699,\n",
       " 'izzes': 7168,\n",
       " 'pop': 10011,\n",
       " 'drinker': 4397,\n",
       " 'corbination': 3348,\n",
       " 'earl': 4497,\n",
       " 'grey': 6096,\n",
       " 'bergamot': 1739,\n",
       " 'past': 9600,\n",
       " 'difficult': 4076,\n",
       " 'finding': 5246,\n",
       " 'grocercy': 6119,\n",
       " 'shop': 11767,\n",
       " 'dollar': 4302,\n",
       " 'herebr': 6459,\n",
       " 'hom': 6574,\n",
       " 'go': 5919,\n",
       " 'wrong': 14583,\n",
       " 'switched': 12946,\n",
       " 'totw': 13519,\n",
       " 'mate': 8153,\n",
       " 'fm': 5405,\n",
       " 'increased': 6871,\n",
       " 'decreased': 3811,\n",
       " 'size': 11910,\n",
       " 'needed': 8777,\n",
       " 'comparable': 3090,\n",
       " 'free': 5545,\n",
       " 'beagle': 1641,\n",
       " 'severe': 11661,\n",
       " 'imho': 6790,\n",
       " 'mentioned': 8282,\n",
       " 'noticed': 8970,\n",
       " 'energy': 4693,\n",
       " 'fact': 5030,\n",
       " 'poundsbr': 10102,\n",
       " 'started': 12467,\n",
       " 'plott': 9947,\n",
       " 'hound': 6653,\n",
       " 'week': 14302,\n",
       " 'trouble': 13651,\n",
       " 'health': 6367,\n",
       " 'liter': 7796,\n",
       " 'breed': 2101,\n",
       " 'puppy': 10459,\n",
       " 'formulabr': 5494,\n",
       " 'switch': 12945,\n",
       " 'back': 1481,\n",
       " 'forth': 5500,\n",
       " 'prairie': 10128,\n",
       " 'wetland': 14351,\n",
       " 'formula': 5493,\n",
       " 'burnoutbr': 2242,\n",
       " 'canned': 2395,\n",
       " 'variety': 14019,\n",
       " 'though': 13309,\n",
       " 'yet': 14646,\n",
       " 'incredible': 6875,\n",
       " 'close': 2918,\n",
       " 'movie': 8620,\n",
       " 'theatre': 13216,\n",
       " 'downfall': 4351,\n",
       " 'isi': 7115,\n",
       " 'stop': 12569,\n",
       " 'open': 9238,\n",
       " 'pour': 10105,\n",
       " 'machine': 7976,\n",
       " 'wait': 14185,\n",
       " 'finish': 5259,\n",
       " 'popingthen': 10019,\n",
       " 'batch': 1614,\n",
       " 'fancy': 5075,\n",
       " 'feast': 5136,\n",
       " 'appetizer': 1213,\n",
       " 'treat': 13597,\n",
       " 'look': 7859,\n",
       " 'easily': 4511,\n",
       " 'hand': 6250,\n",
       " 'hope': 6611,\n",
       " 'continues': 3275,\n",
       " 'bought': 2013,\n",
       " 'october': 9119,\n",
       " '2007': 228,\n",
       " 'liked': 7718,\n",
       " 'smooth': 12032,\n",
       " 'coconut': 2976,\n",
       " 'creme': 3520,\n",
       " 'doesnt': 4286,\n",
       " 'always': 1028,\n",
       " 'seem': 11558,\n",
       " 'stock': 12553,\n",
       " 'andor': 1098,\n",
       " 'low': 7904,\n",
       " 'check': 2660,\n",
       " 'often': 9152,\n",
       " 'excellent': 4899,\n",
       " 'surprised': 12856,\n",
       " 'amaretto': 1033,\n",
       " 'itbr': 7136,\n",
       " 'strange': 12597,\n",
       " 'threw': 13328,\n",
       " 'away': 1446,\n",
       " 'setting': 11651,\n",
       " 'shelf': 11705,\n",
       " 'knowing': 7424,\n",
       " 'wine': 14454,\n",
       " 'tasty': 13070,\n",
       " 'dessert': 3975,\n",
       " 'cheesecake': 2677,\n",
       " 'glutenfree': 5897,\n",
       " 'ten': 13146,\n",
       " 'yearsand': 14625,\n",
       " 'glutino': 5903,\n",
       " 'vanilla': 14007,\n",
       " 'dream': 4383,\n",
       " 'cooky': 3329,\n",
       " 'filled': 5225,\n",
       " 'cookiesyou': 3323,\n",
       " 'available': 1424,\n",
       " 'return': 11064,\n",
       " 'purchase': 10462,\n",
       " 'anytime': 1178,\n",
       " 'becoming': 1670,\n",
       " 'harder': 6293,\n",
       " 'diamond': 4036,\n",
       " 'going': 5934,\n",
       " 'morning': 8580,\n",
       " 'truly': 13662,\n",
       " 'office': 9144,\n",
       " 'enjoy': 4720,\n",
       " 'around': 1285,\n",
       " 'loyal': 7922,\n",
       " 'purchaser': 10465,\n",
       " 'offered': 9139,\n",
       " 'subscribe': 12680,\n",
       " 'save': 11405,\n",
       " 'program': 10331,\n",
       " 'ityoull': 7163,\n",
       " 'fairly': 5045,\n",
       " 'standard': 12441,\n",
       " 'style': 12668,\n",
       " 'christmas': 2829,\n",
       " 'cake': 2314,\n",
       " 'although': 1019,\n",
       " 'honest': 6590,\n",
       " 'dry': 4429,\n",
       " 'given': 5850,\n",
       " 'acceptable': 709,\n",
       " 'certainly': 2586,\n",
       " 'outstanding': 9362,\n",
       " 'decided': 3795,\n",
       " 'warehouse': 14222,\n",
       " 'special': 12277,\n",
       " 'review': 11078,\n",
       " 'decadent': 3776,\n",
       " 'delight': 3880,\n",
       " 'besides': 1752,\n",
       " 'organic': 9297,\n",
       " 'eaten': 4524,\n",
       " 'plan': 9900,\n",
       " 'buying': 2274,\n",
       " 'holiday': 6567,\n",
       " 'ordered': 9281,\n",
       " 'thenwell': 13232,\n",
       " 'think': 13282,\n",
       " 'lievito': 7691,\n",
       " 'vanigliato': 14006,\n",
       " 'bertolini': 1750,\n",
       " 'contains': 3264,\n",
       " 'baked': 1526,\n",
       " 'pill': 9849,\n",
       " 'dosent': 4332,\n",
       " 'know': 7422,\n",
       " 'beg': 1694,\n",
       " 'fot': 5514,\n",
       " 'gone': 5946,\n",
       " 'usually': 13970,\n",
       " 'purchasing': 10466,\n",
       " 'deal': 3758,\n",
       " 'expire': 4966,\n",
       " 'month': 8554,\n",
       " 'opened': 9240,\n",
       " 'okay': 9173,\n",
       " 'overal': 9370,\n",
       " 'second': 11534,\n",
       " 'weve': 14352,\n",
       " 'beat': 1652,\n",
       " 'beef': 1680,\n",
       " 'jerky': 7229,\n",
       " 'visting': 14131,\n",
       " 'farmer': 5086,\n",
       " 'market': 8095,\n",
       " 'pa': 9456,\n",
       " 'hard': 6289,\n",
       " 'loverssize': 7901,\n",
       " 'rightnot': 11125,\n",
       " 'occasion': 9102,\n",
       " 'packagaing': 9463,\n",
       " 'bow': 2023,\n",
       " 'stayed': 12493,\n",
       " 'intactit': 7034,\n",
       " 'wasnt': 14250,\n",
       " 'arrived': 1292,\n",
       " 'vinegar': 14111,\n",
       " 'tangy': 13019,\n",
       " 'airpopped': 913,\n",
       " 'ton': 13456,\n",
       " 'craving': 3482,\n",
       " '110': 65,\n",
       " 'salty': 11336,\n",
       " 'lowcal': 7906,\n",
       " 'originally': 9317,\n",
       " 'sheltie': 11713,\n",
       " 'visiting': 14129,\n",
       " 'son': 12177,\n",
       " 'shelties': 11714,\n",
       " 'cute': 3650,\n",
       " 'lining': 7759,\n",
       " 'sitting': 11904,\n",
       " 'quiet': 10554,\n",
       " 'course': 3428,\n",
       " 'service': 11642,\n",
       " 'shipping': 11751,\n",
       " 'anybody': 1164,\n",
       " 'else': 4630,\n",
       " 'teryaki': 13179,\n",
       " 'flavored': 5325,\n",
       " 'mega': 8248,\n",
       " 'yuck': 14691,\n",
       " 'crunchy': 3583,\n",
       " 'expires': 4968,\n",
       " '2013': 241,\n",
       " 'refund': 10813,\n",
       " 'purchace': 10461,\n",
       " 'sell': 11582,\n",
       " 'intention': 7045,\n",
       " 'hurt': 6706,\n",
       " 'anybodys': 1165,\n",
       " 'sale': 11312,\n",
       " 'package': 9464,\n",
       " 'saying': 11421,\n",
       " 'treated': 13599,\n",
       " 'radiationbr': 10574,\n",
       " 'rather': 10631,\n",
       " 'againbr': 865,\n",
       " 'irradiated': 7102,\n",
       " 'quite': 10560,\n",
       " 'nice': 8840,\n",
       " 'china': 2751,\n",
       " 'control': 3292,\n",
       " 'proven': 10398,\n",
       " 'otherwise': 9336,\n",
       " 'effort': 4578,\n",
       " 'inform': 6942,\n",
       " 'customersbr': 3646,\n",
       " 'producing': 10303,\n",
       " 'company': 3086,\n",
       " 'nuclear': 9004,\n",
       " 'radiation': 10573,\n",
       " 'steam': 12500,\n",
       " 'freeze': 5557,\n",
       " 'nuke': 9010,\n",
       " 'leave': 7615,\n",
       " 'restaurant': 11028,\n",
       " 'consider': 3221,\n",
       " 'safe': 11288,\n",
       " 'youbr': 14668,\n",
       " 'advertised': 830,\n",
       " 'exactly': 4888,\n",
       " 'sneaky': 12073,\n",
       " 'print': 10262,\n",
       " 'backbr': 1483,\n",
       " 'offer': 9138,\n",
       " 'nonirradiated': 8911,\n",
       " 'reconsider': 10739,\n",
       " 'appreciate': 1227,\n",
       " 'positive': 10052,\n",
       " 'feedback': 5149,\n",
       " 'thanks': 13202,\n",
       " 'litter': 7802,\n",
       " 'multicat': 8647,\n",
       " 'basement': 1597,\n",
       " 'bathroom': 1620,\n",
       " 'door': 4318,\n",
       " 'closed': 2920,\n",
       " 'flap': 5305,\n",
       " 'access': 713,\n",
       " 'scoop': 11473,\n",
       " 'never': 8815,\n",
       " 'odor': 9127,\n",
       " 'bug': 2197,\n",
       " 'lb': 7581,\n",
       " 'poundforpound': 10100,\n",
       " 'absorbs': 691,\n",
       " 'liquid': 7774,\n",
       " 'clay': 2884,\n",
       " 'difference': 4064,\n",
       " 'disappears': 4140,\n",
       " 'flushable': 5399,\n",
       " 'youre': 14679,\n",
       " 'dealing': 3761,\n",
       " 'wastebasket': 14252,\n",
       " ...}"
      ]
     },
     "execution_count": 52,
     "metadata": {},
     "output_type": "execute_result"
    }
   ],
   "source": [
    "cv.vocabulary_"
   ]
  },
  {
   "cell_type": "markdown",
   "id": "74c2ceeb",
   "metadata": {},
   "source": [
    "Found that order of x_train_bow is different from x_train"
   ]
  },
  {
   "cell_type": "code",
   "execution_count": null,
   "id": "df3b8fa7",
   "metadata": {},
   "outputs": [],
   "source": []
  },
  {
   "cell_type": "markdown",
   "id": "aca6a158",
   "metadata": {},
   "source": [
    "# 4.2 N-GRAM"
   ]
  },
  {
   "cell_type": "code",
   "execution_count": 53,
   "id": "0425dd87",
   "metadata": {},
   "outputs": [],
   "source": [
    "from sklearn.feature_extraction.text import CountVectorizer\n",
    "bigm=CountVectorizer(ngram_range=(2,2))"
   ]
  },
  {
   "cell_type": "code",
   "execution_count": 54,
   "id": "9f0baf06",
   "metadata": {},
   "outputs": [
    {
     "data": {
      "text/plain": [
       "(4000, 114885)"
      ]
     },
     "execution_count": 54,
     "metadata": {},
     "output_type": "execute_result"
    }
   ],
   "source": [
    "x_train_bgm = bigm.fit_transform(x_train)\n",
    "x_test_bgm=bigm.transform(x_test)\n",
    "x_train_bgm.shape"
   ]
  },
  {
   "cell_type": "code",
   "execution_count": 55,
   "id": "f5cbd9b5",
   "metadata": {},
   "outputs": [
    {
     "data": {
      "text/plain": [
       "114885"
      ]
     },
     "execution_count": 55,
     "metadata": {},
     "output_type": "execute_result"
    }
   ],
   "source": [
    "len(bigm.vocabulary_)"
   ]
  },
  {
   "cell_type": "code",
   "execution_count": 56,
   "id": "4d16b681",
   "metadata": {},
   "outputs": [
    {
     "data": {
      "text/plain": [
       "{'father drinking': 36972,\n",
       " 'drinking tea': 31279,\n",
       " 'tea year': 100774,\n",
       " 'year good': 114063,\n",
       " 'good especially': 44929,\n",
       " 'especially men': 34100,\n",
       " 'great black': 46173,\n",
       " 'black tea': 11550,\n",
       " 'tea must': 100565,\n",
       " 'must kitchen': 66835,\n",
       " 'kitchen like': 55282,\n",
       " 'like box': 57715,\n",
       " 'box tea': 13146,\n",
       " 'tea least': 100527,\n",
       " 'least 40': 56825,\n",
       " '40 per': 1210,\n",
       " 'per box': 74887,\n",
       " 'box dont': 12956,\n",
       " 'dont buy': 30349,\n",
       " 'buy overpriced': 15791,\n",
       " 'overpriced specialty': 72754,\n",
       " 'specialty tea': 93732,\n",
       " 'tea cost': 100372,\n",
       " 'cost buck': 24295,\n",
       " 'buck 16': 15165,\n",
       " '16 20': 519,\n",
       " '20 bag': 667,\n",
       " 'bag said': 8303,\n",
       " 'said kitchen': 86081,\n",
       " 'kitchen tea': 55293,\n",
       " 'tea essential': 100414,\n",
       " 'essential tetley': 34202,\n",
       " 'tetley classic': 101281,\n",
       " 'classic tetley': 20628,\n",
       " 'tetley british': 101280,\n",
       " 'british blend': 14949,\n",
       " 'blend pg': 11741,\n",
       " 'pg tip': 75361,\n",
       " 'tip barrys': 103642,\n",
       " 'barrys gold': 9001,\n",
       " 'gold blend': 44643,\n",
       " 'blend tea': 11765,\n",
       " 'tea barrys': 100311,\n",
       " 'barrys may': 9003,\n",
       " 'may similar': 63181,\n",
       " 'similar tea': 90381,\n",
       " 'tea definitely': 100380,\n",
       " 'definitely strongest': 27468,\n",
       " 'strongest tea': 96536,\n",
       " 'tea irish': 100505,\n",
       " 'irish blend': 53178,\n",
       " 'blend green': 11699,\n",
       " 'green box': 46671,\n",
       " 'box even': 12964,\n",
       " 'even stronger': 34625,\n",
       " 'stronger barrys': 96514,\n",
       " 'barrys great': 9002,\n",
       " 'great tea': 46577,\n",
       " 'tea generous': 100455,\n",
       " 'generous 80': 42766,\n",
       " '80 bag': 1589,\n",
       " 'bag count': 8104,\n",
       " 'count box': 24630,\n",
       " 'love freekeh': 60644,\n",
       " 'freekeh expensive': 41456,\n",
       " 'expensive wonder': 35714,\n",
       " 'wonder paid': 112534,\n",
       " 'paid much': 73630,\n",
       " 'much little': 66481,\n",
       " 'little however': 59207,\n",
       " 'however dont': 50525,\n",
       " 'dont need': 30434,\n",
       " 'need much': 67445,\n",
       " 'much feel': 66412,\n",
       " 'feel full': 37447,\n",
       " 'full thought': 42254,\n",
       " 'thought easy': 102771,\n",
       " 'easy cook': 31903,\n",
       " 'cook easy': 23665,\n",
       " 'easy direction': 31909,\n",
       " 'direction could': 29157,\n",
       " 'could used': 24572,\n",
       " 'used many': 107917,\n",
       " 'many different': 62617,\n",
       " 'different way': 28896,\n",
       " 'way cooked': 110516,\n",
       " 'cooked mine': 23741,\n",
       " 'mine used': 64746,\n",
       " 'used spicy': 107988,\n",
       " 'spicy shrimp': 93987,\n",
       " 'shrimp saute': 90115,\n",
       " 'saute loved': 86980,\n",
       " 'loved way': 61092,\n",
       " 'way house': 110576,\n",
       " 'house smelled': 50453,\n",
       " 'smelled cooking': 91812,\n",
       " 'cooking texture': 23892,\n",
       " 'texture sushi': 101409,\n",
       " 'sushi rice': 98104,\n",
       " 'rice barley': 84941,\n",
       " 'barley natural': 8988,\n",
       " 'natural sweet': 67137,\n",
       " 'sweet taste': 98358,\n",
       " 'taste worth': 99837,\n",
       " 'worth try': 113320,\n",
       " 'try looking': 105867,\n",
       " 'looking healthier': 60080,\n",
       " 'healthier alternative': 48428,\n",
       " 'alternative rice': 4345,\n",
       " 'person like': 75222,\n",
       " 'like swiss': 58422,\n",
       " 'swiss miss': 98592,\n",
       " 'miss hot': 65018,\n",
       " 'hot cocoa': 50154,\n",
       " 'cocoa packet': 21075,\n",
       " 'packet hot': 73519,\n",
       " 'cocoa gas': 21059,\n",
       " 'gas station': 42550,\n",
       " 'station get': 95024,\n",
       " 'get product': 43167,\n",
       " 'product taste': 79630,\n",
       " 'taste chocolate': 99371,\n",
       " 'chocolate flavor': 19957,\n",
       " 'flavor whatsoever': 39528,\n",
       " 'whatsoever taste': 111677,\n",
       " 'taste like': 99561,\n",
       " 'like heated': 57995,\n",
       " 'heated sugar': 48752,\n",
       " 'sugar water': 97313,\n",
       " 'water nasty': 110310,\n",
       " 'nasty sugar': 67037,\n",
       " 'water product': 110342,\n",
       " 'product strong': 79613,\n",
       " 'strong fake': 96433,\n",
       " 'fake sugar': 36326,\n",
       " 'sugar taste': 97298,\n",
       " 'taste perfectly': 99640,\n",
       " 'perfectly ok': 75115,\n",
       " 'ok diet': 70089,\n",
       " 'diet soda': 28633,\n",
       " 'soda fake': 92371,\n",
       " 'sugar product': 97259,\n",
       " 'product something': 79595,\n",
       " 'something put': 92874,\n",
       " 'put finger': 80854,\n",
       " 'finger made': 38433,\n",
       " 'made stomach': 61695,\n",
       " 'stomach curl': 95733,\n",
       " 'curl even': 26075,\n",
       " 'even waited': 34671,\n",
       " 'waited cool': 109495,\n",
       " 'cool got': 24088,\n",
       " 'got worse': 45687,\n",
       " 'worse disapointed': 113187,\n",
       " 'disapointed product': 29223,\n",
       " 'product expecting': 79253,\n",
       " 'disappointed tried': 29319,\n",
       " 'tried new': 105379,\n",
       " 'new keurig': 67868,\n",
       " 'keurig coffee': 54893,\n",
       " 'coffee weak': 21670,\n",
       " 'weak tasted': 110745,\n",
       " 'tasted like': 99910,\n",
       " 'like bad': 57679,\n",
       " 'bad diner': 7875,\n",
       " 'diner coffee': 29026,\n",
       " 'coffee starbucks': 21597,\n",
       " 'starbucks french': 94688,\n",
       " 'french roast': 41531,\n",
       " 'roast kcup': 85460,\n",
       " 'kcup saved': 54486,\n",
       " 'saved flavorful': 87073,\n",
       " 'flavorful strong': 39656,\n",
       " 'strong without': 96505,\n",
       " 'without bitterness': 112320,\n",
       " 'bitterness diner': 11465,\n",
       " 'diner taste': 29028,\n",
       " 'taste brew': 99346,\n",
       " 'brew 7oz': 14679,\n",
       " '7oz sizebr': 1584,\n",
       " 'sizebr br': 91121,\n",
       " 'br reference': 13839,\n",
       " 'reference purpose': 83441,\n",
       " 'purpose store': 80772,\n",
       " 'store drink': 95933,\n",
       " 'drink starbucks': 31092,\n",
       " 'starbucks americanobr': 94666,\n",
       " 'americanobr br': 5124,\n",
       " 'br favorite': 13511,\n",
       " 'favorite kcups': 37141,\n",
       " 'kcups arebr': 54504,\n",
       " 'arebr starbucks': 6282,\n",
       " 'french roastbr': 41532,\n",
       " 'roastbr starbucks': 85507,\n",
       " 'starbucks caffe': 94673,\n",
       " 'caffe veronabr': 16100,\n",
       " 'veronabr starbucks': 108968,\n",
       " 'starbucks pike': 94710,\n",
       " 'pike place': 75731,\n",
       " 'place roastbr': 75928,\n",
       " 'roastbr green': 85505,\n",
       " 'green mountain': 46692,\n",
       " 'mountain xtra': 66143,\n",
       " 'xtra bold': 113934,\n",
       " 'bold sumatran': 12127,\n",
       " 'sumatran reservebr': 97464,\n",
       " 'reservebr green': 84298,\n",
       " 'mountain double': 66122,\n",
       " 'double black': 30609,\n",
       " 'black diamondbr': 11514,\n",
       " 'diamondbr green': 28377,\n",
       " 'mountain revvbr': 66136,\n",
       " 'revvbr green': 84906,\n",
       " 'mountain dark': 66119,\n",
       " 'dark magicbr': 26476,\n",
       " 'magicbr br': 61749,\n",
       " 'br kcups': 13625,\n",
       " 'kcups ive': 54534,\n",
       " 'ive tried': 53798,\n",
       " 'tried coffee': 105248,\n",
       " 'coffee people': 21507,\n",
       " 'people jet': 74663,\n",
       " 'jet fuel': 54131,\n",
       " 'fuel green': 42147,\n",
       " 'dark magic': 26475,\n",
       " 'magic decaf': 61736,\n",
       " 'decaf emeril': 27109,\n",
       " 'emeril jazzed': 33163,\n",
       " 'jazzed decaf': 54032,\n",
       " 'decaf starbucks': 27132,\n",
       " 'caffe verona': 16099,\n",
       " 'verona coffee': 108964,\n",
       " 'people black': 74628,\n",
       " 'black tiger': 11552,\n",
       " 'tiger starbucks': 103127,\n",
       " 'starbucks house': 94695,\n",
       " 'house blend': 50390,\n",
       " 'blend starbucks': 11760,\n",
       " 'starbucks breakfast': 94672,\n",
       " 'breakfast blend': 14539,\n",
       " 'starbucks sumatra': 94719,\n",
       " 'sumatra wolfgang': 97462,\n",
       " 'wolfgang puck': 112503,\n",
       " 'puck french': 80131,\n",
       " 'roast green': 85456,\n",
       " 'mountain lake': 66129,\n",
       " 'lake lodge': 55953,\n",
       " 'lodge green': 59668,\n",
       " 'mountain french': 66125,\n",
       " 'roast caribou': 85436,\n",
       " 'caribou mahogony': 17431,\n",
       " 'mahogony wolfgang': 61784,\n",
       " 'puck sumatra': 80138,\n",
       " 'sumatra kopi': 97458,\n",
       " 'kopi raya': 55692,\n",
       " 'raya emeril': 81982,\n",
       " 'emeril big': 33161,\n",
       " 'big easy': 10846,\n",
       " 'easy bold': 31890,\n",
       " 'came timely': 16641,\n",
       " 'timely fashion': 103552,\n",
       " 'fashion good': 36770,\n",
       " 'good price': 45187,\n",
       " 'price quantity': 78407,\n",
       " 'quantity received': 81214,\n",
       " 'received tea': 82829,\n",
       " 'tea good': 100464,\n",
       " 'good occasional': 45135,\n",
       " 'occasional constipation': 69530,\n",
       " 'constipation help': 23145,\n",
       " 'help body': 48885,\n",
       " 'body along': 11989,\n",
       " 'along feel': 3809,\n",
       " 'feel irregular': 37460,\n",
       " 'stash tea': 94935,\n",
       " 'tea fan': 100429,\n",
       " 'fan year': 36542,\n",
       " 'year price': 114138,\n",
       " 'price amazon': 78215,\n",
       " 'amazon grocery': 4864,\n",
       " 'grocery terrific': 46905,\n",
       " 'terrific yes': 101232,\n",
       " 'yes drink': 114305,\n",
       " 'drink chai': 30932,\n",
       " 'chai every': 18455,\n",
       " 'every day': 34879,\n",
       " 'day throughout': 26911,\n",
       " 'throughout winter': 102998,\n",
       " 'winter try': 112187,\n",
       " 'try regular': 105925,\n",
       " 'regular decaf': 83660,\n",
       " 'decaf chai': 27100,\n",
       " 'chai tablespoon': 18474,\n",
       " 'tablespoon two': 98837,\n",
       " 'two real': 106584,\n",
       " 'real creamits': 82214,\n",
       " 'creamits perfect': 25293,\n",
       " 'perfect drink': 74999,\n",
       " 'drink chilly': 30934,\n",
       " 'chilly day': 19609,\n",
       " 'common graham': 22283,\n",
       " 'graham cracker': 45823,\n",
       " 'cracker store': 25016,\n",
       " 'store brand': 95896,\n",
       " 'brand nabisco': 14266,\n",
       " 'nabisco thus': 66927,\n",
       " 'thus first': 103092,\n",
       " 'first concern': 38574,\n",
       " 'concern ingredient': 22812,\n",
       " 'ingredient im': 52476,\n",
       " 'im putting': 51540,\n",
       " 'putting bodybr': 80976,\n",
       " 'bodybr br': 12046,\n",
       " 'br brand': 13353,\n",
       " 'brand following': 14203,\n",
       " 'following ingredientsbr': 40056,\n",
       " 'ingredientsbr enriched': 52588,\n",
       " 'enriched flour': 33870,\n",
       " 'flour wheat': 39877,\n",
       " 'wheat flour': 111696,\n",
       " 'flour niacin': 39852,\n",
       " 'niacin reduced': 68032,\n",
       " 'reduced iron': 83409,\n",
       " 'iron thiamine': 53188,\n",
       " 'thiamine mononitrate': 101922,\n",
       " 'mononitrate vitamin': 65739,\n",
       " 'vitamin b1': 109312,\n",
       " 'b1 riboflavin': 7508,\n",
       " 'riboflavin vitamin': 84934,\n",
       " 'vitamin b2': 109314,\n",
       " 'b2 folic': 7514,\n",
       " 'folic acid': 39998,\n",
       " 'acid sugar': 2002,\n",
       " 'sugar graham': 97192,\n",
       " 'graham flour': 45824,\n",
       " 'flour whole': 39878,\n",
       " 'whole grain': 111915,\n",
       " 'grain wheat': 45884,\n",
       " 'flour soybean': 39867,\n",
       " 'soybean oil': 93559,\n",
       " 'oil high': 69945,\n",
       " 'high fructose': 49236,\n",
       " 'fructose corn': 41988,\n",
       " 'corn syrup': 24219,\n",
       " 'syrup partially': 98721,\n",
       " 'partially hydrogenated': 73996,\n",
       " 'hydrogenated cottonseed': 51018,\n",
       " 'cottonseed oil': 24414,\n",
       " 'oil corn': 69904,\n",
       " 'syrup molasses': 98717,\n",
       " 'molasses honey': 65572,\n",
       " 'honey calcium': 49842,\n",
       " 'calcium carbonate': 16236,\n",
       " 'carbonate source': 17246,\n",
       " 'source calcium': 93443,\n",
       " 'calcium leavening': 16245,\n",
       " 'leavening baking': 56938,\n",
       " 'baking soda': 8540,\n",
       " 'soda calcium': 92359,\n",
       " 'calcium phosphate': 16248,\n",
       " 'phosphate salt': 75391,\n",
       " 'salt cinnamon': 86329,\n",
       " 'cinnamon dextrose': 20487,\n",
       " 'dextrose natural': 28304,\n",
       " 'natural flavorbr': 67080,\n",
       " 'flavorbr br': 39553,\n",
       " 'br one': 13734,\n",
       " 'one following': 70641,\n",
       " 'ingredientsbr graham': 52589,\n",
       " 'grain rolled': 45874,\n",
       " 'rolled oat': 85629,\n",
       " 'oat evaporated': 69386,\n",
       " 'evaporated cane': 34345,\n",
       " 'cane juice': 16912,\n",
       " 'juice safflower': 54332,\n",
       " 'safflower oil': 86023,\n",
       " 'oil honey': 69947,\n",
       " 'honey raisin': 49883,\n",
       " 'raisin paste': 81615,\n",
       " 'paste brown': 74257,\n",
       " 'brown rice': 15078,\n",
       " 'rice syrup': 85006,\n",
       " 'syrup leavening': 98710,\n",
       " 'soda monocalcium': 92386,\n",
       " 'monocalcium phosphate': 65735,\n",
       " 'phosphate sea': 75392,\n",
       " 'sea salt': 87687,\n",
       " 'cinnamon vitamin': 20523,\n",
       " 'vitamin protect': 109345,\n",
       " 'protect flavorbr': 79900,\n",
       " 'br right': 13854,\n",
       " 'right bat': 85162,\n",
       " 'bat lot': 9179,\n",
       " 'lot le': 60341,\n",
       " 'le ingredient': 56577,\n",
       " 'ingredient obviously': 52506,\n",
       " 'obviously healthier': 69512,\n",
       " 'healthier option': 48454,\n",
       " 'option healthy': 71483,\n",
       " 'healthy manufactured': 48559,\n",
       " 'manufactured sweetened': 62532,\n",
       " 'sweetened cracker': 98415,\n",
       " 'cracker really': 25007,\n",
       " 'really bebr': 82343,\n",
       " 'bebr br': 9527,\n",
       " 'br since': 13888,\n",
       " 'since graham': 90593,\n",
       " 'cracker necessary': 24995,\n",
       " 'necessary requirement': 67308,\n",
       " 'requirement smores': 84205,\n",
       " 'smores better': 92013,\n",
       " 'better choice': 10507,\n",
       " 'choice productbr': 20203,\n",
       " 'productbr br': 79709,\n",
       " 'br thus': 13984,\n",
       " 'thus next': 103095,\n",
       " 'next concern': 67987,\n",
       " 'concern cost': 22809,\n",
       " 'cost hrefhttp': 24321,\n",
       " 'hrefhttp maid': 50708,\n",
       " 'maid original': 61786,\n",
       " 'original graham': 72234,\n",
       " 'graham 144ounce': 45819,\n",
       " '144ounce box': 445,\n",
       " 'box pack': 13065,\n",
       " 'pack 4a': 72954,\n",
       " '4a 040': 1297,\n",
       " '040 per': 10,\n",
       " 'per oz': 74912,\n",
       " 'oz 035': 72847,\n",
       " '035 per': 8,\n",
       " 'oz lower': 72888,\n",
       " 'lower cost': 61222,\n",
       " 'cost huge': 24322,\n",
       " 'huge book': 50757,\n",
       " 'book especially': 12260,\n",
       " 'especially today': 34130,\n",
       " 'today economic': 103755,\n",
       " 'economic time': 32610,\n",
       " 'time need': 103383,\n",
       " 'need careful': 67358,\n",
       " 'careful necessity': 17393,\n",
       " 'necessity wantsbr': 67315,\n",
       " 'wantsbr br': 109875,\n",
       " 'br third': 13977,\n",
       " 'third area': 102522,\n",
       " 'area actual': 6237,\n",
       " 'actual tastebr': 2117,\n",
       " 'tastebr cracker': 99849,\n",
       " 'cracker drier': 24962,\n",
       " 'drier nabiscos': 30894,\n",
       " 'nabiscos honey': 66929,\n",
       " 'honey flavor': 49854,\n",
       " 'flavor much': 39304,\n",
       " 'much stronger': 66575,\n",
       " 'stronger likebr': 96531,\n",
       " 'likebr dissolve': 58540,\n",
       " 'dissolve fast': 29675,\n",
       " 'fast milk': 36813,\n",
       " 'milk soy': 64555,\n",
       " 'soy milkbr': 93535,\n",
       " 'milkbr thinner': 64593,\n",
       " 'thinner nabiscos': 102512,\n",
       " 'nabiscos condensed': 66928,\n",
       " 'condensed better': 22855,\n",
       " 'better making': 10612,\n",
       " 'making wall': 62391,\n",
       " 'wall ginger': 109561,\n",
       " 'ginger bread': 43593,\n",
       " 'bread house': 14432,\n",
       " 'house ginger': 50417,\n",
       " 'bread isnt': 14435,\n",
       " 'isnt availablebr': 53226,\n",
       " 'availablebr true': 7167,\n",
       " 'true graham': 105621,\n",
       " 'cracker graham': 24981,\n",
       " 'graham cookie': 45822,\n",
       " 'cookie brandsbr': 23769,\n",
       " 'brandsbr br': 14383,\n",
       " 'br overallbr': 13750,\n",
       " 'overallbr really': 72659,\n",
       " 'really like': 82478,\n",
       " 'like graham': 57970,\n",
       " 'cracker general': 24976,\n",
       " 'general like': 42714,\n",
       " 'like le': 58067,\n",
       " 'le cost': 56544,\n",
       " 'cost healthier': 24318,\n",
       " 'option yes': 71510,\n",
       " 'yes le': 114321,\n",
       " 'le cookie': 56543,\n",
       " 'cookie cracker': 23772,\n",
       " 'cracker may': 24991,\n",
       " 'may take': 63189,\n",
       " 'take getting': 98944,\n",
       " 'getting use': 43426,\n",
       " 'use others': 107642,\n",
       " 'others good': 72339,\n",
       " 'good flavor': 44959,\n",
       " 'flavor dense': 39100,\n",
       " 'dense id': 27927,\n",
       " 'id buy': 51132,\n",
       " 'best instant': 10270,\n",
       " 'instant period': 52764,\n",
       " 'period cant': 75172,\n",
       " 'cant drink': 17026,\n",
       " 'drink via': 31137,\n",
       " 'via made': 109111,\n",
       " 'made according': 61495,\n",
       " 'according instruction': 1929,\n",
       " 'instruction way': 52920,\n",
       " 'way way': 110696,\n",
       " 'way strong': 110670,\n",
       " 'strong im': 96445,\n",
       " 'im talking': 51586,\n",
       " 'talking seriously': 99151,\n",
       " 'seriously stronger': 88917,\n",
       " 'stronger get': 96527,\n",
       " 'get local': 43091,\n",
       " 'local starbucks': 59592,\n",
       " 'starbucks let': 94699,\n",
       " 'let explain': 57175,\n",
       " 'explain make': 35834,\n",
       " 'make brewed': 61934,\n",
       " 'brewed coffee': 14761,\n",
       " 'coffee freshly': 21369,\n",
       " 'freshly grind': 41736,\n",
       " 'grind bean': 46826,\n",
       " 'bean fine': 9347,\n",
       " 'fine texture': 38404,\n",
       " 'texture using': 101421,\n",
       " 'using two': 108228,\n",
       " 'two three': 106623,\n",
       " 'three tablespoon': 102927,\n",
       " 'tablespoon ground': 98825,\n",
       " 'ground per': 46972,\n",
       " 'per ounce': 74911,\n",
       " 'ounce water': 72497,\n",
       " 'water im': 110272,\n",
       " 'im used': 51604,\n",
       " 'used strong': 107994,\n",
       " 'strong cup': 96416,\n",
       " 'cup coffee': 25820,\n",
       " 'coffee since': 21581,\n",
       " 'since one': 90649,\n",
       " 'one packet': 70834,\n",
       " 'packet via': 73567,\n",
       " 'via make': 109112,\n",
       " 'make even': 61998,\n",
       " 'even large': 34499,\n",
       " 'large mug': 56073,\n",
       " 'mug water': 66689,\n",
       " 'water undrinkablly': 110407,\n",
       " 'undrinkablly strong': 106916,\n",
       " 'strong brew': 96405,\n",
       " 'brew use': 14751,\n",
       " 'use half': 107564,\n",
       " 'half packet': 47507,\n",
       " 'packet problem': 73539,\n",
       " 'problem couple': 78813,\n",
       " 'couple hour': 24730,\n",
       " 'hour later': 50342,\n",
       " 'later leftover': 56327,\n",
       " 'leftover half': 57013,\n",
       " 'half becomes': 47460,\n",
       " 'becomes unusable': 9608,\n",
       " 'unusable blob': 107203,\n",
       " 'blob wont': 11844,\n",
       " 'wont come': 112712,\n",
       " 'come packet': 22109,\n",
       " 'packet great': 73515,\n",
       " 'great loss': 46381,\n",
       " 'loss ive': 60210,\n",
       " 'ive great': 53701,\n",
       " 'great cup': 46242,\n",
       " 'coffee toss': 21642,\n",
       " 'toss half': 104300,\n",
       " 'packet right': 73545,\n",
       " 'right well': 85297,\n",
       " 'well acutally': 111095,\n",
       " 'acutally thats': 2246,\n",
       " 'thats problem': 101639,\n",
       " 'problem im': 78841,\n",
       " 'im clean': 51423,\n",
       " 'clean plate': 20676,\n",
       " 'plate starving': 76177,\n",
       " 'starving kid': 94903,\n",
       " 'kid biafra': 55013,\n",
       " 'biafra generation': 10804,\n",
       " 'generation would': 42757,\n",
       " 'would prefer': 113542,\n",
       " 'prefer smaller': 77693,\n",
       " 'smaller packet': 91608,\n",
       " 'packet smaller': 73547,\n",
       " 'smaller price': 91612,\n",
       " 'price one': 78376,\n",
       " 'one star': 70977,\n",
       " 'star someone': 94638,\n",
       " 'someone taught': 92747,\n",
       " 'taught waste': 100227,\n",
       " 'waste want': 110096,\n",
       " 'want old': 109724,\n",
       " 'old change': 70194,\n",
       " 'would quality': 113553,\n",
       " 'quality product': 81145,\n",
       " 'product werent': 79691,\n",
       " 'werent thin': 111558,\n",
       " 'thin nearly': 102017,\n",
       " 'nearly consistency': 67258,\n",
       " 'consistency soup': 23089,\n",
       " 'soup make': 93345,\n",
       " 'make much': 62094,\n",
       " 'much mess': 66491,\n",
       " 'mess matter': 64038,\n",
       " 'matter careful': 63036,\n",
       " 'careful try': 17404,\n",
       " 'like product': 58258,\n",
       " 'product get': 79293,\n",
       " 'get lot': 43095,\n",
       " 'lot got': 60318,\n",
       " 'got great': 45554,\n",
       " 'great tastebr': 46572,\n",
       " 'tastebr dont': 99850,\n",
       " 'dont feel': 30391,\n",
       " 'feel like': 37465,\n",
       " 'like eating': 57873,\n",
       " 'eating junk': 32463,\n",
       " 'junk foodbr': 54411,\n",
       " 'foodbr br': 40615,\n",
       " 'br recommend': 13833,\n",
       " 'recommend giving': 83098,\n",
       " 'giving try': 43995,\n",
       " 'try work': 106002,\n",
       " 'work good': 112882,\n",
       " 'good trial': 45331,\n",
       " 'trial mix': 105160,\n",
       " 'first tried': 38712,\n",
       " 'tried macaroni': 105356,\n",
       " 'macaroni fantastic': 61409,\n",
       " 'fantastic much': 36588,\n",
       " 'much smoother': 66561,\n",
       " 'smoother tastier': 91977,\n",
       " 'tastier creamier': 99993,\n",
       " 'creamier boxed': 25288,\n",
       " 'boxed macaroni': 13193,\n",
       " 'macaroni cheese': 61407,\n",
       " 'cheese also': 18947,\n",
       " 'also topped': 4252,\n",
       " 'topped popcorn': 104241,\n",
       " 'popcorn good': 76811,\n",
       " 'good may': 45089,\n",
       " 'may try': 63196,\n",
       " 'try making': 105873,\n",
       " 'making homemade': 62339,\n",
       " 'homemade cheese': 49760,\n",
       " 'cheese cracker': 18964,\n",
       " 'cracker nextbr': 24998,\n",
       " 'nextbr br': 68026,\n",
       " 'br highly': 13582,\n",
       " 'highly recommendedbr': 49363,\n",
       " 'recommendedbr br': 83282,\n",
       " 'br edit': 13465,\n",
       " 'edit finally': 32668,\n",
       " 'finally made': 37960,\n",
       " 'made cheese': 61531,\n",
       " 'cracker replaced': 25009,\n",
       " 'replaced bit': 84097,\n",
       " 'bit flour': 11157,\n",
       " 'flour called': 39832,\n",
       " 'called recipe': 16348,\n",
       " 'recipe cheese': 82934,\n",
       " 'cheese powder': 18999,\n",
       " 'powder sorry': 77503,\n",
       " 'sorry rarely': 93221,\n",
       " 'rarely measure': 81731,\n",
       " 'measure thingsjust': 63549,\n",
       " 'thingsjust added': 102265,\n",
       " 'added satisfied': 2520,\n",
       " 'satisfied color': 86697,\n",
       " 'color smell': 21900,\n",
       " 'smell dough': 91707,\n",
       " 'dough turned': 30658,\n",
       " 'turned really': 106342,\n",
       " 'really well': 82587,\n",
       " 'well much': 111256,\n",
       " 'much better': 66336,\n",
       " 'better storebought': 10691,\n",
       " 'storebought cheese': 96131,\n",
       " 'cracker ive': 24986,\n",
       " 'ive since': 53775,\n",
       " 'since made': 90633,\n",
       " 'made hint': 61596,\n",
       " 'hint cayennedeliciousbr': 49421,\n",
       " 'cayennedeliciousbr br': 18130,\n",
       " 'br oh': 13731,\n",
       " 'oh using': 69843,\n",
       " 'using popcorn': 108172,\n",
       " 'popcorn spray': 76854,\n",
       " 'spray popcorn': 94218,\n",
       " 'spray oil': 94217,\n",
       " 'oil cheese': 69892,\n",
       " 'cheese stick': 19014,\n",
       " 'stick reasonably': 95309,\n",
       " 'reasonably well': 82694,\n",
       " 'worst loose': 113227,\n",
       " 'loose tea': 60168,\n",
       " 'tea ever': 100417,\n",
       " 'ever love': 34797,\n",
       " 'love stash': 60902,\n",
       " 'stash teabags': 94936,\n",
       " 'teabags english': 100792,\n",
       " 'english breakfast': 33413,\n",
       " 'breakfast bitter': 14537,\n",
       " 'bitter smoothsave': 11434,\n",
       " 'smoothsave money': 92000,\n",
       " 'seasoning soooooooooooo': 87877,\n",
       " 'soooooooooooo flavorfullbr': 93189,\n",
       " 'flavorfullbr use': 39667,\n",
       " 'use food': 107538,\n",
       " 'food use': 40580,\n",
       " 'use everyday': 107520,\n",
       " 'everyday everything': 34970,\n",
       " 'everything breakfast': 35050,\n",
       " 'breakfast great': 14553,\n",
       " 'great grit': 46322,\n",
       " 'grit hashbrowns': 46854,\n",
       " 'hashbrowns lunch': 48139,\n",
       " 'lunch good': 61344,\n",
       " 'good soup': 45269,\n",
       " 'soup supper': 93382,\n",
       " 'supper sprinkle': 97681,\n",
       " 'sprinkle plate': 94269,\n",
       " 'plate veggie': 76178,\n",
       " 'pet food': 75303,\n",
       " 'food industry': 40335,\n",
       " 'industry one': 52252,\n",
       " 'one infuriating': 70703,\n",
       " 'infuriating start': 52367,\n",
       " 'start research': 94804,\n",
       " 'research discovering': 84254,\n",
       " 'discovering trash': 29492,\n",
       " 'trash manufacturer': 104746,\n",
       " 'manufacturer vet': 62562,\n",
       " 'vet get': 109071,\n",
       " 'get paid': 43144,\n",
       " 'paid manufacturer': 73629,\n",
       " 'manufacturer push': 62553,\n",
       " 'push onto': 80803,\n",
       " 'onto unsuspecting': 71215,\n",
       " 'unsuspecting public': 107192,\n",
       " 'public reference': 80116,\n",
       " 'reference dont': 83438,\n",
       " 'dont ask': 30339,\n",
       " 'ask vet': 6771,\n",
       " 'vet internet': 109073,\n",
       " 'internet research': 53088,\n",
       " 'research site': 84271,\n",
       " 'site like': 90882,\n",
       " 'like example': 57893,\n",
       " 'example youll': 35220,\n",
       " 'youll find': 114536,\n",
       " 'find even': 38077,\n",
       " 'even supposed': 34632,\n",
       " 'supposed highend': 97792,\n",
       " 'highend line': 49296,\n",
       " 'line basically': 58750,\n",
       " 'basically every': 9101,\n",
       " 'every major': 34907,\n",
       " 'major supermarket': 61880,\n",
       " 'supermarket label': 97647,\n",
       " 'label horrible': 55821,\n",
       " 'horrible fuzzy': 50077,\n",
       " 'fuzzy friend': 42396,\n",
       " 'friend people': 41855,\n",
       " 'people trust': 74724,\n",
       " 'trust marketing': 105723,\n",
       " 'marketing trust': 62873,\n",
       " 'trust vet': 105731,\n",
       " 'vet overpay': 109079,\n",
       " 'overpay feed': 72721,\n",
       " 'feed cat': 37316,\n",
       " 'cat food': 17862,\n",
       " 'food full': 40280,\n",
       " 'full carcinogen': 42185,\n",
       " 'carcinogen cheap': 17297,\n",
       " 'cheap ingredient': 18744,\n",
       " 'ingredient inappropriate': 52479,\n",
       " 'inappropriate cat': 51884,\n",
       " 'cat digestive': 17832,\n",
       " 'digestive system': 28989,\n",
       " 'system byproduct': 98752,\n",
       " 'byproduct provide': 16050,\n",
       " 'provide nothing': 80058,\n",
       " 'nothing value': 68852,\n",
       " 'value basically': 108442,\n",
       " 'basically way': 9120,\n",
       " 'way make': 110603,\n",
       " 'make cheap': 61941,\n",
       " 'cheap profit': 18756,\n",
       " 'profit literal': 79749,\n",
       " 'literal garbage': 59018,\n",
       " 'garbage tragedy': 42479,\n",
       " 'tragedy cat': 104645,\n",
       " 'cat end': 17844,\n",
       " 'end shorter': 33262,\n",
       " 'shorter lifespan': 89987,\n",
       " 'lifespan kidney': 57479,\n",
       " 'kidney problem': 55088,\n",
       " 'problem utis': 78938,\n",
       " 'utis cancer': 108395,\n",
       " 'cancer host': 16781,\n",
       " 'host issue': 50134,\n",
       " 'issue could': 53335,\n",
       " 'could avoided': 24432,\n",
       " 'avoided high': 7239,\n",
       " 'high quality': 49270,\n",
       " 'quality foodbr': 81092,\n",
       " 'br agrade': 13289,\n",
       " 'agrade food': 3214,\n",
       " 'food youll': 40612,\n",
       " 'find high': 38110,\n",
       " 'high protein': 49268,\n",
       " 'protein content': 79941,\n",
       " 'content many': 23425,\n",
       " 'many meat': 62676,\n",
       " 'meat meal': 63613,\n",
       " 'meal good': 63377,\n",
       " 'good carbs': 44825,\n",
       " 'carbs oil': 17288,\n",
       " 'oil grain': 69939,\n",
       " 'grain great': 45859,\n",
       " 'great cat': 46200,\n",
       " 'cat omnivore': 17927,\n",
       " 'omnivore carnivore': 70416,\n",
       " 'carnivore simply': 17459,\n",
       " 'simply need': 90477,\n",
       " 'need grain': 67407,\n",
       " 'grain 50': 45827,\n",
       " '50 percent': 1357,\n",
       " 'percent protein': 74952,\n",
       " 'protein among': 79929,\n",
       " 'among highest': 5136,\n",
       " 'highest youll': 49336,\n",
       " 'youll see': 114559,\n",
       " 'see cat': 88038,\n",
       " 'food first': 40265,\n",
       " 'first ingredient': 38624,\n",
       " 'ingredient meatsbr': 52497,\n",
       " 'meatsbr br': 63665,\n",
       " 'br find': 13516,\n",
       " 'find kind': 38127,\n",
       " 'kind junk': 55172,\n",
       " 'junk youll': 54416,\n",
       " 'see thing': 88145,\n",
       " 'thing like': 102150,\n",
       " 'like purina': 58272,\n",
       " 'purina one': 80733,\n",
       " 'one science': 70924,\n",
       " 'science diet': 87559,\n",
       " 'diet byproduct': 28526,\n",
       " 'byproduct aka': 16043,\n",
       " 'aka beak': 3334,\n",
       " 'beak feather': 9300,\n",
       " 'feather bird': 37273,\n",
       " 'bird foot': 11009,\n",
       " 'foot brewer': 40650,\n",
       " 'brewer rice': 14802,\n",
       " 'rice aka': 84938,\n",
       " 'aka waste': 3338,\n",
       " 'waste product': 110089,\n",
       " 'product making': 79427,\n",
       " 'making beer': 62300,\n",
       " 'beer wheat': 9713,\n",
       " 'flour leading': 39846,\n",
       " 'leading cause': 56684,\n",
       " 'cause pet': 18074,\n",
       " 'pet allergy': 75300,\n",
       " 'allergy corn': 3486,\n",
       " 'corn gluten': 24189,\n",
       " 'gluten cheap': 44159,\n",
       " 'cheap waste': 18763,\n",
       " 'waste space': 110092,\n",
       " 'space thing': 93590,\n",
       " 'like liver': 58085,\n",
       " 'liver flavor': 59460,\n",
       " 'flavor dont': 39118,\n",
       " 'dont want': 30522,\n",
       " 'want pay': 109729,\n",
       " 'pay real': 74369,\n",
       " 'real thing': 82276,\n",
       " 'thing didnt': 102079,\n",
       " 'didnt pull': 28473,\n",
       " 'pull ingredient': 80197,\n",
       " 'ingredient air': 52391,\n",
       " 'air reading': 3302,\n",
       " 'reading ingredient': 82141,\n",
       " 'ingredient list': 52489,\n",
       " 'list purina': 58944,\n",
       " 'one patheticbr': 70839,\n",
       " 'patheticbr br': 74297,\n",
       " 'br dont': 13453,\n",
       " 'dont feed': 30390,\n",
       " 'cat trash': 17979,\n",
       " 'trash pay': 104750,\n",
       " 'pay little': 74358,\n",
       " 'little feed': 59166,\n",
       " 'feed good': 37330,\n",
       " 'good food': 44964,\n",
       " 'food theyll': 40554,\n",
       " 'theyll lead': 101815,\n",
       " 'lead longer': 56676,\n",
       " 'longer healthier': 59831,\n",
       " 'healthier satisfied': 48460,\n",
       " 'satisfied life': 86704,\n",
       " 'life result': 57451,\n",
       " 'result worth': 84533,\n",
       " 'convenient dog': 23590,\n",
       " 'dog like': 30062,\n",
       " 'like taste': 58428,\n",
       " 'taste bit': 99334,\n",
       " 'bit expensive': 11149,\n",
       " 'expensive cheap': 35626,\n",
       " 'cheap peanut': 18755,\n",
       " 'peanut butter': 74502,\n",
       " 'butter could': 15504,\n",
       " 'could also': 24430,\n",
       " 'also trick': 4253,\n",
       " 'trick try': 105182,\n",
       " 'try putting': 105918,\n",
       " 'putting kong': 80984,\n",
       " 'kong freezing': 55667,\n",
       " 'freezing make': 41504,\n",
       " 'make last': 62060,\n",
       " 'last even': 56199,\n",
       " 'even longerbr': 34516,\n",
       " 'longerbr br': 59873,\n",
       " 'br julie': 13624,\n",
       " 'julie online': 54372,\n",
       " 'online dog': 71151,\n",
       " 'dog trainer': 30177,\n",
       " 'hot sauce': 50225,\n",
       " 'sauce lover': 86870,\n",
       " 'lover high': 61129,\n",
       " 'high price': 49266,\n",
       " 'price sauce': 78428,\n",
       " 'sauce cost': 86821,\n",
       " 'cost le': 24327,\n",
       " 'le buck': 56530,\n",
       " 'buck 50': 15166,\n",
       " '50 average': 1342,\n",
       " 'average hot': 7183,\n",
       " 'lover received': 61139,\n",
       " 'received gift': 82785,\n",
       " 'gift would': 43562,\n",
       " 'would probably': 113546,\n",
       " 'probably put': 78742,\n",
       " 'put trash': 80959,\n",
       " 'trash gift': 104743,\n",
       " 'gift somebody': 43552,\n",
       " 'somebody hate': 92688,\n",
       " 'hate good': 48184,\n",
       " 'good hot': 45025,\n",
       " 'hoping find': 50037,\n",
       " 'find green': 38101,\n",
       " 'green tea': 46708,\n",
       " 'tea little': 100536,\n",
       " 'little caffeine': 59109,\n",
       " 'caffeine decaffeinated': 16116,\n",
       " 'decaffeinated tea': 27144,\n",
       " 'tea caffeine': 100339,\n",
       " 'caffeine one': 16139,\n",
       " 'one however': 70692,\n",
       " 'however still': 50628,\n",
       " 'still made': 95477,\n",
       " 'made jittery': 61605,\n",
       " 'jittery could': 54149,\n",
       " 'could feel': 24472,\n",
       " 'feel effect': 37440,\n",
       " 'effect immediately': 32700,\n",
       " 'looking healthy': 60081,\n",
       " 'healthy natural': 48564,\n",
       " 'natural food': 67084,\n",
       " 'food eat': 40233,\n",
       " 'eat long': 32152,\n",
       " 'long run': 59764,\n",
       " 'run found': 85857,\n",
       " 'found larabars': 41042,\n",
       " 'larabars tried': 56027,\n",
       " 'tried bar': 105218,\n",
       " 'bar fruity': 8774,\n",
       " 'fruity sugar': 42094,\n",
       " 'sugar crash': 97155,\n",
       " 'crash larabars': 25087,\n",
       " 'larabars cause': 56022,\n",
       " 'cause effect': 18061,\n",
       " 'effect tried': 32723,\n",
       " 'tried many': 105362,\n",
       " 'many flavor': 62636,\n",
       " 'flavor find': 39158,\n",
       " 'find surprisingly': 38250,\n",
       " ...}"
      ]
     },
     "execution_count": 56,
     "metadata": {},
     "output_type": "execute_result"
    }
   ],
   "source": [
    "bigm.vocabulary_"
   ]
  },
  {
   "cell_type": "markdown",
   "id": "4af884f7",
   "metadata": {},
   "source": [
    "# tri gram"
   ]
  },
  {
   "cell_type": "code",
   "execution_count": 57,
   "id": "ab224ad3",
   "metadata": {},
   "outputs": [],
   "source": [
    "trgm=CountVectorizer(ngram_range=(3,3))\n",
    "x_train_trgm = trgm.fit_transform(x_train)\n",
    "x_test_trgm=trgm.transform(x_test)"
   ]
  },
  {
   "cell_type": "code",
   "execution_count": 58,
   "id": "662da019",
   "metadata": {},
   "outputs": [
    {
     "data": {
      "text/plain": [
       "(4000, 147882)"
      ]
     },
     "execution_count": 58,
     "metadata": {},
     "output_type": "execute_result"
    }
   ],
   "source": [
    "x_train_trgm.shape"
   ]
  },
  {
   "cell_type": "markdown",
   "id": "26bca32d",
   "metadata": {},
   "source": [
    "# 4.3 TF-IDF"
   ]
  },
  {
   "cell_type": "code",
   "execution_count": 59,
   "id": "5544d2c0",
   "metadata": {},
   "outputs": [],
   "source": [
    "from sklearn.feature_extraction.text import TfidfVectorizer\n",
    "tf=TfidfVectorizer()"
   ]
  },
  {
   "cell_type": "code",
   "execution_count": 60,
   "id": "07d4f523",
   "metadata": {},
   "outputs": [
    {
     "data": {
      "text/plain": [
       "(4000, 14741)"
      ]
     },
     "execution_count": 60,
     "metadata": {},
     "output_type": "execute_result"
    }
   ],
   "source": [
    "x_train_tf = tf.fit_transform(x_train)\n",
    "x_test_tf =tf.transform(x_test)\n",
    "x_train_tf.shape\n"
   ]
  },
  {
   "cell_type": "code",
   "execution_count": 61,
   "id": "e48497b6",
   "metadata": {},
   "outputs": [
    {
     "data": {
      "text/plain": [
       "{'father': 5108,\n",
       " 'drinking': 4400,\n",
       " 'tea': 13090,\n",
       " 'year': 14619,\n",
       " 'good': 5950,\n",
       " 'especially': 4791,\n",
       " 'men': 8273,\n",
       " 'great': 6068,\n",
       " 'black': 1862,\n",
       " 'must': 8675,\n",
       " 'kitchen': 7404,\n",
       " 'like': 7711,\n",
       " 'box': 2029,\n",
       " 'least': 7612,\n",
       " '40': 428,\n",
       " 'per': 9715,\n",
       " 'dont': 4316,\n",
       " 'buy': 2270,\n",
       " 'overpriced': 9411,\n",
       " 'specialty': 12280,\n",
       " 'cost': 3378,\n",
       " 'buck': 2183,\n",
       " '16': 152,\n",
       " '20': 222,\n",
       " 'bag': 1504,\n",
       " 'said': 11299,\n",
       " 'essential': 4802,\n",
       " 'tetley': 13185,\n",
       " 'classic': 2880,\n",
       " 'british': 2140,\n",
       " 'blend': 1884,\n",
       " 'pg': 9789,\n",
       " 'tip': 13398,\n",
       " 'barrys': 1589,\n",
       " 'gold': 5938,\n",
       " 'may': 8169,\n",
       " 'similar': 11853,\n",
       " 'definitely': 3840,\n",
       " 'strongest': 12638,\n",
       " 'irish': 7099,\n",
       " 'green': 6084,\n",
       " 'even': 4845,\n",
       " 'stronger': 12637,\n",
       " 'generous': 5777,\n",
       " '80': 609,\n",
       " 'count': 3401,\n",
       " 'love': 7892,\n",
       " 'freekeh': 5551,\n",
       " 'expensive': 4951,\n",
       " 'wonder': 14500,\n",
       " 'paid': 9490,\n",
       " 'much': 8631,\n",
       " 'little': 7804,\n",
       " 'however': 6665,\n",
       " 'need': 8776,\n",
       " 'feel': 5154,\n",
       " 'full': 5657,\n",
       " 'thought': 13312,\n",
       " 'easy': 4518,\n",
       " 'cook': 3311,\n",
       " 'direction': 4125,\n",
       " 'could': 3397,\n",
       " 'used': 13949,\n",
       " 'many': 8074,\n",
       " 'different': 4066,\n",
       " 'way': 14278,\n",
       " 'cooked': 3314,\n",
       " 'mine': 8401,\n",
       " 'spicy': 12309,\n",
       " 'shrimp': 11804,\n",
       " 'saute': 11400,\n",
       " 'loved': 7895,\n",
       " 'house': 6656,\n",
       " 'smelled': 12010,\n",
       " 'cooking': 3324,\n",
       " 'texture': 13189,\n",
       " 'sushi': 12873,\n",
       " 'rice': 11101,\n",
       " 'barley': 1582,\n",
       " 'natural': 8739,\n",
       " 'sweet': 12903,\n",
       " 'taste': 13045,\n",
       " 'worth': 14549,\n",
       " 'try': 13670,\n",
       " 'looking': 7863,\n",
       " 'healthier': 6373,\n",
       " 'alternative': 1013,\n",
       " 'person': 9754,\n",
       " 'swiss': 12943,\n",
       " 'miss': 8447,\n",
       " 'hot': 6639,\n",
       " 'cocoa': 2971,\n",
       " 'packet': 9475,\n",
       " 'gas': 5738,\n",
       " 'station': 12486,\n",
       " 'get': 5801,\n",
       " 'product': 10304,\n",
       " 'chocolate': 2779,\n",
       " 'flavor': 5322,\n",
       " 'whatsoever': 14363,\n",
       " 'heated': 6405,\n",
       " 'sugar': 12737,\n",
       " 'water': 14261,\n",
       " 'nasty': 8732,\n",
       " 'strong': 12634,\n",
       " 'fake': 5052,\n",
       " 'perfectly': 9727,\n",
       " 'ok': 9171,\n",
       " 'diet': 4053,\n",
       " 'soda': 12115,\n",
       " 'something': 12166,\n",
       " 'put': 10497,\n",
       " 'finger': 5254,\n",
       " 'made': 7984,\n",
       " 'stomach': 12559,\n",
       " 'curl': 3634,\n",
       " 'waited': 14187,\n",
       " 'cool': 3330,\n",
       " 'got': 5978,\n",
       " 'worse': 14544,\n",
       " 'disapointed': 4136,\n",
       " 'expecting': 4945,\n",
       " 'disappointed': 4144,\n",
       " 'tried': 13628,\n",
       " 'new': 8817,\n",
       " 'keurig': 7365,\n",
       " 'coffee': 2985,\n",
       " 'weak': 14282,\n",
       " 'tasted': 13049,\n",
       " 'bad': 1497,\n",
       " 'diner': 4105,\n",
       " 'starbucks': 12453,\n",
       " 'french': 5566,\n",
       " 'roast': 11161,\n",
       " 'kcup': 7329,\n",
       " 'saved': 11408,\n",
       " 'flavorful': 5327,\n",
       " 'without': 14483,\n",
       " 'bitterness': 1849,\n",
       " 'brew': 2106,\n",
       " '7oz': 606,\n",
       " 'sizebr': 11911,\n",
       " 'br': 2047,\n",
       " 'reference': 10782,\n",
       " 'purpose': 10485,\n",
       " 'store': 12575,\n",
       " 'drink': 4394,\n",
       " 'americanobr': 1063,\n",
       " 'favorite': 5124,\n",
       " 'kcups': 7332,\n",
       " 'arebr': 1263,\n",
       " 'roastbr': 11162,\n",
       " 'caffe': 2302,\n",
       " 'veronabr': 14078,\n",
       " 'pike': 9846,\n",
       " 'place': 9884,\n",
       " 'mountain': 8602,\n",
       " 'xtra': 14603,\n",
       " 'bold': 1948,\n",
       " 'sumatran': 12769,\n",
       " 'reservebr': 10997,\n",
       " 'double': 4334,\n",
       " 'diamondbr': 4037,\n",
       " 'revvbr': 11091,\n",
       " 'dark': 3713,\n",
       " 'magicbr': 7992,\n",
       " 'ive': 7166,\n",
       " 'people': 9695,\n",
       " 'jet': 7234,\n",
       " 'fuel': 5648,\n",
       " 'magic': 7989,\n",
       " 'decaf': 3777,\n",
       " 'emeril': 4649,\n",
       " 'jazzed': 7211,\n",
       " 'verona': 14077,\n",
       " 'tiger': 13365,\n",
       " 'breakfast': 2085,\n",
       " 'sumatra': 12768,\n",
       " 'wolfgang': 14498,\n",
       " 'puck': 10419,\n",
       " 'lake': 7507,\n",
       " 'lodge': 7834,\n",
       " 'caribou': 2457,\n",
       " 'mahogony': 7998,\n",
       " 'kopi': 7447,\n",
       " 'raya': 10646,\n",
       " 'big': 1782,\n",
       " 'came': 2351,\n",
       " 'timely': 13381,\n",
       " 'fashion': 5090,\n",
       " 'price': 10232,\n",
       " 'quantity': 10528,\n",
       " 'received': 10703,\n",
       " 'occasional': 9103,\n",
       " 'constipation': 3244,\n",
       " 'help': 6434,\n",
       " 'body': 1941,\n",
       " 'along': 997,\n",
       " 'irregular': 7103,\n",
       " 'stash': 12477,\n",
       " 'fan': 5071,\n",
       " 'amazon': 1044,\n",
       " 'grocery': 6122,\n",
       " 'terrific': 13175,\n",
       " 'yes': 14642,\n",
       " 'chai': 2598,\n",
       " 'every': 4859,\n",
       " 'day': 3741,\n",
       " 'throughout': 13336,\n",
       " 'winter': 14465,\n",
       " 'regular': 10842,\n",
       " 'tablespoon': 12974,\n",
       " 'two': 13743,\n",
       " 'real': 10668,\n",
       " 'creamits': 3501,\n",
       " 'perfect': 9721,\n",
       " 'chilly': 2748,\n",
       " 'common': 3077,\n",
       " 'graham': 6005,\n",
       " 'cracker': 3450,\n",
       " 'brand': 2058,\n",
       " 'nabisco': 8701,\n",
       " 'thus': 13351,\n",
       " 'first': 5274,\n",
       " 'concern': 3161,\n",
       " 'ingredient': 6960,\n",
       " 'im': 6780,\n",
       " 'putting': 10500,\n",
       " 'bodybr': 1942,\n",
       " 'following': 5426,\n",
       " 'ingredientsbr': 6962,\n",
       " 'enriched': 4736,\n",
       " 'flour': 5377,\n",
       " 'wheat': 14365,\n",
       " 'niacin': 8833,\n",
       " 'reduced': 10769,\n",
       " 'iron': 7100,\n",
       " 'thiamine': 13259,\n",
       " 'mononitrate': 8548,\n",
       " 'vitamin': 14142,\n",
       " 'b1': 1464,\n",
       " 'riboflavin': 11099,\n",
       " 'b2': 1467,\n",
       " 'folic': 5420,\n",
       " 'acid': 741,\n",
       " 'whole': 14409,\n",
       " 'grain': 6007,\n",
       " 'soybean': 12239,\n",
       " 'oil': 9161,\n",
       " 'high': 6496,\n",
       " 'fructose': 5622,\n",
       " 'corn': 3355,\n",
       " 'syrup': 12961,\n",
       " 'partially': 9578,\n",
       " 'hydrogenated': 6723,\n",
       " 'cottonseed': 3391,\n",
       " 'molasses': 8521,\n",
       " 'honey': 6593,\n",
       " 'calcium': 2323,\n",
       " 'carbonate': 2431,\n",
       " 'source': 12221,\n",
       " 'leavening': 7616,\n",
       " 'baking': 1530,\n",
       " 'phosphate': 9802,\n",
       " 'salt': 11326,\n",
       " 'cinnamon': 2858,\n",
       " 'dextrose': 4022,\n",
       " 'flavorbr': 5323,\n",
       " 'one': 9207,\n",
       " 'rolled': 11188,\n",
       " 'oat': 9073,\n",
       " 'evaporated': 4843,\n",
       " 'cane': 2386,\n",
       " 'juice': 7288,\n",
       " 'safflower': 11295,\n",
       " 'raisin': 10589,\n",
       " 'paste': 9604,\n",
       " 'brown': 2158,\n",
       " 'monocalcium': 8546,\n",
       " 'sea': 11510,\n",
       " 'protect': 10376,\n",
       " 'right': 11122,\n",
       " 'bat': 1613,\n",
       " 'lot': 7880,\n",
       " 'le': 7587,\n",
       " 'obviously': 9101,\n",
       " 'option': 9264,\n",
       " 'healthy': 6379,\n",
       " 'manufactured': 8068,\n",
       " 'sweetened': 12908,\n",
       " 'really': 10678,\n",
       " 'bebr': 1661,\n",
       " 'since': 11867,\n",
       " 'necessary': 8770,\n",
       " 'requirement': 10973,\n",
       " 'smores': 12042,\n",
       " 'better': 1762,\n",
       " 'choice': 2798,\n",
       " 'productbr': 10305,\n",
       " 'next': 8830,\n",
       " 'hrefhttp': 6671,\n",
       " 'maid': 7999,\n",
       " 'original': 9315,\n",
       " '144ounce': 125,\n",
       " 'pack': 9461,\n",
       " '4a': 471,\n",
       " '040': 10,\n",
       " 'oz': 9451,\n",
       " '035': 8,\n",
       " 'lower': 7911,\n",
       " 'huge': 6676,\n",
       " 'book': 1971,\n",
       " 'today': 13424,\n",
       " 'economic': 4541,\n",
       " 'time': 13377,\n",
       " 'careful': 2451,\n",
       " 'necessity': 8772,\n",
       " 'wantsbr': 14220,\n",
       " 'third': 13289,\n",
       " 'area': 1260,\n",
       " 'actual': 763,\n",
       " 'tastebr': 13046,\n",
       " 'drier': 4392,\n",
       " 'nabiscos': 8702,\n",
       " 'likebr': 7716,\n",
       " 'dissolve': 4238,\n",
       " 'fast': 5092,\n",
       " 'milk': 8375,\n",
       " 'soy': 12238,\n",
       " 'milkbr': 8379,\n",
       " 'thinner': 13286,\n",
       " 'condensed': 3176,\n",
       " 'making': 8025,\n",
       " 'wall': 14202,\n",
       " 'ginger': 5840,\n",
       " 'bread': 2074,\n",
       " 'isnt': 7120,\n",
       " 'availablebr': 1425,\n",
       " 'true': 13658,\n",
       " 'cookie': 3316,\n",
       " 'brandsbr': 2062,\n",
       " 'overallbr': 9372,\n",
       " 'general': 5771,\n",
       " 'take': 12996,\n",
       " 'getting': 5805,\n",
       " 'use': 13946,\n",
       " 'others': 9333,\n",
       " 'dense': 3907,\n",
       " 'id': 6753,\n",
       " 'best': 1754,\n",
       " 'instant': 7014,\n",
       " 'period': 9741,\n",
       " 'cant': 2400,\n",
       " 'via': 14092,\n",
       " 'according': 725,\n",
       " 'instruction': 7024,\n",
       " 'talking': 13004,\n",
       " 'seriously': 11637,\n",
       " 'local': 7823,\n",
       " 'let': 7658,\n",
       " 'explain': 4970,\n",
       " 'make': 8017,\n",
       " 'brewed': 2108,\n",
       " 'freshly': 5583,\n",
       " 'grind': 6108,\n",
       " 'bean': 1643,\n",
       " 'fine': 5249,\n",
       " 'using': 13964,\n",
       " 'three': 13322,\n",
       " 'ground': 6131,\n",
       " 'ounce': 9341,\n",
       " 'cup': 3615,\n",
       " 'large': 7534,\n",
       " 'mug': 8643,\n",
       " 'undrinkablly': 13814,\n",
       " 'half': 6230,\n",
       " 'problem': 10280,\n",
       " 'couple': 3420,\n",
       " 'hour': 6654,\n",
       " 'later': 7552,\n",
       " 'leftover': 7625,\n",
       " 'becomes': 1669,\n",
       " 'unusable': 13903,\n",
       " 'blob': 1904,\n",
       " 'wont': 14509,\n",
       " 'come': 3057,\n",
       " 'loss': 7878,\n",
       " 'toss': 13504,\n",
       " 'well': 14324,\n",
       " 'acutally': 766,\n",
       " 'thats': 13211,\n",
       " 'clean': 2885,\n",
       " 'plate': 9915,\n",
       " 'starving': 12476,\n",
       " 'kid': 7379,\n",
       " 'biafra': 1778,\n",
       " 'generation': 5775,\n",
       " 'would': 14554,\n",
       " 'prefer': 10156,\n",
       " 'smaller': 11993,\n",
       " 'star': 12450,\n",
       " 'someone': 12165,\n",
       " 'taught': 13075,\n",
       " 'waste': 14251,\n",
       " 'want': 14215,\n",
       " 'old': 9178,\n",
       " 'change': 2617,\n",
       " 'quality': 10523,\n",
       " 'werent': 14341,\n",
       " 'thin': 13270,\n",
       " 'nearly': 8763,\n",
       " 'consistency': 3232,\n",
       " 'soup': 12213,\n",
       " 'mess': 8300,\n",
       " 'matter': 8157,\n",
       " 'eating': 4528,\n",
       " 'junk': 7306,\n",
       " 'foodbr': 5434,\n",
       " 'recommend': 10728,\n",
       " 'giving': 5852,\n",
       " 'work': 14522,\n",
       " 'trial': 13619,\n",
       " 'mix': 8466,\n",
       " 'macaroni': 7973,\n",
       " 'fantastic': 5078,\n",
       " 'smoother': 12033,\n",
       " 'tastier': 13065,\n",
       " 'creamier': 3497,\n",
       " 'boxed': 2033,\n",
       " 'cheese': 2674,\n",
       " 'also': 1007,\n",
       " 'topped': 13485,\n",
       " 'popcorn': 10014,\n",
       " 'homemade': 6579,\n",
       " 'nextbr': 8831,\n",
       " 'highly': 6508,\n",
       " 'recommendedbr': 10732,\n",
       " 'edit': 4558,\n",
       " 'finally': 5242,\n",
       " 'replaced': 10943,\n",
       " 'bit': 1837,\n",
       " 'called': 2336,\n",
       " 'recipe': 10710,\n",
       " 'powder': 10110,\n",
       " 'sorry': 12201,\n",
       " 'rarely': 10622,\n",
       " 'measure': 8204,\n",
       " 'thingsjust': 13277,\n",
       " 'added': 771,\n",
       " 'satisfied': 11378,\n",
       " 'color': 3039,\n",
       " 'smell': 12009,\n",
       " 'dough': 4341,\n",
       " 'turned': 13712,\n",
       " 'storebought': 12576,\n",
       " 'hint': 6535,\n",
       " 'cayennedeliciousbr': 2538,\n",
       " 'oh': 9154,\n",
       " 'spray': 12369,\n",
       " 'stick': 12527,\n",
       " 'reasonably': 10686,\n",
       " 'worst': 14548,\n",
       " 'loose': 7867,\n",
       " 'ever': 4854,\n",
       " 'teabags': 13092,\n",
       " 'english': 4710,\n",
       " 'bitter': 1846,\n",
       " 'smoothsave': 12040,\n",
       " 'money': 8537,\n",
       " 'seasoning': 11527,\n",
       " 'soooooooooooo': 12191,\n",
       " 'flavorfullbr': 5330,\n",
       " 'food': 5433,\n",
       " 'everyday': 4863,\n",
       " 'everything': 4868,\n",
       " 'grit': 6114,\n",
       " 'hashbrowns': 6324,\n",
       " 'lunch': 7942,\n",
       " 'supper': 12818,\n",
       " 'sprinkle': 12376,\n",
       " 'veggie': 14047,\n",
       " 'pet': 9768,\n",
       " 'industry': 6915,\n",
       " 'infuriating': 6948,\n",
       " 'start': 12466,\n",
       " 'research': 10984,\n",
       " 'discovering': 4182,\n",
       " 'trash': 13587,\n",
       " 'manufacturer': 8070,\n",
       " 'vet': 14087,\n",
       " 'push': 10493,\n",
       " 'onto': 9229,\n",
       " 'unsuspecting': 13898,\n",
       " 'public': 10415,\n",
       " 'ask': 1326,\n",
       " 'internet': 7058,\n",
       " 'site': 11900,\n",
       " 'example': 4892,\n",
       " 'youll': 14674,\n",
       " 'find': 5244,\n",
       " 'supposed': 12833,\n",
       " 'highend': 6498,\n",
       " 'line': 7746,\n",
       " 'basically': 1599,\n",
       " 'major': 8014,\n",
       " 'supermarket': 12805,\n",
       " 'label': 7475,\n",
       " 'horrible': 6624,\n",
       " 'fuzzy': 5699,\n",
       " 'friend': 5593,\n",
       " 'trust': 13664,\n",
       " 'marketing': 8099,\n",
       " 'overpay': 9403,\n",
       " 'feed': 5148,\n",
       " 'cat': 2512,\n",
       " 'carcinogen': 2440,\n",
       " 'cheap': 2648,\n",
       " 'inappropriate': 6837,\n",
       " 'digestive': 4087,\n",
       " 'system': 12964,\n",
       " 'byproduct': 2283,\n",
       " 'provide': 10399,\n",
       " 'nothing': 8963,\n",
       " 'value': 14000,\n",
       " 'profit': 10328,\n",
       " 'literal': 7797,\n",
       " 'garbage': 5726,\n",
       " 'tragedy': 13559,\n",
       " 'end': 4676,\n",
       " 'shorter': 11781,\n",
       " 'lifespan': 7696,\n",
       " 'kidney': 7382,\n",
       " 'utis': 13982,\n",
       " 'cancer': 2373,\n",
       " 'host': 6636,\n",
       " 'issue': 7124,\n",
       " 'avoided': 1435,\n",
       " 'agrade': 890,\n",
       " 'protein': 10381,\n",
       " 'content': 3268,\n",
       " 'meat': 8208,\n",
       " 'meal': 8189,\n",
       " 'carbs': 2437,\n",
       " 'omnivore': 9202,\n",
       " 'carnivore': 2472,\n",
       " 'simply': 11866,\n",
       " '50': 490,\n",
       " 'percent': 9716,\n",
       " 'among': 1070,\n",
       " 'highest': 6500,\n",
       " 'see': 11547,\n",
       " 'meatsbr': 8217,\n",
       " 'kind': 7391,\n",
       " 'thing': 13271,\n",
       " 'purina': 10480,\n",
       " 'science': 11466,\n",
       " 'aka': 922,\n",
       " 'beak': 1642,\n",
       " 'feather': 5138,\n",
       " 'bird': 1817,\n",
       " 'foot': 5455,\n",
       " 'brewer': 2109,\n",
       " 'beer': 1685,\n",
       " 'leading': 7592,\n",
       " 'cause': 2524,\n",
       " 'allergy': 972,\n",
       " 'gluten': 5892,\n",
       " 'space': 12247,\n",
       " 'liver': 7809,\n",
       " 'pay': 9632,\n",
       " 'didnt': 4046,\n",
       " 'pull': 10434,\n",
       " 'air': 909,\n",
       " 'reading': 10664,\n",
       " 'list': 7782,\n",
       " 'patheticbr': 9618,\n",
       " 'theyll': 13255,\n",
       " 'lead': 7590,\n",
       " 'longer': 7850,\n",
       " 'life': 7692,\n",
       " 'result': 11043,\n",
       " 'convenient': 3297,\n",
       " 'dog': 4287,\n",
       " 'peanut': 9650,\n",
       " 'butter': 2263,\n",
       " 'trick': 13623,\n",
       " 'kong': 7440,\n",
       " 'freezing': 5562,\n",
       " 'last': 7545,\n",
       " 'longerbr': 7851,\n",
       " 'julie': 7296,\n",
       " 'online': 9223,\n",
       " 'trainer': 13564,\n",
       " 'sauce': 11390,\n",
       " 'lover': 7900,\n",
       " 'average': 1429,\n",
       " 'gift': 5825,\n",
       " 'probably': 10272,\n",
       " 'somebody': 12159,\n",
       " 'hate': 6332,\n",
       " 'hoping': 6616,\n",
       " 'caffeine': 2304,\n",
       " 'decaffeinated': 3780,\n",
       " 'still': 12534,\n",
       " 'jittery': 7242,\n",
       " 'effect': 4566,\n",
       " 'immediately': 6795,\n",
       " 'eat': 4522,\n",
       " 'long': 7847,\n",
       " 'run': 11252,\n",
       " 'found': 5516,\n",
       " 'larabars': 7532,\n",
       " 'bar': 1561,\n",
       " 'fruity': 5635,\n",
       " 'crash': 3472,\n",
       " 'surprisingly': 12860,\n",
       " 'delicious': 3874,\n",
       " 'roll': 11187,\n",
       " 'cashew': 2502,\n",
       " 'apple': 1215,\n",
       " 'pie': 9834,\n",
       " 'gingersnap': 5843,\n",
       " 'far': 5080,\n",
       " 'cherry': 2694,\n",
       " 'snack': 12048,\n",
       " 'sister': 11896,\n",
       " 'flat': 5313,\n",
       " 'belly': 1721,\n",
       " 'prevention': 10224,\n",
       " 'magazine': 7986,\n",
       " 'loosely': 7868,\n",
       " 'based': 1596,\n",
       " 'upon': 13925,\n",
       " 'mediteranean': 8239,\n",
       " 'sp': 12245,\n",
       " 'dietbr': 4056,\n",
       " 'lost': 7879,\n",
       " '1125': 70,\n",
       " 'pound': 10098,\n",
       " 'tlc': 13413,\n",
       " 'helped': 6436,\n",
       " 'mufa': 8640,\n",
       " 'mono': 8544,\n",
       " 'unsaturated': 13887,\n",
       " 'fatty': 5115,\n",
       " 'mufas': 8641,\n",
       " 'calorie': 2344,\n",
       " 'salted': 11329,\n",
       " 'nut': 9023,\n",
       " '12': 83,\n",
       " 'avocado': 1432,\n",
       " 'ghiradelli': 5818,\n",
       " '60': 542,\n",
       " 'cacao': 2295,\n",
       " 'ghiradeli': 5817,\n",
       " 'upset': 13928,\n",
       " 'stomachbr': 12561,\n",
       " 'give': 5848,\n",
       " 'fruit': 5623,\n",
       " 'fill': 5224,\n",
       " '130': 113,\n",
       " 'easier': 4509,\n",
       " 'fit': 5284,\n",
       " 'containing': 3262,\n",
       " 'foodsbr': 5444,\n",
       " 'either': 4598,\n",
       " 'easiest': 4510,\n",
       " 'virtually': 14121,\n",
       " 'pain': 9493,\n",
       " 'freebr': 5548,\n",
       " 'sure': 12842,\n",
       " 'seen': 11565,\n",
       " 'infomercial': 6940,\n",
       " 'say': 11417,\n",
       " 'potato': 10075,\n",
       " 'chip': 2756,\n",
       " 'ice': 6742,\n",
       " 'cream': 3490,\n",
       " 'cocacola': 2963,\n",
       " 'lasagna': 7541,\n",
       " 'etc': 4819,\n",
       " 'within': 14482,\n",
       " 'reason': 10684,\n",
       " 'keep': 7340,\n",
       " 'caloric': 2343,\n",
       " 'intake': 7035,\n",
       " '1600': 154,\n",
       " 'lose': 7874,\n",
       " 'weight': 14313,\n",
       " 'crazy': 3487,\n",
       " 'sounding': 12212,\n",
       " 'fat': 5100,\n",
       " 'mealsbr': 8191,\n",
       " '299': 318,\n",
       " 'kindle': 7393,\n",
       " 'version': 14083,\n",
       " 'pocket': 9963,\n",
       " 'guide': 6163,\n",
       " 'shed': 11699,\n",
       " 'izzes': 7168,\n",
       " 'pop': 10011,\n",
       " 'drinker': 4397,\n",
       " 'corbination': 3348,\n",
       " 'earl': 4497,\n",
       " 'grey': 6096,\n",
       " 'bergamot': 1739,\n",
       " 'past': 9600,\n",
       " 'difficult': 4076,\n",
       " 'finding': 5246,\n",
       " 'grocercy': 6119,\n",
       " 'shop': 11767,\n",
       " 'dollar': 4302,\n",
       " 'herebr': 6459,\n",
       " 'hom': 6574,\n",
       " 'go': 5919,\n",
       " 'wrong': 14583,\n",
       " 'switched': 12946,\n",
       " 'totw': 13519,\n",
       " 'mate': 8153,\n",
       " 'fm': 5405,\n",
       " 'increased': 6871,\n",
       " 'decreased': 3811,\n",
       " 'size': 11910,\n",
       " 'needed': 8777,\n",
       " 'comparable': 3090,\n",
       " 'free': 5545,\n",
       " 'beagle': 1641,\n",
       " 'severe': 11661,\n",
       " 'imho': 6790,\n",
       " 'mentioned': 8282,\n",
       " 'noticed': 8970,\n",
       " 'energy': 4693,\n",
       " 'fact': 5030,\n",
       " 'poundsbr': 10102,\n",
       " 'started': 12467,\n",
       " 'plott': 9947,\n",
       " 'hound': 6653,\n",
       " 'week': 14302,\n",
       " 'trouble': 13651,\n",
       " 'health': 6367,\n",
       " 'liter': 7796,\n",
       " 'breed': 2101,\n",
       " 'puppy': 10459,\n",
       " 'formulabr': 5494,\n",
       " 'switch': 12945,\n",
       " 'back': 1481,\n",
       " 'forth': 5500,\n",
       " 'prairie': 10128,\n",
       " 'wetland': 14351,\n",
       " 'formula': 5493,\n",
       " 'burnoutbr': 2242,\n",
       " 'canned': 2395,\n",
       " 'variety': 14019,\n",
       " 'though': 13309,\n",
       " 'yet': 14646,\n",
       " 'incredible': 6875,\n",
       " 'close': 2918,\n",
       " 'movie': 8620,\n",
       " 'theatre': 13216,\n",
       " 'downfall': 4351,\n",
       " 'isi': 7115,\n",
       " 'stop': 12569,\n",
       " 'open': 9238,\n",
       " 'pour': 10105,\n",
       " 'machine': 7976,\n",
       " 'wait': 14185,\n",
       " 'finish': 5259,\n",
       " 'popingthen': 10019,\n",
       " 'batch': 1614,\n",
       " 'fancy': 5075,\n",
       " 'feast': 5136,\n",
       " 'appetizer': 1213,\n",
       " 'treat': 13597,\n",
       " 'look': 7859,\n",
       " 'easily': 4511,\n",
       " 'hand': 6250,\n",
       " 'hope': 6611,\n",
       " 'continues': 3275,\n",
       " 'bought': 2013,\n",
       " 'october': 9119,\n",
       " '2007': 228,\n",
       " 'liked': 7718,\n",
       " 'smooth': 12032,\n",
       " 'coconut': 2976,\n",
       " 'creme': 3520,\n",
       " 'doesnt': 4286,\n",
       " 'always': 1028,\n",
       " 'seem': 11558,\n",
       " 'stock': 12553,\n",
       " 'andor': 1098,\n",
       " 'low': 7904,\n",
       " 'check': 2660,\n",
       " 'often': 9152,\n",
       " 'excellent': 4899,\n",
       " 'surprised': 12856,\n",
       " 'amaretto': 1033,\n",
       " 'itbr': 7136,\n",
       " 'strange': 12597,\n",
       " 'threw': 13328,\n",
       " 'away': 1446,\n",
       " 'setting': 11651,\n",
       " 'shelf': 11705,\n",
       " 'knowing': 7424,\n",
       " 'wine': 14454,\n",
       " 'tasty': 13070,\n",
       " 'dessert': 3975,\n",
       " 'cheesecake': 2677,\n",
       " 'glutenfree': 5897,\n",
       " 'ten': 13146,\n",
       " 'yearsand': 14625,\n",
       " 'glutino': 5903,\n",
       " 'vanilla': 14007,\n",
       " 'dream': 4383,\n",
       " 'cooky': 3329,\n",
       " 'filled': 5225,\n",
       " 'cookiesyou': 3323,\n",
       " 'available': 1424,\n",
       " 'return': 11064,\n",
       " 'purchase': 10462,\n",
       " 'anytime': 1178,\n",
       " 'becoming': 1670,\n",
       " 'harder': 6293,\n",
       " 'diamond': 4036,\n",
       " 'going': 5934,\n",
       " 'morning': 8580,\n",
       " 'truly': 13662,\n",
       " 'office': 9144,\n",
       " 'enjoy': 4720,\n",
       " 'around': 1285,\n",
       " 'loyal': 7922,\n",
       " 'purchaser': 10465,\n",
       " 'offered': 9139,\n",
       " 'subscribe': 12680,\n",
       " 'save': 11405,\n",
       " 'program': 10331,\n",
       " 'ityoull': 7163,\n",
       " 'fairly': 5045,\n",
       " 'standard': 12441,\n",
       " 'style': 12668,\n",
       " 'christmas': 2829,\n",
       " 'cake': 2314,\n",
       " 'although': 1019,\n",
       " 'honest': 6590,\n",
       " 'dry': 4429,\n",
       " 'given': 5850,\n",
       " 'acceptable': 709,\n",
       " 'certainly': 2586,\n",
       " 'outstanding': 9362,\n",
       " 'decided': 3795,\n",
       " 'warehouse': 14222,\n",
       " 'special': 12277,\n",
       " 'review': 11078,\n",
       " 'decadent': 3776,\n",
       " 'delight': 3880,\n",
       " 'besides': 1752,\n",
       " 'organic': 9297,\n",
       " 'eaten': 4524,\n",
       " 'plan': 9900,\n",
       " 'buying': 2274,\n",
       " 'holiday': 6567,\n",
       " 'ordered': 9281,\n",
       " 'thenwell': 13232,\n",
       " 'think': 13282,\n",
       " 'lievito': 7691,\n",
       " 'vanigliato': 14006,\n",
       " 'bertolini': 1750,\n",
       " 'contains': 3264,\n",
       " 'baked': 1526,\n",
       " 'pill': 9849,\n",
       " 'dosent': 4332,\n",
       " 'know': 7422,\n",
       " 'beg': 1694,\n",
       " 'fot': 5514,\n",
       " 'gone': 5946,\n",
       " 'usually': 13970,\n",
       " 'purchasing': 10466,\n",
       " 'deal': 3758,\n",
       " 'expire': 4966,\n",
       " 'month': 8554,\n",
       " 'opened': 9240,\n",
       " 'okay': 9173,\n",
       " 'overal': 9370,\n",
       " 'second': 11534,\n",
       " 'weve': 14352,\n",
       " 'beat': 1652,\n",
       " 'beef': 1680,\n",
       " 'jerky': 7229,\n",
       " 'visting': 14131,\n",
       " 'farmer': 5086,\n",
       " 'market': 8095,\n",
       " 'pa': 9456,\n",
       " 'hard': 6289,\n",
       " 'loverssize': 7901,\n",
       " 'rightnot': 11125,\n",
       " 'occasion': 9102,\n",
       " 'packagaing': 9463,\n",
       " 'bow': 2023,\n",
       " 'stayed': 12493,\n",
       " 'intactit': 7034,\n",
       " 'wasnt': 14250,\n",
       " 'arrived': 1292,\n",
       " 'vinegar': 14111,\n",
       " 'tangy': 13019,\n",
       " 'airpopped': 913,\n",
       " 'ton': 13456,\n",
       " 'craving': 3482,\n",
       " '110': 65,\n",
       " 'salty': 11336,\n",
       " 'lowcal': 7906,\n",
       " 'originally': 9317,\n",
       " 'sheltie': 11713,\n",
       " 'visiting': 14129,\n",
       " 'son': 12177,\n",
       " 'shelties': 11714,\n",
       " 'cute': 3650,\n",
       " 'lining': 7759,\n",
       " 'sitting': 11904,\n",
       " 'quiet': 10554,\n",
       " 'course': 3428,\n",
       " 'service': 11642,\n",
       " 'shipping': 11751,\n",
       " 'anybody': 1164,\n",
       " 'else': 4630,\n",
       " 'teryaki': 13179,\n",
       " 'flavored': 5325,\n",
       " 'mega': 8248,\n",
       " 'yuck': 14691,\n",
       " 'crunchy': 3583,\n",
       " 'expires': 4968,\n",
       " '2013': 241,\n",
       " 'refund': 10813,\n",
       " 'purchace': 10461,\n",
       " 'sell': 11582,\n",
       " 'intention': 7045,\n",
       " 'hurt': 6706,\n",
       " 'anybodys': 1165,\n",
       " 'sale': 11312,\n",
       " 'package': 9464,\n",
       " 'saying': 11421,\n",
       " 'treated': 13599,\n",
       " 'radiationbr': 10574,\n",
       " 'rather': 10631,\n",
       " 'againbr': 865,\n",
       " 'irradiated': 7102,\n",
       " 'quite': 10560,\n",
       " 'nice': 8840,\n",
       " 'china': 2751,\n",
       " 'control': 3292,\n",
       " 'proven': 10398,\n",
       " 'otherwise': 9336,\n",
       " 'effort': 4578,\n",
       " 'inform': 6942,\n",
       " 'customersbr': 3646,\n",
       " 'producing': 10303,\n",
       " 'company': 3086,\n",
       " 'nuclear': 9004,\n",
       " 'radiation': 10573,\n",
       " 'steam': 12500,\n",
       " 'freeze': 5557,\n",
       " 'nuke': 9010,\n",
       " 'leave': 7615,\n",
       " 'restaurant': 11028,\n",
       " 'consider': 3221,\n",
       " 'safe': 11288,\n",
       " 'youbr': 14668,\n",
       " 'advertised': 830,\n",
       " 'exactly': 4888,\n",
       " 'sneaky': 12073,\n",
       " 'print': 10262,\n",
       " 'backbr': 1483,\n",
       " 'offer': 9138,\n",
       " 'nonirradiated': 8911,\n",
       " 'reconsider': 10739,\n",
       " 'appreciate': 1227,\n",
       " 'positive': 10052,\n",
       " 'feedback': 5149,\n",
       " 'thanks': 13202,\n",
       " 'litter': 7802,\n",
       " 'multicat': 8647,\n",
       " 'basement': 1597,\n",
       " 'bathroom': 1620,\n",
       " 'door': 4318,\n",
       " 'closed': 2920,\n",
       " 'flap': 5305,\n",
       " 'access': 713,\n",
       " 'scoop': 11473,\n",
       " 'never': 8815,\n",
       " 'odor': 9127,\n",
       " 'bug': 2197,\n",
       " 'lb': 7581,\n",
       " 'poundforpound': 10100,\n",
       " 'absorbs': 691,\n",
       " 'liquid': 7774,\n",
       " 'clay': 2884,\n",
       " 'difference': 4064,\n",
       " 'disappears': 4140,\n",
       " 'flushable': 5399,\n",
       " 'youre': 14679,\n",
       " 'dealing': 3761,\n",
       " 'wastebasket': 14252,\n",
       " ...}"
      ]
     },
     "execution_count": 61,
     "metadata": {},
     "output_type": "execute_result"
    }
   ],
   "source": [
    "tf.vocabulary_"
   ]
  },
  {
   "cell_type": "markdown",
   "id": "761cc862",
   "metadata": {},
   "source": [
    "# 4.4 WROD3VEC"
   ]
  },
  {
   "cell_type": "code",
   "execution_count": 62,
   "id": "4af915a5",
   "metadata": {},
   "outputs": [],
   "source": [
    "#import gensim\n",
    "#from gensim.models import Word2Vec,KeyedVectors"
   ]
  },
  {
   "cell_type": "markdown",
   "id": "ed45d1b7",
   "metadata": {},
   "source": [
    "# 5 . Modeling"
   ]
  },
  {
   "cell_type": "code",
   "execution_count": 63,
   "id": "bf7f5afb",
   "metadata": {},
   "outputs": [],
   "source": [
    "from sklearn.metrics import *"
   ]
  },
  {
   "cell_type": "markdown",
   "id": "c8925226",
   "metadata": {},
   "source": [
    "# BASE MODELS"
   ]
  },
  {
   "cell_type": "markdown",
   "id": "c84ef330",
   "metadata": {},
   "source": [
    "# 5.1  Logistic Regression"
   ]
  },
  {
   "cell_type": "code",
   "execution_count": 64,
   "id": "3b91ab9e",
   "metadata": {},
   "outputs": [],
   "source": [
    "from sklearn.linear_model import LogisticRegression\n"
   ]
  },
  {
   "cell_type": "code",
   "execution_count": 65,
   "id": "927dc4dc",
   "metadata": {},
   "outputs": [],
   "source": [
    "lg=LogisticRegression(multi_class='multinomial')"
   ]
  },
  {
   "cell_type": "code",
   "execution_count": 66,
   "id": "f6470c84",
   "metadata": {},
   "outputs": [],
   "source": [
    "import warnings\n",
    "warnings.filterwarnings('ignore')"
   ]
  },
  {
   "cell_type": "code",
   "execution_count": 67,
   "id": "284f3d15",
   "metadata": {},
   "outputs": [
    {
     "data": {
      "text/plain": [
       "0.66"
      ]
     },
     "execution_count": 67,
     "metadata": {},
     "output_type": "execute_result"
    }
   ],
   "source": [
    "model_bow = lg.fit(x_train_bow,y_train)\n",
    "predict_bow=model_bow.predict(x_test_bow)\n",
    "accuracy_score(y_test,predict_bow)"
   ]
  },
  {
   "cell_type": "code",
   "execution_count": 68,
   "id": "0b8fd344",
   "metadata": {},
   "outputs": [
    {
     "data": {
      "text/plain": [
       "0.662"
      ]
     },
     "execution_count": 68,
     "metadata": {},
     "output_type": "execute_result"
    }
   ],
   "source": [
    "model_bgm = lg.fit(x_train_bgm,y_train)\n",
    "predict_bgm=model_bgm.predict(x_test_bgm)\n",
    "accuracy_score(y_test,predict_bgm)"
   ]
  },
  {
   "cell_type": "code",
   "execution_count": 69,
   "id": "700e50af",
   "metadata": {},
   "outputs": [
    {
     "data": {
      "text/plain": [
       "0.657"
      ]
     },
     "execution_count": 69,
     "metadata": {},
     "output_type": "execute_result"
    }
   ],
   "source": [
    "model_tgm=lg.fit(x_train_trgm,y_train)\n",
    "predict_tgm=model_tgm.predict(x_test_trgm)\n",
    "accuracy_score(y_test,predict_tgm)"
   ]
  },
  {
   "cell_type": "code",
   "execution_count": 70,
   "id": "acfbbd61",
   "metadata": {},
   "outputs": [
    {
     "data": {
      "text/plain": [
       "0.68"
      ]
     },
     "execution_count": 70,
     "metadata": {},
     "output_type": "execute_result"
    }
   ],
   "source": [
    "model_tf=lg.fit(x_train_tf,y_train)\n",
    "predict_tf=model_tf.predict(x_test_tf)\n",
    "accuracy_score(y_test,predict_tf)"
   ]
  },
  {
   "cell_type": "code",
   "execution_count": 71,
   "id": "71e76584",
   "metadata": {},
   "outputs": [],
   "source": [
    "#f=pd.DataFrame({'test':y_test,'predict':predict_tf})\n",
    "#f.sample(10)\n"
   ]
  },
  {
   "cell_type": "code",
   "execution_count": 72,
   "id": "c0e97a67",
   "metadata": {},
   "outputs": [
    {
     "data": {
      "text/plain": [
       "array([[ 19,   0,   0,   5,  76],\n",
       "       [  3,   0,   0,   2,  32],\n",
       "       [  2,   0,   0,  10,  65],\n",
       "       [  1,   0,   0,  17, 116],\n",
       "       [  2,   0,   0,   6, 644]], dtype=int64)"
      ]
     },
     "execution_count": 72,
     "metadata": {},
     "output_type": "execute_result"
    }
   ],
   "source": [
    "#confusion matrix for tf_idf since it is showing the highest accuracy in LGR model\n",
    "confusion_matrix(y_test,predict_tf)"
   ]
  },
  {
   "cell_type": "code",
   "execution_count": 73,
   "id": "5ad3c67a",
   "metadata": {},
   "outputs": [
    {
     "name": "stdout",
     "output_type": "stream",
     "text": [
      "              precision    recall  f1-score   support\n",
      "\n",
      "           1       0.70      0.19      0.30       100\n",
      "           2       0.00      0.00      0.00        37\n",
      "           3       0.00      0.00      0.00        77\n",
      "           4       0.42      0.13      0.20       134\n",
      "           5       0.69      0.99      0.81       652\n",
      "\n",
      "    accuracy                           0.68      1000\n",
      "   macro avg       0.36      0.26      0.26      1000\n",
      "weighted avg       0.58      0.68      0.59      1000\n",
      "\n"
     ]
    }
   ],
   "source": [
    "print(classification_report(y_test,predict_tf))"
   ]
  },
  {
   "cell_type": "markdown",
   "id": "229f62cd",
   "metadata": {},
   "source": [
    "# 5 .2MNB"
   ]
  },
  {
   "cell_type": "code",
   "execution_count": 74,
   "id": "09e23497",
   "metadata": {},
   "outputs": [],
   "source": [
    "from sklearn.naive_bayes import MultinomialNB\n",
    "mnb=MultinomialNB()"
   ]
  },
  {
   "cell_type": "code",
   "execution_count": 75,
   "id": "9b403029",
   "metadata": {},
   "outputs": [
    {
     "data": {
      "text/plain": [
       "0.663"
      ]
     },
     "execution_count": 75,
     "metadata": {},
     "output_type": "execute_result"
    }
   ],
   "source": [
    "model_bow = mnb.fit(x_train_bow,y_train)\n",
    "predict_bow= model_bow.predict(x_test_bow)\n",
    "accuracy_score(y_test,predict_bow)"
   ]
  },
  {
   "cell_type": "code",
   "execution_count": 76,
   "id": "09841b74",
   "metadata": {},
   "outputs": [],
   "source": [
    "#predict_bow\n",
    "#check overfitting of model"
   ]
  },
  {
   "cell_type": "code",
   "execution_count": 77,
   "id": "253b9609",
   "metadata": {},
   "outputs": [
    {
     "data": {
      "text/plain": [
       "0.656"
      ]
     },
     "execution_count": 77,
     "metadata": {},
     "output_type": "execute_result"
    }
   ],
   "source": [
    "model_bgm = mnb.fit(x_train_bgm,y_train)\n",
    "predict_bgm= model_bgm.predict(x_test_bgm)\n",
    "accuracy_score(y_test,predict_bgm)"
   ]
  },
  {
   "cell_type": "code",
   "execution_count": 78,
   "id": "c1dcd56d",
   "metadata": {},
   "outputs": [
    {
     "data": {
      "text/plain": [
       "0.657"
      ]
     },
     "execution_count": 78,
     "metadata": {},
     "output_type": "execute_result"
    }
   ],
   "source": [
    "model_tgm = mnb.fit(x_train_trgm,y_train)\n",
    "predict_tgm= model_tgm.predict(x_test_trgm)\n",
    "accuracy_score(y_test,predict_tgm)"
   ]
  },
  {
   "cell_type": "code",
   "execution_count": 79,
   "id": "3bc90e19",
   "metadata": {},
   "outputs": [
    {
     "data": {
      "text/plain": [
       "0.652"
      ]
     },
     "execution_count": 79,
     "metadata": {},
     "output_type": "execute_result"
    }
   ],
   "source": [
    "model_tf = mnb.fit(x_train_tf,y_train)\n",
    "predict_tf= model_tf.predict(x_test_tf)\n",
    "accuracy_score(y_test,predict_tf)"
   ]
  },
  {
   "cell_type": "code",
   "execution_count": 80,
   "id": "d2281d66",
   "metadata": {},
   "outputs": [
    {
     "data": {
      "text/plain": [
       "array([[ 13,   0,   0,   9,  78],\n",
       "       [  2,   0,   0,   1,  34],\n",
       "       [  1,   0,   0,  10,  66],\n",
       "       [  1,   0,   1,   8, 124],\n",
       "       [  2,   0,   0,   8, 642]], dtype=int64)"
      ]
     },
     "execution_count": 80,
     "metadata": {},
     "output_type": "execute_result"
    }
   ],
   "source": [
    "#predict_tf\n",
    "#overfit model\n",
    "confusion_matrix(y_test,predict_bow)\n",
    "#predicted ---\n",
    "#actual| "
   ]
  },
  {
   "cell_type": "code",
   "execution_count": 81,
   "id": "ae7466c4",
   "metadata": {},
   "outputs": [
    {
     "name": "stdout",
     "output_type": "stream",
     "text": [
      "              precision    recall  f1-score   support\n",
      "\n",
      "           1       0.68      0.13      0.22       100\n",
      "           2       0.00      0.00      0.00        37\n",
      "           3       0.00      0.00      0.00        77\n",
      "           4       0.22      0.06      0.09       134\n",
      "           5       0.68      0.98      0.80       652\n",
      "\n",
      "    accuracy                           0.66      1000\n",
      "   macro avg       0.32      0.23      0.22      1000\n",
      "weighted avg       0.54      0.66      0.56      1000\n",
      "\n"
     ]
    }
   ],
   "source": [
    "print(classification_report(y_test,predict_bow))"
   ]
  },
  {
   "cell_type": "markdown",
   "id": "f27f831b",
   "metadata": {},
   "source": [
    "# 5.3 RANDOM FOREST"
   ]
  },
  {
   "cell_type": "code",
   "execution_count": 82,
   "id": "4264429d",
   "metadata": {},
   "outputs": [],
   "source": [
    "from sklearn.ensemble import RandomForestClassifier\n",
    "rf=RandomForestClassifier()"
   ]
  },
  {
   "cell_type": "code",
   "execution_count": 83,
   "id": "dbeaa6ad",
   "metadata": {},
   "outputs": [
    {
     "data": {
      "text/plain": [
       "0.671"
      ]
     },
     "execution_count": 83,
     "metadata": {},
     "output_type": "execute_result"
    }
   ],
   "source": [
    "model_bow=rf.fit(x_train_bow,y_train)\n",
    "predict_bow = rf.predict(x_test_bow)\n",
    "accuracy_score(y_test,predict_bow)"
   ]
  },
  {
   "cell_type": "code",
   "execution_count": 84,
   "id": "441c8d49",
   "metadata": {},
   "outputs": [
    {
     "data": {
      "text/plain": [
       "0.67"
      ]
     },
     "execution_count": 84,
     "metadata": {},
     "output_type": "execute_result"
    }
   ],
   "source": [
    "model_bgm=rf.fit(x_train_bgm,y_train)\n",
    "predict_bgm = rf.predict(x_test_bgm)\n",
    "accuracy_score(y_test,predict_bgm)"
   ]
  },
  {
   "cell_type": "code",
   "execution_count": 85,
   "id": "f4665e56",
   "metadata": {},
   "outputs": [
    {
     "data": {
      "text/plain": [
       "0.657"
      ]
     },
     "execution_count": 85,
     "metadata": {},
     "output_type": "execute_result"
    }
   ],
   "source": [
    "model_tgm=rf.fit(x_train_trgm,y_train)\n",
    "predict_tgm = rf.predict(x_test_trgm)\n",
    "accuracy_score(y_test,predict_tgm)"
   ]
  },
  {
   "cell_type": "code",
   "execution_count": 86,
   "id": "f75084ca",
   "metadata": {},
   "outputs": [
    {
     "data": {
      "text/plain": [
       "0.668"
      ]
     },
     "execution_count": 86,
     "metadata": {},
     "output_type": "execute_result"
    }
   ],
   "source": [
    "model_tf=rf.fit(x_train_tf,y_train)\n",
    "predict_tf = rf.predict(x_test_tf)\n",
    "accuracy_score(y_test,predict_tf)"
   ]
  },
  {
   "cell_type": "code",
   "execution_count": 87,
   "id": "e9fa51b5",
   "metadata": {},
   "outputs": [
    {
     "data": {
      "text/plain": [
       "array([[ 15,   0,   0,   0,  85],\n",
       "       [  1,   0,   0,   0,  36],\n",
       "       [  1,   0,   3,   2,  71],\n",
       "       [  2,   0,   0,   2, 130],\n",
       "       [  0,   0,   0,   1, 651]], dtype=int64)"
      ]
     },
     "execution_count": 87,
     "metadata": {},
     "output_type": "execute_result"
    }
   ],
   "source": [
    "confusion_matrix(y_test,predict_bow)"
   ]
  },
  {
   "cell_type": "code",
   "execution_count": 88,
   "id": "f56dc85e",
   "metadata": {},
   "outputs": [
    {
     "name": "stdout",
     "output_type": "stream",
     "text": [
      "              precision    recall  f1-score   support\n",
      "\n",
      "           1       0.79      0.15      0.25       100\n",
      "           2       0.00      0.00      0.00        37\n",
      "           3       1.00      0.04      0.08        77\n",
      "           4       0.40      0.01      0.03       134\n",
      "           5       0.67      1.00      0.80       652\n",
      "\n",
      "    accuracy                           0.67      1000\n",
      "   macro avg       0.57      0.24      0.23      1000\n",
      "weighted avg       0.65      0.67      0.56      1000\n",
      "\n"
     ]
    }
   ],
   "source": [
    "print(classification_report(y_test,predict_bow))"
   ]
  },
  {
   "cell_type": "markdown",
   "id": "666c1b6c",
   "metadata": {},
   "source": [
    "# 5.4 SVC"
   ]
  },
  {
   "cell_type": "code",
   "execution_count": 89,
   "id": "3d14b10c",
   "metadata": {},
   "outputs": [],
   "source": [
    "from sklearn.svm import SVC\n",
    "svc=SVC()"
   ]
  },
  {
   "cell_type": "code",
   "execution_count": 90,
   "id": "a07fa701",
   "metadata": {},
   "outputs": [
    {
     "data": {
      "text/plain": [
       "0.662"
      ]
     },
     "execution_count": 90,
     "metadata": {},
     "output_type": "execute_result"
    }
   ],
   "source": [
    "model_bow=svc.fit(x_train_bow,y_train)\n",
    "predict_bow=svc.predict(x_test_bow)\n",
    "accuracy_score(y_test,predict_bow)"
   ]
  },
  {
   "cell_type": "code",
   "execution_count": 91,
   "id": "25f10cf0",
   "metadata": {},
   "outputs": [
    {
     "data": {
      "text/plain": [
       "0.653"
      ]
     },
     "execution_count": 91,
     "metadata": {},
     "output_type": "execute_result"
    }
   ],
   "source": [
    "model_bgm=svc.fit(x_train_bgm,y_train)\n",
    "predict_bgm=svc.predict(x_test_bgm)\n",
    "accuracy_score(y_test,predict_bgm)"
   ]
  },
  {
   "cell_type": "code",
   "execution_count": 92,
   "id": "f4fcc459",
   "metadata": {},
   "outputs": [
    {
     "data": {
      "text/plain": [
       "0.653"
      ]
     },
     "execution_count": 92,
     "metadata": {},
     "output_type": "execute_result"
    }
   ],
   "source": [
    "model_tgm=svc.fit(x_train_trgm,y_train)\n",
    "predict_tgm=svc.predict(x_test_trgm)\n",
    "accuracy_score(y_test,predict_tgm)"
   ]
  },
  {
   "cell_type": "code",
   "execution_count": 93,
   "id": "aa94fd21",
   "metadata": {},
   "outputs": [
    {
     "data": {
      "text/plain": [
       "0.661"
      ]
     },
     "execution_count": 93,
     "metadata": {},
     "output_type": "execute_result"
    }
   ],
   "source": [
    "model_tf=svc.fit(x_train_tf,y_train)\n",
    "predict_tf=svc.predict(x_test_tf)\n",
    "accuracy_score(y_test,predict_tf)"
   ]
  },
  {
   "cell_type": "code",
   "execution_count": 94,
   "id": "04b1b039",
   "metadata": {},
   "outputs": [
    {
     "data": {
      "text/plain": [
       "array([[  5,   1,   1,   0,   1],\n",
       "       [  0,   0,   0,   0,   0],\n",
       "       [  0,   0,   2,   0,   0],\n",
       "       [  0,   0,   0,   3,   0],\n",
       "       [ 95,  36,  74, 131, 651]], dtype=int64)"
      ]
     },
     "execution_count": 94,
     "metadata": {},
     "output_type": "execute_result"
    }
   ],
   "source": [
    "confusion_matrix(predict_tf,y_test)"
   ]
  },
  {
   "cell_type": "code",
   "execution_count": 95,
   "id": "e2330f04",
   "metadata": {},
   "outputs": [
    {
     "name": "stdout",
     "output_type": "stream",
     "text": [
      "              precision    recall  f1-score   support\n",
      "\n",
      "           1       0.05      0.62      0.09         8\n",
      "           2       0.00      0.00      0.00         0\n",
      "           3       0.03      1.00      0.05         2\n",
      "           4       0.02      1.00      0.04         3\n",
      "           5       1.00      0.66      0.79       987\n",
      "\n",
      "    accuracy                           0.66      1000\n",
      "   macro avg       0.22      0.66      0.20      1000\n",
      "weighted avg       0.99      0.66      0.79      1000\n",
      "\n"
     ]
    }
   ],
   "source": [
    "print(classification_report(predict_tf,y_test))"
   ]
  },
  {
   "cell_type": "markdown",
   "id": "565cf144",
   "metadata": {},
   "source": [
    "AMONG ALL THE BASELINE MODELS SVC IN TF-IDF PERFORM BEST HAVING ACCURACY OF 66% AND WEIGHTED AVG F1-SCORE OF 0.79"
   ]
  },
  {
   "cell_type": "code",
   "execution_count": 96,
   "id": "5e40fde6",
   "metadata": {},
   "outputs": [],
   "source": [
    "from sklearn.model_selection import cross_val_score"
   ]
  },
  {
   "cell_type": "code",
   "execution_count": 97,
   "id": "796fd5fc",
   "metadata": {},
   "outputs": [
    {
     "data": {
      "text/plain": [
       "0.6505"
      ]
     },
     "execution_count": 97,
     "metadata": {},
     "output_type": "execute_result"
    }
   ],
   "source": [
    "np.mean(cross_val_score(svc,x_train_tf,y_train,cv=10,scoring='accuracy'))"
   ]
  },
  {
   "cell_type": "markdown",
   "id": "c4cc90ba",
   "metadata": {},
   "source": [
    "Through this  we cn know that our model is not overfitted"
   ]
  },
  {
   "cell_type": "code",
   "execution_count": null,
   "id": "a2a16fc5",
   "metadata": {},
   "outputs": [],
   "source": []
  },
  {
   "cell_type": "markdown",
   "id": "f2a6c1d5",
   "metadata": {},
   "source": [
    "# Linear SVC\n"
   ]
  },
  {
   "cell_type": "code",
   "execution_count": 98,
   "id": "31e3346b",
   "metadata": {},
   "outputs": [],
   "source": [
    "from sklearn.svm import LinearSVC\n",
    "lsvc=LinearSVC()\n"
   ]
  },
  {
   "cell_type": "code",
   "execution_count": 99,
   "id": "4cda7894",
   "metadata": {},
   "outputs": [
    {
     "data": {
      "text/plain": [
       "0.69"
      ]
     },
     "execution_count": 99,
     "metadata": {},
     "output_type": "execute_result"
    }
   ],
   "source": [
    "model_tf=lsvc.fit(x_train_tf,y_train)\n",
    "predict_tf=lsvc.predict(x_test_tf)\n",
    "accuracy_score(y_test,predict_tf)"
   ]
  },
  {
   "cell_type": "code",
   "execution_count": 100,
   "id": "486cf439",
   "metadata": {},
   "outputs": [
    {
     "name": "stdout",
     "output_type": "stream",
     "text": [
      "              precision    recall  f1-score   support\n",
      "\n",
      "           1       0.61      0.47      0.53       100\n",
      "           2       0.44      0.11      0.17        37\n",
      "           3       0.33      0.12      0.17        77\n",
      "           4       0.29      0.22      0.25       134\n",
      "           5       0.76      0.92      0.84       652\n",
      "\n",
      "    accuracy                           0.69      1000\n",
      "   macro avg       0.49      0.37      0.39      1000\n",
      "weighted avg       0.64      0.69      0.65      1000\n",
      "\n"
     ]
    }
   ],
   "source": [
    "print(classification_report(y_test,predict_tf))"
   ]
  },
  {
   "cell_type": "code",
   "execution_count": 101,
   "id": "abaddb98",
   "metadata": {},
   "outputs": [
    {
     "data": {
      "text/plain": [
       "array([[ 47,   8,   3,   4,  15],\n",
       "       [  2,   4,   3,   0,   0],\n",
       "       [  2,   2,   9,   9,   5],\n",
       "       [ 12,   5,  23,  29,  31],\n",
       "       [ 37,  18,  39,  92, 601]], dtype=int64)"
      ]
     },
     "execution_count": 101,
     "metadata": {},
     "output_type": "execute_result"
    }
   ],
   "source": [
    "confusion_matrix(predict_tf,y_test)"
   ]
  },
  {
   "cell_type": "code",
   "execution_count": 102,
   "id": "1ff41f5f",
   "metadata": {},
   "outputs": [
    {
     "data": {
      "text/plain": [
       "0.6505"
      ]
     },
     "execution_count": 102,
     "metadata": {},
     "output_type": "execute_result"
    }
   ],
   "source": [
    "np.mean(cross_val_score(svc,x_train_tf,y_train,cv=10,scoring='accuracy'))"
   ]
  },
  {
   "cell_type": "markdown",
   "id": "ef24dd7c",
   "metadata": {},
   "source": [
    "# SGD"
   ]
  },
  {
   "cell_type": "code",
   "execution_count": 103,
   "id": "ade0c414",
   "metadata": {},
   "outputs": [
    {
     "data": {
      "text/plain": [
       "0.676"
      ]
     },
     "execution_count": 103,
     "metadata": {},
     "output_type": "execute_result"
    }
   ],
   "source": [
    "from sklearn.linear_model import SGDClassifier\n",
    "sgd=SGDClassifier()\n",
    "model_sgd=sgd.fit(x_train_tf,y_train)\n",
    "predict_sgd=sgd.predict(x_test_tf)\n",
    "accuracy_score(y_test,predict_sgd)"
   ]
  },
  {
   "cell_type": "code",
   "execution_count": 104,
   "id": "22fb3e93",
   "metadata": {},
   "outputs": [
    {
     "data": {
      "text/plain": [
       "array([[ 46,   6,   3,  11,  34],\n",
       "       [  8,   6,   2,   6,  15],\n",
       "       [  4,   3,   9,  23,  38],\n",
       "       [  4,   0,  10,  32,  88],\n",
       "       [ 22,   3,   9,  35, 583]], dtype=int64)"
      ]
     },
     "execution_count": 104,
     "metadata": {},
     "output_type": "execute_result"
    }
   ],
   "source": [
    "confusion_matrix(y_test,predict_sgd)"
   ]
  },
  {
   "cell_type": "code",
   "execution_count": 105,
   "id": "53e726f1",
   "metadata": {},
   "outputs": [
    {
     "name": "stdout",
     "output_type": "stream",
     "text": [
      "              precision    recall  f1-score   support\n",
      "\n",
      "           1       0.55      0.46      0.50       100\n",
      "           2       0.33      0.16      0.22        37\n",
      "           3       0.27      0.12      0.16        77\n",
      "           4       0.30      0.24      0.27       134\n",
      "           5       0.77      0.89      0.83       652\n",
      "\n",
      "    accuracy                           0.68      1000\n",
      "   macro avg       0.44      0.37      0.39      1000\n",
      "weighted avg       0.63      0.68      0.65      1000\n",
      "\n"
     ]
    }
   ],
   "source": [
    "print(classification_report(y_test,predict_sgd))"
   ]
  },
  {
   "cell_type": "markdown",
   "id": "6829063e",
   "metadata": {},
   "source": [
    "# HYPERPARAMETER TUNING OF BASE MODEL"
   ]
  },
  {
   "cell_type": "markdown",
   "id": "482c8414",
   "metadata": {},
   "source": [
    "In contrast to GridSearchCV, not all parameter values are tried out, but rather a fixed number of parameter settings is sampled from the specified distributions. The number of parameter settings that are tried is given by n_iter."
   ]
  },
  {
   "cell_type": "code",
   "execution_count": 106,
   "id": "137ac99b",
   "metadata": {},
   "outputs": [
    {
     "ename": "SyntaxError",
     "evalue": "incomplete input (3253015190.py, line 1)",
     "output_type": "error",
     "traceback": [
      "\u001b[1;36m  Cell \u001b[1;32mIn[106], line 1\u001b[1;36m\u001b[0m\n\u001b[1;33m    parameters = {'':\u001b[0m\n\u001b[1;37m                     ^\u001b[0m\n\u001b[1;31mSyntaxError\u001b[0m\u001b[1;31m:\u001b[0m incomplete input\n"
     ]
    }
   ],
   "source": [
    "#parameters = {'':"
   ]
  },
  {
   "cell_type": "code",
   "execution_count": null,
   "id": "a2d9bbce",
   "metadata": {},
   "outputs": [],
   "source": [
    "from sklearn.model_selection import RandomizedSearchCV\n",
    "rd=RandomizedSearchCV()"
   ]
  },
  {
   "cell_type": "code",
   "execution_count": null,
   "id": "8cefce0b",
   "metadata": {},
   "outputs": [],
   "source": []
  },
  {
   "cell_type": "code",
   "execution_count": null,
   "id": "e5bfad09",
   "metadata": {},
   "outputs": [],
   "source": []
  },
  {
   "cell_type": "code",
   "execution_count": null,
   "id": "1c737d29",
   "metadata": {},
   "outputs": [],
   "source": []
  },
  {
   "cell_type": "code",
   "execution_count": null,
   "id": "b7c5d789",
   "metadata": {},
   "outputs": [],
   "source": []
  },
  {
   "cell_type": "markdown",
   "id": "b9ace393",
   "metadata": {},
   "source": [
    "# ENSEMBLE TECHNIQUES"
   ]
  },
  {
   "cell_type": "markdown",
   "id": "78fe019b",
   "metadata": {},
   "source": [
    "# VOTING CLASSIFIER"
   ]
  },
  {
   "cell_type": "code",
   "execution_count": 107,
   "id": "f2c27572",
   "metadata": {},
   "outputs": [],
   "source": [
    "estimators=[('lg',lg),('rf',rf),('mnb',mnb),('lsvc',lsvc),('svc',svc)]"
   ]
  },
  {
   "cell_type": "code",
   "execution_count": 108,
   "id": "8e27eb45",
   "metadata": {},
   "outputs": [],
   "source": [
    "#estimators[0][0]"
   ]
  },
  {
   "cell_type": "code",
   "execution_count": 109,
   "id": "3317009d",
   "metadata": {},
   "outputs": [
    {
     "data": {
      "text/plain": [
       "0.665"
      ]
     },
     "execution_count": 109,
     "metadata": {},
     "output_type": "execute_result"
    }
   ],
   "source": [
    "from sklearn.ensemble import VotingClassifier\n",
    "vc=VotingClassifier(estimators=estimators,voting='hard')\n",
    "model_vc=vc.fit(x_train_tf,y_train)\n",
    "predict_vc=vc.predict(x_test_tf)\n",
    "accuracy_score(y_test,predict_vc)"
   ]
  },
  {
   "cell_type": "code",
   "execution_count": 110,
   "id": "de6c175f",
   "metadata": {},
   "outputs": [
    {
     "data": {
      "text/plain": [
       "array([[  7,   0,   0,   0,  93],\n",
       "       [  1,   0,   0,   0,  36],\n",
       "       [  1,   0,   2,   0,  74],\n",
       "       [  1,   0,   0,   5, 128],\n",
       "       [  1,   0,   0,   0, 651]], dtype=int64)"
      ]
     },
     "execution_count": 110,
     "metadata": {},
     "output_type": "execute_result"
    }
   ],
   "source": [
    "confusion_matrix(y_test,predict_vc)"
   ]
  },
  {
   "cell_type": "code",
   "execution_count": 111,
   "id": "3c8e8e8f",
   "metadata": {},
   "outputs": [
    {
     "name": "stdout",
     "output_type": "stream",
     "text": [
      "              precision    recall  f1-score   support\n",
      "\n",
      "           1       0.64      0.07      0.13       100\n",
      "           2       0.00      0.00      0.00        37\n",
      "           3       1.00      0.03      0.05        77\n",
      "           4       1.00      0.04      0.07       134\n",
      "           5       0.66      1.00      0.80       652\n",
      "\n",
      "    accuracy                           0.67      1000\n",
      "   macro avg       0.66      0.23      0.21      1000\n",
      "weighted avg       0.71      0.67      0.55      1000\n",
      "\n"
     ]
    }
   ],
   "source": [
    "print(classification_report(y_test,predict_vc))"
   ]
  },
  {
   "cell_type": "code",
   "execution_count": 112,
   "id": "95d76625",
   "metadata": {},
   "outputs": [
    {
     "name": "stdout",
     "output_type": "stream",
     "text": [
      "0.65425\n"
     ]
    }
   ],
   "source": [
    "x=cross_val_score(vc,x_train_tf,y_train,cv=10,scoring='accuracy')\n",
    "print(np.mean(x))"
   ]
  },
  {
   "cell_type": "markdown",
   "id": "6c1503a5",
   "metadata": {},
   "source": [
    "# BAGGING"
   ]
  },
  {
   "cell_type": "code",
   "execution_count": 113,
   "id": "dc7cbc68",
   "metadata": {},
   "outputs": [],
   "source": [
    "from sklearn.ensemble import BaggingClassifier\n",
    "bg=BaggingClassifier(base_estimator=lsvc,\n",
    "                    n_estimators=50,\n",
    "                    max_samples=0.3,\n",
    "                    random_state=0)"
   ]
  },
  {
   "cell_type": "code",
   "execution_count": 114,
   "id": "aaa6eea5",
   "metadata": {},
   "outputs": [
    {
     "data": {
      "text/plain": [
       "0.672"
      ]
     },
     "execution_count": 114,
     "metadata": {},
     "output_type": "execute_result"
    }
   ],
   "source": [
    "model_bag = bg.fit(x_train_tf,y_train)\n",
    "predict_bg = bg.predict(x_test_tf)\n",
    "accuracy_score(y_test,predict_bg)"
   ]
  },
  {
   "cell_type": "code",
   "execution_count": 115,
   "id": "3c579c65",
   "metadata": {},
   "outputs": [
    {
     "data": {
      "text/plain": [
       "array([[ 18,   0,   0,   2,  80],\n",
       "       [  4,   0,   0,   2,  31],\n",
       "       [  2,   0,   0,   7,  68],\n",
       "       [  1,   0,   0,   9, 124],\n",
       "       [  2,   0,   0,   5, 645]], dtype=int64)"
      ]
     },
     "execution_count": 115,
     "metadata": {},
     "output_type": "execute_result"
    }
   ],
   "source": [
    "confusion_matrix(y_test,predict_bg)"
   ]
  },
  {
   "cell_type": "code",
   "execution_count": 116,
   "id": "6dc76625",
   "metadata": {},
   "outputs": [
    {
     "name": "stdout",
     "output_type": "stream",
     "text": [
      "              precision    recall  f1-score   support\n",
      "\n",
      "           1       0.67      0.18      0.28       100\n",
      "           2       0.00      0.00      0.00        37\n",
      "           3       0.00      0.00      0.00        77\n",
      "           4       0.36      0.07      0.11       134\n",
      "           5       0.68      0.99      0.81       652\n",
      "\n",
      "    accuracy                           0.67      1000\n",
      "   macro avg       0.34      0.25      0.24      1000\n",
      "weighted avg       0.56      0.67      0.57      1000\n",
      "\n"
     ]
    }
   ],
   "source": [
    "print(classification_report(y_test,predict_bg))"
   ]
  },
  {
   "cell_type": "code",
   "execution_count": null,
   "id": "f5eb0af1",
   "metadata": {},
   "outputs": [],
   "source": []
  },
  {
   "cell_type": "markdown",
   "id": "f2b3d417",
   "metadata": {},
   "source": [
    "# BOOSTING"
   ]
  },
  {
   "cell_type": "markdown",
   "id": "c62a6bc7",
   "metadata": {},
   "source": [
    "# Gradient Boost"
   ]
  },
  {
   "cell_type": "code",
   "execution_count": 117,
   "id": "35142d53",
   "metadata": {},
   "outputs": [
    {
     "data": {
      "text/plain": [
       "0.673"
      ]
     },
     "execution_count": 117,
     "metadata": {},
     "output_type": "execute_result"
    }
   ],
   "source": [
    "from sklearn.ensemble import GradientBoostingClassifier\n",
    "gb=GradientBoostingClassifier()\n",
    "model_gb = gb.fit(x_train_tf,y_train)\n",
    "predict_gb = gb.predict(x_test_tf)\n",
    "accuracy_score(y_test,predict_gb)\n"
   ]
  },
  {
   "cell_type": "code",
   "execution_count": 118,
   "id": "b88ddf99",
   "metadata": {},
   "outputs": [
    {
     "data": {
      "text/plain": [
       "array([[ 15,   1,   0,  11,  73],\n",
       "       [  2,   1,   2,   4,  28],\n",
       "       [  6,   1,   6,  11,  53],\n",
       "       [  3,   2,   4,  19, 106],\n",
       "       [  1,   2,   4,  13, 632]], dtype=int64)"
      ]
     },
     "execution_count": 118,
     "metadata": {},
     "output_type": "execute_result"
    }
   ],
   "source": [
    "confusion_matrix(y_test,predict_gb)"
   ]
  },
  {
   "cell_type": "code",
   "execution_count": 119,
   "id": "c4d47c69",
   "metadata": {},
   "outputs": [
    {
     "name": "stdout",
     "output_type": "stream",
     "text": [
      "              precision    recall  f1-score   support\n",
      "\n",
      "           1       0.56      0.15      0.24       100\n",
      "           2       0.14      0.03      0.05        37\n",
      "           3       0.38      0.08      0.13        77\n",
      "           4       0.33      0.14      0.20       134\n",
      "           5       0.71      0.97      0.82       652\n",
      "\n",
      "    accuracy                           0.67      1000\n",
      "   macro avg       0.42      0.27      0.29      1000\n",
      "weighted avg       0.60      0.67      0.60      1000\n",
      "\n"
     ]
    }
   ],
   "source": [
    "print(classification_report(y_test,predict_gb))"
   ]
  },
  {
   "cell_type": "markdown",
   "id": "38044c82",
   "metadata": {},
   "source": [
    "# XGBOOST"
   ]
  },
  {
   "cell_type": "code",
   "execution_count": 120,
   "id": "fb404432",
   "metadata": {},
   "outputs": [],
   "source": [
    "import xgboost"
   ]
  },
  {
   "cell_type": "code",
   "execution_count": 121,
   "id": "d2d5b3fa",
   "metadata": {},
   "outputs": [
    {
     "ename": "SyntaxError",
     "evalue": "incomplete input (3520070487.py, line 1)",
     "output_type": "error",
     "traceback": [
      "\u001b[1;36m  Cell \u001b[1;32mIn[121], line 1\u001b[1;36m\u001b[0m\n\u001b[1;33m    '''from xgboost import XGBClassifier\u001b[0m\n\u001b[1;37m    ^\u001b[0m\n\u001b[1;31mSyntaxError\u001b[0m\u001b[1;31m:\u001b[0m incomplete input\n"
     ]
    }
   ],
   "source": [
    "'''from xgboost import XGBClassifier\n",
    "#xgb=XGBClassifier(objective='gblinear')\n",
    "model_xgb=xgb.fit(x_train_tf,y_train)\n",
    "predict_xgb=xgb.predict(x_test_tf)\n",
    "accuracy_score(y_test,predict_xgb)"
   ]
  },
  {
   "cell_type": "code",
   "execution_count": null,
   "id": "5876419e",
   "metadata": {},
   "outputs": [],
   "source": []
  },
  {
   "cell_type": "markdown",
   "id": "055d0ffb",
   "metadata": {},
   "source": [
    "# ADABOOST"
   ]
  },
  {
   "cell_type": "code",
   "execution_count": 122,
   "id": "d9e631b1",
   "metadata": {},
   "outputs": [
    {
     "data": {
      "text/plain": [
       "0.668"
      ]
     },
     "execution_count": 122,
     "metadata": {},
     "output_type": "execute_result"
    }
   ],
   "source": [
    "from sklearn.ensemble import AdaBoostClassifier\n",
    "adb=AdaBoostClassifier()\n",
    "model_adb = adb.fit(x_train_tf,y_train)\n",
    "predict_adb = adb.predict(x_test_tf)\n",
    "accuracy_score(y_test,predict_adb)"
   ]
  },
  {
   "cell_type": "code",
   "execution_count": 123,
   "id": "ac2ea45f",
   "metadata": {},
   "outputs": [
    {
     "data": {
      "text/plain": [
       "array([[ 26,   4,   3,   6,  61],\n",
       "       [  5,   5,   2,   0,  25],\n",
       "       [  4,   4,   2,   6,  61],\n",
       "       [  5,   2,   9,  15, 103],\n",
       "       [  8,   9,  10,   5, 620]], dtype=int64)"
      ]
     },
     "execution_count": 123,
     "metadata": {},
     "output_type": "execute_result"
    }
   ],
   "source": [
    "confusion_matrix(y_test,predict_adb)"
   ]
  },
  {
   "cell_type": "code",
   "execution_count": 124,
   "id": "4f0f9974",
   "metadata": {},
   "outputs": [
    {
     "name": "stdout",
     "output_type": "stream",
     "text": [
      "              precision    recall  f1-score   support\n",
      "\n",
      "           1       0.54      0.26      0.35       100\n",
      "           2       0.21      0.14      0.16        37\n",
      "           3       0.08      0.03      0.04        77\n",
      "           4       0.47      0.11      0.18       134\n",
      "           5       0.71      0.95      0.81       652\n",
      "\n",
      "    accuracy                           0.67      1000\n",
      "   macro avg       0.40      0.30      0.31      1000\n",
      "weighted avg       0.60      0.67      0.60      1000\n",
      "\n"
     ]
    }
   ],
   "source": [
    "print(classification_report(y_test,predict_adb))"
   ]
  },
  {
   "cell_type": "markdown",
   "id": "8a30abfd",
   "metadata": {},
   "source": [
    "# LIGHT GBM"
   ]
  },
  {
   "cell_type": "code",
   "execution_count": 125,
   "id": "c00283ff",
   "metadata": {},
   "outputs": [],
   "source": [
    "import lightgbm \n",
    "from lightgbm import LGBMClassifier\n",
    "lgb=LGBMClassifier()"
   ]
  },
  {
   "cell_type": "code",
   "execution_count": 126,
   "id": "283b2140",
   "metadata": {},
   "outputs": [
    {
     "data": {
      "text/plain": [
       "0.696"
      ]
     },
     "execution_count": 126,
     "metadata": {},
     "output_type": "execute_result"
    }
   ],
   "source": [
    "model_lgb = lgb.fit(x_train_tf,y_train)\n",
    "predict_lgb = lgb.predict(x_test_tf)\n",
    "accuracy_score(y_test,predict_lgb)"
   ]
  },
  {
   "cell_type": "code",
   "execution_count": 127,
   "id": "17600611",
   "metadata": {},
   "outputs": [
    {
     "data": {
      "text/plain": [
       "array([[ 43,   2,   3,  12,  40],\n",
       "       [  9,   2,   1,   5,  20],\n",
       "       [  3,   1,  10,  15,  48],\n",
       "       [  4,   0,   6,  35,  89],\n",
       "       [  8,   3,   5,  30, 606]], dtype=int64)"
      ]
     },
     "execution_count": 127,
     "metadata": {},
     "output_type": "execute_result"
    }
   ],
   "source": [
    "confusion_matrix(y_test,predict_lgb)"
   ]
  },
  {
   "cell_type": "code",
   "execution_count": 128,
   "id": "2929189d",
   "metadata": {},
   "outputs": [
    {
     "name": "stdout",
     "output_type": "stream",
     "text": [
      "              precision    recall  f1-score   support\n",
      "\n",
      "           1       0.64      0.43      0.51       100\n",
      "           2       0.25      0.05      0.09        37\n",
      "           3       0.40      0.13      0.20        77\n",
      "           4       0.36      0.26      0.30       134\n",
      "           5       0.75      0.93      0.83       652\n",
      "\n",
      "    accuracy                           0.70      1000\n",
      "   macro avg       0.48      0.36      0.39      1000\n",
      "weighted avg       0.64      0.70      0.65      1000\n",
      "\n"
     ]
    }
   ],
   "source": [
    "print(classification_report(y_test,predict_lgb))"
   ]
  },
  {
   "cell_type": "code",
   "execution_count": null,
   "id": "657d3c01",
   "metadata": {},
   "outputs": [],
   "source": []
  },
  {
   "cell_type": "code",
   "execution_count": null,
   "id": "f4c1fb89",
   "metadata": {},
   "outputs": [],
   "source": []
  },
  {
   "cell_type": "code",
   "execution_count": null,
   "id": "f0ff8620",
   "metadata": {},
   "outputs": [],
   "source": []
  },
  {
   "cell_type": "code",
   "execution_count": null,
   "id": "48105172",
   "metadata": {},
   "outputs": [],
   "source": []
  },
  {
   "cell_type": "code",
   "execution_count": null,
   "id": "34ae3de1",
   "metadata": {},
   "outputs": [],
   "source": []
  },
  {
   "cell_type": "code",
   "execution_count": null,
   "id": "71e99a49",
   "metadata": {},
   "outputs": [],
   "source": []
  },
  {
   "cell_type": "code",
   "execution_count": null,
   "id": "e57ef280",
   "metadata": {},
   "outputs": [],
   "source": []
  },
  {
   "cell_type": "code",
   "execution_count": null,
   "id": "ed09aa1a",
   "metadata": {},
   "outputs": [],
   "source": []
  }
 ],
 "metadata": {
  "kernelspec": {
   "display_name": "Python 3 (ipykernel)",
   "language": "python",
   "name": "python3"
  },
  "language_info": {
   "codemirror_mode": {
    "name": "ipython",
    "version": 3
   },
   "file_extension": ".py",
   "mimetype": "text/x-python",
   "name": "python",
   "nbconvert_exporter": "python",
   "pygments_lexer": "ipython3",
   "version": "3.10.10"
  }
 },
 "nbformat": 4,
 "nbformat_minor": 5
}
