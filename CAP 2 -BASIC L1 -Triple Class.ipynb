{
 "cells": [
  {
   "cell_type": "markdown",
   "id": "4726abb2",
   "metadata": {},
   "source": [
    "# 1. Problem statement - Sentiment Analysis"
   ]
  },
  {
   "cell_type": "markdown",
   "id": "189a3ce7",
   "metadata": {},
   "source": [
    "Need to perform Sentiment Analysis on reviews posted for Product on Amazon.Here we need to predict the Score with respect to the Review."
   ]
  },
  {
   "cell_type": "markdown",
   "id": "907475a2",
   "metadata": {},
   "source": [
    "# 2.IMPORTING LIBRARIES AND DATASETS"
   ]
  },
  {
   "cell_type": "code",
   "execution_count": 27,
   "id": "edc4d5e9",
   "metadata": {},
   "outputs": [
    {
     "name": "stderr",
     "output_type": "stream",
     "text": [
      "[nltk_data] Downloading package stopwords to\n",
      "[nltk_data]     C:\\Users\\esvit\\AppData\\Roaming\\nltk_data...\n",
      "[nltk_data]   Package stopwords is already up-to-date!\n"
     ]
    }
   ],
   "source": [
    "#Basic Libraries\n",
    "import pandas as pd\n",
    "import numpy as np\n",
    "import matplotlib.pyplot as plt\n",
    "import seaborn as sns\n",
    "\n",
    "import warnings \n",
    "warnings.filterwarnings('ignore')\n",
    "\n",
    "#sckiti libraries\n",
    "from sklearn.metrics import *\n",
    "from sklearn.model_selection import train_test_split\n",
    "from sklearn.model_selection import cross_val_score\n",
    "\n",
    "\n",
    "#Advanced NLP libraries\n",
    "import nltk\n",
    "nltk.download('stopwords')\n",
    "from nltk.corpus import stopwords\n",
    "from nltk.tokenize import word_tokenize,sent_tokenize"
   ]
  },
  {
   "cell_type": "code",
   "execution_count": 28,
   "id": "56afe746",
   "metadata": {},
   "outputs": [
    {
     "data": {
      "text/html": [
       "<div>\n",
       "<style scoped>\n",
       "    .dataframe tbody tr th:only-of-type {\n",
       "        vertical-align: middle;\n",
       "    }\n",
       "\n",
       "    .dataframe tbody tr th {\n",
       "        vertical-align: top;\n",
       "    }\n",
       "\n",
       "    .dataframe thead th {\n",
       "        text-align: right;\n",
       "    }\n",
       "</style>\n",
       "<table border=\"1\" class=\"dataframe\">\n",
       "  <thead>\n",
       "    <tr style=\"text-align: right;\">\n",
       "      <th></th>\n",
       "      <th>Id</th>\n",
       "      <th>ProductId</th>\n",
       "      <th>UserId</th>\n",
       "      <th>ProfileName</th>\n",
       "      <th>HelpfulnessNumerator</th>\n",
       "      <th>HelpfulnessDenominator</th>\n",
       "      <th>Score</th>\n",
       "      <th>Time</th>\n",
       "      <th>Summary</th>\n",
       "      <th>Text</th>\n",
       "    </tr>\n",
       "  </thead>\n",
       "  <tbody>\n",
       "    <tr>\n",
       "      <th>0</th>\n",
       "      <td>1</td>\n",
       "      <td>B001E4KFG0</td>\n",
       "      <td>A3SGXH7AUHU8GW</td>\n",
       "      <td>delmartian</td>\n",
       "      <td>1</td>\n",
       "      <td>1</td>\n",
       "      <td>5</td>\n",
       "      <td>1303862400</td>\n",
       "      <td>Good Quality Dog Food</td>\n",
       "      <td>I have bought several of the Vitality canned d...</td>\n",
       "    </tr>\n",
       "    <tr>\n",
       "      <th>1</th>\n",
       "      <td>2</td>\n",
       "      <td>B00813GRG4</td>\n",
       "      <td>A1D87F6ZCVE5NK</td>\n",
       "      <td>dll pa</td>\n",
       "      <td>0</td>\n",
       "      <td>0</td>\n",
       "      <td>1</td>\n",
       "      <td>1346976000</td>\n",
       "      <td>Not as Advertised</td>\n",
       "      <td>Product arrived labeled as Jumbo Salted Peanut...</td>\n",
       "    </tr>\n",
       "    <tr>\n",
       "      <th>2</th>\n",
       "      <td>3</td>\n",
       "      <td>B000LQOCH0</td>\n",
       "      <td>ABXLMWJIXXAIN</td>\n",
       "      <td>Natalia Corres \"Natalia Corres\"</td>\n",
       "      <td>1</td>\n",
       "      <td>1</td>\n",
       "      <td>4</td>\n",
       "      <td>1219017600</td>\n",
       "      <td>\"Delight\" says it all</td>\n",
       "      <td>This is a confection that has been around a fe...</td>\n",
       "    </tr>\n",
       "    <tr>\n",
       "      <th>3</th>\n",
       "      <td>4</td>\n",
       "      <td>B000UA0QIQ</td>\n",
       "      <td>A395BORC6FGVXV</td>\n",
       "      <td>Karl</td>\n",
       "      <td>3</td>\n",
       "      <td>3</td>\n",
       "      <td>2</td>\n",
       "      <td>1307923200</td>\n",
       "      <td>Cough Medicine</td>\n",
       "      <td>If you are looking for the secret ingredient i...</td>\n",
       "    </tr>\n",
       "    <tr>\n",
       "      <th>4</th>\n",
       "      <td>5</td>\n",
       "      <td>B006K2ZZ7K</td>\n",
       "      <td>A1UQRSCLF8GW1T</td>\n",
       "      <td>Michael D. Bigham \"M. Wassir\"</td>\n",
       "      <td>0</td>\n",
       "      <td>0</td>\n",
       "      <td>5</td>\n",
       "      <td>1350777600</td>\n",
       "      <td>Great taffy</td>\n",
       "      <td>Great taffy at a great price.  There was a wid...</td>\n",
       "    </tr>\n",
       "  </tbody>\n",
       "</table>\n",
       "</div>"
      ],
      "text/plain": [
       "   Id   ProductId          UserId                      ProfileName  \\\n",
       "0   1  B001E4KFG0  A3SGXH7AUHU8GW                       delmartian   \n",
       "1   2  B00813GRG4  A1D87F6ZCVE5NK                           dll pa   \n",
       "2   3  B000LQOCH0   ABXLMWJIXXAIN  Natalia Corres \"Natalia Corres\"   \n",
       "3   4  B000UA0QIQ  A395BORC6FGVXV                             Karl   \n",
       "4   5  B006K2ZZ7K  A1UQRSCLF8GW1T    Michael D. Bigham \"M. Wassir\"   \n",
       "\n",
       "   HelpfulnessNumerator  HelpfulnessDenominator  Score        Time  \\\n",
       "0                     1                       1      5  1303862400   \n",
       "1                     0                       0      1  1346976000   \n",
       "2                     1                       1      4  1219017600   \n",
       "3                     3                       3      2  1307923200   \n",
       "4                     0                       0      5  1350777600   \n",
       "\n",
       "                 Summary                                               Text  \n",
       "0  Good Quality Dog Food  I have bought several of the Vitality canned d...  \n",
       "1      Not as Advertised  Product arrived labeled as Jumbo Salted Peanut...  \n",
       "2  \"Delight\" says it all  This is a confection that has been around a fe...  \n",
       "3         Cough Medicine  If you are looking for the secret ingredient i...  \n",
       "4            Great taffy  Great taffy at a great price.  There was a wid...  "
      ]
     },
     "execution_count": 28,
     "metadata": {},
     "output_type": "execute_result"
    }
   ],
   "source": [
    "data=pd.read_csv(r'Reviews (1).csv')\n",
    "data.head()"
   ]
  },
  {
   "cell_type": "code",
   "execution_count": 29,
   "id": "3a0f5b8b",
   "metadata": {},
   "outputs": [
    {
     "data": {
      "text/plain": [
       "74258"
      ]
     },
     "execution_count": 29,
     "metadata": {},
     "output_type": "execute_result"
    }
   ],
   "source": [
    "#unique Product\n",
    "len(data.ProductId.unique())"
   ]
  },
  {
   "cell_type": "code",
   "execution_count": 30,
   "id": "b477e500",
   "metadata": {},
   "outputs": [
    {
     "data": {
      "text/plain": [
       "5    363122\n",
       "4     80655\n",
       "1     52268\n",
       "3     42640\n",
       "2     29769\n",
       "Name: Score, dtype: int64"
      ]
     },
     "execution_count": 30,
     "metadata": {},
     "output_type": "execute_result"
    }
   ],
   "source": [
    "#value count of Scores\n",
    "data.Score.value_counts()"
   ]
  },
  {
   "cell_type": "code",
   "execution_count": 31,
   "id": "61c89ed0",
   "metadata": {},
   "outputs": [
    {
     "data": {
      "text/plain": [
       "(568454, 10)"
      ]
     },
     "execution_count": 31,
     "metadata": {},
     "output_type": "execute_result"
    }
   ],
   "source": [
    "data.shape"
   ]
  },
  {
   "cell_type": "markdown",
   "id": "e3942734",
   "metadata": {},
   "source": [
    "Glimpse on one Row"
   ]
  },
  {
   "cell_type": "code",
   "execution_count": 32,
   "id": "6265e145",
   "metadata": {},
   "outputs": [
    {
     "data": {
      "text/plain": [
       "'Our favorite breakfast choice'"
      ]
     },
     "execution_count": 32,
     "metadata": {},
     "output_type": "execute_result"
    }
   ],
   "source": [
    "\n",
    "data['Summary'][2021]"
   ]
  },
  {
   "cell_type": "code",
   "execution_count": 33,
   "id": "b70871db",
   "metadata": {},
   "outputs": [
    {
     "data": {
      "text/plain": [
       "'Bought a great waffle maker two years ago.  Tried many recipes for making waffles, nothing really pleased the family. Well, until I followed a recommendation to try Stonewall Waffles.  Believe me it is not like Bisquick as I thought it might be, it is so much better I was shocked.  And well now the family loves them and looks forward to Sunday waffles every couple weeks.  I even double up the ingredients so I can make extras which we cut into smaller sections and freeze them.  These can then be used for toster waffles and a quick breakfast.  Forget the Eggos even as frozen waffles these are great.<br /><br />What do I like best about them?  The waffles come out light and fluffy.  They are crisp and hold up well to being filled with strawberries, nuts or whatever toppings you may choose.  In no way do they feel heavy or soggy.  They are a snap to prepare, and take just 3 minutes in the waffle maker. Lastly the whole family loves them.  So despite the higher price it is well worth every penny.'"
      ]
     },
     "execution_count": 33,
     "metadata": {},
     "output_type": "execute_result"
    }
   ],
   "source": [
    "data['Text'][2021]"
   ]
  },
  {
   "cell_type": "markdown",
   "id": "8341f683",
   "metadata": {},
   "source": [
    "Resizing dataset so that Machine can handle"
   ]
  },
  {
   "cell_type": "code",
   "execution_count": 34,
   "id": "d34f6917",
   "metadata": {},
   "outputs": [],
   "source": [
    "#Resizing data\n",
    "df=data.sample(10000)\n"
   ]
  },
  {
   "cell_type": "code",
   "execution_count": 35,
   "id": "1914ae76",
   "metadata": {},
   "outputs": [],
   "source": [
    "df.reset_index(inplace=True)"
   ]
  },
  {
   "cell_type": "code",
   "execution_count": 36,
   "id": "d9038f22",
   "metadata": {},
   "outputs": [],
   "source": [
    "df=df.drop(columns=['index','Id', 'ProductId', 'UserId', 'ProfileName', 'HelpfulnessNumerator', 'HelpfulnessDenominator','Time','Summary'])"
   ]
  },
  {
   "cell_type": "code",
   "execution_count": 37,
   "id": "2840619f",
   "metadata": {},
   "outputs": [
    {
     "data": {
      "text/plain": [
       "Index(['Score', 'Text'], dtype='object')"
      ]
     },
     "execution_count": 37,
     "metadata": {},
     "output_type": "execute_result"
    }
   ],
   "source": [
    "df.columns"
   ]
  },
  {
   "cell_type": "code",
   "execution_count": 38,
   "id": "7b80c301",
   "metadata": {},
   "outputs": [
    {
     "data": {
      "text/html": [
       "<div>\n",
       "<style scoped>\n",
       "    .dataframe tbody tr th:only-of-type {\n",
       "        vertical-align: middle;\n",
       "    }\n",
       "\n",
       "    .dataframe tbody tr th {\n",
       "        vertical-align: top;\n",
       "    }\n",
       "\n",
       "    .dataframe thead th {\n",
       "        text-align: right;\n",
       "    }\n",
       "</style>\n",
       "<table border=\"1\" class=\"dataframe\">\n",
       "  <thead>\n",
       "    <tr style=\"text-align: right;\">\n",
       "      <th></th>\n",
       "      <th>Score</th>\n",
       "      <th>Text</th>\n",
       "    </tr>\n",
       "  </thead>\n",
       "  <tbody>\n",
       "    <tr>\n",
       "      <th>0</th>\n",
       "      <td>5</td>\n",
       "      <td>Love this herbal tea! It's so delicious! It ta...</td>\n",
       "    </tr>\n",
       "    <tr>\n",
       "      <th>1</th>\n",
       "      <td>5</td>\n",
       "      <td>This is it, the holy grail of dog powders to c...</td>\n",
       "    </tr>\n",
       "    <tr>\n",
       "      <th>2</th>\n",
       "      <td>5</td>\n",
       "      <td>Nice sweet treat with some nutritional value. ...</td>\n",
       "    </tr>\n",
       "    <tr>\n",
       "      <th>3</th>\n",
       "      <td>5</td>\n",
       "      <td>The Marley coffee is the best aroma and taste....</td>\n",
       "    </tr>\n",
       "    <tr>\n",
       "      <th>4</th>\n",
       "      <td>1</td>\n",
       "      <td>The beans arrived good packed. Filled my Vario...</td>\n",
       "    </tr>\n",
       "    <tr>\n",
       "      <th>...</th>\n",
       "      <td>...</td>\n",
       "      <td>...</td>\n",
       "    </tr>\n",
       "    <tr>\n",
       "      <th>9995</th>\n",
       "      <td>5</td>\n",
       "      <td>These are the greatest grape licorice ever!  I...</td>\n",
       "    </tr>\n",
       "    <tr>\n",
       "      <th>9996</th>\n",
       "      <td>5</td>\n",
       "      <td>The Stash Tea Company seems to make excellent ...</td>\n",
       "    </tr>\n",
       "    <tr>\n",
       "      <th>9997</th>\n",
       "      <td>5</td>\n",
       "      <td>I decided to take a chance and give this produ...</td>\n",
       "    </tr>\n",
       "    <tr>\n",
       "      <th>9998</th>\n",
       "      <td>3</td>\n",
       "      <td>Our family is divided into those who like Velv...</td>\n",
       "    </tr>\n",
       "    <tr>\n",
       "      <th>9999</th>\n",
       "      <td>1</td>\n",
       "      <td>We were hoping to like this fairly pricey prod...</td>\n",
       "    </tr>\n",
       "  </tbody>\n",
       "</table>\n",
       "<p>10000 rows × 2 columns</p>\n",
       "</div>"
      ],
      "text/plain": [
       "      Score                                               Text\n",
       "0         5  Love this herbal tea! It's so delicious! It ta...\n",
       "1         5  This is it, the holy grail of dog powders to c...\n",
       "2         5  Nice sweet treat with some nutritional value. ...\n",
       "3         5  The Marley coffee is the best aroma and taste....\n",
       "4         1  The beans arrived good packed. Filled my Vario...\n",
       "...     ...                                                ...\n",
       "9995      5  These are the greatest grape licorice ever!  I...\n",
       "9996      5  The Stash Tea Company seems to make excellent ...\n",
       "9997      5  I decided to take a chance and give this produ...\n",
       "9998      3  Our family is divided into those who like Velv...\n",
       "9999      1  We were hoping to like this fairly pricey prod...\n",
       "\n",
       "[10000 rows x 2 columns]"
      ]
     },
     "execution_count": 38,
     "metadata": {},
     "output_type": "execute_result"
    }
   ],
   "source": [
    "df"
   ]
  },
  {
   "cell_type": "code",
   "execution_count": 39,
   "id": "3185a7f0",
   "metadata": {},
   "outputs": [],
   "source": [
    "#df['Text'].iloc[0]"
   ]
  },
  {
   "cell_type": "code",
   "execution_count": 40,
   "id": "7395e90f",
   "metadata": {},
   "outputs": [
    {
     "data": {
      "text/plain": [
       "5    6339\n",
       "4    1408\n",
       "1     925\n",
       "3     775\n",
       "2     553\n",
       "Name: Score, dtype: int64"
      ]
     },
     "execution_count": 40,
     "metadata": {},
     "output_type": "execute_result"
    }
   ],
   "source": [
    "df.Score.value_counts()"
   ]
  },
  {
   "cell_type": "code",
   "execution_count": 41,
   "id": "6c0b310f",
   "metadata": {},
   "outputs": [
    {
     "data": {
      "text/html": [
       "<div>\n",
       "<style scoped>\n",
       "    .dataframe tbody tr th:only-of-type {\n",
       "        vertical-align: middle;\n",
       "    }\n",
       "\n",
       "    .dataframe tbody tr th {\n",
       "        vertical-align: top;\n",
       "    }\n",
       "\n",
       "    .dataframe thead th {\n",
       "        text-align: right;\n",
       "    }\n",
       "</style>\n",
       "<table border=\"1\" class=\"dataframe\">\n",
       "  <thead>\n",
       "    <tr style=\"text-align: right;\">\n",
       "      <th></th>\n",
       "      <th>Score</th>\n",
       "      <th>Text</th>\n",
       "    </tr>\n",
       "  </thead>\n",
       "  <tbody>\n",
       "    <tr>\n",
       "      <th>0</th>\n",
       "      <td>5</td>\n",
       "      <td>Love this herbal tea! It's so delicious! It ta...</td>\n",
       "    </tr>\n",
       "    <tr>\n",
       "      <th>1</th>\n",
       "      <td>5</td>\n",
       "      <td>This is it, the holy grail of dog powders to c...</td>\n",
       "    </tr>\n",
       "    <tr>\n",
       "      <th>2</th>\n",
       "      <td>5</td>\n",
       "      <td>Nice sweet treat with some nutritional value. ...</td>\n",
       "    </tr>\n",
       "    <tr>\n",
       "      <th>3</th>\n",
       "      <td>5</td>\n",
       "      <td>The Marley coffee is the best aroma and taste....</td>\n",
       "    </tr>\n",
       "    <tr>\n",
       "      <th>4</th>\n",
       "      <td>1</td>\n",
       "      <td>The beans arrived good packed. Filled my Vario...</td>\n",
       "    </tr>\n",
       "    <tr>\n",
       "      <th>...</th>\n",
       "      <td>...</td>\n",
       "      <td>...</td>\n",
       "    </tr>\n",
       "    <tr>\n",
       "      <th>9995</th>\n",
       "      <td>5</td>\n",
       "      <td>These are the greatest grape licorice ever!  I...</td>\n",
       "    </tr>\n",
       "    <tr>\n",
       "      <th>9996</th>\n",
       "      <td>5</td>\n",
       "      <td>The Stash Tea Company seems to make excellent ...</td>\n",
       "    </tr>\n",
       "    <tr>\n",
       "      <th>9997</th>\n",
       "      <td>5</td>\n",
       "      <td>I decided to take a chance and give this produ...</td>\n",
       "    </tr>\n",
       "    <tr>\n",
       "      <th>9998</th>\n",
       "      <td>3</td>\n",
       "      <td>Our family is divided into those who like Velv...</td>\n",
       "    </tr>\n",
       "    <tr>\n",
       "      <th>9999</th>\n",
       "      <td>1</td>\n",
       "      <td>We were hoping to like this fairly pricey prod...</td>\n",
       "    </tr>\n",
       "  </tbody>\n",
       "</table>\n",
       "<p>10000 rows × 2 columns</p>\n",
       "</div>"
      ],
      "text/plain": [
       "      Score                                               Text\n",
       "0         5  Love this herbal tea! It's so delicious! It ta...\n",
       "1         5  This is it, the holy grail of dog powders to c...\n",
       "2         5  Nice sweet treat with some nutritional value. ...\n",
       "3         5  The Marley coffee is the best aroma and taste....\n",
       "4         1  The beans arrived good packed. Filled my Vario...\n",
       "...     ...                                                ...\n",
       "9995      5  These are the greatest grape licorice ever!  I...\n",
       "9996      5  The Stash Tea Company seems to make excellent ...\n",
       "9997      5  I decided to take a chance and give this produ...\n",
       "9998      3  Our family is divided into those who like Velv...\n",
       "9999      1  We were hoping to like this fairly pricey prod...\n",
       "\n",
       "[10000 rows x 2 columns]"
      ]
     },
     "execution_count": 41,
     "metadata": {},
     "output_type": "execute_result"
    }
   ],
   "source": [
    "df"
   ]
  },
  {
   "cell_type": "code",
   "execution_count": 42,
   "id": "926df4a3",
   "metadata": {},
   "outputs": [
    {
     "data": {
      "image/png": "[encoded data removed]",
      "text/plain": [
       "<Figure size 640x480 with 1 Axes>"
      ]
     },
     "metadata": {},
     "output_type": "display_data"
    }
   ],
   "source": [
    "df.Score.value_counts().plot(kind='bar');"
   ]
  },
  {
   "cell_type": "code",
   "execution_count": 43,
   "id": "64f86f30",
   "metadata": {},
   "outputs": [
    {
     "data": {
      "text/html": [
       "<div>\n",
       "<style scoped>\n",
       "    .dataframe tbody tr th:only-of-type {\n",
       "        vertical-align: middle;\n",
       "    }\n",
       "\n",
       "    .dataframe tbody tr th {\n",
       "        vertical-align: top;\n",
       "    }\n",
       "\n",
       "    .dataframe thead th {\n",
       "        text-align: right;\n",
       "    }\n",
       "</style>\n",
       "<table border=\"1\" class=\"dataframe\">\n",
       "  <thead>\n",
       "    <tr style=\"text-align: right;\">\n",
       "      <th></th>\n",
       "      <th>Score</th>\n",
       "      <th>Text</th>\n",
       "    </tr>\n",
       "  </thead>\n",
       "  <tbody>\n",
       "    <tr>\n",
       "      <th>0</th>\n",
       "      <td>5</td>\n",
       "      <td>Love this herbal tea! It's so delicious! It ta...</td>\n",
       "    </tr>\n",
       "    <tr>\n",
       "      <th>1</th>\n",
       "      <td>5</td>\n",
       "      <td>This is it, the holy grail of dog powders to c...</td>\n",
       "    </tr>\n",
       "    <tr>\n",
       "      <th>2</th>\n",
       "      <td>5</td>\n",
       "      <td>Nice sweet treat with some nutritional value. ...</td>\n",
       "    </tr>\n",
       "  </tbody>\n",
       "</table>\n",
       "</div>"
      ],
      "text/plain": [
       "   Score                                               Text\n",
       "0      5  Love this herbal tea! It's so delicious! It ta...\n",
       "1      5  This is it, the holy grail of dog powders to c...\n",
       "2      5  Nice sweet treat with some nutritional value. ..."
      ]
     },
     "execution_count": 43,
     "metadata": {},
     "output_type": "execute_result"
    }
   ],
   "source": [
    "df.head(3)"
   ]
  },
  {
   "cell_type": "code",
   "execution_count": 44,
   "id": "dc5a3148",
   "metadata": {},
   "outputs": [
    {
     "name": "stdout",
     "output_type": "stream",
     "text": [
      "<class 'pandas.core.frame.DataFrame'>\n",
      "RangeIndex: 10000 entries, 0 to 9999\n",
      "Data columns (total 2 columns):\n",
      " #   Column  Non-Null Count  Dtype \n",
      "---  ------  --------------  ----- \n",
      " 0   Score   10000 non-null  int64 \n",
      " 1   Text    10000 non-null  object\n",
      "dtypes: int64(1), object(1)\n",
      "memory usage: 156.4+ KB\n"
     ]
    }
   ],
   "source": [
    "df.info()"
   ]
  },
  {
   "cell_type": "code",
   "execution_count": 45,
   "id": "706a0807",
   "metadata": {},
   "outputs": [],
   "source": [
    "def conversion(Score):\n",
    "    if Score==4 or Score==5:\n",
    "        return 'Positive'\n",
    "    elif Score==3:\n",
    "        return 'Neutral'\n",
    "    else:\n",
    "        return 'Negative'"
   ]
  },
  {
   "cell_type": "code",
   "execution_count": 47,
   "id": "ea442047",
   "metadata": {},
   "outputs": [
    {
     "data": {
      "text/html": [
       "<div>\n",
       "<style scoped>\n",
       "    .dataframe tbody tr th:only-of-type {\n",
       "        vertical-align: middle;\n",
       "    }\n",
       "\n",
       "    .dataframe tbody tr th {\n",
       "        vertical-align: top;\n",
       "    }\n",
       "\n",
       "    .dataframe thead th {\n",
       "        text-align: right;\n",
       "    }\n",
       "</style>\n",
       "<table border=\"1\" class=\"dataframe\">\n",
       "  <thead>\n",
       "    <tr style=\"text-align: right;\">\n",
       "      <th></th>\n",
       "      <th>Score</th>\n",
       "      <th>Text</th>\n",
       "      <th>Sentiment</th>\n",
       "    </tr>\n",
       "  </thead>\n",
       "  <tbody>\n",
       "    <tr>\n",
       "      <th>0</th>\n",
       "      <td>5</td>\n",
       "      <td>Love this herbal tea! It's so delicious! It ta...</td>\n",
       "      <td>Positive</td>\n",
       "    </tr>\n",
       "    <tr>\n",
       "      <th>1</th>\n",
       "      <td>5</td>\n",
       "      <td>This is it, the holy grail of dog powders to c...</td>\n",
       "      <td>Positive</td>\n",
       "    </tr>\n",
       "    <tr>\n",
       "      <th>2</th>\n",
       "      <td>5</td>\n",
       "      <td>Nice sweet treat with some nutritional value. ...</td>\n",
       "      <td>Positive</td>\n",
       "    </tr>\n",
       "    <tr>\n",
       "      <th>3</th>\n",
       "      <td>5</td>\n",
       "      <td>The Marley coffee is the best aroma and taste....</td>\n",
       "      <td>Positive</td>\n",
       "    </tr>\n",
       "    <tr>\n",
       "      <th>4</th>\n",
       "      <td>1</td>\n",
       "      <td>The beans arrived good packed. Filled my Vario...</td>\n",
       "      <td>Negative</td>\n",
       "    </tr>\n",
       "    <tr>\n",
       "      <th>...</th>\n",
       "      <td>...</td>\n",
       "      <td>...</td>\n",
       "      <td>...</td>\n",
       "    </tr>\n",
       "    <tr>\n",
       "      <th>9995</th>\n",
       "      <td>5</td>\n",
       "      <td>These are the greatest grape licorice ever!  I...</td>\n",
       "      <td>Positive</td>\n",
       "    </tr>\n",
       "    <tr>\n",
       "      <th>9996</th>\n",
       "      <td>5</td>\n",
       "      <td>The Stash Tea Company seems to make excellent ...</td>\n",
       "      <td>Positive</td>\n",
       "    </tr>\n",
       "    <tr>\n",
       "      <th>9997</th>\n",
       "      <td>5</td>\n",
       "      <td>I decided to take a chance and give this produ...</td>\n",
       "      <td>Positive</td>\n",
       "    </tr>\n",
       "    <tr>\n",
       "      <th>9998</th>\n",
       "      <td>3</td>\n",
       "      <td>Our family is divided into those who like Velv...</td>\n",
       "      <td>Neutral</td>\n",
       "    </tr>\n",
       "    <tr>\n",
       "      <th>9999</th>\n",
       "      <td>1</td>\n",
       "      <td>We were hoping to like this fairly pricey prod...</td>\n",
       "      <td>Negative</td>\n",
       "    </tr>\n",
       "  </tbody>\n",
       "</table>\n",
       "<p>10000 rows × 3 columns</p>\n",
       "</div>"
      ],
      "text/plain": [
       "      Score                                               Text Sentiment\n",
       "0         5  Love this herbal tea! It's so delicious! It ta...  Positive\n",
       "1         5  This is it, the holy grail of dog powders to c...  Positive\n",
       "2         5  Nice sweet treat with some nutritional value. ...  Positive\n",
       "3         5  The Marley coffee is the best aroma and taste....  Positive\n",
       "4         1  The beans arrived good packed. Filled my Vario...  Negative\n",
       "...     ...                                                ...       ...\n",
       "9995      5  These are the greatest grape licorice ever!  I...  Positive\n",
       "9996      5  The Stash Tea Company seems to make excellent ...  Positive\n",
       "9997      5  I decided to take a chance and give this produ...  Positive\n",
       "9998      3  Our family is divided into those who like Velv...   Neutral\n",
       "9999      1  We were hoping to like this fairly pricey prod...  Negative\n",
       "\n",
       "[10000 rows x 3 columns]"
      ]
     },
     "execution_count": 47,
     "metadata": {},
     "output_type": "execute_result"
    }
   ],
   "source": [
    "df['Sentiment'] = df['Score'].apply(conversion)\n",
    "df"
   ]
  },
  {
   "cell_type": "code",
   "execution_count": 50,
   "id": "7bfa30d6",
   "metadata": {},
   "outputs": [
    {
     "data": {
      "text/plain": [
       "Positive    7747\n",
       "Negative    1478\n",
       "Neutral      775\n",
       "Name: Sentiment, dtype: int64"
      ]
     },
     "execution_count": 50,
     "metadata": {},
     "output_type": "execute_result"
    }
   ],
   "source": [
    "df['Sentiment'].value_counts()"
   ]
  },
  {
   "cell_type": "code",
   "execution_count": 53,
   "id": "677b9ad1",
   "metadata": {},
   "outputs": [
    {
     "data": {
      "text/plain": [
       "<Axes: >"
      ]
     },
     "execution_count": 53,
     "metadata": {},
     "output_type": "execute_result"
    },
    {
     "data": {
      "image/png": "[encoded data removed]",
      "text/plain": [
       "<Figure size 640x480 with 1 Axes>"
      ]
     },
     "metadata": {},
     "output_type": "display_data"
    }
   ],
   "source": [
    "df['Sentiment'].value_counts().plot(kind='bar')"
   ]
  },
  {
   "cell_type": "markdown",
   "id": "c2035f96",
   "metadata": {},
   "source": [
    "# 2.TEXT PREPROCESS"
   ]
  },
  {
   "cell_type": "markdown",
   "id": "7823b347",
   "metadata": {},
   "source": [
    "Text Pre-Processing is the step to clean data . Clean data is essential because we need to send vectors for important words predicting target hence words not so essential has to be cleaned."
   ]
  },
  {
   "cell_type": "code",
   "execution_count": 54,
   "id": "a6e079de",
   "metadata": {},
   "outputs": [
    {
     "data": {
      "text/html": [
       "<div>\n",
       "<style scoped>\n",
       "    .dataframe tbody tr th:only-of-type {\n",
       "        vertical-align: middle;\n",
       "    }\n",
       "\n",
       "    .dataframe tbody tr th {\n",
       "        vertical-align: top;\n",
       "    }\n",
       "\n",
       "    .dataframe thead th {\n",
       "        text-align: right;\n",
       "    }\n",
       "</style>\n",
       "<table border=\"1\" class=\"dataframe\">\n",
       "  <thead>\n",
       "    <tr style=\"text-align: right;\">\n",
       "      <th></th>\n",
       "      <th>Score</th>\n",
       "      <th>Text</th>\n",
       "      <th>Sentiment</th>\n",
       "    </tr>\n",
       "  </thead>\n",
       "  <tbody>\n",
       "    <tr>\n",
       "      <th>0</th>\n",
       "      <td>5</td>\n",
       "      <td>Love this herbal tea! It's so delicious! It ta...</td>\n",
       "      <td>Positive</td>\n",
       "    </tr>\n",
       "    <tr>\n",
       "      <th>1</th>\n",
       "      <td>5</td>\n",
       "      <td>This is it, the holy grail of dog powders to c...</td>\n",
       "      <td>Positive</td>\n",
       "    </tr>\n",
       "    <tr>\n",
       "      <th>2</th>\n",
       "      <td>5</td>\n",
       "      <td>Nice sweet treat with some nutritional value. ...</td>\n",
       "      <td>Positive</td>\n",
       "    </tr>\n",
       "    <tr>\n",
       "      <th>3</th>\n",
       "      <td>5</td>\n",
       "      <td>The Marley coffee is the best aroma and taste....</td>\n",
       "      <td>Positive</td>\n",
       "    </tr>\n",
       "    <tr>\n",
       "      <th>4</th>\n",
       "      <td>1</td>\n",
       "      <td>The beans arrived good packed. Filled my Vario...</td>\n",
       "      <td>Negative</td>\n",
       "    </tr>\n",
       "  </tbody>\n",
       "</table>\n",
       "</div>"
      ],
      "text/plain": [
       "   Score                                               Text Sentiment\n",
       "0      5  Love this herbal tea! It's so delicious! It ta...  Positive\n",
       "1      5  This is it, the holy grail of dog powders to c...  Positive\n",
       "2      5  Nice sweet treat with some nutritional value. ...  Positive\n",
       "3      5  The Marley coffee is the best aroma and taste....  Positive\n",
       "4      1  The beans arrived good packed. Filled my Vario...  Negative"
      ]
     },
     "execution_count": 54,
     "metadata": {},
     "output_type": "execute_result"
    }
   ],
   "source": [
    "df.head()"
   ]
  },
  {
   "cell_type": "code",
   "execution_count": null,
   "id": "c85158e9",
   "metadata": {},
   "outputs": [],
   "source": []
  },
  {
   "cell_type": "markdown",
   "id": "c6c9c0d9",
   "metadata": {},
   "source": [
    "# 2.1 Lowercase"
   ]
  },
  {
   "cell_type": "markdown",
   "id": "6894db71",
   "metadata": {},
   "source": [
    "Lowercasing is required to put all the wors in lowercase and it is useful to manage the case senstivity of a word in python."
   ]
  },
  {
   "cell_type": "markdown",
   "id": "81f8a3d9",
   "metadata": {},
   "source": [
    "Example - in python 'Machine' and 'machine' are different words however in english they are same"
   ]
  },
  {
   "cell_type": "code",
   "execution_count": 55,
   "id": "1ac67cee",
   "metadata": {},
   "outputs": [
    {
     "data": {
      "text/plain": [
       "'i am doing a project today'"
      ]
     },
     "execution_count": 55,
     "metadata": {},
     "output_type": "execute_result"
    }
   ],
   "source": [
    "text='I am doing a PROJECT TOdaY'\n",
    "text.lower()"
   ]
  },
  {
   "cell_type": "code",
   "execution_count": 56,
   "id": "a2f80069",
   "metadata": {},
   "outputs": [],
   "source": [
    "#lowercase\n",
    "df['Text']=df['Text'].str.lower()"
   ]
  },
  {
   "cell_type": "code",
   "execution_count": 57,
   "id": "af60dcf2",
   "metadata": {},
   "outputs": [
    {
     "data": {
      "text/html": [
       "<div>\n",
       "<style scoped>\n",
       "    .dataframe tbody tr th:only-of-type {\n",
       "        vertical-align: middle;\n",
       "    }\n",
       "\n",
       "    .dataframe tbody tr th {\n",
       "        vertical-align: top;\n",
       "    }\n",
       "\n",
       "    .dataframe thead th {\n",
       "        text-align: right;\n",
       "    }\n",
       "</style>\n",
       "<table border=\"1\" class=\"dataframe\">\n",
       "  <thead>\n",
       "    <tr style=\"text-align: right;\">\n",
       "      <th></th>\n",
       "      <th>Score</th>\n",
       "      <th>Text</th>\n",
       "      <th>Sentiment</th>\n",
       "    </tr>\n",
       "  </thead>\n",
       "  <tbody>\n",
       "    <tr>\n",
       "      <th>0</th>\n",
       "      <td>5</td>\n",
       "      <td>love this herbal tea! it's so delicious! it ta...</td>\n",
       "      <td>Positive</td>\n",
       "    </tr>\n",
       "    <tr>\n",
       "      <th>1</th>\n",
       "      <td>5</td>\n",
       "      <td>this is it, the holy grail of dog powders to c...</td>\n",
       "      <td>Positive</td>\n",
       "    </tr>\n",
       "    <tr>\n",
       "      <th>2</th>\n",
       "      <td>5</td>\n",
       "      <td>nice sweet treat with some nutritional value. ...</td>\n",
       "      <td>Positive</td>\n",
       "    </tr>\n",
       "    <tr>\n",
       "      <th>3</th>\n",
       "      <td>5</td>\n",
       "      <td>the marley coffee is the best aroma and taste....</td>\n",
       "      <td>Positive</td>\n",
       "    </tr>\n",
       "    <tr>\n",
       "      <th>4</th>\n",
       "      <td>1</td>\n",
       "      <td>the beans arrived good packed. filled my vario...</td>\n",
       "      <td>Negative</td>\n",
       "    </tr>\n",
       "  </tbody>\n",
       "</table>\n",
       "</div>"
      ],
      "text/plain": [
       "   Score                                               Text Sentiment\n",
       "0      5  love this herbal tea! it's so delicious! it ta...  Positive\n",
       "1      5  this is it, the holy grail of dog powders to c...  Positive\n",
       "2      5  nice sweet treat with some nutritional value. ...  Positive\n",
       "3      5  the marley coffee is the best aroma and taste....  Positive\n",
       "4      1  the beans arrived good packed. filled my vario...  Negative"
      ]
     },
     "execution_count": 57,
     "metadata": {},
     "output_type": "execute_result"
    }
   ],
   "source": [
    "df.head()"
   ]
  },
  {
   "cell_type": "markdown",
   "id": "81295c81",
   "metadata": {},
   "source": [
    "# 2.2 Punctuation Removal"
   ]
  },
  {
   "cell_type": "markdown",
   "id": "cf1cf194",
   "metadata": {},
   "source": [
    "Punctuation removal is nessecary because they do not contribute in prediction of variable"
   ]
  },
  {
   "cell_type": "code",
   "execution_count": 58,
   "id": "7143bc11",
   "metadata": {},
   "outputs": [],
   "source": [
    "#punctuation removal\n",
    "import string\n",
    "char=string.punctuation"
   ]
  },
  {
   "cell_type": "code",
   "execution_count": 59,
   "id": "92ae8dec",
   "metadata": {},
   "outputs": [
    {
     "data": {
      "text/plain": [
       "'!\"#$%&\\'()*+,-./:;<=>?@[\\\\]^_`{|}~'"
      ]
     },
     "execution_count": 59,
     "metadata": {},
     "output_type": "execute_result"
    }
   ],
   "source": [
    "char"
   ]
  },
  {
   "cell_type": "code",
   "execution_count": 60,
   "id": "433022de",
   "metadata": {},
   "outputs": [],
   "source": [
    "def pun_rem(text):\n",
    "    for i in char:\n",
    "        text=text.replace(i,'')\n",
    "    return text"
   ]
  },
  {
   "cell_type": "code",
   "execution_count": 61,
   "id": "b1f4bbdb",
   "metadata": {},
   "outputs": [],
   "source": [
    "df['Text']=df['Text'].apply(pun_rem)"
   ]
  },
  {
   "cell_type": "code",
   "execution_count": 62,
   "id": "02254bcc",
   "metadata": {},
   "outputs": [
    {
     "data": {
      "text/plain": [
       "'my baby enjoyed this flavor when i purchased it at a store  i ordered a case of it from amazon  the whole case arrived moldy  each jar popped when i opened it too showing that it was properly sealed  i contacted earths best  they said they would look into it but would not follow up with me  given what is going on in our food industry i will not purchase any more products from this company  it is to scary when feeding a baby  amazon refunded me but did not take it any further  be very careful and inform other families too  update i was so disappointed with the lack of concern from earths best and amazon  i contacted the fda they referred me to the usda because the product contained meat  they took it very serious and had also received several complaints  they have come to my house and written a report  if anyone else noticed this problem please contact the usda 18886746854br to report your claimproblem  they will investigate the problem and the earths best plant to make sure they are following regulations'"
      ]
     },
     "execution_count": 62,
     "metadata": {},
     "output_type": "execute_result"
    }
   ],
   "source": [
    "#checking some random row \n",
    "df['Text'][9187]"
   ]
  },
  {
   "cell_type": "code",
   "execution_count": null,
   "id": "d5991088",
   "metadata": {},
   "outputs": [],
   "source": []
  },
  {
   "cell_type": "code",
   "execution_count": 63,
   "id": "c4c86bdf",
   "metadata": {},
   "outputs": [
    {
     "data": {
      "text/plain": [
       "'Heythere Hows it going  Have you seen samantha  I think she must be out  of the city Right  also  let me add a stopwrods a  it he shehad'"
      ]
     },
     "execution_count": 63,
     "metadata": {},
     "output_type": "execute_result"
    }
   ],
   "source": [
    "#checking function on a random text\n",
    "text4=\"Hey!!there!!, How's it going ? Have you seen +samantha ? I think she ,must{ be} out * of the $city .Right ? ?,also , let me add a stopwrods a , it, he ,she,had\"\n",
    "pun_rem(text4)"
   ]
  },
  {
   "cell_type": "markdown",
   "id": "3f083351",
   "metadata": {},
   "source": [
    "## 2.3 HTML TAGS"
   ]
  },
  {
   "cell_type": "markdown",
   "id": "0bdeb41c",
   "metadata": {},
   "source": [
    "Has to be removed because no contribution towards prediction"
   ]
  },
  {
   "cell_type": "code",
   "execution_count": 64,
   "id": "1b066d27",
   "metadata": {},
   "outputs": [],
   "source": [
    "#REGEX is very much used in NLP \n",
    "\n",
    "import re\n",
    "def removal_html(text):\n",
    "    pattern = re.compile('<.*?>')#for html tags removal\n",
    "    return pattern.sub(r'',text) #substituing tag with ''"
   ]
  },
  {
   "cell_type": "code",
   "execution_count": 65,
   "id": "2a0f01ae",
   "metadata": {},
   "outputs": [],
   "source": [
    "df['Text']=df['Text'].apply(removal_html)"
   ]
  },
  {
   "cell_type": "code",
   "execution_count": 66,
   "id": "ae946c18",
   "metadata": {},
   "outputs": [
    {
     "data": {
      "text/plain": [
       "'Hello world! Click here to learn more about HTML.'"
      ]
     },
     "execution_count": 66,
     "metadata": {},
     "output_type": "execute_result"
    }
   ],
   "source": [
    "#checking on random text\n",
    "text = '<b>Hello</b> <i>world!</i> <a href=\"https://www.example.com\">Click here</a> to learn more about HTML.'\n",
    "removal_html(text)"
   ]
  },
  {
   "cell_type": "markdown",
   "id": "d295fca2",
   "metadata": {},
   "source": [
    "# 2.4 REMOVE URL AND WWW"
   ]
  },
  {
   "cell_type": "code",
   "execution_count": 67,
   "id": "9cae4728",
   "metadata": {},
   "outputs": [],
   "source": [
    "# remove URL\n",
    "def rem_url(text):\n",
    "    pattern=re.compile('https?://\\S+|www.\\S+')\n",
    "    \n",
    "    return pattern.sub(r'',text)"
   ]
  },
  {
   "cell_type": "code",
   "execution_count": 68,
   "id": "1a9a26e5",
   "metadata": {},
   "outputs": [],
   "source": [
    "df['Text']=df['Text'].apply(rem_url)"
   ]
  },
  {
   "cell_type": "code",
   "execution_count": 69,
   "id": "9feb02c7",
   "metadata": {},
   "outputs": [
    {
     "data": {
      "text/plain": [
       "'Check out our latest product at  and at  '"
      ]
     },
     "execution_count": 69,
     "metadata": {},
     "output_type": "execute_result"
    }
   ],
   "source": [
    "#checking on random string\n",
    "text1 = \"Check out our latest product at http://url.com/bla1/blah1/ and at  www.yahoo.com\"\n",
    "rem_url(text1)\n"
   ]
  },
  {
   "cell_type": "markdown",
   "id": "5aea3e17",
   "metadata": {},
   "source": [
    "# 2.5 Stop word removal"
   ]
  },
  {
   "cell_type": "code",
   "execution_count": 70,
   "id": "33ef0816",
   "metadata": {},
   "outputs": [],
   "source": [
    "def stp_rem(text):\n",
    "    token=text.split()\n",
    "    tokens=[x for x in token if x not in stopwords.words('english')]\n",
    "    feat=' '.join(tokens)\n",
    "    return feat"
   ]
  },
  {
   "cell_type": "code",
   "execution_count": 71,
   "id": "c94682ad",
   "metadata": {},
   "outputs": [
    {
     "name": "stdout",
     "output_type": "stream",
     "text": [
      "['i', 'me', 'my', 'myself', 'we', 'our', 'ours', 'ourselves', 'you', \"you're\", \"you've\", \"you'll\", \"you'd\", 'your', 'yours', 'yourself', 'yourselves', 'he', 'him', 'his', 'himself', 'she', \"she's\", 'her', 'hers', 'herself', 'it', \"it's\", 'its', 'itself', 'they', 'them', 'their', 'theirs', 'themselves', 'what', 'which', 'who', 'whom', 'this', 'that', \"that'll\", 'these', 'those', 'am', 'is', 'are', 'was', 'were', 'be', 'been', 'being', 'have', 'has', 'had', 'having', 'do', 'does', 'did', 'doing', 'a', 'an', 'the', 'and', 'but', 'if', 'or', 'because', 'as', 'until', 'while', 'of', 'at', 'by', 'for', 'with', 'about', 'against', 'between', 'into', 'through', 'during', 'before', 'after', 'above', 'below', 'to', 'from', 'up', 'down', 'in', 'out', 'on', 'off', 'over', 'under', 'again', 'further', 'then', 'once', 'here', 'there', 'when', 'where', 'why', 'how', 'all', 'any', 'both', 'each', 'few', 'more', 'most', 'other', 'some', 'such', 'no', 'nor', 'not', 'only', 'own', 'same', 'so', 'than', 'too', 'very', 's', 't', 'can', 'will', 'just', 'don', \"don't\", 'should', \"should've\", 'now', 'd', 'll', 'm', 'o', 're', 've', 'y', 'ain', 'aren', \"aren't\", 'couldn', \"couldn't\", 'didn', \"didn't\", 'doesn', \"doesn't\", 'hadn', \"hadn't\", 'hasn', \"hasn't\", 'haven', \"haven't\", 'isn', \"isn't\", 'ma', 'mightn', \"mightn't\", 'mustn', \"mustn't\", 'needn', \"needn't\", 'shan', \"shan't\", 'shouldn', \"shouldn't\", 'wasn', \"wasn't\", 'weren', \"weren't\", 'won', \"won't\", 'wouldn', \"wouldn't\"]\n"
     ]
    }
   ],
   "source": [
    "print(stopwords.words('english'))\n",
    "#note all stopwords are in lower case"
   ]
  },
  {
   "cell_type": "code",
   "execution_count": 72,
   "id": "099edfc8",
   "metadata": {},
   "outputs": [
    {
     "data": {
      "text/plain": [
       "'Hi Yesterday I watched two movies Annabella o.u.a.t.a day yesterday watched Life pie'"
      ]
     },
     "execution_count": 72,
     "metadata": {},
     "output_type": "execute_result"
    }
   ],
   "source": [
    "#checking on a random text\n",
    "text2='Hi Yesterday I watched two movies Annabella and o.u.a.t.a and day before yesterday i watched Life of pie'\n",
    "stp_rem(text2)"
   ]
  },
  {
   "cell_type": "code",
   "execution_count": 73,
   "id": "0c2a024b",
   "metadata": {},
   "outputs": [],
   "source": [
    "df['Text']=df['Text'].apply(stp_rem)"
   ]
  },
  {
   "cell_type": "code",
   "execution_count": 74,
   "id": "0b1e2a62",
   "metadata": {},
   "outputs": [
    {
     "data": {
      "text/plain": [
       "'thank udis making delicious gf bread top soy free love udis products pizza crusts bagels muffins etc closest regular found yes small thats ok great toast nice eaten without toasting fall apart even use make garlic bread rest family french bread garlic bread works well french toast love'"
      ]
     },
     "execution_count": 74,
     "metadata": {},
     "output_type": "execute_result"
    }
   ],
   "source": [
    "df['Text'][14]"
   ]
  },
  {
   "cell_type": "markdown",
   "id": "b2c75d63",
   "metadata": {},
   "source": [
    "# 2.6 LEMMITIZATION"
   ]
  },
  {
   "cell_type": "code",
   "execution_count": 75,
   "id": "16be86f4",
   "metadata": {},
   "outputs": [
    {
     "name": "stderr",
     "output_type": "stream",
     "text": [
      "[nltk_data] Downloading package wordnet to\n",
      "[nltk_data]     C:\\Users\\esvit\\AppData\\Roaming\\nltk_data...\n",
      "[nltk_data]   Package wordnet is already up-to-date!\n"
     ]
    },
    {
     "data": {
      "text/plain": [
       "True"
      ]
     },
     "execution_count": 75,
     "metadata": {},
     "output_type": "execute_result"
    }
   ],
   "source": [
    "from nltk.stem import WordNetLemmatizer\n",
    "import nltk\n",
    "nltk.download('wordnet')"
   ]
  },
  {
   "cell_type": "code",
   "execution_count": 76,
   "id": "03c49ea6",
   "metadata": {},
   "outputs": [],
   "source": [
    "wl=WordNetLemmatizer()"
   ]
  },
  {
   "cell_type": "code",
   "execution_count": 77,
   "id": "ee201f07",
   "metadata": {},
   "outputs": [],
   "source": [
    "def lem(text):\n",
    "    words=word_tokenize(text)\n",
    "    lemm=[wl.lemmatize(i) for i in words]#since lemmitizer work on each word hence we need to have list of it\n",
    "    return ' '.join(lemm)"
   ]
  },
  {
   "cell_type": "code",
   "execution_count": 78,
   "id": "56f4f35e",
   "metadata": {},
   "outputs": [],
   "source": [
    "df['Text'] = df['Text'].apply(lem)"
   ]
  },
  {
   "cell_type": "code",
   "execution_count": 79,
   "id": "1872c328",
   "metadata": {},
   "outputs": [
    {
     "data": {
      "text/plain": [
       "0       love herbal tea delicious taste like oolong te...\n",
       "1       holy grail dog powder convince dog workbr pour...\n",
       "2       nice sweet treat nutritional value fantastic t...\n",
       "3       marley coffee best aroma taste provides true c...\n",
       "4       bean arrived good packed filled vario grinder ...\n",
       "                              ...                        \n",
       "9995    greatest grape licorice ever used eat child gr...\n",
       "9996    stash tea company seems make excellent product...\n",
       "9997    decided take chance give product try turned wi...\n",
       "9998    family divided like velveeta cheese dont im on...\n",
       "9999    hoping like fairly pricey product warm cold fo...\n",
       "Name: Text, Length: 10000, dtype: object"
      ]
     },
     "execution_count": 79,
     "metadata": {},
     "output_type": "execute_result"
    }
   ],
   "source": [
    "df['Text']"
   ]
  },
  {
   "cell_type": "markdown",
   "id": "f44dd6eb",
   "metadata": {},
   "source": [
    "# 4. Text Vectorisation"
   ]
  },
  {
   "cell_type": "code",
   "execution_count": 81,
   "id": "d70c99dd",
   "metadata": {},
   "outputs": [],
   "source": [
    "#df\n"
   ]
  },
  {
   "cell_type": "code",
   "execution_count": 93,
   "id": "7287a69c",
   "metadata": {},
   "outputs": [],
   "source": [
    "x=df['Text']\n",
    "y=df['Sentiment']"
   ]
  },
  {
   "cell_type": "code",
   "execution_count": 94,
   "id": "65531648",
   "metadata": {},
   "outputs": [
    {
     "data": {
      "text/plain": [
       "0       love herbal tea delicious taste like oolong te...\n",
       "1       holy grail dog powder convince dog workbr pour...\n",
       "2       nice sweet treat nutritional value fantastic t...\n",
       "3       marley coffee best aroma taste provides true c...\n",
       "4       bean arrived good packed filled vario grinder ...\n",
       "                              ...                        \n",
       "9995    greatest grape licorice ever used eat child gr...\n",
       "9996    stash tea company seems make excellent product...\n",
       "9997    decided take chance give product try turned wi...\n",
       "9998    family divided like velveeta cheese dont im on...\n",
       "9999    hoping like fairly pricey product warm cold fo...\n",
       "Name: Text, Length: 10000, dtype: object"
      ]
     },
     "execution_count": 94,
     "metadata": {},
     "output_type": "execute_result"
    }
   ],
   "source": [
    "x"
   ]
  },
  {
   "cell_type": "code",
   "execution_count": 95,
   "id": "f15e3cdf",
   "metadata": {},
   "outputs": [
    {
     "data": {
      "text/plain": [
       "0       Positive\n",
       "1       Positive\n",
       "2       Positive\n",
       "3       Positive\n",
       "4       Negative\n",
       "          ...   \n",
       "9995    Positive\n",
       "9996    Positive\n",
       "9997    Positive\n",
       "9998     Neutral\n",
       "9999    Negative\n",
       "Name: Sentiment, Length: 10000, dtype: object"
      ]
     },
     "execution_count": 95,
     "metadata": {},
     "output_type": "execute_result"
    }
   ],
   "source": [
    "y"
   ]
  },
  {
   "cell_type": "code",
   "execution_count": 97,
   "id": "93d0814e",
   "metadata": {},
   "outputs": [
    {
     "data": {
      "text/plain": [
       "array([2, 2, 2, ..., 2, 1, 0])"
      ]
     },
     "execution_count": 97,
     "metadata": {},
     "output_type": "execute_result"
    }
   ],
   "source": [
    "from sklearn.preprocessing import LabelEncoder\n",
    "y=LabelEncoder().fit_transform(y)\n",
    "y"
   ]
  },
  {
   "cell_type": "markdown",
   "id": "ff4556e8",
   "metadata": {},
   "source": [
    "HERE\n",
    "* positive is 2 \n",
    "* neutral is 1 \n",
    "* Negative is 0"
   ]
  },
  {
   "cell_type": "code",
   "execution_count": 99,
   "id": "6ab07d32",
   "metadata": {},
   "outputs": [
    {
     "data": {
      "text/plain": [
       "((8000,), (2000,))"
      ]
     },
     "execution_count": 99,
     "metadata": {},
     "output_type": "execute_result"
    }
   ],
   "source": [
    "from sklearn.model_selection import train_test_split\n",
    "x_train,x_test,y_train,y_test=train_test_split(x,y,test_size=0.2,random_state=42)\n",
    "x_train.shape,y_test.shape"
   ]
  },
  {
   "cell_type": "code",
   "execution_count": 101,
   "id": "8f3bddbb",
   "metadata": {},
   "outputs": [
    {
     "data": {
      "text/plain": [
       "(2000,)"
      ]
     },
     "execution_count": 101,
     "metadata": {},
     "output_type": "execute_result"
    }
   ],
   "source": [
    "y_test.shape"
   ]
  },
  {
   "cell_type": "markdown",
   "id": "f4ac3700",
   "metadata": {},
   "source": [
    "# 4.1 BOW"
   ]
  },
  {
   "cell_type": "code",
   "execution_count": 102,
   "id": "5aeb641b",
   "metadata": {},
   "outputs": [],
   "source": [
    "from sklearn.feature_extraction.text import CountVectorizer\n",
    "cv=CountVectorizer(ngram_range=(1,1))"
   ]
  },
  {
   "cell_type": "code",
   "execution_count": 103,
   "id": "c0dd8c43",
   "metadata": {},
   "outputs": [
    {
     "data": {
      "text/plain": [
       "<8000x21609 sparse matrix of type '<class 'numpy.int64'>'\n",
       "\twith 273675 stored elements in Compressed Sparse Row format>"
      ]
     },
     "execution_count": 103,
     "metadata": {},
     "output_type": "execute_result"
    }
   ],
   "source": [
    "x_train_bow=cv.fit_transform(x_train)\n",
    "x_test_bow=cv.transform(x_test)\n",
    "x_train_bow"
   ]
  },
  {
   "cell_type": "code",
   "execution_count": 104,
   "id": "57a813e5",
   "metadata": {},
   "outputs": [
    {
     "data": {
      "text/plain": [
       "(8000, 21609)"
      ]
     },
     "execution_count": 104,
     "metadata": {},
     "output_type": "execute_result"
    }
   ],
   "source": [
    "x_train_bow.shape"
   ]
  },
  {
   "cell_type": "markdown",
   "id": "e461a535",
   "metadata": {},
   "source": [
    "trying to find the documents and its vector"
   ]
  },
  {
   "cell_type": "code",
   "execution_count": 105,
   "id": "02516d08",
   "metadata": {},
   "outputs": [
    {
     "name": "stdout",
     "output_type": "stream",
     "text": [
      "('fading', 7391)\n"
     ]
    }
   ],
   "source": [
    "lis=list(cv.vocabulary_.items())\n",
    "lis\n",
    "for i in lis:\n",
    "    if i[1]==7391:\n",
    "        print(i)\n",
    "        break"
   ]
  },
  {
   "cell_type": "markdown",
   "id": "74c2ceeb",
   "metadata": {},
   "source": [
    "Found that order of x_train_bow is different from x_train"
   ]
  },
  {
   "cell_type": "markdown",
   "id": "aca6a158",
   "metadata": {},
   "source": [
    "# 4.2 N-GRAM"
   ]
  },
  {
   "cell_type": "code",
   "execution_count": 106,
   "id": "0425dd87",
   "metadata": {},
   "outputs": [],
   "source": [
    "from sklearn.feature_extraction.text import CountVectorizer\n",
    "bigm=CountVectorizer(ngram_range=(2,2))"
   ]
  },
  {
   "cell_type": "code",
   "execution_count": 107,
   "id": "9f0baf06",
   "metadata": {},
   "outputs": [
    {
     "data": {
      "text/plain": [
       "(8000, 209292)"
      ]
     },
     "execution_count": 107,
     "metadata": {},
     "output_type": "execute_result"
    }
   ],
   "source": [
    "x_train_bgm = bigm.fit_transform(x_train)\n",
    "x_test_bgm=bigm.transform(x_test)\n",
    "x_train_bgm.shape"
   ]
  },
  {
   "cell_type": "code",
   "execution_count": 108,
   "id": "f5cbd9b5",
   "metadata": {},
   "outputs": [
    {
     "data": {
      "text/plain": [
       "209292"
      ]
     },
     "execution_count": 108,
     "metadata": {},
     "output_type": "execute_result"
    }
   ],
   "source": [
    "len(bigm.vocabulary_)"
   ]
  },
  {
   "cell_type": "code",
   "execution_count": 109,
   "id": "4d16b681",
   "metadata": {},
   "outputs": [],
   "source": [
    "#bigm.vocabulary_"
   ]
  },
  {
   "cell_type": "markdown",
   "id": "4af884f7",
   "metadata": {},
   "source": [
    "# 4.3  Tri gram"
   ]
  },
  {
   "cell_type": "code",
   "execution_count": 110,
   "id": "ab224ad3",
   "metadata": {},
   "outputs": [],
   "source": [
    "trgm=CountVectorizer(ngram_range=(3,3))\n",
    "x_train_trgm = trgm.fit_transform(x_train)\n",
    "x_test_trgm=trgm.transform(x_test)"
   ]
  },
  {
   "cell_type": "code",
   "execution_count": 111,
   "id": "662da019",
   "metadata": {},
   "outputs": [
    {
     "data": {
      "text/plain": [
       "(8000, 293820)"
      ]
     },
     "execution_count": 111,
     "metadata": {},
     "output_type": "execute_result"
    }
   ],
   "source": [
    "x_train_trgm.shape"
   ]
  },
  {
   "cell_type": "markdown",
   "id": "26bca32d",
   "metadata": {},
   "source": [
    "# 4.4 TF-IDF"
   ]
  },
  {
   "cell_type": "code",
   "execution_count": 112,
   "id": "5544d2c0",
   "metadata": {},
   "outputs": [],
   "source": [
    "from sklearn.feature_extraction.text import TfidfVectorizer\n",
    "tf=TfidfVectorizer()"
   ]
  },
  {
   "cell_type": "code",
   "execution_count": 113,
   "id": "07d4f523",
   "metadata": {},
   "outputs": [
    {
     "data": {
      "text/plain": [
       "(8000, 21609)"
      ]
     },
     "execution_count": 113,
     "metadata": {},
     "output_type": "execute_result"
    }
   ],
   "source": [
    "x_train_tf = tf.fit_transform(x_train)\n",
    "x_test_tf =tf.transform(x_test)\n",
    "x_train_tf.shape\n"
   ]
  },
  {
   "cell_type": "code",
   "execution_count": 114,
   "id": "e48497b6",
   "metadata": {},
   "outputs": [],
   "source": [
    "#tf.vocabulary_"
   ]
  },
  {
   "cell_type": "markdown",
   "id": "ed45d1b7",
   "metadata": {},
   "source": [
    "# 5 . Modeling"
   ]
  },
  {
   "cell_type": "markdown",
   "id": "c8925226",
   "metadata": {},
   "source": [
    "# ********* BASE MODELS***************"
   ]
  },
  {
   "cell_type": "markdown",
   "id": "c84ef330",
   "metadata": {},
   "source": [
    "# 5.1  Logistic Regression"
   ]
  },
  {
   "cell_type": "code",
   "execution_count": 115,
   "id": "3b91ab9e",
   "metadata": {},
   "outputs": [],
   "source": [
    "from sklearn.linear_model import LogisticRegression\n"
   ]
  },
  {
   "cell_type": "code",
   "execution_count": 125,
   "id": "927dc4dc",
   "metadata": {},
   "outputs": [],
   "source": [
    "lg=LogisticRegression(multi_class='multinomial',class_weight='balanced')"
   ]
  },
  {
   "cell_type": "code",
   "execution_count": 126,
   "id": "284f3d15",
   "metadata": {},
   "outputs": [
    {
     "data": {
      "text/plain": [
       "0.804"
      ]
     },
     "execution_count": 126,
     "metadata": {},
     "output_type": "execute_result"
    }
   ],
   "source": [
    "model_bow = lg.fit(x_train_bow,y_train)\n",
    "predict_bow=model_bow.predict(x_test_bow)\n",
    "accuracy_score(y_test,predict_bow)"
   ]
  },
  {
   "cell_type": "code",
   "execution_count": 127,
   "id": "0b8fd344",
   "metadata": {},
   "outputs": [
    {
     "data": {
      "text/plain": [
       "0.7885"
      ]
     },
     "execution_count": 127,
     "metadata": {},
     "output_type": "execute_result"
    }
   ],
   "source": [
    "model_bgm = lg.fit(x_train_bgm,y_train)\n",
    "predict_bgm=model_bgm.predict(x_test_bgm)\n",
    "accuracy_score(y_test,predict_bgm)"
   ]
  },
  {
   "cell_type": "code",
   "execution_count": 128,
   "id": "700e50af",
   "metadata": {},
   "outputs": [
    {
     "data": {
      "text/plain": [
       "0.779"
      ]
     },
     "execution_count": 128,
     "metadata": {},
     "output_type": "execute_result"
    }
   ],
   "source": [
    "model_tgm=lg.fit(x_train_trgm,y_train)\n",
    "predict_tgm=model_tgm.predict(x_test_trgm)\n",
    "accuracy_score(y_test,predict_tgm)"
   ]
  },
  {
   "cell_type": "code",
   "execution_count": 129,
   "id": "acfbbd61",
   "metadata": {},
   "outputs": [
    {
     "data": {
      "text/plain": [
       "0.7865"
      ]
     },
     "execution_count": 129,
     "metadata": {},
     "output_type": "execute_result"
    }
   ],
   "source": [
    "model_tf=lg.fit(x_train_tf,y_train)\n",
    "predict_tf=model_tf.predict(x_test_tf)\n",
    "accuracy_score(y_test,predict_tf)"
   ]
  },
  {
   "cell_type": "code",
   "execution_count": 131,
   "id": "fdd22209",
   "metadata": {},
   "outputs": [
    {
     "name": "stdout",
     "output_type": "stream",
     "text": [
      "0.788375\n",
      "0.79425\n",
      "0.78225\n",
      "0.77875\n"
     ]
    }
   ],
   "source": [
    "print(np.mean(cross_val_score(lg,x_train_bow,y_train,cv=5,scoring='accuracy')))\n",
    "print(np.mean(cross_val_score(lg,x_train_bgm,y_train,cv=5,scoring='accuracy')))\n",
    "print(np.mean(cross_val_score(lg,x_train_trgm,y_train,cv=5,scoring='accuracy')))\n",
    "print(np.mean(cross_val_score(lg,x_train_tf,y_train,cv=5,scoring='accuracy')))"
   ]
  },
  {
   "cell_type": "code",
   "execution_count": 132,
   "id": "c0e97a67",
   "metadata": {},
   "outputs": [
    {
     "data": {
      "text/plain": [
       "array([[ 191,   50,   80],\n",
       "       [  42,   50,   46],\n",
       "       [  94,   80, 1367]], dtype=int64)"
      ]
     },
     "execution_count": 132,
     "metadata": {},
     "output_type": "execute_result"
    }
   ],
   "source": [
    "#confusion matrix for BGM since it is showing the highest accuracy in LGR model\n",
    "confusion_matrix(y_test,predict_bow)"
   ]
  },
  {
   "cell_type": "code",
   "execution_count": 134,
   "id": "5ad3c67a",
   "metadata": {},
   "outputs": [
    {
     "name": "stdout",
     "output_type": "stream",
     "text": [
      "              precision    recall  f1-score   support\n",
      "\n",
      "           0       0.58      0.60      0.59       321\n",
      "           1       0.28      0.36      0.31       138\n",
      "           2       0.92      0.89      0.90      1541\n",
      "\n",
      "    accuracy                           0.80      2000\n",
      "   macro avg       0.59      0.61      0.60      2000\n",
      "weighted avg       0.82      0.80      0.81      2000\n",
      "\n"
     ]
    }
   ],
   "source": [
    "print(classification_report(y_test,predict_bow))"
   ]
  },
  {
   "cell_type": "markdown",
   "id": "229f62cd",
   "metadata": {},
   "source": [
    "# 5 .2MNB"
   ]
  },
  {
   "cell_type": "code",
   "execution_count": 135,
   "id": "09e23497",
   "metadata": {},
   "outputs": [],
   "source": [
    "from sklearn.naive_bayes import MultinomialNB\n",
    "mnb=MultinomialNB()"
   ]
  },
  {
   "cell_type": "code",
   "execution_count": 136,
   "id": "9b403029",
   "metadata": {},
   "outputs": [
    {
     "data": {
      "text/plain": [
       "0.808"
      ]
     },
     "execution_count": 136,
     "metadata": {},
     "output_type": "execute_result"
    }
   ],
   "source": [
    "model_bow = mnb.fit(x_train_bow,y_train)\n",
    "predict_bow= model_bow.predict(x_test_bow)\n",
    "accuracy_score(y_test,predict_bow)"
   ]
  },
  {
   "cell_type": "code",
   "execution_count": 139,
   "id": "253b9609",
   "metadata": {},
   "outputs": [
    {
     "data": {
      "text/plain": [
       "0.7975"
      ]
     },
     "execution_count": 139,
     "metadata": {},
     "output_type": "execute_result"
    }
   ],
   "source": [
    "model_bgm = mnb.fit(x_train_bgm,y_train)\n",
    "predict_bgm= model_bgm.predict(x_test_bgm)\n",
    "accuracy_score(y_test,predict_bgm)"
   ]
  },
  {
   "cell_type": "code",
   "execution_count": 140,
   "id": "c1dcd56d",
   "metadata": {},
   "outputs": [
    {
     "data": {
      "text/plain": [
       "0.7795"
      ]
     },
     "execution_count": 140,
     "metadata": {},
     "output_type": "execute_result"
    }
   ],
   "source": [
    "model_tgm = mnb.fit(x_train_trgm,y_train)\n",
    "predict_tgm= model_tgm.predict(x_test_trgm)\n",
    "accuracy_score(y_test,predict_tgm)"
   ]
  },
  {
   "cell_type": "code",
   "execution_count": 141,
   "id": "3bc90e19",
   "metadata": {},
   "outputs": [
    {
     "data": {
      "text/plain": [
       "0.7705"
      ]
     },
     "execution_count": 141,
     "metadata": {},
     "output_type": "execute_result"
    }
   ],
   "source": [
    "model_tf = mnb.fit(x_train_tf,y_train)\n",
    "predict_tf= model_tf.predict(x_test_tf)\n",
    "accuracy_score(y_test,predict_tf)"
   ]
  },
  {
   "cell_type": "code",
   "execution_count": 142,
   "id": "ef0f1672",
   "metadata": {},
   "outputs": [
    {
     "name": "stdout",
     "output_type": "stream",
     "text": [
      "0.801375\n",
      "0.558\n",
      "0.14537499999999998\n",
      "0.77575\n"
     ]
    }
   ],
   "source": [
    "print(np.mean(cross_val_score(mnb,x_train_bow,y_train,cv=5,scoring='accuracy')))\n",
    "print(np.mean(cross_val_score(mnb,x_train_bgm,y_train,cv=5,scoring='accuracy')))\n",
    "print(np.mean(cross_val_score(mnb,x_train_trgm,y_train,cv=5,scoring='accuracy')))\n",
    "print(np.mean(cross_val_score(mnb,x_train_tf,y_train,cv=5,scoring='accuracy')))"
   ]
  },
  {
   "cell_type": "code",
   "execution_count": 144,
   "id": "d2281d66",
   "metadata": {},
   "outputs": [
    {
     "data": {
      "text/plain": [
       "array([[  96,    1,  224],\n",
       "       [   6,    0,  132],\n",
       "       [  21,    0, 1520]], dtype=int64)"
      ]
     },
     "execution_count": 144,
     "metadata": {},
     "output_type": "execute_result"
    }
   ],
   "source": [
    "#predict_tf\n",
    "\n",
    "confusion_matrix(y_test,predict_bow)\n",
    "#predicted ---\n",
    "#actual| "
   ]
  },
  {
   "cell_type": "code",
   "execution_count": 146,
   "id": "ae7466c4",
   "metadata": {},
   "outputs": [
    {
     "name": "stdout",
     "output_type": "stream",
     "text": [
      "              precision    recall  f1-score   support\n",
      "\n",
      "           0       0.78      0.30      0.43       321\n",
      "           1       0.00      0.00      0.00       138\n",
      "           2       0.81      0.99      0.89      1541\n",
      "\n",
      "    accuracy                           0.81      2000\n",
      "   macro avg       0.53      0.43      0.44      2000\n",
      "weighted avg       0.75      0.81      0.75      2000\n",
      "\n"
     ]
    }
   ],
   "source": [
    "print(classification_report(y_test,predict_bow))"
   ]
  },
  {
   "cell_type": "markdown",
   "id": "666c1b6c",
   "metadata": {},
   "source": [
    "# 5.3 SVC"
   ]
  },
  {
   "cell_type": "code",
   "execution_count": 147,
   "id": "3d14b10c",
   "metadata": {},
   "outputs": [],
   "source": [
    "from sklearn.svm import SVC\n",
    "svc=SVC()"
   ]
  },
  {
   "cell_type": "code",
   "execution_count": 148,
   "id": "a07fa701",
   "metadata": {},
   "outputs": [
    {
     "data": {
      "text/plain": [
       "0.8035"
      ]
     },
     "execution_count": 148,
     "metadata": {},
     "output_type": "execute_result"
    }
   ],
   "source": [
    "model_bow=svc.fit(x_train_bow,y_train)\n",
    "predict_bow=svc.predict(x_test_bow)\n",
    "accuracy_score(y_test,predict_bow)"
   ]
  },
  {
   "cell_type": "code",
   "execution_count": 149,
   "id": "25f10cf0",
   "metadata": {},
   "outputs": [
    {
     "data": {
      "text/plain": [
       "0.7745"
      ]
     },
     "execution_count": 149,
     "metadata": {},
     "output_type": "execute_result"
    }
   ],
   "source": [
    "model_bgm=svc.fit(x_train_bgm,y_train)\n",
    "predict_bgm=svc.predict(x_test_bgm)\n",
    "accuracy_score(y_test,predict_bgm)"
   ]
  },
  {
   "cell_type": "code",
   "execution_count": 150,
   "id": "f4fcc459",
   "metadata": {},
   "outputs": [
    {
     "data": {
      "text/plain": [
       "0.7745"
      ]
     },
     "execution_count": 150,
     "metadata": {},
     "output_type": "execute_result"
    }
   ],
   "source": [
    "model_tgm=svc.fit(x_train_trgm,y_train)\n",
    "predict_tgm=svc.predict(x_test_trgm)\n",
    "accuracy_score(y_test,predict_tgm)"
   ]
  },
  {
   "cell_type": "code",
   "execution_count": 151,
   "id": "aa94fd21",
   "metadata": {},
   "outputs": [
    {
     "data": {
      "text/plain": [
       "0.807"
      ]
     },
     "execution_count": 151,
     "metadata": {},
     "output_type": "execute_result"
    }
   ],
   "source": [
    "model_tf=svc.fit(x_train_tf,y_train)\n",
    "predict_tf=svc.predict(x_test_tf)\n",
    "accuracy_score(y_test,predict_tf)"
   ]
  },
  {
   "cell_type": "code",
   "execution_count": 152,
   "id": "04b1b039",
   "metadata": {},
   "outputs": [
    {
     "data": {
      "text/plain": [
       "array([[  77,    6,    5],\n",
       "       [   0,    1,    0],\n",
       "       [ 244,  131, 1536]], dtype=int64)"
      ]
     },
     "execution_count": 152,
     "metadata": {},
     "output_type": "execute_result"
    }
   ],
   "source": [
    "confusion_matrix(predict_tf,y_test)"
   ]
  },
  {
   "cell_type": "code",
   "execution_count": 153,
   "id": "e2330f04",
   "metadata": {},
   "outputs": [
    {
     "name": "stdout",
     "output_type": "stream",
     "text": [
      "              precision    recall  f1-score   support\n",
      "\n",
      "           0       0.24      0.88      0.38        88\n",
      "           1       0.01      1.00      0.01         1\n",
      "           2       1.00      0.80      0.89      1911\n",
      "\n",
      "    accuracy                           0.81      2000\n",
      "   macro avg       0.41      0.89      0.43      2000\n",
      "weighted avg       0.96      0.81      0.87      2000\n",
      "\n"
     ]
    }
   ],
   "source": [
    "print(classification_report(predict_tf,y_test))"
   ]
  },
  {
   "cell_type": "code",
   "execution_count": 154,
   "id": "796fd5fc",
   "metadata": {},
   "outputs": [
    {
     "data": {
      "text/plain": [
       "0.8036249999999999"
      ]
     },
     "execution_count": 154,
     "metadata": {},
     "output_type": "execute_result"
    }
   ],
   "source": [
    "np.mean(cross_val_score(svc,x_train_tf,y_train,cv=10,scoring='accuracy'))"
   ]
  },
  {
   "cell_type": "code",
   "execution_count": 155,
   "id": "157c570d",
   "metadata": {},
   "outputs": [
    {
     "data": {
      "text/plain": [
       "0.795625"
      ]
     },
     "execution_count": 155,
     "metadata": {},
     "output_type": "execute_result"
    }
   ],
   "source": [
    "np.mean(cross_val_score(svc,x_train_bow,y_train,cv=10,scoring='accuracy'))"
   ]
  },
  {
   "cell_type": "markdown",
   "id": "f2a6c1d5",
   "metadata": {},
   "source": [
    "# Linear SVC\n"
   ]
  },
  {
   "cell_type": "code",
   "execution_count": 156,
   "id": "31e3346b",
   "metadata": {},
   "outputs": [],
   "source": [
    "from sklearn.svm import LinearSVC\n",
    "lsvc=LinearSVC()\n"
   ]
  },
  {
   "cell_type": "code",
   "execution_count": 157,
   "id": "ad036fef",
   "metadata": {},
   "outputs": [
    {
     "data": {
      "text/plain": [
       "0.8125"
      ]
     },
     "execution_count": 157,
     "metadata": {},
     "output_type": "execute_result"
    }
   ],
   "source": [
    "model_bow=lsvc.fit(x_train_bow,y_train)\n",
    "predict_bow=lsvc.predict(x_test_bow)\n",
    "accuracy_score(y_test,predict_bow)"
   ]
  },
  {
   "cell_type": "code",
   "execution_count": 158,
   "id": "46c7b1db",
   "metadata": {},
   "outputs": [
    {
     "data": {
      "text/plain": [
       "0.7865"
      ]
     },
     "execution_count": 158,
     "metadata": {},
     "output_type": "execute_result"
    }
   ],
   "source": [
    "model_bgm=lsvc.fit(x_train_bgm,y_train)\n",
    "predict_bgm=lsvc.predict(x_test_bgm)\n",
    "accuracy_score(y_test,predict_bgm)"
   ]
  },
  {
   "cell_type": "code",
   "execution_count": 159,
   "id": "1f581b92",
   "metadata": {},
   "outputs": [
    {
     "data": {
      "text/plain": [
       "0.7795"
      ]
     },
     "execution_count": 159,
     "metadata": {},
     "output_type": "execute_result"
    }
   ],
   "source": [
    "model_tgm=lsvc.fit(x_train_trgm,y_train)\n",
    "predict_tgm=lsvc.predict(x_test_trgm)\n",
    "accuracy_score(y_test,predict_tgm)"
   ]
  },
  {
   "cell_type": "code",
   "execution_count": 160,
   "id": "4cda7894",
   "metadata": {},
   "outputs": [
    {
     "data": {
      "text/plain": [
       "0.8425"
      ]
     },
     "execution_count": 160,
     "metadata": {},
     "output_type": "execute_result"
    }
   ],
   "source": [
    "model_tf=lsvc.fit(x_train_tf,y_train)\n",
    "predict_tf=lsvc.predict(x_test_tf)\n",
    "accuracy_score(y_test,predict_tf)"
   ]
  },
  {
   "cell_type": "code",
   "execution_count": 161,
   "id": "486cf439",
   "metadata": {},
   "outputs": [
    {
     "name": "stdout",
     "output_type": "stream",
     "text": [
      "              precision    recall  f1-score   support\n",
      "\n",
      "           0       0.71      0.55      0.62       321\n",
      "           1       0.49      0.14      0.21       138\n",
      "           2       0.87      0.97      0.92      1541\n",
      "\n",
      "    accuracy                           0.84      2000\n",
      "   macro avg       0.69      0.55      0.58      2000\n",
      "weighted avg       0.82      0.84      0.82      2000\n",
      "\n"
     ]
    }
   ],
   "source": [
    "print(classification_report(y_test,predict_tf))"
   ]
  },
  {
   "cell_type": "code",
   "execution_count": 162,
   "id": "abaddb98",
   "metadata": {},
   "outputs": [
    {
     "data": {
      "text/plain": [
       "array([[ 176,   31,   42],\n",
       "       [  11,   19,    9],\n",
       "       [ 134,   88, 1490]], dtype=int64)"
      ]
     },
     "execution_count": 162,
     "metadata": {},
     "output_type": "execute_result"
    }
   ],
   "source": [
    "confusion_matrix(predict_tf,y_test)"
   ]
  },
  {
   "cell_type": "code",
   "execution_count": 163,
   "id": "1ff41f5f",
   "metadata": {},
   "outputs": [
    {
     "data": {
      "text/plain": [
       "0.8305"
      ]
     },
     "execution_count": 163,
     "metadata": {},
     "output_type": "execute_result"
    }
   ],
   "source": [
    "np.mean(cross_val_score(lsvc,x_train_tf,y_train,cv=5,scoring='accuracy'))"
   ]
  },
  {
   "cell_type": "markdown",
   "id": "ef24dd7c",
   "metadata": {},
   "source": [
    "# SGD"
   ]
  },
  {
   "cell_type": "code",
   "execution_count": 170,
   "id": "ade0c414",
   "metadata": {},
   "outputs": [],
   "source": [
    "from sklearn.linear_model import SGDClassifier\n",
    "sgd=SGDClassifier()\n"
   ]
  },
  {
   "cell_type": "code",
   "execution_count": 171,
   "id": "513a42ad",
   "metadata": {},
   "outputs": [
    {
     "data": {
      "text/plain": [
       "0.8085"
      ]
     },
     "execution_count": 171,
     "metadata": {},
     "output_type": "execute_result"
    }
   ],
   "source": [
    "model_bow=sgd.fit(x_train_bow,y_train)\n",
    "predict_bow=sgd.predict(x_test_bow)\n",
    "accuracy_score(y_test,predict_bow)"
   ]
  },
  {
   "cell_type": "code",
   "execution_count": 172,
   "id": "f3fd1b82",
   "metadata": {},
   "outputs": [
    {
     "data": {
      "text/plain": [
       "0.7885"
      ]
     },
     "execution_count": 172,
     "metadata": {},
     "output_type": "execute_result"
    }
   ],
   "source": [
    "model_bgm=sgd.fit(x_train_bgm,y_train)\n",
    "predict_bgm=sgd.predict(x_test_bgm)\n",
    "accuracy_score(y_test,predict_bgm)"
   ]
  },
  {
   "cell_type": "code",
   "execution_count": 173,
   "id": "bd87dab5",
   "metadata": {},
   "outputs": [
    {
     "data": {
      "text/plain": [
       "0.7815"
      ]
     },
     "execution_count": 173,
     "metadata": {},
     "output_type": "execute_result"
    }
   ],
   "source": [
    "model_tgm=sgd.fit(x_train_trgm,y_train)\n",
    "predict_tgm=sgd.predict(x_test_trgm)\n",
    "accuracy_score(y_test,predict_tgm)"
   ]
  },
  {
   "cell_type": "code",
   "execution_count": 174,
   "id": "3d872b38",
   "metadata": {},
   "outputs": [
    {
     "data": {
      "text/plain": [
       "0.8405"
      ]
     },
     "execution_count": 174,
     "metadata": {},
     "output_type": "execute_result"
    }
   ],
   "source": [
    "model_tf=sgd.fit(x_train_tf,y_train)\n",
    "predict_tf=sgd.predict(x_test_tf)\n",
    "accuracy_score(y_test,predict_tf)"
   ]
  },
  {
   "cell_type": "code",
   "execution_count": 175,
   "id": "13b139a1",
   "metadata": {},
   "outputs": [
    {
     "data": {
      "text/plain": [
       "0.830875"
      ]
     },
     "execution_count": 175,
     "metadata": {},
     "output_type": "execute_result"
    }
   ],
   "source": [
    "np.mean(cross_val_score(sgd,x_train_tf,y_train,cv=5,scoring='accuracy'))"
   ]
  },
  {
   "cell_type": "code",
   "execution_count": 176,
   "id": "22fb3e93",
   "metadata": {},
   "outputs": [
    {
     "data": {
      "text/plain": [
       "array([[ 170,    3,  148],\n",
       "       [  31,   10,   97],\n",
       "       [  35,    5, 1501]], dtype=int64)"
      ]
     },
     "execution_count": 176,
     "metadata": {},
     "output_type": "execute_result"
    }
   ],
   "source": [
    "confusion_matrix(y_test,predict_tf)"
   ]
  },
  {
   "cell_type": "code",
   "execution_count": 179,
   "id": "a21162a2",
   "metadata": {},
   "outputs": [
    {
     "name": "stdout",
     "output_type": "stream",
     "text": [
      "              precision    recall  f1-score   support\n",
      "\n",
      "           0       0.72      0.53      0.61       321\n",
      "           1       0.56      0.07      0.13       138\n",
      "           2       0.86      0.97      0.91      1541\n",
      "\n",
      "    accuracy                           0.84      2000\n",
      "   macro avg       0.71      0.53      0.55      2000\n",
      "weighted avg       0.82      0.84      0.81      2000\n",
      "\n"
     ]
    }
   ],
   "source": [
    "print(classification_report(y_test,predict_tf\n",
    "                           ))"
   ]
  },
  {
   "cell_type": "markdown",
   "id": "c51819d5",
   "metadata": {},
   "source": [
    "Among all the baseline models SGD gives the best performance of approx 67-68% accuracy"
   ]
  },
  {
   "cell_type": "markdown",
   "id": "6829063e",
   "metadata": {},
   "source": [
    "# HYPERPARAMETER TUNING OF BASE MODEL"
   ]
  },
  {
   "cell_type": "markdown",
   "id": "482c8414",
   "metadata": {},
   "source": [
    "In contrast to GridSearchCV, not all parameter values are tried out, but rather a fixed number of parameter settings is sampled from the specified distributions. The number of parameter settings that are tried is given by n_iter."
   ]
  },
  {
   "cell_type": "code",
   "execution_count": 180,
   "id": "137ac99b",
   "metadata": {},
   "outputs": [],
   "source": [
    "from sklearn.model_selection import RandomizedSearchCV"
   ]
  },
  {
   "cell_type": "code",
   "execution_count": 181,
   "id": "553c4c50",
   "metadata": {},
   "outputs": [],
   "source": [
    "estimator =sgd\n",
    "parameters={'loss':['hinge','log_loss','modified_huber','squared_hinge','epsilon_insensitive','perceptron'],\n",
    "           'penalty':['l1','elasticnet'],\n",
    "           'class_weight':['weight','balanced']}"
   ]
  },
  {
   "cell_type": "code",
   "execution_count": null,
   "id": "b3152e6d",
   "metadata": {},
   "outputs": [],
   "source": []
  },
  {
   "cell_type": "code",
   "execution_count": null,
   "id": "32907e8a",
   "metadata": {},
   "outputs": [],
   "source": []
  },
  {
   "cell_type": "code",
   "execution_count": 182,
   "id": "a2d9bbce",
   "metadata": {},
   "outputs": [],
   "source": [
    "rd=RandomizedSearchCV(estimator=estimator,param_distributions=parameters)\n",
    "clf=rd.fit(x_train_tf,y_train)"
   ]
  },
  {
   "cell_type": "code",
   "execution_count": 183,
   "id": "8cefce0b",
   "metadata": {},
   "outputs": [
    {
     "data": {
      "text/html": [
       "<style>#sk-container-id-4 {color: black;background-color: white;}#sk-container-id-4 pre{padding: 0;}#sk-container-id-4 div.sk-toggleable {background-color: white;}#sk-container-id-4 label.sk-toggleable__label {cursor: pointer;display: block;width: 100%;margin-bottom: 0;padding: 0.3em;box-sizing: border-box;text-align: center;}#sk-container-id-4 label.sk-toggleable__label-arrow:before {content: \"▸\";float: left;margin-right: 0.25em;color: #696969;}#sk-container-id-4 label.sk-toggleable__label-arrow:hover:before {color: black;}#sk-container-id-4 div.sk-estimator:hover label.sk-toggleable__label-arrow:before {color: black;}#sk-container-id-4 div.sk-toggleable__content {max-height: 0;max-width: 0;overflow: hidden;text-align: left;background-color: #f0f8ff;}#sk-container-id-4 div.sk-toggleable__content pre {margin: 0.2em;color: black;border-radius: 0.25em;background-color: #f0f8ff;}#sk-container-id-4 input.sk-toggleable__control:checked~div.sk-toggleable__content {max-height: 200px;max-width: 100%;overflow: auto;}#sk-container-id-4 input.sk-toggleable__control:checked~label.sk-toggleable__label-arrow:before {content: \"▾\";}#sk-container-id-4 div.sk-estimator input.sk-toggleable__control:checked~label.sk-toggleable__label {background-color: #d4ebff;}#sk-container-id-4 div.sk-label input.sk-toggleable__control:checked~label.sk-toggleable__label {background-color: #d4ebff;}#sk-container-id-4 input.sk-hidden--visually {border: 0;clip: rect(1px 1px 1px 1px);clip: rect(1px, 1px, 1px, 1px);height: 1px;margin: -1px;overflow: hidden;padding: 0;position: absolute;width: 1px;}#sk-container-id-4 div.sk-estimator {font-family: monospace;background-color: #f0f8ff;border: 1px dotted black;border-radius: 0.25em;box-sizing: border-box;margin-bottom: 0.5em;}#sk-container-id-4 div.sk-estimator:hover {background-color: #d4ebff;}#sk-container-id-4 div.sk-parallel-item::after {content: \"\";width: 100%;border-bottom: 1px solid gray;flex-grow: 1;}#sk-container-id-4 div.sk-label:hover label.sk-toggleable__label {background-color: #d4ebff;}#sk-container-id-4 div.sk-serial::before {content: \"\";position: absolute;border-left: 1px solid gray;box-sizing: border-box;top: 0;bottom: 0;left: 50%;z-index: 0;}#sk-container-id-4 div.sk-serial {display: flex;flex-direction: column;align-items: center;background-color: white;padding-right: 0.2em;padding-left: 0.2em;position: relative;}#sk-container-id-4 div.sk-item {position: relative;z-index: 1;}#sk-container-id-4 div.sk-parallel {display: flex;align-items: stretch;justify-content: center;background-color: white;position: relative;}#sk-container-id-4 div.sk-item::before, #sk-container-id-4 div.sk-parallel-item::before {content: \"\";position: absolute;border-left: 1px solid gray;box-sizing: border-box;top: 0;bottom: 0;left: 50%;z-index: -1;}#sk-container-id-4 div.sk-parallel-item {display: flex;flex-direction: column;z-index: 1;position: relative;background-color: white;}#sk-container-id-4 div.sk-parallel-item:first-child::after {align-self: flex-end;width: 50%;}#sk-container-id-4 div.sk-parallel-item:last-child::after {align-self: flex-start;width: 50%;}#sk-container-id-4 div.sk-parallel-item:only-child::after {width: 0;}#sk-container-id-4 div.sk-dashed-wrapped {border: 1px dashed gray;margin: 0 0.4em 0.5em 0.4em;box-sizing: border-box;padding-bottom: 0.4em;background-color: white;}#sk-container-id-4 div.sk-label label {font-family: monospace;font-weight: bold;display: inline-block;line-height: 1.2em;}#sk-container-id-4 div.sk-label-container {text-align: center;}#sk-container-id-4 div.sk-container {/* jupyter's `normalize.less` sets `[hidden] { display: none; }` but bootstrap.min.css set `[hidden] { display: none !important; }` so we also need the `!important` here to be able to override the default hidden behavior on the sphinx rendered scikit-learn.org. See: https://github.com/scikit-learn/scikit-learn/issues/21755 */display: inline-block !important;position: relative;}#sk-container-id-4 div.sk-text-repr-fallback {display: none;}</style><div id=\"sk-container-id-4\" class=\"sk-top-container\"><div class=\"sk-text-repr-fallback\"><pre>SGDClassifier(class_weight=&#x27;balanced&#x27;, penalty=&#x27;elasticnet&#x27;)</pre><b>In a Jupyter environment, please rerun this cell to show the HTML representation or trust the notebook. <br />On GitHub, the HTML representation is unable to render, please try loading this page with nbviewer.org.</b></div><div class=\"sk-container\" hidden><div class=\"sk-item\"><div class=\"sk-estimator sk-toggleable\"><input class=\"sk-toggleable__control sk-hidden--visually\" id=\"sk-estimator-id-4\" type=\"checkbox\" checked><label for=\"sk-estimator-id-4\" class=\"sk-toggleable__label sk-toggleable__label-arrow\">SGDClassifier</label><div class=\"sk-toggleable__content\"><pre>SGDClassifier(class_weight=&#x27;balanced&#x27;, penalty=&#x27;elasticnet&#x27;)</pre></div></div></div></div></div>"
      ],
      "text/plain": [
       "SGDClassifier(class_weight='balanced', penalty='elasticnet')"
      ]
     },
     "execution_count": 183,
     "metadata": {},
     "output_type": "execute_result"
    }
   ],
   "source": [
    "clf.best_estimator_"
   ]
  },
  {
   "cell_type": "code",
   "execution_count": 184,
   "id": "e5bfad09",
   "metadata": {},
   "outputs": [
    {
     "data": {
      "text/plain": [
       "{'penalty': 'elasticnet', 'loss': 'hinge', 'class_weight': 'balanced'}"
      ]
     },
     "execution_count": 184,
     "metadata": {},
     "output_type": "execute_result"
    }
   ],
   "source": [
    "clf.best_params_"
   ]
  },
  {
   "cell_type": "code",
   "execution_count": 185,
   "id": "1c737d29",
   "metadata": {},
   "outputs": [
    {
     "data": {
      "text/plain": [
       "0.8153749999999998"
      ]
     },
     "execution_count": 185,
     "metadata": {},
     "output_type": "execute_result"
    }
   ],
   "source": [
    "clf.best_score_"
   ]
  },
  {
   "cell_type": "markdown",
   "id": "b9ace393",
   "metadata": {},
   "source": [
    "# ENSEMBLE TECHNIQUES"
   ]
  },
  {
   "cell_type": "markdown",
   "id": "78fe019b",
   "metadata": {},
   "source": [
    "# VOTING CLASSIFIER"
   ]
  },
  {
   "cell_type": "code",
   "execution_count": 189,
   "id": "f2c27572",
   "metadata": {},
   "outputs": [],
   "source": [
    "estimators=[('lg',lg),('rf',rf),('mnb',mnb),('lsvc',lsvc),('svc',svc),('sgd',sgd)]"
   ]
  },
  {
   "cell_type": "code",
   "execution_count": 190,
   "id": "8e27eb45",
   "metadata": {},
   "outputs": [],
   "source": [
    "#estimators[0][0]"
   ]
  },
  {
   "cell_type": "code",
   "execution_count": 191,
   "id": "3317009d",
   "metadata": {},
   "outputs": [],
   "source": [
    "from sklearn.ensemble import VotingClassifier\n",
    "vc=VotingClassifier(estimators=estimators,voting='hard')\n"
   ]
  },
  {
   "cell_type": "code",
   "execution_count": 192,
   "id": "cb1c0f21",
   "metadata": {},
   "outputs": [
    {
     "data": {
      "text/plain": [
       "0.837"
      ]
     },
     "execution_count": 192,
     "metadata": {},
     "output_type": "execute_result"
    }
   ],
   "source": [
    "model_tf=vc.fit(x_train_tf,y_train)\n",
    "predict_tf=vc.predict(x_test_tf)\n",
    "accuracy_score(y_test,predict_tf)"
   ]
  },
  {
   "cell_type": "code",
   "execution_count": 193,
   "id": "db1fd20e",
   "metadata": {},
   "outputs": [
    {
     "data": {
      "text/plain": [
       "0.831"
      ]
     },
     "execution_count": 193,
     "metadata": {},
     "output_type": "execute_result"
    }
   ],
   "source": [
    "model_bow=vc.fit(x_train_bow,y_train)\n",
    "predict_bow=vc.predict(x_test_bow)\n",
    "accuracy_score(y_test,predict_bow)"
   ]
  },
  {
   "cell_type": "code",
   "execution_count": 194,
   "id": "04633fcd",
   "metadata": {},
   "outputs": [
    {
     "data": {
      "text/plain": [
       "0.789"
      ]
     },
     "execution_count": 194,
     "metadata": {},
     "output_type": "execute_result"
    }
   ],
   "source": [
    "model_bgm=vc.fit(x_train_bgm,y_train)\n",
    "predict_bgm=vc.predict(x_test_bgm)\n",
    "accuracy_score(y_test,predict_bgm)"
   ]
  },
  {
   "cell_type": "code",
   "execution_count": 195,
   "id": "aaea51b4",
   "metadata": {},
   "outputs": [
    {
     "data": {
      "text/plain": [
       "0.782"
      ]
     },
     "execution_count": 195,
     "metadata": {},
     "output_type": "execute_result"
    }
   ],
   "source": [
    "model_tgm=vc.fit(x_train_trgm,y_train)\n",
    "predict_tgm=vc.predict(x_test_trgm)\n",
    "accuracy_score(y_test,predict_tgm)"
   ]
  },
  {
   "cell_type": "code",
   "execution_count": 196,
   "id": "de6c175f",
   "metadata": {},
   "outputs": [
    {
     "data": {
      "text/plain": [
       "array([[ 157,    3,  161],\n",
       "       [  25,   10,  103],\n",
       "       [  29,    5, 1507]], dtype=int64)"
      ]
     },
     "execution_count": 196,
     "metadata": {},
     "output_type": "execute_result"
    }
   ],
   "source": [
    "confusion_matrix(y_test,predict_tf)"
   ]
  },
  {
   "cell_type": "code",
   "execution_count": 197,
   "id": "3c8e8e8f",
   "metadata": {},
   "outputs": [
    {
     "name": "stdout",
     "output_type": "stream",
     "text": [
      "              precision    recall  f1-score   support\n",
      "\n",
      "           0       0.74      0.49      0.59       321\n",
      "           1       0.56      0.07      0.13       138\n",
      "           2       0.85      0.98      0.91      1541\n",
      "\n",
      "    accuracy                           0.84      2000\n",
      "   macro avg       0.72      0.51      0.54      2000\n",
      "weighted avg       0.81      0.84      0.80      2000\n",
      "\n"
     ]
    }
   ],
   "source": [
    "print(classification_report(y_test,predict_tf))"
   ]
  },
  {
   "cell_type": "code",
   "execution_count": 212,
   "id": "95d76625",
   "metadata": {},
   "outputs": [
    {
     "name": "stdout",
     "output_type": "stream",
     "text": [
      "0.8316250000000001\n"
     ]
    }
   ],
   "source": [
    "x=cross_val_score(vc,x_train_tf,y_train,cv=10,scoring='accuracy')\n",
    "print(np.mean(x))"
   ]
  },
  {
   "cell_type": "markdown",
   "id": "6c1503a5",
   "metadata": {},
   "source": [
    "# BAGGING"
   ]
  },
  {
   "cell_type": "markdown",
   "id": "61019c30",
   "metadata": {},
   "source": [
    "# RANDOM FOREST"
   ]
  },
  {
   "cell_type": "code",
   "execution_count": 199,
   "id": "50113931",
   "metadata": {},
   "outputs": [],
   "source": [
    "from sklearn.ensemble import RandomForestClassifier\n",
    "rf=RandomForestClassifier()"
   ]
  },
  {
   "cell_type": "code",
   "execution_count": 200,
   "id": "9387bdf7",
   "metadata": {},
   "outputs": [
    {
     "data": {
      "text/plain": [
       "0.792"
      ]
     },
     "execution_count": 200,
     "metadata": {},
     "output_type": "execute_result"
    }
   ],
   "source": [
    "model_bow=rf.fit(x_train_bow,y_train)\n",
    "predict_bow = rf.predict(x_test_bow)\n",
    "accuracy_score(y_test,predict_bow)"
   ]
  },
  {
   "cell_type": "code",
   "execution_count": 201,
   "id": "58334bd8",
   "metadata": {},
   "outputs": [
    {
     "data": {
      "text/plain": [
       "0.7885"
      ]
     },
     "execution_count": 201,
     "metadata": {},
     "output_type": "execute_result"
    }
   ],
   "source": [
    "model_bgm=rf.fit(x_train_bgm,y_train)\n",
    "predict_bgm = rf.predict(x_test_bgm)\n",
    "accuracy_score(y_test,predict_bgm)"
   ]
  },
  {
   "cell_type": "code",
   "execution_count": 202,
   "id": "e1986dc5",
   "metadata": {},
   "outputs": [
    {
     "data": {
      "text/plain": [
       "0.782"
      ]
     },
     "execution_count": 202,
     "metadata": {},
     "output_type": "execute_result"
    }
   ],
   "source": [
    "model_tgm=rf.fit(x_train_trgm,y_train)\n",
    "predict_tgm = rf.predict(x_test_trgm)\n",
    "accuracy_score(y_test,predict_tgm)"
   ]
  },
  {
   "cell_type": "code",
   "execution_count": 203,
   "id": "9e560bbc",
   "metadata": {},
   "outputs": [
    {
     "data": {
      "text/plain": [
       "0.791"
      ]
     },
     "execution_count": 203,
     "metadata": {},
     "output_type": "execute_result"
    }
   ],
   "source": [
    "model_tf=rf.fit(x_train_tf,y_train)\n",
    "predict_tf = rf.predict(x_test_tf)\n",
    "accuracy_score(y_test,predict_tf)"
   ]
  },
  {
   "cell_type": "code",
   "execution_count": 204,
   "id": "f810fb22",
   "metadata": {},
   "outputs": [
    {
     "data": {
      "text/plain": [
       "array([[  44,    0,  277],\n",
       "       [   0,    3,  135],\n",
       "       [   3,    1, 1537]], dtype=int64)"
      ]
     },
     "execution_count": 204,
     "metadata": {},
     "output_type": "execute_result"
    }
   ],
   "source": [
    "confusion_matrix(y_test,predict_bow)"
   ]
  },
  {
   "cell_type": "code",
   "execution_count": 205,
   "id": "363b84e7",
   "metadata": {},
   "outputs": [
    {
     "name": "stdout",
     "output_type": "stream",
     "text": [
      "              precision    recall  f1-score   support\n",
      "\n",
      "           0       0.94      0.14      0.24       321\n",
      "           1       0.75      0.02      0.04       138\n",
      "           2       0.79      1.00      0.88      1541\n",
      "\n",
      "    accuracy                           0.79      2000\n",
      "   macro avg       0.82      0.39      0.39      2000\n",
      "weighted avg       0.81      0.79      0.72      2000\n",
      "\n"
     ]
    }
   ],
   "source": [
    "print(classification_report(y_test,predict_bow))"
   ]
  },
  {
   "cell_type": "markdown",
   "id": "0b0ea12e",
   "metadata": {},
   "source": [
    "# BAGGIGNG CLASFIFERS"
   ]
  },
  {
   "cell_type": "code",
   "execution_count": 206,
   "id": "dc7cbc68",
   "metadata": {},
   "outputs": [],
   "source": [
    "from sklearn.ensemble import BaggingClassifier\n",
    "bg=BaggingClassifier(base_estimator=sgd,\n",
    "                    n_estimators=50,\n",
    "                    max_samples=0.3,\n",
    "                    random_state=0)"
   ]
  },
  {
   "cell_type": "code",
   "execution_count": 207,
   "id": "123cb3ac",
   "metadata": {},
   "outputs": [
    {
     "data": {
      "text/plain": [
       "0.8235"
      ]
     },
     "execution_count": 207,
     "metadata": {},
     "output_type": "execute_result"
    }
   ],
   "source": [
    "model_bow=bg.fit(x_train_bow,y_train)\n",
    "predict_bow = bg.predict(x_test_bow)\n",
    "accuracy_score(y_test,predict_bow)"
   ]
  },
  {
   "cell_type": "code",
   "execution_count": 208,
   "id": "5dfa8927",
   "metadata": {},
   "outputs": [
    {
     "data": {
      "text/plain": [
       "0.772"
      ]
     },
     "execution_count": 208,
     "metadata": {},
     "output_type": "execute_result"
    }
   ],
   "source": [
    "model_bgm=bg.fit(x_train_bgm,y_train)\n",
    "predict_bgm = bg.predict(x_test_bgm)\n",
    "accuracy_score(y_test,predict_bgm)"
   ]
  },
  {
   "cell_type": "code",
   "execution_count": 209,
   "id": "dac35697",
   "metadata": {},
   "outputs": [
    {
     "data": {
      "text/plain": [
       "0.7715"
      ]
     },
     "execution_count": 209,
     "metadata": {},
     "output_type": "execute_result"
    }
   ],
   "source": [
    "model_tgm=bg.fit(x_train_trgm,y_train)\n",
    "predict_tgm = bg.predict(x_test_trgm)\n",
    "accuracy_score(y_test,predict_tgm)"
   ]
  },
  {
   "cell_type": "code",
   "execution_count": 210,
   "id": "aaa6eea5",
   "metadata": {},
   "outputs": [
    {
     "data": {
      "text/plain": [
       "0.8155"
      ]
     },
     "execution_count": 210,
     "metadata": {},
     "output_type": "execute_result"
    }
   ],
   "source": [
    "model_tf = bg.fit(x_train_tf,y_train)\n",
    "predict_tf = bg.predict(x_test_tf)\n",
    "accuracy_score(y_test,predict_tf)"
   ]
  },
  {
   "cell_type": "code",
   "execution_count": 213,
   "id": "3c579c65",
   "metadata": {},
   "outputs": [
    {
     "data": {
      "text/plain": [
       "array([[  93,    0,  228],\n",
       "       [  15,    2,  121],\n",
       "       [   5,    0, 1536]], dtype=int64)"
      ]
     },
     "execution_count": 213,
     "metadata": {},
     "output_type": "execute_result"
    }
   ],
   "source": [
    "confusion_matrix(y_test,predict_tf)"
   ]
  },
  {
   "cell_type": "code",
   "execution_count": 215,
   "id": "6dc76625",
   "metadata": {},
   "outputs": [
    {
     "name": "stdout",
     "output_type": "stream",
     "text": [
      "              precision    recall  f1-score   support\n",
      "\n",
      "           0       0.82      0.29      0.43       321\n",
      "           1       1.00      0.01      0.03       138\n",
      "           2       0.81      1.00      0.90      1541\n",
      "\n",
      "    accuracy                           0.82      2000\n",
      "   macro avg       0.88      0.43      0.45      2000\n",
      "weighted avg       0.83      0.82      0.76      2000\n",
      "\n"
     ]
    }
   ],
   "source": [
    "print(classification_report(y_test,predict_tf))"
   ]
  },
  {
   "cell_type": "code",
   "execution_count": null,
   "id": "f5eb0af1",
   "metadata": {},
   "outputs": [],
   "source": []
  },
  {
   "cell_type": "markdown",
   "id": "f2b3d417",
   "metadata": {},
   "source": [
    "# BOOSTING"
   ]
  },
  {
   "cell_type": "markdown",
   "id": "c62a6bc7",
   "metadata": {},
   "source": [
    "# Gradient Boost"
   ]
  },
  {
   "cell_type": "code",
   "execution_count": 216,
   "id": "35142d53",
   "metadata": {},
   "outputs": [],
   "source": [
    "from sklearn.ensemble import GradientBoostingClassifier\n",
    "gb=GradientBoostingClassifier()\n"
   ]
  },
  {
   "cell_type": "code",
   "execution_count": 217,
   "id": "e29a396f",
   "metadata": {},
   "outputs": [
    {
     "data": {
      "text/plain": [
       "0.7925"
      ]
     },
     "execution_count": 217,
     "metadata": {},
     "output_type": "execute_result"
    }
   ],
   "source": [
    "model_bow=gb.fit(x_train_bow,y_train)\n",
    "predict_bow = gb.predict(x_test_bow)\n",
    "accuracy_score(y_test,predict_bow)"
   ]
  },
  {
   "cell_type": "code",
   "execution_count": 218,
   "id": "42579e43",
   "metadata": {},
   "outputs": [
    {
     "data": {
      "text/plain": [
       "0.781"
      ]
     },
     "execution_count": 218,
     "metadata": {},
     "output_type": "execute_result"
    }
   ],
   "source": [
    "model_bgm=gb.fit(x_train_bgm,y_train)\n",
    "predict_bgm = gb.predict(x_test_bgm)\n",
    "accuracy_score(y_test,predict_bgm)"
   ]
  },
  {
   "cell_type": "code",
   "execution_count": 219,
   "id": "d1a985cc",
   "metadata": {},
   "outputs": [
    {
     "data": {
      "text/plain": [
       "0.7725"
      ]
     },
     "execution_count": 219,
     "metadata": {},
     "output_type": "execute_result"
    }
   ],
   "source": [
    "model_tgm=gb.fit(x_train_trgm,y_train)\n",
    "predict_tgm = gb.predict(x_test_trgm)\n",
    "accuracy_score(y_test,predict_tgm)"
   ]
  },
  {
   "cell_type": "code",
   "execution_count": 221,
   "id": "eabc4547",
   "metadata": {},
   "outputs": [
    {
     "data": {
      "text/plain": [
       "0.799"
      ]
     },
     "execution_count": 221,
     "metadata": {},
     "output_type": "execute_result"
    }
   ],
   "source": [
    "model_tf = gb.fit(x_train_tf,y_train)\n",
    "predict_tf = gb.predict(x_test_tf)\n",
    "accuracy_score(y_test,predict_tf)\n"
   ]
  },
  {
   "cell_type": "code",
   "execution_count": 222,
   "id": "b88ddf99",
   "metadata": {},
   "outputs": [
    {
     "data": {
      "text/plain": [
       "array([[  64,    7,  250],\n",
       "       [  11,    3,  124],\n",
       "       [   6,    4, 1531]], dtype=int64)"
      ]
     },
     "execution_count": 222,
     "metadata": {},
     "output_type": "execute_result"
    }
   ],
   "source": [
    "confusion_matrix(y_test,predict_tf)"
   ]
  },
  {
   "cell_type": "code",
   "execution_count": 235,
   "id": "c4d47c69",
   "metadata": {},
   "outputs": [
    {
     "name": "stdout",
     "output_type": "stream",
     "text": [
      "              precision    recall  f1-score   support\n",
      "\n",
      "           0       0.63      0.31      0.42       321\n",
      "           1       0.30      0.09      0.14       138\n",
      "           2       0.82      0.96      0.89      1541\n",
      "\n",
      "    accuracy                           0.80      2000\n",
      "   macro avg       0.58      0.46      0.48      2000\n",
      "weighted avg       0.76      0.80      0.76      2000\n",
      "\n"
     ]
    }
   ],
   "source": [
    "print(classification_report(y_test,predict_tf))"
   ]
  },
  {
   "cell_type": "markdown",
   "id": "38044c82",
   "metadata": {},
   "source": [
    "# XGBOOST"
   ]
  },
  {
   "cell_type": "code",
   "execution_count": 224,
   "id": "fb404432",
   "metadata": {},
   "outputs": [],
   "source": [
    "import xgboost"
   ]
  },
  {
   "cell_type": "code",
   "execution_count": 280,
   "id": "d2d5b3fa",
   "metadata": {},
   "outputs": [],
   "source": [
    "from xgboost import XGBClassifier\n",
    "Xgb=XGBClassifier(objective='gblinear')\n"
   ]
  },
  {
   "cell_type": "code",
   "execution_count": 281,
   "id": "003a959f",
   "metadata": {},
   "outputs": [
    {
     "data": {
      "text/plain": [
       "0.82"
      ]
     },
     "execution_count": 281,
     "metadata": {},
     "output_type": "execute_result"
    }
   ],
   "source": [
    "model_bow=Xgb.fit(x_train_bow,y_train)\n",
    "predict_bow = Xgb.predict(x_test_bow)\n",
    "accuracy_score(y_test,predict_bow)"
   ]
  },
  {
   "cell_type": "code",
   "execution_count": 282,
   "id": "248b83f9",
   "metadata": {},
   "outputs": [
    {
     "data": {
      "text/plain": [
       "0.7865"
      ]
     },
     "execution_count": 282,
     "metadata": {},
     "output_type": "execute_result"
    }
   ],
   "source": [
    "model_bgm=Xgb.fit(x_train_bgm,y_train)\n",
    "predict_bgm = Xgb.predict(x_test_bgm)\n",
    "accuracy_score(y_test,predict_bgm)"
   ]
  },
  {
   "cell_type": "code",
   "execution_count": 283,
   "id": "9535509f",
   "metadata": {},
   "outputs": [
    {
     "data": {
      "text/plain": [
       "0.7735"
      ]
     },
     "execution_count": 283,
     "metadata": {},
     "output_type": "execute_result"
    }
   ],
   "source": [
    "model_tgm=Xgb.fit(x_train_trgm,y_train)\n",
    "predict_tgm = Xgb.predict(x_test_trgm)\n",
    "accuracy_score(y_test,predict_tgm)"
   ]
  },
  {
   "cell_type": "code",
   "execution_count": 284,
   "id": "5876419e",
   "metadata": {},
   "outputs": [
    {
     "data": {
      "text/plain": [
       "0.824"
      ]
     },
     "execution_count": 284,
     "metadata": {},
     "output_type": "execute_result"
    }
   ],
   "source": [
    "model_xgb=Xgb.fit(x_train_tf,y_train)\n",
    "predict_xgb=Xgb.predict(x_test_tf)\n",
    "accuracy_score(y_test,predict_xgb)"
   ]
  },
  {
   "cell_type": "markdown",
   "id": "055d0ffb",
   "metadata": {},
   "source": [
    "# ADABOOST"
   ]
  },
  {
   "cell_type": "code",
   "execution_count": 226,
   "id": "d9e631b1",
   "metadata": {},
   "outputs": [],
   "source": [
    "from sklearn.ensemble import AdaBoostClassifier\n",
    "adb=AdaBoostClassifier()\n"
   ]
  },
  {
   "cell_type": "code",
   "execution_count": 227,
   "id": "a38fcb82",
   "metadata": {},
   "outputs": [
    {
     "data": {
      "text/plain": [
       "0.802"
      ]
     },
     "execution_count": 227,
     "metadata": {},
     "output_type": "execute_result"
    }
   ],
   "source": [
    "model_bow=adb.fit(x_train_bow,y_train)\n",
    "predict_bow = adb.predict(x_test_bow)\n",
    "accuracy_score(y_test,predict_bow)"
   ]
  },
  {
   "cell_type": "code",
   "execution_count": 228,
   "id": "c85a3710",
   "metadata": {},
   "outputs": [
    {
     "data": {
      "text/plain": [
       "0.7775"
      ]
     },
     "execution_count": 228,
     "metadata": {},
     "output_type": "execute_result"
    }
   ],
   "source": [
    "model_bgm=adb.fit(x_train_bgm,y_train)\n",
    "predict_bgm = adb.predict(x_test_bgm)\n",
    "accuracy_score(y_test,predict_bgm)"
   ]
  },
  {
   "cell_type": "code",
   "execution_count": 229,
   "id": "0c013f43",
   "metadata": {},
   "outputs": [
    {
     "data": {
      "text/plain": [
       "0.7735"
      ]
     },
     "execution_count": 229,
     "metadata": {},
     "output_type": "execute_result"
    }
   ],
   "source": [
    "model_tgm=adb.fit(x_train_trgm,y_train)\n",
    "predict_tgm = adb.predict(x_test_trgm)\n",
    "accuracy_score(y_test,predict_tgm)"
   ]
  },
  {
   "cell_type": "code",
   "execution_count": 231,
   "id": "27282fe7",
   "metadata": {},
   "outputs": [
    {
     "data": {
      "text/plain": [
       "0.7965"
      ]
     },
     "execution_count": 231,
     "metadata": {},
     "output_type": "execute_result"
    }
   ],
   "source": [
    "model_tf = adb.fit(x_train_tf,y_train)\n",
    "predict_tf = adb.predict(x_test_tf)\n",
    "accuracy_score(y_test,predict_tf)"
   ]
  },
  {
   "cell_type": "code",
   "execution_count": 233,
   "id": "ac2ea45f",
   "metadata": {},
   "outputs": [
    {
     "data": {
      "text/plain": [
       "array([[ 100,   13,  208],\n",
       "       [  16,   13,  109],\n",
       "       [  43,   18, 1480]], dtype=int64)"
      ]
     },
     "execution_count": 233,
     "metadata": {},
     "output_type": "execute_result"
    }
   ],
   "source": [
    "confusion_matrix(y_test,predict_tf)"
   ]
  },
  {
   "cell_type": "code",
   "execution_count": 234,
   "id": "4f0f9974",
   "metadata": {},
   "outputs": [
    {
     "name": "stdout",
     "output_type": "stream",
     "text": [
      "              precision    recall  f1-score   support\n",
      "\n",
      "           0       0.63      0.31      0.42       321\n",
      "           1       0.30      0.09      0.14       138\n",
      "           2       0.82      0.96      0.89      1541\n",
      "\n",
      "    accuracy                           0.80      2000\n",
      "   macro avg       0.58      0.46      0.48      2000\n",
      "weighted avg       0.76      0.80      0.76      2000\n",
      "\n"
     ]
    }
   ],
   "source": [
    "print(classification_report(y_test,predict_tf))"
   ]
  },
  {
   "cell_type": "markdown",
   "id": "8a30abfd",
   "metadata": {},
   "source": [
    "# LIGHT GBM"
   ]
  },
  {
   "cell_type": "code",
   "execution_count": null,
   "id": "098347d0",
   "metadata": {},
   "outputs": [],
   "source": [
    "#conversion of x_train into suitable format for LIGHTGBM"
   ]
  },
  {
   "cell_type": "code",
   "execution_count": 277,
   "id": "f583c7e5",
   "metadata": {},
   "outputs": [
    {
     "data": {
      "text/plain": [
       "scipy.sparse._csr.csr_matrix"
      ]
     },
     "execution_count": 277,
     "metadata": {},
     "output_type": "execute_result"
    }
   ],
   "source": [
    "#type(x_train_bow)"
   ]
  },
  {
   "cell_type": "code",
   "execution_count": 265,
   "id": "2045bf0c",
   "metadata": {},
   "outputs": [],
   "source": [
    "x_train_bow_l = x_train_bow.astype(np.float32)\n",
    "x_test_bow_l = x_test_bow.astype(np.float32)\n",
    "\n",
    "x_train_bgm_l = x_train_bgm.astype(np.float32)\n",
    "x_test_bgm_l = x_test_bgm.astype(np.float32)\n",
    "\n",
    "\n",
    "x_train_tgm_l = x_train_trgm.astype(np.float32)\n",
    "x_test_tgm_l = x_test_trgm.astype(np.float32)\n",
    "\n",
    "\n",
    "x_train_tf_l = x_train_tf.astype(np.float32)\n",
    "x_test_tf_l = x_test_tf.astype(np.float32)\n",
    "\n",
    "\n",
    "\n"
   ]
  },
  {
   "cell_type": "code",
   "execution_count": 266,
   "id": "c00283ff",
   "metadata": {},
   "outputs": [],
   "source": [
    "import lightgbm \n",
    "from lightgbm import LGBMClassifier\n",
    "lgb=LGBMClassifier()"
   ]
  },
  {
   "cell_type": "code",
   "execution_count": 267,
   "id": "67acbfa1",
   "metadata": {},
   "outputs": [
    {
     "data": {
      "text/plain": [
       "0.832"
      ]
     },
     "execution_count": 267,
     "metadata": {},
     "output_type": "execute_result"
    }
   ],
   "source": [
    "model_bow=lgb.fit(x_train_bow_l,y_train)\n",
    "predict_bow = lgb.predict(x_test_bow_l)\n",
    "accuracy_score(y_test,predict_bow)"
   ]
  },
  {
   "cell_type": "code",
   "execution_count": 269,
   "id": "cd7fe301",
   "metadata": {},
   "outputs": [
    {
     "data": {
      "text/plain": [
       "0.778"
      ]
     },
     "execution_count": 269,
     "metadata": {},
     "output_type": "execute_result"
    }
   ],
   "source": [
    "model_bgm=lgb.fit(x_train_bgm_l,y_train)\n",
    "predict_bgm = lgb.predict(x_test_bgm_l)\n",
    "accuracy_score(y_test,predict_bgm)"
   ]
  },
  {
   "cell_type": "code",
   "execution_count": 270,
   "id": "4e9acbf1",
   "metadata": {},
   "outputs": [
    {
     "data": {
      "text/plain": [
       "0.7705"
      ]
     },
     "execution_count": 270,
     "metadata": {},
     "output_type": "execute_result"
    }
   ],
   "source": [
    "model_tgm=lgb.fit(x_train_tgm_l,y_train)\n",
    "predict_tgm = lgb.predict(x_test_tgm_l)\n",
    "accuracy_score(y_test,predict_tgm)"
   ]
  },
  {
   "cell_type": "code",
   "execution_count": 272,
   "id": "283b2140",
   "metadata": {},
   "outputs": [
    {
     "data": {
      "text/plain": [
       "0.827"
      ]
     },
     "execution_count": 272,
     "metadata": {},
     "output_type": "execute_result"
    }
   ],
   "source": [
    "model_tf = lgb.fit(x_train_tf_l,y_train)\n",
    "predict_tf = lgb.predict(x_test_tf_l)\n",
    "accuracy_score(y_test,predict_tf)"
   ]
  },
  {
   "cell_type": "code",
   "execution_count": 273,
   "id": "0fff16c5",
   "metadata": {},
   "outputs": [
    {
     "data": {
      "text/plain": [
       "0.820375"
      ]
     },
     "execution_count": 273,
     "metadata": {},
     "output_type": "execute_result"
    }
   ],
   "source": [
    "np.mean(cross_val_score(lgb,x_train_tf_l,y_train,cv=5,scoring='accuracy'))"
   ]
  },
  {
   "cell_type": "code",
   "execution_count": 274,
   "id": "17600611",
   "metadata": {},
   "outputs": [
    {
     "data": {
      "text/plain": [
       "array([[ 141,   13,  167],\n",
       "       [  25,   15,   98],\n",
       "       [  32,   11, 1498]], dtype=int64)"
      ]
     },
     "execution_count": 274,
     "metadata": {},
     "output_type": "execute_result"
    }
   ],
   "source": [
    "confusion_matrix(y_test,predict_tf)"
   ]
  },
  {
   "cell_type": "code",
   "execution_count": 275,
   "id": "2929189d",
   "metadata": {},
   "outputs": [
    {
     "name": "stdout",
     "output_type": "stream",
     "text": [
      "              precision    recall  f1-score   support\n",
      "\n",
      "         0.0       0.71      0.44      0.54       321\n",
      "         1.0       0.38      0.11      0.17       138\n",
      "         2.0       0.85      0.97      0.91      1541\n",
      "\n",
      "    accuracy                           0.83      2000\n",
      "   macro avg       0.65      0.51      0.54      2000\n",
      "weighted avg       0.80      0.83      0.80      2000\n",
      "\n"
     ]
    }
   ],
   "source": [
    "print(classification_report(y_test,predict_tf))"
   ]
  },
  {
   "cell_type": "markdown",
   "id": "5cf9351c",
   "metadata": {},
   "source": [
    "# BEST MODEL "
   ]
  },
  {
   "cell_type": "markdown",
   "id": "70410a01",
   "metadata": {},
   "source": [
    "* LINEAR SVC WITH 84.25% ACCURACY\n",
    "* SGD WITH 84.05% ACCURACY"
   ]
  },
  {
   "cell_type": "code",
   "execution_count": null,
   "id": "91251fb2",
   "metadata": {},
   "outputs": [],
   "source": []
  },
  {
   "cell_type": "markdown",
   "id": "d5015f2e",
   "metadata": {},
   "source": [
    "# NOTES"
   ]
  },
  {
   "cell_type": "markdown",
   "id": "923ef638",
   "metadata": {},
   "source": [
    "* Originl datasets is having more than 5.5 lakhs rows due to the shortcoming of local system it has been downsized\n",
    "* It has been observed that more the data more the accuracy for sentiment prediction\n",
    "* SVC algo took so much of time dealing with the traing\n",
    "* XGBOOST require labelling str from 0 hence not done but done in another notebook where positive is marked as 1 and negative as 0\n",
    "* This is the traditional way of dealing with sentiment analysis better modelling is done by fine tuning a pre-trained transformer model like BERT,ROBERTA etc\n"
   ]
  },
  {
   "cell_type": "markdown",
   "id": "27dcda1a",
   "metadata": {},
   "source": [
    "# ACCURACY"
   ]
  },
  {
   "cell_type": "markdown",
   "id": "1d260f7f",
   "metadata": {},
   "source": [
    "Accuracy can be gauged on different parameters but the first intiation would be of accuracy\n",
    "* Confusion matrix can be checked.Diagonal elements in the matrix can provide picture of accuractely predicting different classes.\n",
    "* F1 ,weighted F1 score can be treated since we have an imbalanced class."
   ]
  },
  {
   "cell_type": "code",
   "execution_count": null,
   "id": "71e99a49",
   "metadata": {},
   "outputs": [],
   "source": []
  },
  {
   "cell_type": "code",
   "execution_count": null,
   "id": "e57ef280",
   "metadata": {},
   "outputs": [],
   "source": []
  },
  {
   "cell_type": "code",
   "execution_count": null,
   "id": "ed09aa1a",
   "metadata": {},
   "outputs": [],
   "source": []
  }
 ],
 "metadata": {
  "kernelspec": {
   "display_name": "Python 3 (ipykernel)",
   "language": "python",
   "name": "python3"
  },
  "language_info": {
   "codemirror_mode": {
    "name": "ipython",
    "version": 3
   },
   "file_extension": ".py",
   "mimetype": "text/x-python",
   "name": "python",
   "nbconvert_exporter": "python",
   "pygments_lexer": "ipython3",
   "version": "3.10.10"
  }
 },
 "nbformat": 4,
 "nbformat_minor": 5
}
