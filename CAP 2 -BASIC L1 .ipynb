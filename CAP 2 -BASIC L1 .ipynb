{
 "cells": [
  {
   "cell_type": "markdown",
   "id": "4726abb2",
   "metadata": {},
   "source": [
    "# 1. Problem statement - Sentiment Analysis"
   ]
  },
  {
   "cell_type": "markdown",
   "id": "189a3ce7",
   "metadata": {},
   "source": [
    "Need to perform Sentiment Analysis on reviews posted for Product on Amazon.Here we need to predict the Score with respect to the Review."
   ]
  },
  {
   "cell_type": "markdown",
   "id": "907475a2",
   "metadata": {},
   "source": [
    "# 2.IMPORTING LIBRARIES AND DATASETS"
   ]
  },
  {
   "cell_type": "code",
   "execution_count": 1,
   "id": "edc4d5e9",
   "metadata": {},
   "outputs": [
    {
     "name": "stderr",
     "output_type": "stream",
     "text": [
      "[nltk_data] Downloading package stopwords to\n",
      "[nltk_data]     C:\\Users\\esvit\\AppData\\Roaming\\nltk_data...\n",
      "[nltk_data]   Package stopwords is already up-to-date!\n"
     ]
    }
   ],
   "source": [
    "#Basic Libraries\n",
    "import pandas as pd\n",
    "import numpy as np\n",
    "import matplotlib.pyplot as plt\n",
    "import seaborn as sns\n",
    "\n",
    "import warnings \n",
    "warnings.filterwarnings('ignore')\n",
    "\n",
    "#sckiti libraries\n",
    "from sklearn.metrics import *\n",
    "from sklearn.model_selection import train_test_split\n",
    "from sklearn.model_selection import cross_val_score\n",
    "\n",
    "\n",
    "#Advanced NLP libraries\n",
    "import nltk\n",
    "nltk.download('stopwords')\n",
    "from nltk.corpus import stopwords\n",
    "from nltk.tokenize import word_tokenize,sent_tokenize"
   ]
  },
  {
   "cell_type": "code",
   "execution_count": 2,
   "id": "56afe746",
   "metadata": {},
   "outputs": [
    {
     "data": {
      "text/html": [
       "<div>\n",
       "<style scoped>\n",
       "    .dataframe tbody tr th:only-of-type {\n",
       "        vertical-align: middle;\n",
       "    }\n",
       "\n",
       "    .dataframe tbody tr th {\n",
       "        vertical-align: top;\n",
       "    }\n",
       "\n",
       "    .dataframe thead th {\n",
       "        text-align: right;\n",
       "    }\n",
       "</style>\n",
       "<table border=\"1\" class=\"dataframe\">\n",
       "  <thead>\n",
       "    <tr style=\"text-align: right;\">\n",
       "      <th></th>\n",
       "      <th>Id</th>\n",
       "      <th>ProductId</th>\n",
       "      <th>UserId</th>\n",
       "      <th>ProfileName</th>\n",
       "      <th>HelpfulnessNumerator</th>\n",
       "      <th>HelpfulnessDenominator</th>\n",
       "      <th>Score</th>\n",
       "      <th>Time</th>\n",
       "      <th>Summary</th>\n",
       "      <th>Text</th>\n",
       "    </tr>\n",
       "  </thead>\n",
       "  <tbody>\n",
       "    <tr>\n",
       "      <th>0</th>\n",
       "      <td>1</td>\n",
       "      <td>B001E4KFG0</td>\n",
       "      <td>A3SGXH7AUHU8GW</td>\n",
       "      <td>delmartian</td>\n",
       "      <td>1</td>\n",
       "      <td>1</td>\n",
       "      <td>5</td>\n",
       "      <td>1303862400</td>\n",
       "      <td>Good Quality Dog Food</td>\n",
       "      <td>I have bought several of the Vitality canned d...</td>\n",
       "    </tr>\n",
       "    <tr>\n",
       "      <th>1</th>\n",
       "      <td>2</td>\n",
       "      <td>B00813GRG4</td>\n",
       "      <td>A1D87F6ZCVE5NK</td>\n",
       "      <td>dll pa</td>\n",
       "      <td>0</td>\n",
       "      <td>0</td>\n",
       "      <td>1</td>\n",
       "      <td>1346976000</td>\n",
       "      <td>Not as Advertised</td>\n",
       "      <td>Product arrived labeled as Jumbo Salted Peanut...</td>\n",
       "    </tr>\n",
       "    <tr>\n",
       "      <th>2</th>\n",
       "      <td>3</td>\n",
       "      <td>B000LQOCH0</td>\n",
       "      <td>ABXLMWJIXXAIN</td>\n",
       "      <td>Natalia Corres \"Natalia Corres\"</td>\n",
       "      <td>1</td>\n",
       "      <td>1</td>\n",
       "      <td>4</td>\n",
       "      <td>1219017600</td>\n",
       "      <td>\"Delight\" says it all</td>\n",
       "      <td>This is a confection that has been around a fe...</td>\n",
       "    </tr>\n",
       "    <tr>\n",
       "      <th>3</th>\n",
       "      <td>4</td>\n",
       "      <td>B000UA0QIQ</td>\n",
       "      <td>A395BORC6FGVXV</td>\n",
       "      <td>Karl</td>\n",
       "      <td>3</td>\n",
       "      <td>3</td>\n",
       "      <td>2</td>\n",
       "      <td>1307923200</td>\n",
       "      <td>Cough Medicine</td>\n",
       "      <td>If you are looking for the secret ingredient i...</td>\n",
       "    </tr>\n",
       "    <tr>\n",
       "      <th>4</th>\n",
       "      <td>5</td>\n",
       "      <td>B006K2ZZ7K</td>\n",
       "      <td>A1UQRSCLF8GW1T</td>\n",
       "      <td>Michael D. Bigham \"M. Wassir\"</td>\n",
       "      <td>0</td>\n",
       "      <td>0</td>\n",
       "      <td>5</td>\n",
       "      <td>1350777600</td>\n",
       "      <td>Great taffy</td>\n",
       "      <td>Great taffy at a great price.  There was a wid...</td>\n",
       "    </tr>\n",
       "  </tbody>\n",
       "</table>\n",
       "</div>"
      ],
      "text/plain": [
       "   Id   ProductId          UserId                      ProfileName  \\\n",
       "0   1  B001E4KFG0  A3SGXH7AUHU8GW                       delmartian   \n",
       "1   2  B00813GRG4  A1D87F6ZCVE5NK                           dll pa   \n",
       "2   3  B000LQOCH0   ABXLMWJIXXAIN  Natalia Corres \"Natalia Corres\"   \n",
       "3   4  B000UA0QIQ  A395BORC6FGVXV                             Karl   \n",
       "4   5  B006K2ZZ7K  A1UQRSCLF8GW1T    Michael D. Bigham \"M. Wassir\"   \n",
       "\n",
       "   HelpfulnessNumerator  HelpfulnessDenominator  Score        Time  \\\n",
       "0                     1                       1      5  1303862400   \n",
       "1                     0                       0      1  1346976000   \n",
       "2                     1                       1      4  1219017600   \n",
       "3                     3                       3      2  1307923200   \n",
       "4                     0                       0      5  1350777600   \n",
       "\n",
       "                 Summary                                               Text  \n",
       "0  Good Quality Dog Food  I have bought several of the Vitality canned d...  \n",
       "1      Not as Advertised  Product arrived labeled as Jumbo Salted Peanut...  \n",
       "2  \"Delight\" says it all  This is a confection that has been around a fe...  \n",
       "3         Cough Medicine  If you are looking for the secret ingredient i...  \n",
       "4            Great taffy  Great taffy at a great price.  There was a wid...  "
      ]
     },
     "execution_count": 2,
     "metadata": {},
     "output_type": "execute_result"
    }
   ],
   "source": [
    "data=pd.read_csv(r'Reviews (1).csv')\n",
    "data.head()"
   ]
  },
  {
   "cell_type": "code",
   "execution_count": 3,
   "id": "3a0f5b8b",
   "metadata": {},
   "outputs": [
    {
     "data": {
      "text/plain": [
       "74258"
      ]
     },
     "execution_count": 3,
     "metadata": {},
     "output_type": "execute_result"
    }
   ],
   "source": [
    "#unique Product\n",
    "len(data.ProductId.unique())"
   ]
  },
  {
   "cell_type": "code",
   "execution_count": 4,
   "id": "b477e500",
   "metadata": {},
   "outputs": [
    {
     "data": {
      "text/plain": [
       "5    363122\n",
       "4     80655\n",
       "1     52268\n",
       "3     42640\n",
       "2     29769\n",
       "Name: Score, dtype: int64"
      ]
     },
     "execution_count": 4,
     "metadata": {},
     "output_type": "execute_result"
    }
   ],
   "source": [
    "#value count of Scores\n",
    "data.Score.value_counts()"
   ]
  },
  {
   "cell_type": "code",
   "execution_count": 5,
   "id": "61c89ed0",
   "metadata": {},
   "outputs": [
    {
     "data": {
      "text/plain": [
       "(568454, 10)"
      ]
     },
     "execution_count": 5,
     "metadata": {},
     "output_type": "execute_result"
    }
   ],
   "source": [
    "data.shape"
   ]
  },
  {
   "cell_type": "markdown",
   "id": "e3942734",
   "metadata": {},
   "source": [
    "Glimpse on one Row"
   ]
  },
  {
   "cell_type": "code",
   "execution_count": 6,
   "id": "6265e145",
   "metadata": {},
   "outputs": [
    {
     "data": {
      "text/plain": [
       "'Our favorite breakfast choice'"
      ]
     },
     "execution_count": 6,
     "metadata": {},
     "output_type": "execute_result"
    }
   ],
   "source": [
    "\n",
    "data['Summary'][2021]"
   ]
  },
  {
   "cell_type": "code",
   "execution_count": 7,
   "id": "b70871db",
   "metadata": {},
   "outputs": [
    {
     "data": {
      "text/plain": [
       "'Bought a great waffle maker two years ago.  Tried many recipes for making waffles, nothing really pleased the family. Well, until I followed a recommendation to try Stonewall Waffles.  Believe me it is not like Bisquick as I thought it might be, it is so much better I was shocked.  And well now the family loves them and looks forward to Sunday waffles every couple weeks.  I even double up the ingredients so I can make extras which we cut into smaller sections and freeze them.  These can then be used for toster waffles and a quick breakfast.  Forget the Eggos even as frozen waffles these are great.<br /><br />What do I like best about them?  The waffles come out light and fluffy.  They are crisp and hold up well to being filled with strawberries, nuts or whatever toppings you may choose.  In no way do they feel heavy or soggy.  They are a snap to prepare, and take just 3 minutes in the waffle maker. Lastly the whole family loves them.  So despite the higher price it is well worth every penny.'"
      ]
     },
     "execution_count": 7,
     "metadata": {},
     "output_type": "execute_result"
    }
   ],
   "source": [
    "data['Text'][2021]"
   ]
  },
  {
   "cell_type": "markdown",
   "id": "8341f683",
   "metadata": {},
   "source": [
    "Resizing dataset so that Machine can handle"
   ]
  },
  {
   "cell_type": "code",
   "execution_count": 8,
   "id": "d34f6917",
   "metadata": {},
   "outputs": [],
   "source": [
    "#Resizing data\n",
    "df=data.sample(10000)\n"
   ]
  },
  {
   "cell_type": "code",
   "execution_count": 9,
   "id": "1914ae76",
   "metadata": {},
   "outputs": [],
   "source": [
    "df.reset_index(inplace=True)"
   ]
  },
  {
   "cell_type": "code",
   "execution_count": 10,
   "id": "d9038f22",
   "metadata": {},
   "outputs": [],
   "source": [
    "df=df.drop(columns=['index','Id', 'ProductId', 'UserId', 'ProfileName', 'HelpfulnessNumerator', 'HelpfulnessDenominator','Time','Summary'])"
   ]
  },
  {
   "cell_type": "code",
   "execution_count": 11,
   "id": "2840619f",
   "metadata": {},
   "outputs": [
    {
     "data": {
      "text/plain": [
       "Index(['Score', 'Text'], dtype='object')"
      ]
     },
     "execution_count": 11,
     "metadata": {},
     "output_type": "execute_result"
    }
   ],
   "source": [
    "df.columns"
   ]
  },
  {
   "cell_type": "code",
   "execution_count": 12,
   "id": "7b80c301",
   "metadata": {},
   "outputs": [
    {
     "data": {
      "text/html": [
       "<div>\n",
       "<style scoped>\n",
       "    .dataframe tbody tr th:only-of-type {\n",
       "        vertical-align: middle;\n",
       "    }\n",
       "\n",
       "    .dataframe tbody tr th {\n",
       "        vertical-align: top;\n",
       "    }\n",
       "\n",
       "    .dataframe thead th {\n",
       "        text-align: right;\n",
       "    }\n",
       "</style>\n",
       "<table border=\"1\" class=\"dataframe\">\n",
       "  <thead>\n",
       "    <tr style=\"text-align: right;\">\n",
       "      <th></th>\n",
       "      <th>Score</th>\n",
       "      <th>Text</th>\n",
       "    </tr>\n",
       "  </thead>\n",
       "  <tbody>\n",
       "    <tr>\n",
       "      <th>0</th>\n",
       "      <td>5</td>\n",
       "      <td>This Hickory Smoked flavor is my favorite of t...</td>\n",
       "    </tr>\n",
       "    <tr>\n",
       "      <th>1</th>\n",
       "      <td>4</td>\n",
       "      <td>I'm mostly a coffee drinker but I do try to dr...</td>\n",
       "    </tr>\n",
       "    <tr>\n",
       "      <th>2</th>\n",
       "      <td>5</td>\n",
       "      <td>Bought these to make gluten free eggrolls for ...</td>\n",
       "    </tr>\n",
       "    <tr>\n",
       "      <th>3</th>\n",
       "      <td>5</td>\n",
       "      <td>I highly recommend Newman's Own Organics Dog F...</td>\n",
       "    </tr>\n",
       "    <tr>\n",
       "      <th>4</th>\n",
       "      <td>5</td>\n",
       "      <td>The \"GeniSoy\" Protein Shakes have always impre...</td>\n",
       "    </tr>\n",
       "    <tr>\n",
       "      <th>...</th>\n",
       "      <td>...</td>\n",
       "      <td>...</td>\n",
       "    </tr>\n",
       "    <tr>\n",
       "      <th>9995</th>\n",
       "      <td>1</td>\n",
       "      <td>This stuff is terrible! It's not hot &amp; spicy i...</td>\n",
       "    </tr>\n",
       "    <tr>\n",
       "      <th>9996</th>\n",
       "      <td>3</td>\n",
       "      <td>I bought these to see if Jamaica Blue Mountain...</td>\n",
       "    </tr>\n",
       "    <tr>\n",
       "      <th>9997</th>\n",
       "      <td>5</td>\n",
       "      <td>We buy these by the case for our dogs.  They a...</td>\n",
       "    </tr>\n",
       "    <tr>\n",
       "      <th>9998</th>\n",
       "      <td>4</td>\n",
       "      <td>I am always skeptical about the claims of most...</td>\n",
       "    </tr>\n",
       "    <tr>\n",
       "      <th>9999</th>\n",
       "      <td>5</td>\n",
       "      <td>My cats JD needs to get a pill everyday and it...</td>\n",
       "    </tr>\n",
       "  </tbody>\n",
       "</table>\n",
       "<p>10000 rows × 2 columns</p>\n",
       "</div>"
      ],
      "text/plain": [
       "      Score                                               Text\n",
       "0         5  This Hickory Smoked flavor is my favorite of t...\n",
       "1         4  I'm mostly a coffee drinker but I do try to dr...\n",
       "2         5  Bought these to make gluten free eggrolls for ...\n",
       "3         5  I highly recommend Newman's Own Organics Dog F...\n",
       "4         5  The \"GeniSoy\" Protein Shakes have always impre...\n",
       "...     ...                                                ...\n",
       "9995      1  This stuff is terrible! It's not hot & spicy i...\n",
       "9996      3  I bought these to see if Jamaica Blue Mountain...\n",
       "9997      5  We buy these by the case for our dogs.  They a...\n",
       "9998      4  I am always skeptical about the claims of most...\n",
       "9999      5  My cats JD needs to get a pill everyday and it...\n",
       "\n",
       "[10000 rows x 2 columns]"
      ]
     },
     "execution_count": 12,
     "metadata": {},
     "output_type": "execute_result"
    }
   ],
   "source": [
    "df"
   ]
  },
  {
   "cell_type": "code",
   "execution_count": 13,
   "id": "3185a7f0",
   "metadata": {},
   "outputs": [],
   "source": [
    "#df['Text'].iloc[0]"
   ]
  },
  {
   "cell_type": "code",
   "execution_count": 14,
   "id": "7395e90f",
   "metadata": {},
   "outputs": [
    {
     "data": {
      "text/plain": [
       "5    6335\n",
       "4    1477\n",
       "1     941\n",
       "3     742\n",
       "2     505\n",
       "Name: Score, dtype: int64"
      ]
     },
     "execution_count": 14,
     "metadata": {},
     "output_type": "execute_result"
    }
   ],
   "source": [
    "df.Score.value_counts()"
   ]
  },
  {
   "cell_type": "code",
   "execution_count": 15,
   "id": "6c0b310f",
   "metadata": {},
   "outputs": [
    {
     "data": {
      "text/html": [
       "<div>\n",
       "<style scoped>\n",
       "    .dataframe tbody tr th:only-of-type {\n",
       "        vertical-align: middle;\n",
       "    }\n",
       "\n",
       "    .dataframe tbody tr th {\n",
       "        vertical-align: top;\n",
       "    }\n",
       "\n",
       "    .dataframe thead th {\n",
       "        text-align: right;\n",
       "    }\n",
       "</style>\n",
       "<table border=\"1\" class=\"dataframe\">\n",
       "  <thead>\n",
       "    <tr style=\"text-align: right;\">\n",
       "      <th></th>\n",
       "      <th>Score</th>\n",
       "      <th>Text</th>\n",
       "    </tr>\n",
       "  </thead>\n",
       "  <tbody>\n",
       "    <tr>\n",
       "      <th>0</th>\n",
       "      <td>5</td>\n",
       "      <td>This Hickory Smoked flavor is my favorite of t...</td>\n",
       "    </tr>\n",
       "    <tr>\n",
       "      <th>1</th>\n",
       "      <td>4</td>\n",
       "      <td>I'm mostly a coffee drinker but I do try to dr...</td>\n",
       "    </tr>\n",
       "    <tr>\n",
       "      <th>2</th>\n",
       "      <td>5</td>\n",
       "      <td>Bought these to make gluten free eggrolls for ...</td>\n",
       "    </tr>\n",
       "    <tr>\n",
       "      <th>3</th>\n",
       "      <td>5</td>\n",
       "      <td>I highly recommend Newman's Own Organics Dog F...</td>\n",
       "    </tr>\n",
       "    <tr>\n",
       "      <th>4</th>\n",
       "      <td>5</td>\n",
       "      <td>The \"GeniSoy\" Protein Shakes have always impre...</td>\n",
       "    </tr>\n",
       "    <tr>\n",
       "      <th>...</th>\n",
       "      <td>...</td>\n",
       "      <td>...</td>\n",
       "    </tr>\n",
       "    <tr>\n",
       "      <th>9995</th>\n",
       "      <td>1</td>\n",
       "      <td>This stuff is terrible! It's not hot &amp; spicy i...</td>\n",
       "    </tr>\n",
       "    <tr>\n",
       "      <th>9996</th>\n",
       "      <td>3</td>\n",
       "      <td>I bought these to see if Jamaica Blue Mountain...</td>\n",
       "    </tr>\n",
       "    <tr>\n",
       "      <th>9997</th>\n",
       "      <td>5</td>\n",
       "      <td>We buy these by the case for our dogs.  They a...</td>\n",
       "    </tr>\n",
       "    <tr>\n",
       "      <th>9998</th>\n",
       "      <td>4</td>\n",
       "      <td>I am always skeptical about the claims of most...</td>\n",
       "    </tr>\n",
       "    <tr>\n",
       "      <th>9999</th>\n",
       "      <td>5</td>\n",
       "      <td>My cats JD needs to get a pill everyday and it...</td>\n",
       "    </tr>\n",
       "  </tbody>\n",
       "</table>\n",
       "<p>10000 rows × 2 columns</p>\n",
       "</div>"
      ],
      "text/plain": [
       "      Score                                               Text\n",
       "0         5  This Hickory Smoked flavor is my favorite of t...\n",
       "1         4  I'm mostly a coffee drinker but I do try to dr...\n",
       "2         5  Bought these to make gluten free eggrolls for ...\n",
       "3         5  I highly recommend Newman's Own Organics Dog F...\n",
       "4         5  The \"GeniSoy\" Protein Shakes have always impre...\n",
       "...     ...                                                ...\n",
       "9995      1  This stuff is terrible! It's not hot & spicy i...\n",
       "9996      3  I bought these to see if Jamaica Blue Mountain...\n",
       "9997      5  We buy these by the case for our dogs.  They a...\n",
       "9998      4  I am always skeptical about the claims of most...\n",
       "9999      5  My cats JD needs to get a pill everyday and it...\n",
       "\n",
       "[10000 rows x 2 columns]"
      ]
     },
     "execution_count": 15,
     "metadata": {},
     "output_type": "execute_result"
    }
   ],
   "source": [
    "df"
   ]
  },
  {
   "cell_type": "code",
   "execution_count": 16,
   "id": "926df4a3",
   "metadata": {},
   "outputs": [
    {
     "data": {
      "image/png": "[encoded data removed]",
      "text/plain": [
       "<Figure size 640x480 with 1 Axes>"
      ]
     },
     "metadata": {},
     "output_type": "display_data"
    }
   ],
   "source": [
    "df.Score.value_counts().plot(kind='bar');"
   ]
  },
  {
   "cell_type": "markdown",
   "id": "c2035f96",
   "metadata": {},
   "source": [
    "# 2.TEXT PREPROCESS"
   ]
  },
  {
   "cell_type": "markdown",
   "id": "7823b347",
   "metadata": {},
   "source": [
    "Text Pre-Processing is the step to clean data . Clean data is essential because we need to send vectors for important words predicting target hence words not so essential has to be cleaned."
   ]
  },
  {
   "cell_type": "code",
   "execution_count": 17,
   "id": "a6e079de",
   "metadata": {},
   "outputs": [
    {
     "data": {
      "text/html": [
       "<div>\n",
       "<style scoped>\n",
       "    .dataframe tbody tr th:only-of-type {\n",
       "        vertical-align: middle;\n",
       "    }\n",
       "\n",
       "    .dataframe tbody tr th {\n",
       "        vertical-align: top;\n",
       "    }\n",
       "\n",
       "    .dataframe thead th {\n",
       "        text-align: right;\n",
       "    }\n",
       "</style>\n",
       "<table border=\"1\" class=\"dataframe\">\n",
       "  <thead>\n",
       "    <tr style=\"text-align: right;\">\n",
       "      <th></th>\n",
       "      <th>Score</th>\n",
       "      <th>Text</th>\n",
       "    </tr>\n",
       "  </thead>\n",
       "  <tbody>\n",
       "    <tr>\n",
       "      <th>0</th>\n",
       "      <td>5</td>\n",
       "      <td>This Hickory Smoked flavor is my favorite of t...</td>\n",
       "    </tr>\n",
       "    <tr>\n",
       "      <th>1</th>\n",
       "      <td>4</td>\n",
       "      <td>I'm mostly a coffee drinker but I do try to dr...</td>\n",
       "    </tr>\n",
       "    <tr>\n",
       "      <th>2</th>\n",
       "      <td>5</td>\n",
       "      <td>Bought these to make gluten free eggrolls for ...</td>\n",
       "    </tr>\n",
       "    <tr>\n",
       "      <th>3</th>\n",
       "      <td>5</td>\n",
       "      <td>I highly recommend Newman's Own Organics Dog F...</td>\n",
       "    </tr>\n",
       "    <tr>\n",
       "      <th>4</th>\n",
       "      <td>5</td>\n",
       "      <td>The \"GeniSoy\" Protein Shakes have always impre...</td>\n",
       "    </tr>\n",
       "  </tbody>\n",
       "</table>\n",
       "</div>"
      ],
      "text/plain": [
       "   Score                                               Text\n",
       "0      5  This Hickory Smoked flavor is my favorite of t...\n",
       "1      4  I'm mostly a coffee drinker but I do try to dr...\n",
       "2      5  Bought these to make gluten free eggrolls for ...\n",
       "3      5  I highly recommend Newman's Own Organics Dog F...\n",
       "4      5  The \"GeniSoy\" Protein Shakes have always impre..."
      ]
     },
     "execution_count": 17,
     "metadata": {},
     "output_type": "execute_result"
    }
   ],
   "source": [
    "df.head()"
   ]
  },
  {
   "cell_type": "code",
   "execution_count": null,
   "id": "c85158e9",
   "metadata": {},
   "outputs": [],
   "source": []
  },
  {
   "cell_type": "markdown",
   "id": "c6c9c0d9",
   "metadata": {},
   "source": [
    "# 2.1 Lowercase"
   ]
  },
  {
   "cell_type": "markdown",
   "id": "6894db71",
   "metadata": {},
   "source": [
    "Lowercasing is required to put all the wors in lowercase and it is useful to manage the case senstivity of a word in python."
   ]
  },
  {
   "cell_type": "markdown",
   "id": "81f8a3d9",
   "metadata": {},
   "source": [
    "Example - in python 'Machine' and 'machine' are different words however in english they are same"
   ]
  },
  {
   "cell_type": "code",
   "execution_count": 22,
   "id": "1ac67cee",
   "metadata": {},
   "outputs": [
    {
     "data": {
      "text/plain": [
       "'i am doing a project today'"
      ]
     },
     "execution_count": 22,
     "metadata": {},
     "output_type": "execute_result"
    }
   ],
   "source": [
    "text='I am doing a PROJECT TOdaY'\n",
    "text.lower()"
   ]
  },
  {
   "cell_type": "code",
   "execution_count": 23,
   "id": "a2f80069",
   "metadata": {},
   "outputs": [],
   "source": [
    "#lowercase\n",
    "df['Text']=df['Text'].str.lower()"
   ]
  },
  {
   "cell_type": "code",
   "execution_count": 24,
   "id": "af60dcf2",
   "metadata": {},
   "outputs": [
    {
     "data": {
      "text/html": [
       "<div>\n",
       "<style scoped>\n",
       "    .dataframe tbody tr th:only-of-type {\n",
       "        vertical-align: middle;\n",
       "    }\n",
       "\n",
       "    .dataframe tbody tr th {\n",
       "        vertical-align: top;\n",
       "    }\n",
       "\n",
       "    .dataframe thead th {\n",
       "        text-align: right;\n",
       "    }\n",
       "</style>\n",
       "<table border=\"1\" class=\"dataframe\">\n",
       "  <thead>\n",
       "    <tr style=\"text-align: right;\">\n",
       "      <th></th>\n",
       "      <th>Score</th>\n",
       "      <th>Text</th>\n",
       "    </tr>\n",
       "  </thead>\n",
       "  <tbody>\n",
       "    <tr>\n",
       "      <th>0</th>\n",
       "      <td>5</td>\n",
       "      <td>this hickory smoked flavor is my favorite of t...</td>\n",
       "    </tr>\n",
       "    <tr>\n",
       "      <th>1</th>\n",
       "      <td>4</td>\n",
       "      <td>i'm mostly a coffee drinker but i do try to dr...</td>\n",
       "    </tr>\n",
       "    <tr>\n",
       "      <th>2</th>\n",
       "      <td>5</td>\n",
       "      <td>bought these to make gluten free eggrolls for ...</td>\n",
       "    </tr>\n",
       "    <tr>\n",
       "      <th>3</th>\n",
       "      <td>5</td>\n",
       "      <td>i highly recommend newman's own organics dog f...</td>\n",
       "    </tr>\n",
       "    <tr>\n",
       "      <th>4</th>\n",
       "      <td>5</td>\n",
       "      <td>the \"genisoy\" protein shakes have always impre...</td>\n",
       "    </tr>\n",
       "  </tbody>\n",
       "</table>\n",
       "</div>"
      ],
      "text/plain": [
       "   Score                                               Text\n",
       "0      5  this hickory smoked flavor is my favorite of t...\n",
       "1      4  i'm mostly a coffee drinker but i do try to dr...\n",
       "2      5  bought these to make gluten free eggrolls for ...\n",
       "3      5  i highly recommend newman's own organics dog f...\n",
       "4      5  the \"genisoy\" protein shakes have always impre..."
      ]
     },
     "execution_count": 24,
     "metadata": {},
     "output_type": "execute_result"
    }
   ],
   "source": [
    "df.head()"
   ]
  },
  {
   "cell_type": "markdown",
   "id": "81295c81",
   "metadata": {},
   "source": [
    "# 2.2 Punctuation Removal"
   ]
  },
  {
   "cell_type": "markdown",
   "id": "cf1cf194",
   "metadata": {},
   "source": [
    "Punctuation removal is nessecary because they do not contribute in prediction of variable"
   ]
  },
  {
   "cell_type": "code",
   "execution_count": 25,
   "id": "7143bc11",
   "metadata": {},
   "outputs": [],
   "source": [
    "#punctuation removal\n",
    "import string\n",
    "char=string.punctuation"
   ]
  },
  {
   "cell_type": "code",
   "execution_count": 26,
   "id": "92ae8dec",
   "metadata": {},
   "outputs": [
    {
     "data": {
      "text/plain": [
       "'!\"#$%&\\'()*+,-./:;<=>?@[\\\\]^_`{|}~'"
      ]
     },
     "execution_count": 26,
     "metadata": {},
     "output_type": "execute_result"
    }
   ],
   "source": [
    "char"
   ]
  },
  {
   "cell_type": "code",
   "execution_count": 27,
   "id": "433022de",
   "metadata": {},
   "outputs": [],
   "source": [
    "def pun_rem(text):\n",
    "    for i in char:\n",
    "        text=text.replace(i,'')\n",
    "    return text"
   ]
  },
  {
   "cell_type": "code",
   "execution_count": 28,
   "id": "b1f4bbdb",
   "metadata": {},
   "outputs": [],
   "source": [
    "df['Text']=df['Text'].apply(pun_rem)"
   ]
  },
  {
   "cell_type": "code",
   "execution_count": 29,
   "id": "02254bcc",
   "metadata": {},
   "outputs": [
    {
     "data": {
      "text/plain": [
       "'i need to eat 1 or 2 protein bars every day as a post bariatric surgery patient to ensure that i get enough protein every day this doublechocolate special k protein bar 10g protein 180 cal is my very favorite protein bar since it tastes more like a chocolate candy bar with crunch ive been eating 45 per week for over a year and i still dont get tired of them there may be bars with more protein or ones with more fiber but none with better taste in my opinion buy one box and youll be hooked'"
      ]
     },
     "execution_count": 29,
     "metadata": {},
     "output_type": "execute_result"
    }
   ],
   "source": [
    "#checking some random row \n",
    "df['Text'][9187]"
   ]
  },
  {
   "cell_type": "code",
   "execution_count": null,
   "id": "d5991088",
   "metadata": {},
   "outputs": [],
   "source": []
  },
  {
   "cell_type": "code",
   "execution_count": 30,
   "id": "c4c86bdf",
   "metadata": {},
   "outputs": [
    {
     "data": {
      "text/plain": [
       "'Heythere Hows it going  Have you seen samantha  I think she must be out  of the city Right  also  let me add a stopwrods a  it he shehad'"
      ]
     },
     "execution_count": 30,
     "metadata": {},
     "output_type": "execute_result"
    }
   ],
   "source": [
    "#checking function on a random text\n",
    "text4=\"Hey!!there!!, How's it going ? Have you seen +samantha ? I think she ,must{ be} out * of the $city .Right ? ?,also , let me add a stopwrods a , it, he ,she,had\"\n",
    "pun_rem(text4)"
   ]
  },
  {
   "cell_type": "markdown",
   "id": "3f083351",
   "metadata": {},
   "source": [
    "## 2.3 HTML TAGS"
   ]
  },
  {
   "cell_type": "markdown",
   "id": "0bdeb41c",
   "metadata": {},
   "source": [
    "Has to be removed because no contribution towards prediction"
   ]
  },
  {
   "cell_type": "code",
   "execution_count": 31,
   "id": "1b066d27",
   "metadata": {},
   "outputs": [],
   "source": [
    "#REGEX is very much used in NLP \n",
    "\n",
    "import re\n",
    "def removal_html(text):\n",
    "    pattern = re.compile('<.*?>')#for html tags removal\n",
    "    return pattern.sub(r'',text) #substituing tag with ''"
   ]
  },
  {
   "cell_type": "code",
   "execution_count": 32,
   "id": "2a0f01ae",
   "metadata": {},
   "outputs": [],
   "source": [
    "df['Text']=df['Text'].apply(removal_html)"
   ]
  },
  {
   "cell_type": "code",
   "execution_count": 33,
   "id": "ae946c18",
   "metadata": {},
   "outputs": [
    {
     "data": {
      "text/plain": [
       "'Hello world! Click here to learn more about HTML.'"
      ]
     },
     "execution_count": 33,
     "metadata": {},
     "output_type": "execute_result"
    }
   ],
   "source": [
    "#checking on random text\n",
    "text = '<b>Hello</b> <i>world!</i> <a href=\"https://www.example.com\">Click here</a> to learn more about HTML.'\n",
    "removal_html(text)"
   ]
  },
  {
   "cell_type": "markdown",
   "id": "d295fca2",
   "metadata": {},
   "source": [
    "# 2.4 REMOVE URL AND WWW"
   ]
  },
  {
   "cell_type": "code",
   "execution_count": 34,
   "id": "9cae4728",
   "metadata": {},
   "outputs": [],
   "source": [
    "# remove URL\n",
    "def rem_url(text):\n",
    "    pattern=re.compile('https?://\\S+|www.\\S+')\n",
    "    \n",
    "    return pattern.sub(r'',text)"
   ]
  },
  {
   "cell_type": "code",
   "execution_count": 35,
   "id": "1a9a26e5",
   "metadata": {},
   "outputs": [],
   "source": [
    "df['Text']=df['Text'].apply(rem_url)"
   ]
  },
  {
   "cell_type": "code",
   "execution_count": 36,
   "id": "9feb02c7",
   "metadata": {},
   "outputs": [
    {
     "data": {
      "text/plain": [
       "'Check out our latest product at  and at  '"
      ]
     },
     "execution_count": 36,
     "metadata": {},
     "output_type": "execute_result"
    }
   ],
   "source": [
    "#checking on random string\n",
    "text1 = \"Check out our latest product at http://url.com/bla1/blah1/ and at  www.yahoo.com\"\n",
    "rem_url(text1)\n"
   ]
  },
  {
   "cell_type": "markdown",
   "id": "5aea3e17",
   "metadata": {},
   "source": [
    "# 2.5 Stop word removal"
   ]
  },
  {
   "cell_type": "code",
   "execution_count": 37,
   "id": "33ef0816",
   "metadata": {},
   "outputs": [],
   "source": [
    "def stp_rem(text):\n",
    "    token=text.split()\n",
    "    tokens=[x for x in token if x not in stopwords.words('english')]\n",
    "    feat=' '.join(tokens)\n",
    "    return feat"
   ]
  },
  {
   "cell_type": "code",
   "execution_count": 38,
   "id": "c94682ad",
   "metadata": {},
   "outputs": [
    {
     "name": "stdout",
     "output_type": "stream",
     "text": [
      "['i', 'me', 'my', 'myself', 'we', 'our', 'ours', 'ourselves', 'you', \"you're\", \"you've\", \"you'll\", \"you'd\", 'your', 'yours', 'yourself', 'yourselves', 'he', 'him', 'his', 'himself', 'she', \"she's\", 'her', 'hers', 'herself', 'it', \"it's\", 'its', 'itself', 'they', 'them', 'their', 'theirs', 'themselves', 'what', 'which', 'who', 'whom', 'this', 'that', \"that'll\", 'these', 'those', 'am', 'is', 'are', 'was', 'were', 'be', 'been', 'being', 'have', 'has', 'had', 'having', 'do', 'does', 'did', 'doing', 'a', 'an', 'the', 'and', 'but', 'if', 'or', 'because', 'as', 'until', 'while', 'of', 'at', 'by', 'for', 'with', 'about', 'against', 'between', 'into', 'through', 'during', 'before', 'after', 'above', 'below', 'to', 'from', 'up', 'down', 'in', 'out', 'on', 'off', 'over', 'under', 'again', 'further', 'then', 'once', 'here', 'there', 'when', 'where', 'why', 'how', 'all', 'any', 'both', 'each', 'few', 'more', 'most', 'other', 'some', 'such', 'no', 'nor', 'not', 'only', 'own', 'same', 'so', 'than', 'too', 'very', 's', 't', 'can', 'will', 'just', 'don', \"don't\", 'should', \"should've\", 'now', 'd', 'll', 'm', 'o', 're', 've', 'y', 'ain', 'aren', \"aren't\", 'couldn', \"couldn't\", 'didn', \"didn't\", 'doesn', \"doesn't\", 'hadn', \"hadn't\", 'hasn', \"hasn't\", 'haven', \"haven't\", 'isn', \"isn't\", 'ma', 'mightn', \"mightn't\", 'mustn', \"mustn't\", 'needn', \"needn't\", 'shan', \"shan't\", 'shouldn', \"shouldn't\", 'wasn', \"wasn't\", 'weren', \"weren't\", 'won', \"won't\", 'wouldn', \"wouldn't\"]\n"
     ]
    }
   ],
   "source": [
    "print(stopwords.words('english'))\n",
    "#note all stopwords are in lower case"
   ]
  },
  {
   "cell_type": "code",
   "execution_count": 39,
   "id": "099edfc8",
   "metadata": {},
   "outputs": [
    {
     "data": {
      "text/plain": [
       "'Hi Yesterday I watched two movies Annabella o.u.a.t.a day yesterday watched Life pie'"
      ]
     },
     "execution_count": 39,
     "metadata": {},
     "output_type": "execute_result"
    }
   ],
   "source": [
    "#checking on a random text\n",
    "text2='Hi Yesterday I watched two movies Annabella and o.u.a.t.a and day before yesterday i watched Life of pie'\n",
    "stp_rem(text2)"
   ]
  },
  {
   "cell_type": "code",
   "execution_count": 40,
   "id": "0c2a024b",
   "metadata": {},
   "outputs": [],
   "source": [
    "df['Text']=df['Text'].apply(stp_rem)"
   ]
  },
  {
   "cell_type": "code",
   "execution_count": 41,
   "id": "0b1e2a62",
   "metadata": {},
   "outputs": [
    {
     "data": {
      "text/plain": [
       "'always wanted like greent tea never able sister gave cup tea house completely taste smooth mild sweetness jasmine husband successfully quit coffee thanks tea'"
      ]
     },
     "execution_count": 41,
     "metadata": {},
     "output_type": "execute_result"
    }
   ],
   "source": [
    "df['Text'][14]"
   ]
  },
  {
   "cell_type": "markdown",
   "id": "b2c75d63",
   "metadata": {},
   "source": [
    "# 2.6 LEMMITIZATION"
   ]
  },
  {
   "cell_type": "code",
   "execution_count": 42,
   "id": "16be86f4",
   "metadata": {},
   "outputs": [
    {
     "name": "stderr",
     "output_type": "stream",
     "text": [
      "[nltk_data] Downloading package wordnet to\n",
      "[nltk_data]     C:\\Users\\esvit\\AppData\\Roaming\\nltk_data...\n",
      "[nltk_data]   Package wordnet is already up-to-date!\n"
     ]
    },
    {
     "data": {
      "text/plain": [
       "True"
      ]
     },
     "execution_count": 42,
     "metadata": {},
     "output_type": "execute_result"
    }
   ],
   "source": [
    "from nltk.stem import WordNetLemmatizer\n",
    "import nltk\n",
    "nltk.download('wordnet')"
   ]
  },
  {
   "cell_type": "code",
   "execution_count": 43,
   "id": "03c49ea6",
   "metadata": {},
   "outputs": [],
   "source": [
    "wl=WordNetLemmatizer()"
   ]
  },
  {
   "cell_type": "code",
   "execution_count": 44,
   "id": "ee201f07",
   "metadata": {},
   "outputs": [],
   "source": [
    "def lem(text):\n",
    "    words=word_tokenize(text)\n",
    "    lemm=[wl.lemmatize(i) for i in words]#since lemmitizer work on each word hence we need to have list of it\n",
    "    return ' '.join(lemm)"
   ]
  },
  {
   "cell_type": "code",
   "execution_count": 45,
   "id": "56f4f35e",
   "metadata": {},
   "outputs": [],
   "source": [
    "df['Text'] = df['Text'].apply(lem)"
   ]
  },
  {
   "cell_type": "code",
   "execution_count": 46,
   "id": "1872c328",
   "metadata": {},
   "outputs": [
    {
     "data": {
      "text/plain": [
       "0       hickory smoked flavor favorite primal strip lo...\n",
       "1       im mostly coffee drinker try drink cup green t...\n",
       "2       bought make gluten free eggrolls granddaughter...\n",
       "3       highly recommend newman organic dog food natur...\n",
       "4       genisoy protein shake always impressed creamy ...\n",
       "                              ...                        \n",
       "9995    stuff terrible hot spicy way unless count coat...\n",
       "9996    bought see jamaica blue mountain life reputati...\n",
       "9997    buy case dog healthy treat dog love somewhat s...\n",
       "9998    always skeptical claim product however noticed...\n",
       "9999    cat jd need get pill everyday much easier give...\n",
       "Name: Text, Length: 10000, dtype: object"
      ]
     },
     "execution_count": 46,
     "metadata": {},
     "output_type": "execute_result"
    }
   ],
   "source": [
    "df['Text']"
   ]
  },
  {
   "cell_type": "markdown",
   "id": "f44dd6eb",
   "metadata": {},
   "source": [
    "# 4. Text Vectorisation"
   ]
  },
  {
   "cell_type": "code",
   "execution_count": 47,
   "id": "7287a69c",
   "metadata": {},
   "outputs": [],
   "source": [
    "x=df['Text']\n",
    "y=df['Score']\n"
   ]
  },
  {
   "cell_type": "code",
   "execution_count": 48,
   "id": "65531648",
   "metadata": {},
   "outputs": [
    {
     "data": {
      "text/plain": [
       "0       hickory smoked flavor favorite primal strip lo...\n",
       "1       im mostly coffee drinker try drink cup green t...\n",
       "2       bought make gluten free eggrolls granddaughter...\n",
       "3       highly recommend newman organic dog food natur...\n",
       "4       genisoy protein shake always impressed creamy ...\n",
       "                              ...                        \n",
       "9995    stuff terrible hot spicy way unless count coat...\n",
       "9996    bought see jamaica blue mountain life reputati...\n",
       "9997    buy case dog healthy treat dog love somewhat s...\n",
       "9998    always skeptical claim product however noticed...\n",
       "9999    cat jd need get pill everyday much easier give...\n",
       "Name: Text, Length: 10000, dtype: object"
      ]
     },
     "execution_count": 48,
     "metadata": {},
     "output_type": "execute_result"
    }
   ],
   "source": [
    "x"
   ]
  },
  {
   "cell_type": "code",
   "execution_count": 49,
   "id": "f15e3cdf",
   "metadata": {},
   "outputs": [
    {
     "data": {
      "text/plain": [
       "0       5\n",
       "1       4\n",
       "2       5\n",
       "3       5\n",
       "4       5\n",
       "       ..\n",
       "9995    1\n",
       "9996    3\n",
       "9997    5\n",
       "9998    4\n",
       "9999    5\n",
       "Name: Score, Length: 10000, dtype: int64"
      ]
     },
     "execution_count": 49,
     "metadata": {},
     "output_type": "execute_result"
    }
   ],
   "source": [
    "y"
   ]
  },
  {
   "cell_type": "code",
   "execution_count": 50,
   "id": "6ab07d32",
   "metadata": {},
   "outputs": [
    {
     "data": {
      "text/plain": [
       "((8000,), (2000,))"
      ]
     },
     "execution_count": 50,
     "metadata": {},
     "output_type": "execute_result"
    }
   ],
   "source": [
    "from sklearn.model_selection import train_test_split\n",
    "x_train,x_test,y_train,y_test=train_test_split(x,y,test_size=0.2,random_state=42)\n",
    "x_train.shape,y_test.shape"
   ]
  },
  {
   "cell_type": "markdown",
   "id": "f4ac3700",
   "metadata": {},
   "source": [
    "# 4.1 BOW"
   ]
  },
  {
   "cell_type": "code",
   "execution_count": 51,
   "id": "5aeb641b",
   "metadata": {},
   "outputs": [],
   "source": [
    "from sklearn.feature_extraction.text import CountVectorizer\n",
    "cv=CountVectorizer(ngram_range=(1,1))"
   ]
  },
  {
   "cell_type": "code",
   "execution_count": 52,
   "id": "c0dd8c43",
   "metadata": {},
   "outputs": [
    {
     "data": {
      "text/plain": [
       "<8000x21734 sparse matrix of type '<class 'numpy.int64'>'\n",
       "\twith 274735 stored elements in Compressed Sparse Row format>"
      ]
     },
     "execution_count": 52,
     "metadata": {},
     "output_type": "execute_result"
    }
   ],
   "source": [
    "x_train_bow=cv.fit_transform(x_train)\n",
    "x_test_bow=cv.transform(x_test)\n",
    "x_train_bow"
   ]
  },
  {
   "cell_type": "code",
   "execution_count": 53,
   "id": "57a813e5",
   "metadata": {},
   "outputs": [
    {
     "data": {
      "text/plain": [
       "(8000, 21734)"
      ]
     },
     "execution_count": 53,
     "metadata": {},
     "output_type": "execute_result"
    }
   ],
   "source": [
    "x_train_bow.shape"
   ]
  },
  {
   "cell_type": "markdown",
   "id": "e461a535",
   "metadata": {},
   "source": [
    "trying to find the documents and its vector"
   ]
  },
  {
   "cell_type": "code",
   "execution_count": 80,
   "id": "02516d08",
   "metadata": {},
   "outputs": [
    {
     "name": "stdout",
     "output_type": "stream",
     "text": [
      "('experimented', 7391)\n"
     ]
    }
   ],
   "source": [
    "lis=list(cv.vocabulary_.items())\n",
    "lis\n",
    "for i in lis:\n",
    "    if i[1]==7391:\n",
    "        print(i)\n",
    "        break"
   ]
  },
  {
   "cell_type": "markdown",
   "id": "74c2ceeb",
   "metadata": {},
   "source": [
    "Found that order of x_train_bow is different from x_train"
   ]
  },
  {
   "cell_type": "markdown",
   "id": "aca6a158",
   "metadata": {},
   "source": [
    "# 4.2 N-GRAM"
   ]
  },
  {
   "cell_type": "code",
   "execution_count": 65,
   "id": "0425dd87",
   "metadata": {},
   "outputs": [],
   "source": [
    "from sklearn.feature_extraction.text import CountVectorizer\n",
    "bigm=CountVectorizer(ngram_range=(2,2))"
   ]
  },
  {
   "cell_type": "code",
   "execution_count": 66,
   "id": "9f0baf06",
   "metadata": {},
   "outputs": [
    {
     "data": {
      "text/plain": [
       "(8000, 208847)"
      ]
     },
     "execution_count": 66,
     "metadata": {},
     "output_type": "execute_result"
    }
   ],
   "source": [
    "x_train_bgm = bigm.fit_transform(x_train)\n",
    "x_test_bgm=bigm.transform(x_test)\n",
    "x_train_bgm.shape"
   ]
  },
  {
   "cell_type": "code",
   "execution_count": 67,
   "id": "f5cbd9b5",
   "metadata": {},
   "outputs": [
    {
     "data": {
      "text/plain": [
       "208847"
      ]
     },
     "execution_count": 67,
     "metadata": {},
     "output_type": "execute_result"
    }
   ],
   "source": [
    "len(bigm.vocabulary_)"
   ]
  },
  {
   "cell_type": "code",
   "execution_count": 68,
   "id": "4d16b681",
   "metadata": {},
   "outputs": [],
   "source": [
    "#bigm.vocabulary_"
   ]
  },
  {
   "cell_type": "markdown",
   "id": "4af884f7",
   "metadata": {},
   "source": [
    "# 4.3  Tri gram"
   ]
  },
  {
   "cell_type": "code",
   "execution_count": 69,
   "id": "ab224ad3",
   "metadata": {},
   "outputs": [],
   "source": [
    "trgm=CountVectorizer(ngram_range=(3,3))\n",
    "x_train_trgm = trgm.fit_transform(x_train)\n",
    "x_test_trgm=trgm.transform(x_test)"
   ]
  },
  {
   "cell_type": "code",
   "execution_count": 70,
   "id": "662da019",
   "metadata": {},
   "outputs": [
    {
     "data": {
      "text/plain": [
       "(8000, 294898)"
      ]
     },
     "execution_count": 70,
     "metadata": {},
     "output_type": "execute_result"
    }
   ],
   "source": [
    "x_train_trgm.shape"
   ]
  },
  {
   "cell_type": "markdown",
   "id": "26bca32d",
   "metadata": {},
   "source": [
    "# 4.4 TF-IDF"
   ]
  },
  {
   "cell_type": "code",
   "execution_count": 71,
   "id": "5544d2c0",
   "metadata": {},
   "outputs": [],
   "source": [
    "from sklearn.feature_extraction.text import TfidfVectorizer\n",
    "tf=TfidfVectorizer()"
   ]
  },
  {
   "cell_type": "code",
   "execution_count": 72,
   "id": "07d4f523",
   "metadata": {},
   "outputs": [
    {
     "data": {
      "text/plain": [
       "(8000, 21734)"
      ]
     },
     "execution_count": 72,
     "metadata": {},
     "output_type": "execute_result"
    }
   ],
   "source": [
    "x_train_tf = tf.fit_transform(x_train)\n",
    "x_test_tf =tf.transform(x_test)\n",
    "x_train_tf.shape\n"
   ]
  },
  {
   "cell_type": "code",
   "execution_count": 73,
   "id": "e48497b6",
   "metadata": {},
   "outputs": [],
   "source": [
    "#tf.vocabulary_"
   ]
  },
  {
   "cell_type": "markdown",
   "id": "ed45d1b7",
   "metadata": {},
   "source": [
    "# 5 . Modeling"
   ]
  },
  {
   "cell_type": "markdown",
   "id": "c8925226",
   "metadata": {},
   "source": [
    "# ********* BASE MODELS***************"
   ]
  },
  {
   "cell_type": "markdown",
   "id": "c84ef330",
   "metadata": {},
   "source": [
    "# 5.1  Logistic Regression"
   ]
  },
  {
   "cell_type": "code",
   "execution_count": 103,
   "id": "3b91ab9e",
   "metadata": {},
   "outputs": [],
   "source": [
    "from sklearn.linear_model import LogisticRegression\n"
   ]
  },
  {
   "cell_type": "code",
   "execution_count": 104,
   "id": "927dc4dc",
   "metadata": {},
   "outputs": [],
   "source": [
    "lg=LogisticRegression(multi_class='multinomial')"
   ]
  },
  {
   "cell_type": "code",
   "execution_count": 105,
   "id": "284f3d15",
   "metadata": {},
   "outputs": [
    {
     "data": {
      "text/plain": [
       "0.6645"
      ]
     },
     "execution_count": 105,
     "metadata": {},
     "output_type": "execute_result"
    }
   ],
   "source": [
    "model_bow = lg.fit(x_train_bow,y_train)\n",
    "predict_bow=model_bow.predict(x_test_bow)\n",
    "accuracy_score(y_test,predict_bow)"
   ]
  },
  {
   "cell_type": "code",
   "execution_count": 106,
   "id": "0b8fd344",
   "metadata": {},
   "outputs": [
    {
     "data": {
      "text/plain": [
       "0.6375"
      ]
     },
     "execution_count": 106,
     "metadata": {},
     "output_type": "execute_result"
    }
   ],
   "source": [
    "model_bgm = lg.fit(x_train_bgm,y_train)\n",
    "predict_bgm=model_bgm.predict(x_test_bgm)\n",
    "accuracy_score(y_test,predict_bgm)"
   ]
  },
  {
   "cell_type": "code",
   "execution_count": 107,
   "id": "700e50af",
   "metadata": {},
   "outputs": [
    {
     "data": {
      "text/plain": [
       "0.627"
      ]
     },
     "execution_count": 107,
     "metadata": {},
     "output_type": "execute_result"
    }
   ],
   "source": [
    "model_tgm=lg.fit(x_train_trgm,y_train)\n",
    "predict_tgm=model_tgm.predict(x_test_trgm)\n",
    "accuracy_score(y_test,predict_tgm)"
   ]
  },
  {
   "cell_type": "code",
   "execution_count": 108,
   "id": "acfbbd61",
   "metadata": {},
   "outputs": [
    {
     "data": {
      "text/plain": [
       "0.674"
      ]
     },
     "execution_count": 108,
     "metadata": {},
     "output_type": "execute_result"
    }
   ],
   "source": [
    "model_tf=lg.fit(x_train_tf,y_train)\n",
    "predict_tf=model_tf.predict(x_test_tf)\n",
    "accuracy_score(y_test,predict_tf)"
   ]
  },
  {
   "cell_type": "code",
   "execution_count": 109,
   "id": "71e76584",
   "metadata": {},
   "outputs": [],
   "source": [
    "#f=pd.DataFrame({'test':y_test,'predict':predict_tf})\n",
    "#f.sample(10)\n"
   ]
  },
  {
   "cell_type": "code",
   "execution_count": 110,
   "id": "fdd22209",
   "metadata": {},
   "outputs": [
    {
     "name": "stdout",
     "output_type": "stream",
     "text": [
      "0.66825\n",
      "0.657875\n",
      "0.6493749999999999\n",
      "0.676125\n"
     ]
    }
   ],
   "source": [
    "print(np.mean(cross_val_score(lg,x_train_bow,y_train,cv=5,scoring='accuracy')))\n",
    "print(np.mean(cross_val_score(lg,x_train_bgm,y_train,cv=5,scoring='accuracy')))\n",
    "print(np.mean(cross_val_score(lg,x_train_trgm,y_train,cv=5,scoring='accuracy')))\n",
    "print(np.mean(cross_val_score(lg,x_train_tf,y_train,cv=5,scoring='accuracy')))"
   ]
  },
  {
   "cell_type": "markdown",
   "id": "afb817e9",
   "metadata": {},
   "source": [
    "FROM THE ABOVE CROSS VAL SCORE WE FIND THAT TF MODEL IS LESS OVERFITTED .Hence, we will find accuracy parameter of it"
   ]
  },
  {
   "cell_type": "code",
   "execution_count": 113,
   "id": "c0e97a67",
   "metadata": {},
   "outputs": [
    {
     "data": {
      "text/plain": [
       "array([[  78,    3,    0,    8,  118],\n",
       "       [  14,    2,    5,   10,   72],\n",
       "       [   8,    1,   10,   31,   98],\n",
       "       [   3,    2,    5,   60,  242],\n",
       "       [   4,    0,    2,   26, 1198]], dtype=int64)"
      ]
     },
     "execution_count": 113,
     "metadata": {},
     "output_type": "execute_result"
    }
   ],
   "source": [
    "#confusion matrix for BGM since it is showing the highest accuracy in LGR model\n",
    "confusion_matrix(y_test,predict_tf)"
   ]
  },
  {
   "cell_type": "code",
   "execution_count": 114,
   "id": "5ad3c67a",
   "metadata": {},
   "outputs": [
    {
     "name": "stdout",
     "output_type": "stream",
     "text": [
      "              precision    recall  f1-score   support\n",
      "\n",
      "           1       0.73      0.38      0.50       207\n",
      "           2       0.25      0.02      0.04       103\n",
      "           3       0.45      0.07      0.12       148\n",
      "           4       0.44      0.19      0.27       312\n",
      "           5       0.69      0.97      0.81      1230\n",
      "\n",
      "    accuracy                           0.67      2000\n",
      "   macro avg       0.51      0.33      0.35      2000\n",
      "weighted avg       0.62      0.67      0.60      2000\n",
      "\n"
     ]
    }
   ],
   "source": [
    "print(classification_report(y_test,predict_tf))"
   ]
  },
  {
   "cell_type": "markdown",
   "id": "229f62cd",
   "metadata": {},
   "source": [
    "# 5 .2MNB"
   ]
  },
  {
   "cell_type": "code",
   "execution_count": 84,
   "id": "09e23497",
   "metadata": {},
   "outputs": [],
   "source": [
    "from sklearn.naive_bayes import MultinomialNB\n",
    "mnb=MultinomialNB()"
   ]
  },
  {
   "cell_type": "code",
   "execution_count": 85,
   "id": "9b403029",
   "metadata": {},
   "outputs": [
    {
     "data": {
      "text/plain": [
       "0.648"
      ]
     },
     "execution_count": 85,
     "metadata": {},
     "output_type": "execute_result"
    }
   ],
   "source": [
    "model_bow = mnb.fit(x_train_bow,y_train)\n",
    "predict_bow= model_bow.predict(x_test_bow)\n",
    "accuracy_score(y_test,predict_bow)"
   ]
  },
  {
   "cell_type": "code",
   "execution_count": 86,
   "id": "09841b74",
   "metadata": {},
   "outputs": [],
   "source": [
    "#predict_bow\n",
    "#check overfitting of model"
   ]
  },
  {
   "cell_type": "code",
   "execution_count": 87,
   "id": "253b9609",
   "metadata": {},
   "outputs": [
    {
     "data": {
      "text/plain": [
       "0.6405"
      ]
     },
     "execution_count": 87,
     "metadata": {},
     "output_type": "execute_result"
    }
   ],
   "source": [
    "model_bgm = mnb.fit(x_train_bgm,y_train)\n",
    "predict_bgm= model_bgm.predict(x_test_bgm)\n",
    "accuracy_score(y_test,predict_bgm)"
   ]
  },
  {
   "cell_type": "code",
   "execution_count": 88,
   "id": "c1dcd56d",
   "metadata": {},
   "outputs": [
    {
     "data": {
      "text/plain": [
       "0.623"
      ]
     },
     "execution_count": 88,
     "metadata": {},
     "output_type": "execute_result"
    }
   ],
   "source": [
    "model_tgm = mnb.fit(x_train_trgm,y_train)\n",
    "predict_tgm= model_tgm.predict(x_test_trgm)\n",
    "accuracy_score(y_test,predict_tgm)"
   ]
  },
  {
   "cell_type": "code",
   "execution_count": 89,
   "id": "3bc90e19",
   "metadata": {},
   "outputs": [
    {
     "data": {
      "text/plain": [
       "0.615"
      ]
     },
     "execution_count": 89,
     "metadata": {},
     "output_type": "execute_result"
    }
   ],
   "source": [
    "model_tf = mnb.fit(x_train_tf,y_train)\n",
    "predict_tf= model_tf.predict(x_test_tf)\n",
    "accuracy_score(y_test,predict_tf)"
   ]
  },
  {
   "cell_type": "code",
   "execution_count": 90,
   "id": "ef0f1672",
   "metadata": {},
   "outputs": [
    {
     "name": "stdout",
     "output_type": "stream",
     "text": [
      "0.6525000000000001\n",
      "0.507\n",
      "0.13774999999999998\n",
      "0.638\n"
     ]
    }
   ],
   "source": [
    "print(np.mean(cross_val_score(mnb,x_train_bow,y_train,cv=5,scoring='accuracy')))\n",
    "print(np.mean(cross_val_score(mnb,x_train_bgm,y_train,cv=5,scoring='accuracy')))\n",
    "print(np.mean(cross_val_score(mnb,x_train_trgm,y_train,cv=5,scoring='accuracy')))\n",
    "print(np.mean(cross_val_score(mnb,x_train_tf,y_train,cv=5,scoring='accuracy')))"
   ]
  },
  {
   "cell_type": "code",
   "execution_count": 101,
   "id": "d2281d66",
   "metadata": {},
   "outputs": [
    {
     "data": {
      "text/plain": [
       "array([[  34,    0,    0,    0,  173],\n",
       "       [   1,    0,    0,    0,  102],\n",
       "       [   3,    0,    2,    0,  143],\n",
       "       [   1,    0,    0,    5,  306],\n",
       "       [   1,    0,    0,    0, 1229]], dtype=int64)"
      ]
     },
     "execution_count": 101,
     "metadata": {},
     "output_type": "execute_result"
    }
   ],
   "source": [
    "#predict_tf\n",
    "\n",
    "confusion_matrix(y_test,predict_bow)\n",
    "#predicted ---\n",
    "#actual| "
   ]
  },
  {
   "cell_type": "code",
   "execution_count": 102,
   "id": "ae7466c4",
   "metadata": {},
   "outputs": [
    {
     "name": "stdout",
     "output_type": "stream",
     "text": [
      "              precision    recall  f1-score   support\n",
      "\n",
      "           1       0.85      0.16      0.28       207\n",
      "           2       0.00      0.00      0.00       103\n",
      "           3       1.00      0.01      0.03       148\n",
      "           4       1.00      0.02      0.03       312\n",
      "           5       0.63      1.00      0.77      1230\n",
      "\n",
      "    accuracy                           0.64      2000\n",
      "   macro avg       0.70      0.24      0.22      2000\n",
      "weighted avg       0.70      0.64      0.51      2000\n",
      "\n"
     ]
    }
   ],
   "source": [
    "print(classification_report(y_test,predict_bow))"
   ]
  },
  {
   "cell_type": "markdown",
   "id": "666c1b6c",
   "metadata": {},
   "source": [
    "# 5.3 SVC"
   ]
  },
  {
   "cell_type": "code",
   "execution_count": 94,
   "id": "3d14b10c",
   "metadata": {},
   "outputs": [],
   "source": [
    "from sklearn.svm import SVC\n",
    "svc=SVC()"
   ]
  },
  {
   "cell_type": "code",
   "execution_count": 95,
   "id": "a07fa701",
   "metadata": {},
   "outputs": [
    {
     "data": {
      "text/plain": [
       "0.635"
      ]
     },
     "execution_count": 95,
     "metadata": {},
     "output_type": "execute_result"
    }
   ],
   "source": [
    "model_bow=svc.fit(x_train_bow,y_train)\n",
    "predict_bow=svc.predict(x_test_bow)\n",
    "accuracy_score(y_test,predict_bow)"
   ]
  },
  {
   "cell_type": "code",
   "execution_count": 96,
   "id": "25f10cf0",
   "metadata": {},
   "outputs": [
    {
     "data": {
      "text/plain": [
       "0.621"
      ]
     },
     "execution_count": 96,
     "metadata": {},
     "output_type": "execute_result"
    }
   ],
   "source": [
    "model_bgm=svc.fit(x_train_bgm,y_train)\n",
    "predict_bgm=svc.predict(x_test_bgm)\n",
    "accuracy_score(y_test,predict_bgm)"
   ]
  },
  {
   "cell_type": "code",
   "execution_count": 97,
   "id": "f4fcc459",
   "metadata": {},
   "outputs": [
    {
     "data": {
      "text/plain": [
       "0.6205"
      ]
     },
     "execution_count": 97,
     "metadata": {},
     "output_type": "execute_result"
    }
   ],
   "source": [
    "model_tgm=svc.fit(x_train_trgm,y_train)\n",
    "predict_tgm=svc.predict(x_test_trgm)\n",
    "accuracy_score(y_test,predict_tgm)"
   ]
  },
  {
   "cell_type": "code",
   "execution_count": 163,
   "id": "aa94fd21",
   "metadata": {},
   "outputs": [
    {
     "data": {
      "text/plain": [
       "0.6485"
      ]
     },
     "execution_count": 163,
     "metadata": {},
     "output_type": "execute_result"
    }
   ],
   "source": [
    "model_tf=svc.fit(x_train_tf,y_train)\n",
    "predict_tf=svc.predict(x_test_tf)\n",
    "accuracy_score(y_test,predict_tf)"
   ]
  },
  {
   "cell_type": "code",
   "execution_count": 99,
   "id": "04b1b039",
   "metadata": {},
   "outputs": [
    {
     "data": {
      "text/plain": [
       "array([[  46,    4,    3,    1,    0],\n",
       "       [   0,    1,    0,    0,    0],\n",
       "       [   0,    1,    6,    1,    0],\n",
       "       [   0,    0,    5,   16,    2],\n",
       "       [ 161,   97,  134,  294, 1228]], dtype=int64)"
      ]
     },
     "execution_count": 99,
     "metadata": {},
     "output_type": "execute_result"
    }
   ],
   "source": [
    "confusion_matrix(predict_tf,y_test)"
   ]
  },
  {
   "cell_type": "code",
   "execution_count": 100,
   "id": "e2330f04",
   "metadata": {},
   "outputs": [
    {
     "name": "stdout",
     "output_type": "stream",
     "text": [
      "              precision    recall  f1-score   support\n",
      "\n",
      "           1       0.22      0.85      0.35        54\n",
      "           2       0.01      1.00      0.02         1\n",
      "           3       0.04      0.75      0.08         8\n",
      "           4       0.05      0.70      0.10        23\n",
      "           5       1.00      0.64      0.78      1914\n",
      "\n",
      "    accuracy                           0.65      2000\n",
      "   macro avg       0.26      0.79      0.27      2000\n",
      "weighted avg       0.96      0.65      0.76      2000\n",
      "\n"
     ]
    }
   ],
   "source": [
    "print(classification_report(predict_tf,y_test))"
   ]
  },
  {
   "cell_type": "code",
   "execution_count": 115,
   "id": "796fd5fc",
   "metadata": {},
   "outputs": [
    {
     "data": {
      "text/plain": [
       "0.6617499999999998"
      ]
     },
     "execution_count": 115,
     "metadata": {},
     "output_type": "execute_result"
    }
   ],
   "source": [
    "np.mean(cross_val_score(svc,x_train_tf,y_train,cv=10,scoring='accuracy'))"
   ]
  },
  {
   "cell_type": "code",
   "execution_count": 121,
   "id": "bf045b80",
   "metadata": {},
   "outputs": [
    {
     "data": {
      "text/plain": [
       "0.6544999999999999"
      ]
     },
     "execution_count": 121,
     "metadata": {},
     "output_type": "execute_result"
    }
   ],
   "source": [
    "np.mean(cross_val_score(svc,x_train_bow,y_train,cv=10,scoring='accuracy'))"
   ]
  },
  {
   "cell_type": "markdown",
   "id": "f2a6c1d5",
   "metadata": {},
   "source": [
    "# Linear SVC\n"
   ]
  },
  {
   "cell_type": "code",
   "execution_count": 123,
   "id": "31e3346b",
   "metadata": {},
   "outputs": [],
   "source": [
    "from sklearn.svm import LinearSVC\n",
    "lsvc=LinearSVC()\n"
   ]
  },
  {
   "cell_type": "code",
   "execution_count": 164,
   "id": "e31d2485",
   "metadata": {},
   "outputs": [
    {
     "data": {
      "text/plain": [
       "0.6365"
      ]
     },
     "execution_count": 164,
     "metadata": {},
     "output_type": "execute_result"
    }
   ],
   "source": [
    "model_bow=lsvc.fit(x_train_bow,y_train)\n",
    "predict_bow=lsvc.predict(x_test_bow)\n",
    "accuracy_score(y_test,predict_bow)"
   ]
  },
  {
   "cell_type": "code",
   "execution_count": 165,
   "id": "84a8ba22",
   "metadata": {},
   "outputs": [
    {
     "data": {
      "text/plain": [
       "0.6385"
      ]
     },
     "execution_count": 165,
     "metadata": {},
     "output_type": "execute_result"
    }
   ],
   "source": [
    "model_bgm=lsvc.fit(x_train_bgm,y_train)\n",
    "predict_bgm=lsvc.predict(x_test_bgm)\n",
    "accuracy_score(y_test,predict_bgm)"
   ]
  },
  {
   "cell_type": "code",
   "execution_count": 166,
   "id": "d335514e",
   "metadata": {},
   "outputs": [
    {
     "data": {
      "text/plain": [
       "0.6265"
      ]
     },
     "execution_count": 166,
     "metadata": {},
     "output_type": "execute_result"
    }
   ],
   "source": [
    "model_tgm=lsvc.fit(x_train_trgm,y_train)\n",
    "predict_tgm=lsvc.predict(x_test_trgm)\n",
    "accuracy_score(y_test,predict_tgm)"
   ]
  },
  {
   "cell_type": "code",
   "execution_count": 124,
   "id": "4cda7894",
   "metadata": {},
   "outputs": [
    {
     "data": {
      "text/plain": [
       "0.6735"
      ]
     },
     "execution_count": 124,
     "metadata": {},
     "output_type": "execute_result"
    }
   ],
   "source": [
    "model_tf=lsvc.fit(x_train_tf,y_train)\n",
    "predict_tf=lsvc.predict(x_test_tf)\n",
    "accuracy_score(y_test,predict_tf)"
   ]
  },
  {
   "cell_type": "code",
   "execution_count": 125,
   "id": "486cf439",
   "metadata": {},
   "outputs": [
    {
     "name": "stdout",
     "output_type": "stream",
     "text": [
      "              precision    recall  f1-score   support\n",
      "\n",
      "           1       0.66      0.48      0.56       207\n",
      "           2       0.41      0.14      0.20       103\n",
      "           3       0.34      0.22      0.27       148\n",
      "           4       0.37      0.25      0.30       312\n",
      "           5       0.75      0.91      0.82      1230\n",
      "\n",
      "    accuracy                           0.67      2000\n",
      "   macro avg       0.51      0.40      0.43      2000\n",
      "weighted avg       0.63      0.67      0.64      2000\n",
      "\n"
     ]
    }
   ],
   "source": [
    "print(classification_report(y_test,predict_tf))"
   ]
  },
  {
   "cell_type": "code",
   "execution_count": 126,
   "id": "abaddb98",
   "metadata": {},
   "outputs": [
    {
     "data": {
      "text/plain": [
       "array([[ 100,   19,   11,    7,   14],\n",
       "       [  10,   14,    3,    6,    1],\n",
       "       [  12,   14,   33,   19,   19],\n",
       "       [  12,   14,   34,   78,   74],\n",
       "       [  73,   42,   67,  202, 1122]], dtype=int64)"
      ]
     },
     "execution_count": 126,
     "metadata": {},
     "output_type": "execute_result"
    }
   ],
   "source": [
    "confusion_matrix(predict_tf,y_test)"
   ]
  },
  {
   "cell_type": "code",
   "execution_count": 167,
   "id": "1ff41f5f",
   "metadata": {},
   "outputs": [
    {
     "data": {
      "text/plain": [
       "0.687125"
      ]
     },
     "execution_count": 167,
     "metadata": {},
     "output_type": "execute_result"
    }
   ],
   "source": [
    "np.mean(cross_val_score(lsvc,x_train_tf,y_train,cv=5,scoring='accuracy'))"
   ]
  },
  {
   "cell_type": "markdown",
   "id": "ef24dd7c",
   "metadata": {},
   "source": [
    "# SGD"
   ]
  },
  {
   "cell_type": "code",
   "execution_count": 173,
   "id": "ade0c414",
   "metadata": {},
   "outputs": [],
   "source": [
    "from sklearn.linear_model import SGDClassifier\n",
    "sgd=SGDClassifier()\n"
   ]
  },
  {
   "cell_type": "code",
   "execution_count": 174,
   "id": "690c389d",
   "metadata": {},
   "outputs": [
    {
     "data": {
      "text/plain": [
       "0.6355"
      ]
     },
     "execution_count": 174,
     "metadata": {},
     "output_type": "execute_result"
    }
   ],
   "source": [
    "model_bow=sgd.fit(x_train_bow,y_train)\n",
    "predict_bow=sgd.predict(x_test_bow)\n",
    "accuracy_score(y_test,predict_bow)"
   ]
  },
  {
   "cell_type": "code",
   "execution_count": 175,
   "id": "b4b52312",
   "metadata": {},
   "outputs": [
    {
     "data": {
      "text/plain": [
       "0.6355"
      ]
     },
     "execution_count": 175,
     "metadata": {},
     "output_type": "execute_result"
    }
   ],
   "source": [
    "model_bgm=sgd.fit(x_train_bgm,y_train)\n",
    "predict_bgm=sgd.predict(x_test_bgm)\n",
    "accuracy_score(y_test,predict_bgm)"
   ]
  },
  {
   "cell_type": "code",
   "execution_count": 176,
   "id": "704c372f",
   "metadata": {},
   "outputs": [
    {
     "data": {
      "text/plain": [
       "0.626"
      ]
     },
     "execution_count": 176,
     "metadata": {},
     "output_type": "execute_result"
    }
   ],
   "source": [
    "model_tgm=sgd.fit(x_train_trgm,y_train)\n",
    "predict_tgm=sgd.predict(x_test_trgm)\n",
    "accuracy_score(y_test,predict_tgm)"
   ]
  },
  {
   "cell_type": "code",
   "execution_count": 182,
   "id": "c6735486",
   "metadata": {},
   "outputs": [
    {
     "data": {
      "text/plain": [
       "0.6835"
      ]
     },
     "execution_count": 182,
     "metadata": {},
     "output_type": "execute_result"
    }
   ],
   "source": [
    "model_tf=sgd.fit(x_train_tf,y_train)\n",
    "predict_tf=sgd.predict(x_test_tf)\n",
    "accuracy_score(y_test,predict_sgd)"
   ]
  },
  {
   "cell_type": "code",
   "execution_count": 185,
   "id": "d058b345",
   "metadata": {},
   "outputs": [
    {
     "data": {
      "text/plain": [
       "0.692625"
      ]
     },
     "execution_count": 185,
     "metadata": {},
     "output_type": "execute_result"
    }
   ],
   "source": [
    "np.mean(cross_val_score(sgd,x_train_tf,y_train,cv=5,scoring='accuracy'))"
   ]
  },
  {
   "cell_type": "code",
   "execution_count": 187,
   "id": "22fb3e93",
   "metadata": {},
   "outputs": [
    {
     "data": {
      "text/plain": [
       "array([[ 111,    6,    5,   10,   75],\n",
       "       [  22,   10,    8,   13,   50],\n",
       "       [  17,    2,   23,   33,   73],\n",
       "       [  11,    6,   11,   59,  225],\n",
       "       [  15,    1,    5,   41, 1168]], dtype=int64)"
      ]
     },
     "execution_count": 187,
     "metadata": {},
     "output_type": "execute_result"
    }
   ],
   "source": [
    "confusion_matrix(y_test,predict_tf)"
   ]
  },
  {
   "cell_type": "code",
   "execution_count": 188,
   "id": "142cd7df",
   "metadata": {},
   "outputs": [
    {
     "name": "stdout",
     "output_type": "stream",
     "text": [
      "              precision    recall  f1-score   support\n",
      "\n",
      "           1       0.65      0.53      0.58       207\n",
      "           2       0.38      0.09      0.14       103\n",
      "           3       0.43      0.17      0.24       148\n",
      "           4       0.37      0.19      0.25       312\n",
      "           5       0.73      0.95      0.83      1230\n",
      "\n",
      "    accuracy                           0.68      2000\n",
      "   macro avg       0.51      0.38      0.41      2000\n",
      "weighted avg       0.63      0.68      0.63      2000\n",
      "\n"
     ]
    }
   ],
   "source": [
    "print(classification_report(y_test,predict_sgd))"
   ]
  },
  {
   "cell_type": "markdown",
   "id": "c5689ae3",
   "metadata": {},
   "source": [
    "Among all the baseline models SGD gives the best performance of approx 67-68% accuracy"
   ]
  },
  {
   "cell_type": "markdown",
   "id": "6829063e",
   "metadata": {},
   "source": [
    "# HYPERPARAMETER TUNING OF BASE MODEL"
   ]
  },
  {
   "cell_type": "markdown",
   "id": "482c8414",
   "metadata": {},
   "source": [
    "In contrast to GridSearchCV, not all parameter values are tried out, but rather a fixed number of parameter settings is sampled from the specified distributions. The number of parameter settings that are tried is given by n_iter."
   ]
  },
  {
   "cell_type": "code",
   "execution_count": 189,
   "id": "137ac99b",
   "metadata": {},
   "outputs": [],
   "source": [
    "from sklearn.model_selection import RandomizedSearchCV"
   ]
  },
  {
   "cell_type": "code",
   "execution_count": 190,
   "id": "abec0e1e",
   "metadata": {},
   "outputs": [],
   "source": [
    "estimator =sgd\n",
    "parameters={'loss':['hinge','log_loss','modified_huber','squared_hinge','epsilon_insensitive','perceptron'],\n",
    "           'penalty':['l1','elasticnet'],\n",
    "           'class_weight':['weight','balanced']}"
   ]
  },
  {
   "cell_type": "code",
   "execution_count": null,
   "id": "a42b033d",
   "metadata": {},
   "outputs": [],
   "source": []
  },
  {
   "cell_type": "code",
   "execution_count": null,
   "id": "90f4f802",
   "metadata": {},
   "outputs": [],
   "source": []
  },
  {
   "cell_type": "code",
   "execution_count": 191,
   "id": "a2d9bbce",
   "metadata": {},
   "outputs": [],
   "source": [
    "rd=RandomizedSearchCV(estimator=estimator,param_distributions=parameters)\n",
    "clf=rd.fit(x_train_tf,y_train)"
   ]
  },
  {
   "cell_type": "code",
   "execution_count": 192,
   "id": "8cefce0b",
   "metadata": {},
   "outputs": [
    {
     "data": {
      "text/html": [
       "<style>#sk-container-id-1 {color: black;background-color: white;}#sk-container-id-1 pre{padding: 0;}#sk-container-id-1 div.sk-toggleable {background-color: white;}#sk-container-id-1 label.sk-toggleable__label {cursor: pointer;display: block;width: 100%;margin-bottom: 0;padding: 0.3em;box-sizing: border-box;text-align: center;}#sk-container-id-1 label.sk-toggleable__label-arrow:before {content: \"▸\";float: left;margin-right: 0.25em;color: #696969;}#sk-container-id-1 label.sk-toggleable__label-arrow:hover:before {color: black;}#sk-container-id-1 div.sk-estimator:hover label.sk-toggleable__label-arrow:before {color: black;}#sk-container-id-1 div.sk-toggleable__content {max-height: 0;max-width: 0;overflow: hidden;text-align: left;background-color: #f0f8ff;}#sk-container-id-1 div.sk-toggleable__content pre {margin: 0.2em;color: black;border-radius: 0.25em;background-color: #f0f8ff;}#sk-container-id-1 input.sk-toggleable__control:checked~div.sk-toggleable__content {max-height: 200px;max-width: 100%;overflow: auto;}#sk-container-id-1 input.sk-toggleable__control:checked~label.sk-toggleable__label-arrow:before {content: \"▾\";}#sk-container-id-1 div.sk-estimator input.sk-toggleable__control:checked~label.sk-toggleable__label {background-color: #d4ebff;}#sk-container-id-1 div.sk-label input.sk-toggleable__control:checked~label.sk-toggleable__label {background-color: #d4ebff;}#sk-container-id-1 input.sk-hidden--visually {border: 0;clip: rect(1px 1px 1px 1px);clip: rect(1px, 1px, 1px, 1px);height: 1px;margin: -1px;overflow: hidden;padding: 0;position: absolute;width: 1px;}#sk-container-id-1 div.sk-estimator {font-family: monospace;background-color: #f0f8ff;border: 1px dotted black;border-radius: 0.25em;box-sizing: border-box;margin-bottom: 0.5em;}#sk-container-id-1 div.sk-estimator:hover {background-color: #d4ebff;}#sk-container-id-1 div.sk-parallel-item::after {content: \"\";width: 100%;border-bottom: 1px solid gray;flex-grow: 1;}#sk-container-id-1 div.sk-label:hover label.sk-toggleable__label {background-color: #d4ebff;}#sk-container-id-1 div.sk-serial::before {content: \"\";position: absolute;border-left: 1px solid gray;box-sizing: border-box;top: 0;bottom: 0;left: 50%;z-index: 0;}#sk-container-id-1 div.sk-serial {display: flex;flex-direction: column;align-items: center;background-color: white;padding-right: 0.2em;padding-left: 0.2em;position: relative;}#sk-container-id-1 div.sk-item {position: relative;z-index: 1;}#sk-container-id-1 div.sk-parallel {display: flex;align-items: stretch;justify-content: center;background-color: white;position: relative;}#sk-container-id-1 div.sk-item::before, #sk-container-id-1 div.sk-parallel-item::before {content: \"\";position: absolute;border-left: 1px solid gray;box-sizing: border-box;top: 0;bottom: 0;left: 50%;z-index: -1;}#sk-container-id-1 div.sk-parallel-item {display: flex;flex-direction: column;z-index: 1;position: relative;background-color: white;}#sk-container-id-1 div.sk-parallel-item:first-child::after {align-self: flex-end;width: 50%;}#sk-container-id-1 div.sk-parallel-item:last-child::after {align-self: flex-start;width: 50%;}#sk-container-id-1 div.sk-parallel-item:only-child::after {width: 0;}#sk-container-id-1 div.sk-dashed-wrapped {border: 1px dashed gray;margin: 0 0.4em 0.5em 0.4em;box-sizing: border-box;padding-bottom: 0.4em;background-color: white;}#sk-container-id-1 div.sk-label label {font-family: monospace;font-weight: bold;display: inline-block;line-height: 1.2em;}#sk-container-id-1 div.sk-label-container {text-align: center;}#sk-container-id-1 div.sk-container {/* jupyter's `normalize.less` sets `[hidden] { display: none; }` but bootstrap.min.css set `[hidden] { display: none !important; }` so we also need the `!important` here to be able to override the default hidden behavior on the sphinx rendered scikit-learn.org. See: https://github.com/scikit-learn/scikit-learn/issues/21755 */display: inline-block !important;position: relative;}#sk-container-id-1 div.sk-text-repr-fallback {display: none;}</style><div id=\"sk-container-id-1\" class=\"sk-top-container\"><div class=\"sk-text-repr-fallback\"><pre>SGDClassifier(class_weight=&#x27;balanced&#x27;, loss=&#x27;log_loss&#x27;, penalty=&#x27;elasticnet&#x27;)</pre><b>In a Jupyter environment, please rerun this cell to show the HTML representation or trust the notebook. <br />On GitHub, the HTML representation is unable to render, please try loading this page with nbviewer.org.</b></div><div class=\"sk-container\" hidden><div class=\"sk-item\"><div class=\"sk-estimator sk-toggleable\"><input class=\"sk-toggleable__control sk-hidden--visually\" id=\"sk-estimator-id-1\" type=\"checkbox\" checked><label for=\"sk-estimator-id-1\" class=\"sk-toggleable__label sk-toggleable__label-arrow\">SGDClassifier</label><div class=\"sk-toggleable__content\"><pre>SGDClassifier(class_weight=&#x27;balanced&#x27;, loss=&#x27;log_loss&#x27;, penalty=&#x27;elasticnet&#x27;)</pre></div></div></div></div></div>"
      ],
      "text/plain": [
       "SGDClassifier(class_weight='balanced', loss='log_loss', penalty='elasticnet')"
      ]
     },
     "execution_count": 192,
     "metadata": {},
     "output_type": "execute_result"
    }
   ],
   "source": [
    "clf.best_estimator_"
   ]
  },
  {
   "cell_type": "code",
   "execution_count": 193,
   "id": "e5bfad09",
   "metadata": {},
   "outputs": [
    {
     "data": {
      "text/plain": [
       "{'penalty': 'elasticnet', 'loss': 'log_loss', 'class_weight': 'balanced'}"
      ]
     },
     "execution_count": 193,
     "metadata": {},
     "output_type": "execute_result"
    }
   ],
   "source": [
    "clf.best_params_"
   ]
  },
  {
   "cell_type": "code",
   "execution_count": 194,
   "id": "1c737d29",
   "metadata": {},
   "outputs": [
    {
     "data": {
      "text/plain": [
       "0.6797500000000001"
      ]
     },
     "execution_count": 194,
     "metadata": {},
     "output_type": "execute_result"
    }
   ],
   "source": [
    "clf.best_score_"
   ]
  },
  {
   "cell_type": "markdown",
   "id": "b9ace393",
   "metadata": {},
   "source": [
    "# ENSEMBLE TECHNIQUES"
   ]
  },
  {
   "cell_type": "markdown",
   "id": "78fe019b",
   "metadata": {},
   "source": [
    "# VOTING CLASSIFIER"
   ]
  },
  {
   "cell_type": "code",
   "execution_count": 221,
   "id": "f2c27572",
   "metadata": {},
   "outputs": [],
   "source": [
    "estimators=[('lg',lg),('rf',rf),('mnb',mnb),('lsvc',lsvc),('svc',svc),('sgd',sgd)]"
   ]
  },
  {
   "cell_type": "code",
   "execution_count": 222,
   "id": "8e27eb45",
   "metadata": {},
   "outputs": [],
   "source": [
    "#estimators[0][0]"
   ]
  },
  {
   "cell_type": "code",
   "execution_count": 223,
   "id": "3317009d",
   "metadata": {},
   "outputs": [],
   "source": [
    "from sklearn.ensemble import VotingClassifier\n",
    "vc=VotingClassifier(estimators=estimators,voting='hard')\n"
   ]
  },
  {
   "cell_type": "code",
   "execution_count": 224,
   "id": "659f1e4e",
   "metadata": {},
   "outputs": [
    {
     "data": {
      "text/plain": [
       "0.6745"
      ]
     },
     "execution_count": 224,
     "metadata": {},
     "output_type": "execute_result"
    }
   ],
   "source": [
    "model_tf=vc.fit(x_train_tf,y_train)\n",
    "predict_tf=vc.predict(x_test_tf)\n",
    "accuracy_score(y_test,predict_tf)"
   ]
  },
  {
   "cell_type": "code",
   "execution_count": 225,
   "id": "f5b701f7",
   "metadata": {},
   "outputs": [
    {
     "data": {
      "text/plain": [
       "0.6685"
      ]
     },
     "execution_count": 225,
     "metadata": {},
     "output_type": "execute_result"
    }
   ],
   "source": [
    "model_bow=vc.fit(x_train_bow,y_train)\n",
    "predict_bow=vc.predict(x_test_bow)\n",
    "accuracy_score(y_test,predict_bow)"
   ]
  },
  {
   "cell_type": "code",
   "execution_count": 226,
   "id": "a9879b6a",
   "metadata": {},
   "outputs": [
    {
     "data": {
      "text/plain": [
       "0.6425"
      ]
     },
     "execution_count": 226,
     "metadata": {},
     "output_type": "execute_result"
    }
   ],
   "source": [
    "model_bgm=vc.fit(x_train_bgm,y_train)\n",
    "predict_bgm=vc.predict(x_test_bgm)\n",
    "accuracy_score(y_test,predict_bgm)"
   ]
  },
  {
   "cell_type": "code",
   "execution_count": 228,
   "id": "acae073a",
   "metadata": {},
   "outputs": [
    {
     "data": {
      "text/plain": [
       "0.6265"
      ]
     },
     "execution_count": 228,
     "metadata": {},
     "output_type": "execute_result"
    }
   ],
   "source": [
    "model_tgm=vc.fit(x_train_trgm,y_train)\n",
    "predict_tgm=vc.predict(x_test_trgm)\n",
    "accuracy_score(y_test,predict_tgm)"
   ]
  },
  {
   "cell_type": "code",
   "execution_count": 229,
   "id": "de6c175f",
   "metadata": {},
   "outputs": [
    {
     "data": {
      "text/plain": [
       "array([[  72,    3,    0,    5,  127],\n",
       "       [  12,    4,    3,    6,   78],\n",
       "       [   7,    1,   13,   22,  105],\n",
       "       [   3,    2,    5,   53,  249],\n",
       "       [   4,    0,    2,   17, 1207]], dtype=int64)"
      ]
     },
     "execution_count": 229,
     "metadata": {},
     "output_type": "execute_result"
    }
   ],
   "source": [
    "confusion_matrix(y_test,predict_tf)"
   ]
  },
  {
   "cell_type": "code",
   "execution_count": 232,
   "id": "3c8e8e8f",
   "metadata": {},
   "outputs": [
    {
     "name": "stdout",
     "output_type": "stream",
     "text": [
      "              precision    recall  f1-score   support\n",
      "\n",
      "           1       0.73      0.35      0.47       207\n",
      "           2       0.40      0.04      0.07       103\n",
      "           3       0.57      0.09      0.15       148\n",
      "           4       0.51      0.17      0.26       312\n",
      "           5       0.68      0.98      0.81      1230\n",
      "\n",
      "    accuracy                           0.67      2000\n",
      "   macro avg       0.58      0.33      0.35      2000\n",
      "weighted avg       0.64      0.67      0.60      2000\n",
      "\n"
     ]
    }
   ],
   "source": [
    "print(classification_report(y_test,predict_tf))"
   ]
  },
  {
   "cell_type": "code",
   "execution_count": 231,
   "id": "95d76625",
   "metadata": {},
   "outputs": [
    {
     "data": {
      "text/plain": [
       "\"x=cross_val_score(vc,x_train_tf,y_train,cv=10,scoring='accuracy')\\nprint(np.mean(x))\""
      ]
     },
     "execution_count": 231,
     "metadata": {},
     "output_type": "execute_result"
    }
   ],
   "source": [
    "f'''x=cross_val_score(vc,x_train_tf,y_train,cv=10,scoring='accuracy')\n",
    "print(np.mean(x))'''"
   ]
  },
  {
   "cell_type": "markdown",
   "id": "6c1503a5",
   "metadata": {},
   "source": [
    "# BAGGING"
   ]
  },
  {
   "cell_type": "markdown",
   "id": "4428dcd3",
   "metadata": {},
   "source": [
    "# RANDOM FOREST"
   ]
  },
  {
   "cell_type": "code",
   "execution_count": 233,
   "id": "540569e6",
   "metadata": {},
   "outputs": [],
   "source": [
    "from sklearn.ensemble import RandomForestClassifier\n",
    "rf=RandomForestClassifier()"
   ]
  },
  {
   "cell_type": "code",
   "execution_count": 234,
   "id": "309ce3cc",
   "metadata": {},
   "outputs": [
    {
     "data": {
      "text/plain": [
       "0.642"
      ]
     },
     "execution_count": 234,
     "metadata": {},
     "output_type": "execute_result"
    }
   ],
   "source": [
    "model_bow=rf.fit(x_train_bow,y_train)\n",
    "predict_bow = rf.predict(x_test_bow)\n",
    "accuracy_score(y_test,predict_bow)"
   ]
  },
  {
   "cell_type": "code",
   "execution_count": 235,
   "id": "ab5cc1bf",
   "metadata": {},
   "outputs": [
    {
     "data": {
      "text/plain": [
       "0.6425"
      ]
     },
     "execution_count": 235,
     "metadata": {},
     "output_type": "execute_result"
    }
   ],
   "source": [
    "model_bgm=rf.fit(x_train_bgm,y_train)\n",
    "predict_bgm = rf.predict(x_test_bgm)\n",
    "accuracy_score(y_test,predict_bgm)"
   ]
  },
  {
   "cell_type": "code",
   "execution_count": 236,
   "id": "84edc32a",
   "metadata": {},
   "outputs": [
    {
     "data": {
      "text/plain": [
       "0.6305"
      ]
     },
     "execution_count": 236,
     "metadata": {},
     "output_type": "execute_result"
    }
   ],
   "source": [
    "model_tgm=rf.fit(x_train_trgm,y_train)\n",
    "predict_tgm = rf.predict(x_test_trgm)\n",
    "accuracy_score(y_test,predict_tgm)"
   ]
  },
  {
   "cell_type": "code",
   "execution_count": 237,
   "id": "7254a7c8",
   "metadata": {},
   "outputs": [
    {
     "data": {
      "text/plain": [
       "0.636"
      ]
     },
     "execution_count": 237,
     "metadata": {},
     "output_type": "execute_result"
    }
   ],
   "source": [
    "model_tf=rf.fit(x_train_tf,y_train)\n",
    "predict_tf = rf.predict(x_test_tf)\n",
    "accuracy_score(y_test,predict_tf)"
   ]
  },
  {
   "cell_type": "code",
   "execution_count": 238,
   "id": "1287ee84",
   "metadata": {},
   "outputs": [
    {
     "data": {
      "text/plain": [
       "array([[  34,    0,    1,    0,  172],\n",
       "       [   1,    2,    0,    0,  100],\n",
       "       [   2,    0,    7,    1,  138],\n",
       "       [   1,    0,    1,   12,  298],\n",
       "       [   0,    0,    0,    1, 1229]], dtype=int64)"
      ]
     },
     "execution_count": 238,
     "metadata": {},
     "output_type": "execute_result"
    }
   ],
   "source": [
    "confusion_matrix(y_test,predict_bow)"
   ]
  },
  {
   "cell_type": "code",
   "execution_count": 239,
   "id": "cfe1a81e",
   "metadata": {},
   "outputs": [
    {
     "name": "stdout",
     "output_type": "stream",
     "text": [
      "              precision    recall  f1-score   support\n",
      "\n",
      "           1       0.89      0.16      0.28       207\n",
      "           2       1.00      0.02      0.04       103\n",
      "           3       0.78      0.05      0.09       148\n",
      "           4       0.86      0.04      0.07       312\n",
      "           5       0.63      1.00      0.78      1230\n",
      "\n",
      "    accuracy                           0.64      2000\n",
      "   macro avg       0.83      0.25      0.25      2000\n",
      "weighted avg       0.73      0.64      0.53      2000\n",
      "\n"
     ]
    }
   ],
   "source": [
    "print(classification_report(y_test,predict_bow))"
   ]
  },
  {
   "cell_type": "markdown",
   "id": "3b9a5da7",
   "metadata": {},
   "source": [
    "# BAGGIGNG CLASFIFERS"
   ]
  },
  {
   "cell_type": "code",
   "execution_count": 240,
   "id": "dc7cbc68",
   "metadata": {},
   "outputs": [],
   "source": [
    "from sklearn.ensemble import BaggingClassifier\n",
    "bg=BaggingClassifier(base_estimator=sgd,\n",
    "                    n_estimators=50,\n",
    "                    max_samples=0.3,\n",
    "                    random_state=0)"
   ]
  },
  {
   "cell_type": "code",
   "execution_count": 241,
   "id": "09fddd9a",
   "metadata": {},
   "outputs": [
    {
     "data": {
      "text/plain": [
       "0.667"
      ]
     },
     "execution_count": 241,
     "metadata": {},
     "output_type": "execute_result"
    }
   ],
   "source": [
    "model_bow=bg.fit(x_train_bow,y_train)\n",
    "predict_bow = bg.predict(x_test_bow)\n",
    "accuracy_score(y_test,predict_bow)"
   ]
  },
  {
   "cell_type": "code",
   "execution_count": 242,
   "id": "6371d9d2",
   "metadata": {},
   "outputs": [
    {
     "data": {
      "text/plain": [
       "0.618"
      ]
     },
     "execution_count": 242,
     "metadata": {},
     "output_type": "execute_result"
    }
   ],
   "source": [
    "model_bgm=bg.fit(x_train_bgm,y_train)\n",
    "predict_bgm = bg.predict(x_test_bgm)\n",
    "accuracy_score(y_test,predict_bgm)"
   ]
  },
  {
   "cell_type": "code",
   "execution_count": 243,
   "id": "d25c2004",
   "metadata": {},
   "outputs": [
    {
     "data": {
      "text/plain": [
       "0.6155"
      ]
     },
     "execution_count": 243,
     "metadata": {},
     "output_type": "execute_result"
    }
   ],
   "source": [
    "model_tgm=bg.fit(x_train_trgm,y_train)\n",
    "predict_tgm = bg.predict(x_test_trgm)\n",
    "accuracy_score(y_test,predict_tgm)"
   ]
  },
  {
   "cell_type": "code",
   "execution_count": 244,
   "id": "aaa6eea5",
   "metadata": {},
   "outputs": [
    {
     "data": {
      "text/plain": [
       "0.6605"
      ]
     },
     "execution_count": 244,
     "metadata": {},
     "output_type": "execute_result"
    }
   ],
   "source": [
    "model_tf = bg.fit(x_train_tf,y_train)\n",
    "predict_tf = bg.predict(x_test_tf)\n",
    "accuracy_score(y_test,predict_tf)"
   ]
  },
  {
   "cell_type": "code",
   "execution_count": 245,
   "id": "3c579c65",
   "metadata": {},
   "outputs": [
    {
     "data": {
      "text/plain": [
       "array([[  72,    2,    1,    7,  125],\n",
       "       [  14,    1,    4,   12,   72],\n",
       "       [   8,    1,    7,   27,  105],\n",
       "       [   4,    1,    3,   55,  249],\n",
       "       [   3,    0,    2,   15, 1210]], dtype=int64)"
      ]
     },
     "execution_count": 245,
     "metadata": {},
     "output_type": "execute_result"
    }
   ],
   "source": [
    "confusion_matrix(y_test,predict_bg)"
   ]
  },
  {
   "cell_type": "code",
   "execution_count": 246,
   "id": "6dc76625",
   "metadata": {},
   "outputs": [
    {
     "name": "stdout",
     "output_type": "stream",
     "text": [
      "              precision    recall  f1-score   support\n",
      "\n",
      "           1       0.71      0.35      0.47       207\n",
      "           2       0.20      0.01      0.02       103\n",
      "           3       0.41      0.05      0.08       148\n",
      "           4       0.47      0.18      0.26       312\n",
      "           5       0.69      0.98      0.81      1230\n",
      "\n",
      "    accuracy                           0.67      2000\n",
      "   macro avg       0.50      0.31      0.33      2000\n",
      "weighted avg       0.61      0.67      0.59      2000\n",
      "\n"
     ]
    }
   ],
   "source": [
    "print(classification_report(y_test,predict_bg))"
   ]
  },
  {
   "cell_type": "code",
   "execution_count": null,
   "id": "f5eb0af1",
   "metadata": {},
   "outputs": [],
   "source": []
  },
  {
   "cell_type": "markdown",
   "id": "f2b3d417",
   "metadata": {},
   "source": [
    "# BOOSTING"
   ]
  },
  {
   "cell_type": "markdown",
   "id": "c62a6bc7",
   "metadata": {},
   "source": [
    "# Gradient Boost"
   ]
  },
  {
   "cell_type": "code",
   "execution_count": 248,
   "id": "35142d53",
   "metadata": {},
   "outputs": [],
   "source": [
    "from sklearn.ensemble import GradientBoostingClassifier\n",
    "gb=GradientBoostingClassifier()\n"
   ]
  },
  {
   "cell_type": "code",
   "execution_count": 249,
   "id": "b472ec34",
   "metadata": {},
   "outputs": [
    {
     "data": {
      "text/plain": [
       "0.6505"
      ]
     },
     "execution_count": 249,
     "metadata": {},
     "output_type": "execute_result"
    }
   ],
   "source": [
    "model_bow=gb.fit(x_train_bow,y_train)\n",
    "predict_bow = gb.predict(x_test_bow)\n",
    "accuracy_score(y_test,predict_bow)"
   ]
  },
  {
   "cell_type": "code",
   "execution_count": 250,
   "id": "f98f27ad",
   "metadata": {},
   "outputs": [
    {
     "data": {
      "text/plain": [
       "0.6285"
      ]
     },
     "execution_count": 250,
     "metadata": {},
     "output_type": "execute_result"
    }
   ],
   "source": [
    "model_bgm=gb.fit(x_train_bgm,y_train)\n",
    "predict_bgm = gb.predict(x_test_bgm)\n",
    "accuracy_score(y_test,predict_bgm)"
   ]
  },
  {
   "cell_type": "code",
   "execution_count": 251,
   "id": "95b95c20",
   "metadata": {},
   "outputs": [
    {
     "data": {
      "text/plain": [
       "0.617"
      ]
     },
     "execution_count": 251,
     "metadata": {},
     "output_type": "execute_result"
    }
   ],
   "source": [
    "model_tgm=gb.fit(x_train_trgm,y_train)\n",
    "predict_tgm = gb.predict(x_test_trgm)\n",
    "accuracy_score(y_test,predict_tgm)"
   ]
  },
  {
   "cell_type": "code",
   "execution_count": 252,
   "id": "fc40e1b0",
   "metadata": {},
   "outputs": [
    {
     "data": {
      "text/plain": [
       "0.6585"
      ]
     },
     "execution_count": 252,
     "metadata": {},
     "output_type": "execute_result"
    }
   ],
   "source": [
    "model_tf = gb.fit(x_train_tf,y_train)\n",
    "predict_tf = gb.predict(x_test_tf)\n",
    "accuracy_score(y_test,predict_gb)\n"
   ]
  },
  {
   "cell_type": "code",
   "execution_count": 253,
   "id": "b88ddf99",
   "metadata": {},
   "outputs": [
    {
     "data": {
      "text/plain": [
       "array([[  52,    6,    2,    6,  141],\n",
       "       [   4,    3,    5,    7,   84],\n",
       "       [   6,    2,    9,   15,  116],\n",
       "       [   1,    3,    2,   36,  270],\n",
       "       [   2,    1,    3,    9, 1215]], dtype=int64)"
      ]
     },
     "execution_count": 253,
     "metadata": {},
     "output_type": "execute_result"
    }
   ],
   "source": [
    "confusion_matrix(y_test,predict_tf)"
   ]
  },
  {
   "cell_type": "code",
   "execution_count": 254,
   "id": "c4d47c69",
   "metadata": {},
   "outputs": [
    {
     "name": "stdout",
     "output_type": "stream",
     "text": [
      "              precision    recall  f1-score   support\n",
      "\n",
      "           1       0.77      0.24      0.36       207\n",
      "           2       0.12      0.02      0.03       103\n",
      "           3       0.52      0.07      0.13       148\n",
      "           4       0.53      0.12      0.20       312\n",
      "           5       0.67      0.99      0.80      1230\n",
      "\n",
      "    accuracy                           0.66      2000\n",
      "   macro avg       0.52      0.29      0.30      2000\n",
      "weighted avg       0.62      0.66      0.57      2000\n",
      "\n"
     ]
    }
   ],
   "source": [
    "print(classification_report(y_test,predict_gb))"
   ]
  },
  {
   "cell_type": "markdown",
   "id": "38044c82",
   "metadata": {},
   "source": [
    "# XGBOOST"
   ]
  },
  {
   "cell_type": "code",
   "execution_count": 255,
   "id": "fb404432",
   "metadata": {},
   "outputs": [],
   "source": [
    "import xgboost"
   ]
  },
  {
   "cell_type": "code",
   "execution_count": 256,
   "id": "d2d5b3fa",
   "metadata": {},
   "outputs": [
    {
     "data": {
      "text/plain": [
       "\"from xgboost import XGBClassifier\\n#xgb=XGBClassifier(objective='gblinear')\\nmodel_xgb=xgb.fit(x_train_tf,y_train)\\npredict_xgb=xgb.predict(x_test_tf)\\naccuracy_score(y_test,predict_xgb)\""
      ]
     },
     "execution_count": 256,
     "metadata": {},
     "output_type": "execute_result"
    }
   ],
   "source": [
    "f'''from xgboost import XGBClassifier\n",
    "#xgb=XGBClassifier(objective='gblinear')\n",
    "model_xgb=xgb.fit(x_train_tf,y_train)\n",
    "predict_xgb=xgb.predict(x_test_tf)\n",
    "accuracy_score(y_test,predict_xgb)'''"
   ]
  },
  {
   "cell_type": "code",
   "execution_count": null,
   "id": "5876419e",
   "metadata": {},
   "outputs": [],
   "source": []
  },
  {
   "cell_type": "markdown",
   "id": "055d0ffb",
   "metadata": {},
   "source": [
    "# ADABOOST"
   ]
  },
  {
   "cell_type": "code",
   "execution_count": 257,
   "id": "d9e631b1",
   "metadata": {},
   "outputs": [],
   "source": [
    "from sklearn.ensemble import AdaBoostClassifier\n",
    "adb=AdaBoostClassifier()\n"
   ]
  },
  {
   "cell_type": "code",
   "execution_count": 258,
   "id": "dfd82f0f",
   "metadata": {},
   "outputs": [
    {
     "data": {
      "text/plain": [
       "0.6545"
      ]
     },
     "execution_count": 258,
     "metadata": {},
     "output_type": "execute_result"
    }
   ],
   "source": [
    "model_bow=adb.fit(x_train_bow,y_train)\n",
    "predict_bow = adb.predict(x_test_bow)\n",
    "accuracy_score(y_test,predict_bow)"
   ]
  },
  {
   "cell_type": "code",
   "execution_count": 259,
   "id": "edf5d9fd",
   "metadata": {},
   "outputs": [
    {
     "data": {
      "text/plain": [
       "0.629"
      ]
     },
     "execution_count": 259,
     "metadata": {},
     "output_type": "execute_result"
    }
   ],
   "source": [
    "model_bgm=adb.fit(x_train_bgm,y_train)\n",
    "predict_bgm = adb.predict(x_test_bgm)\n",
    "accuracy_score(y_test,predict_bgm)"
   ]
  },
  {
   "cell_type": "code",
   "execution_count": 260,
   "id": "b413568f",
   "metadata": {},
   "outputs": [
    {
     "data": {
      "text/plain": [
       "0.617"
      ]
     },
     "execution_count": 260,
     "metadata": {},
     "output_type": "execute_result"
    }
   ],
   "source": [
    "model_tgm=adb.fit(x_train_trgm,y_train)\n",
    "predict_tgm = adb.predict(x_test_trgm)\n",
    "accuracy_score(y_test,predict_tgm)"
   ]
  },
  {
   "cell_type": "code",
   "execution_count": 261,
   "id": "7baf85b6",
   "metadata": {},
   "outputs": [
    {
     "data": {
      "text/plain": [
       "0.645"
      ]
     },
     "execution_count": 261,
     "metadata": {},
     "output_type": "execute_result"
    }
   ],
   "source": [
    "model_tf = adb.fit(x_train_tf,y_train)\n",
    "predict_tf = adb.predict(x_test_tf)\n",
    "accuracy_score(y_test,predict_adb)"
   ]
  },
  {
   "cell_type": "code",
   "execution_count": 262,
   "id": "ac2ea45f",
   "metadata": {},
   "outputs": [
    {
     "data": {
      "text/plain": [
       "array([[  59,    7,    8,    3,  130],\n",
       "       [  13,   16,    6,    0,   68],\n",
       "       [  13,    6,   13,    4,  112],\n",
       "       [   9,    2,    9,   23,  269],\n",
       "       [  24,    4,    9,   14, 1179]], dtype=int64)"
      ]
     },
     "execution_count": 262,
     "metadata": {},
     "output_type": "execute_result"
    }
   ],
   "source": [
    "confusion_matrix(y_test,predict_adb)"
   ]
  },
  {
   "cell_type": "code",
   "execution_count": 263,
   "id": "4f0f9974",
   "metadata": {},
   "outputs": [
    {
     "name": "stdout",
     "output_type": "stream",
     "text": [
      "              precision    recall  f1-score   support\n",
      "\n",
      "           1       0.50      0.29      0.36       207\n",
      "           2       0.46      0.16      0.23       103\n",
      "           3       0.29      0.09      0.13       148\n",
      "           4       0.52      0.07      0.13       312\n",
      "           5       0.67      0.96      0.79      1230\n",
      "\n",
      "    accuracy                           0.65      2000\n",
      "   macro avg       0.49      0.31      0.33      2000\n",
      "weighted avg       0.59      0.65      0.56      2000\n",
      "\n"
     ]
    }
   ],
   "source": [
    "print(classification_report(y_test,predict_adb))"
   ]
  },
  {
   "cell_type": "markdown",
   "id": "8a30abfd",
   "metadata": {},
   "source": [
    "# LIGHT GBM"
   ]
  },
  {
   "cell_type": "code",
   "execution_count": 264,
   "id": "c00283ff",
   "metadata": {},
   "outputs": [],
   "source": [
    "import lightgbm \n",
    "from lightgbm import LGBMClassifier\n",
    "lgb=LGBMClassifier()"
   ]
  },
  {
   "cell_type": "code",
   "execution_count": 265,
   "id": "bbc96b16",
   "metadata": {},
   "outputs": [
    {
     "data": {
      "text/plain": [
       "0.6535"
      ]
     },
     "execution_count": 265,
     "metadata": {},
     "output_type": "execute_result"
    }
   ],
   "source": [
    "model_bow=lgb.fit(x_train_bow,y_train)\n",
    "predict_bow = lgb.predict(x_test_bow)\n",
    "accuracy_score(y_test,predict_bow)"
   ]
  },
  {
   "cell_type": "code",
   "execution_count": 266,
   "id": "0009d67d",
   "metadata": {},
   "outputs": [
    {
     "data": {
      "text/plain": [
       "0.6285"
      ]
     },
     "execution_count": 266,
     "metadata": {},
     "output_type": "execute_result"
    }
   ],
   "source": [
    "model_bgm=lgb.fit(x_train_bgm,y_train)\n",
    "predict_bgm = lgb.predict(x_test_bgm)\n",
    "accuracy_score(y_test,predict_bgm)"
   ]
  },
  {
   "cell_type": "code",
   "execution_count": 267,
   "id": "3b89813f",
   "metadata": {},
   "outputs": [
    {
     "data": {
      "text/plain": [
       "0.617"
      ]
     },
     "execution_count": 267,
     "metadata": {},
     "output_type": "execute_result"
    }
   ],
   "source": [
    "model_tgm=lgb.fit(x_train_trgm,y_train)\n",
    "predict_tgm = lgb.predict(x_test_trgm)\n",
    "accuracy_score(y_test,predict_tgm)"
   ]
  },
  {
   "cell_type": "code",
   "execution_count": 268,
   "id": "283b2140",
   "metadata": {},
   "outputs": [
    {
     "data": {
      "text/plain": [
       "0.6855"
      ]
     },
     "execution_count": 268,
     "metadata": {},
     "output_type": "execute_result"
    }
   ],
   "source": [
    "model_tf = lgb.fit(x_train_tf,y_train)\n",
    "predict_tf = lgb.predict(x_test_tf)\n",
    "accuracy_score(y_test,predict_lgb)"
   ]
  },
  {
   "cell_type": "code",
   "execution_count": 271,
   "id": "1a9bbe72",
   "metadata": {},
   "outputs": [
    {
     "data": {
      "text/plain": [
       "0.6832499999999999"
      ]
     },
     "execution_count": 271,
     "metadata": {},
     "output_type": "execute_result"
    }
   ],
   "source": [
    "np.mean(cross_val_score(lgb,x_train_tf,y_train,cv=5,scoring='accuracy'))"
   ]
  },
  {
   "cell_type": "code",
   "execution_count": 273,
   "id": "17600611",
   "metadata": {},
   "outputs": [
    {
     "data": {
      "text/plain": [
       "array([[  86,   11,   12,   11,   87],\n",
       "       [  21,   10,    8,   13,   51],\n",
       "       [  14,    4,   26,   33,   71],\n",
       "       [   5,    2,    9,   83,  213],\n",
       "       [  14,    2,    7,   41, 1166]], dtype=int64)"
      ]
     },
     "execution_count": 273,
     "metadata": {},
     "output_type": "execute_result"
    }
   ],
   "source": [
    "confusion_matrix(y_test,predict_tf)"
   ]
  },
  {
   "cell_type": "code",
   "execution_count": 274,
   "id": "2929189d",
   "metadata": {},
   "outputs": [
    {
     "name": "stdout",
     "output_type": "stream",
     "text": [
      "              precision    recall  f1-score   support\n",
      "\n",
      "           1       0.61      0.42      0.50       207\n",
      "           2       0.34      0.10      0.15       103\n",
      "           3       0.42      0.18      0.25       148\n",
      "           4       0.46      0.27      0.34       312\n",
      "           5       0.73      0.95      0.83      1230\n",
      "\n",
      "    accuracy                           0.69      2000\n",
      "   macro avg       0.51      0.38      0.41      2000\n",
      "weighted avg       0.64      0.69      0.64      2000\n",
      "\n"
     ]
    }
   ],
   "source": [
    "print(classification_report(y_test,predict_tf))"
   ]
  },
  {
   "cell_type": "markdown",
   "id": "77b4e335",
   "metadata": {},
   "source": [
    "# BEST MODEL "
   ]
  },
  {
   "cell_type": "markdown",
   "id": "594f99b6",
   "metadata": {},
   "source": [
    "* LIGHT GBM WITH 68.55% ACCURACY\n",
    "* SGD WITH 68.32% ACCURACY"
   ]
  },
  {
   "cell_type": "code",
   "execution_count": null,
   "id": "93d7f40f",
   "metadata": {},
   "outputs": [],
   "source": []
  },
  {
   "cell_type": "markdown",
   "id": "19536e8a",
   "metadata": {},
   "source": [
    "# NOTES"
   ]
  },
  {
   "cell_type": "markdown",
   "id": "2614ae44",
   "metadata": {},
   "source": [
    "* Originl datasets is having more than 5.5 lakhs rows due to the shortcoming of local system it has been downsized\n",
    "* It has been observed that more the data more the accuracy for sentiment prediction\n",
    "* SVC algo took so much of time dealing with the traing\n",
    "* XGBOOST require labelling str from 0 hence not done but done in another notebook where positive is marked as 1 and negative as 0\n",
    "* This is the traditional way of dealing with sentiment analysis better modelling is done by fine tuning a pre-trained transformer model like BERT,ROBERTA etc\n"
   ]
  },
  {
   "cell_type": "markdown",
   "id": "a257cd5e",
   "metadata": {},
   "source": [
    "BEST MODELS ARE-"
   ]
  },
  {
   "cell_type": "markdown",
   "id": "4125f46f",
   "metadata": {},
   "source": [
    "* LIGHT GBM WITH 68.55% ACCURACY\n",
    "* SGD WITH 68.32% ACCURACY"
   ]
  },
  {
   "cell_type": "code",
   "execution_count": null,
   "id": "34ae3de1",
   "metadata": {},
   "outputs": [],
   "source": []
  },
  {
   "cell_type": "code",
   "execution_count": null,
   "id": "71e99a49",
   "metadata": {},
   "outputs": [],
   "source": []
  },
  {
   "cell_type": "code",
   "execution_count": null,
   "id": "e57ef280",
   "metadata": {},
   "outputs": [],
   "source": []
  },
  {
   "cell_type": "code",
   "execution_count": null,
   "id": "ed09aa1a",
   "metadata": {},
   "outputs": [],
   "source": []
  }
 ],
 "metadata": {
  "kernelspec": {
   "display_name": "Python 3 (ipykernel)",
   "language": "python",
   "name": "python3"
  },
  "language_info": {
   "codemirror_mode": {
    "name": "ipython",
    "version": 3
   },
   "file_extension": ".py",
   "mimetype": "text/x-python",
   "name": "python",
   "nbconvert_exporter": "python",
   "pygments_lexer": "ipython3",
   "version": "3.10.10"
  }
 },
 "nbformat": 4,
 "nbformat_minor": 5
}
